{
  "nbformat": 4,
  "nbformat_minor": 0,
  "metadata": {
    "colab": {
      "name": "Copy of A better introduction to probability.ipynb",
      "provenance": [],
      "collapsed_sections": [],
      "include_colab_link": true
    },
    "kernelspec": {
      "name": "python3",
      "display_name": "Python 3"
    }
  },
  "cells": [
    {
      "cell_type": "markdown",
      "metadata": {
        "id": "view-in-github",
        "colab_type": "text"
      },
      "source": [
        "<a href=\"https://colab.research.google.com/github/mgite03/bu-ai4all-2019/blob/main/rl/Copy_of_A_better_introduction_to_probability.ipynb\" target=\"_parent\"><img src=\"https://colab.research.google.com/assets/colab-badge.svg\" alt=\"Open In Colab\"/></a>"
      ]
    },
    {
      "cell_type": "markdown",
      "metadata": {
        "id": "iQN4CLAL-HGj"
      },
      "source": [
        "(So sorry for last time.)"
      ]
    },
    {
      "cell_type": "markdown",
      "metadata": {
        "id": "RmksErfUW4Xq"
      },
      "source": [
        "## Part 1"
      ]
    },
    {
      "cell_type": "markdown",
      "metadata": {
        "id": "pBxRDP85-nzl"
      },
      "source": [
        "Pretend we have a fair 10-sided die. What is the set of all of the possible numbers that can be rolled?\n",
        "\n",
        "> 1,2,3,4,5,6,7,8,9,10\n",
        "\n",
        "What is the probability of rolling a 1? Of rolling a 2?\n",
        "\n",
        "> 0.1, 0.1"
      ]
    },
    {
      "cell_type": "markdown",
      "metadata": {
        "id": "YqNaXipGTz58"
      },
      "source": [
        "What is the subset of all the rolls that are even? (Call this set A)\n",
        "\n",
        "> 2, 4, 6, 8, 10\n",
        "\n",
        "What is the probability of rolling an even number? (Why? Answer in terms of the sizes of the relevant sets)\n",
        "\n",
        "> 5/10 "
      ]
    },
    {
      "cell_type": "markdown",
      "metadata": {
        "id": "e2Uq8Zf6UlUi"
      },
      "source": [
        "We might also be interested in rolls greater than 5. What are the entries in this set?  (Call this set B)\n",
        "\n",
        "> 6,7,8,9,10\n",
        "\n",
        "What is the probability of rolling a number greater than 5? (Answer in terms of the sizes of the relevant sets)\n",
        "\n",
        "> 5/10"
      ]
    },
    {
      "cell_type": "markdown",
      "metadata": {
        "id": "2V39uN-MVaE7"
      },
      "source": [
        "What is the union of sets A and B?\n",
        "\n",
        "> {2, 4, 6, 7, 8, 9, 10}\n",
        "\n",
        "What is the probability of rolling an even number (from set A) OR (inclusive or) a number greater than 5 (from set B)?\n",
        "\n",
        "> 7/10"
      ]
    },
    {
      "cell_type": "markdown",
      "metadata": {
        "id": "YI9InfNSVt2G"
      },
      "source": [
        "What is the intersection of sets A and B?\n",
        "\n",
        "> {6, 8, 10}\n",
        "\n",
        "What is the probability of rolling a number that is even (from set A) AND greater than 5 (from set B)?\n",
        "\n",
        "> 3/10"
      ]
    },
    {
      "cell_type": "markdown",
      "metadata": {
        "id": "DQ61dc1AWBqt"
      },
      "source": [
        "Check your answers with code. First, write a function that returns the roll of a fair 10-sided die:"
      ]
    },
    {
      "cell_type": "code",
      "metadata": {
        "id": "h_iQECcnWPT7"
      },
      "source": [
        "import random\n",
        "\n",
        "def roll(sample_size):\n",
        "  roll_list = []\n",
        "  for i in range(sample_size):\n",
        "    roll_list += [random.randint(1,10)]\n",
        "  return roll_list\n",
        "\n",
        "  \n"
      ],
      "execution_count": null,
      "outputs": []
    },
    {
      "cell_type": "markdown",
      "metadata": {
        "id": "Vn31i_RZWS9Q"
      },
      "source": [
        "Now write a function that counts the probability of rolling a number (1) in set A, (2) in set B, (3) in set A OR B, and (4) in set A AND B:"
      ]
    },
    {
      "cell_type": "code",
      "metadata": {
        "id": "_kowQ_sBWnsP",
        "colab": {
          "base_uri": "https://localhost:8080/",
          "height": 87
        },
        "outputId": "10d39309-3a65-4e87-e6b0-84d28b45440b"
      },
      "source": [
        "set_a = [2,4,6,8,10]\n",
        "set_b = [6,7,8,9,10]\n",
        "omega = [1,2,3,4,5,6,7,8,9,10]\n",
        "def probability(set_a, set_b, omega, sample_size):\n",
        "  roll_list = roll(sample_size)\n",
        "  num_a = 0\n",
        "  num_b = 0\n",
        "  num_or = 0 \n",
        "  num_and = 0\n",
        "  for j in range(sample_size):\n",
        "    if roll_list[j] in set_a:\n",
        "      num_a +=1\n",
        "    if roll_list[j] in set_b:\n",
        "      num_b +=1\n",
        "    if roll_list[j] in set_a and roll_list[j] in set_b:\n",
        "      num_and +=1\n",
        "    if roll_list[j] in set_a or roll_list[j] in set_b:\n",
        "      num_or +=1\n",
        "  print(\"Probabililty of A =\", num_a/sample_size) \n",
        "  print(\"Probabililty of B =\", num_b/sample_size)\n",
        "  print(\"Probabililty of A and B =\", num_and/sample_size)\n",
        "  print(\"Probabililty of A or B =\", num_or/sample_size)\n",
        "probability(set_a, set_b, omega, 100000)"
      ],
      "execution_count": null,
      "outputs": [
        {
          "output_type": "stream",
          "text": [
            "Probabililty of A = 0.50011\n",
            "Probabililty of B = 0.50272\n",
            "Probabililty of A and B = 0.30024\n",
            "Probabililty of A or B = 0.70259\n"
          ],
          "name": "stdout"
        }
      ]
    },
    {
      "cell_type": "markdown",
      "metadata": {
        "id": "xW6Upv48Ws6F"
      },
      "source": [
        "## Part 2"
      ]
    },
    {
      "cell_type": "markdown",
      "metadata": {
        "id": "vtE0WF8ZW8Hn"
      },
      "source": [
        "Now we have a different 10-sided die. It is not a fair die. With this die, rolling an even number is twice as likely as rolling an odd number.\n",
        "\n",
        "(i.e. the probability of rolling 1 is $\\frac{1}{15}$, rolling 2 is $\\frac{2}{15}$, rolling 3 is $\\frac{1}{15}$, rolling 4 is $\\frac{2}{15}$, etc.)"
      ]
    },
    {
      "cell_type": "markdown",
      "metadata": {
        "id": "01bFmzf0XZKm"
      },
      "source": [
        "What is the probability of rolling an 8?\n",
        "\n",
        "> 2/15\n",
        "\n",
        "A 7?\n",
        "\n",
        "> 1/15"
      ]
    },
    {
      "cell_type": "markdown",
      "metadata": {
        "id": "gv-NLYQ9XciA"
      },
      "source": [
        "What is the probability of rolling an even number (a number from set A)?\n",
        "\n",
        "> 10/15\n",
        "\n",
        "Why? Express the probability in terms of the probabilities of rolling any of the individual numbers.\n",
        "\n",
        "> 2/15 + 2/15 + 2/15 +2/15 + 2/15"
      ]
    },
    {
      "cell_type": "markdown",
      "metadata": {
        "id": "DZtEkQh0Xknu"
      },
      "source": [
        "What is the probability of rolling a number greater than 5 (from set B)? Express the probability in terms of the probabilities of rolling any of the individual numbers.\n",
        "\n",
        "> (2 +1+2+1+2)/15 = 8/15"
      ]
    },
    {
      "cell_type": "markdown",
      "metadata": {
        "id": "Uh9J7LKRZMJO"
      },
      "source": [
        "Check your answers from this part with code. First, write a function that returns a random roll from this strange die (it should roll an even twice as much as it rolls an odd)."
      ]
    },
    {
      "cell_type": "code",
      "metadata": {
        "id": "NxrhQJSYZViX"
      },
      "source": [
        "def roll2(sample_size):\n",
        "  sample_space = [1,2,3,4,5,6,7,8,9,10,2,4,6,8,10]\n",
        "  roll_list = []\n",
        "  for i in range(sample_size):\n",
        "    roll_list += [sample_space[random.randint(0,14)]]\n",
        "  return roll_list\n",
        "\n",
        "\n",
        "  "
      ],
      "execution_count": null,
      "outputs": []
    },
    {
      "cell_type": "markdown",
      "metadata": {
        "id": "94Jlda48ZavZ"
      },
      "source": [
        "Roll your die 1000 times. What fraction of the rolls were in set A? What fraction of the rolls were in set B?"
      ]
    },
    {
      "cell_type": "code",
      "metadata": {
        "id": "aaOAUvx2Ztmt",
        "colab": {
          "base_uri": "https://localhost:8080/",
          "height": 52
        },
        "outputId": "67fd658d-e3d4-42f8-b804-1e5e973152b1"
      },
      "source": [
        "set_a = [2,4,6,8,10]\n",
        "set_b = [6,7,8,9,10]\n",
        "omega = [1,2,3,4,5,6,7,8,9,10]\n",
        "def probability(set_a, set_b, omega, sample_size):\n",
        "  roll_list = roll2(sample_size)\n",
        "  num_a = 0\n",
        "  num_b = 0\n",
        "  for j in range(sample_size):\n",
        "    if roll_list[j] in set_a:\n",
        "      num_a +=1\n",
        "    if roll_list[j] in set_b:\n",
        "      num_b +=1\n",
        "  print(\"Probabililty of A =\", num_a/sample_size) \n",
        "  print(\"Probabililty of B =\", num_b/sample_size)\n",
        "probability(set_a, set_b, omega, 100000)"
      ],
      "execution_count": null,
      "outputs": [
        {
          "output_type": "stream",
          "text": [
            "Probabililty of A = 0.66624\n",
            "Probabililty of B = 0.53479\n"
          ],
          "name": "stdout"
        }
      ]
    },
    {
      "cell_type": "markdown",
      "metadata": {
        "id": "Ij37HzKiW12B"
      },
      "source": [
        "## Part 3"
      ]
    },
    {
      "cell_type": "markdown",
      "metadata": {
        "id": "d1iuUcl0Ykhz"
      },
      "source": [
        "(Same die as part 2)"
      ]
    },
    {
      "cell_type": "markdown",
      "metadata": {
        "id": "e365tKS4WvDN"
      },
      "source": [
        "Say that somehow we know we are about to roll an even number. What are all the possible even numbers (set A)?\n",
        "\n",
        "> 2, 4, 6, 8, 10\n",
        "\n",
        "What is the probability of rolling each of the numbers from set A?\n",
        "\n",
        "> 2/15 each -- 10/15\n",
        "\n",
        "If we know that we will roll an even (set A), what is the probability that we will roll a number greater than 5 (set B)?\n",
        "\n",
        "> 3/5"
      ]
    },
    {
      "cell_type": "markdown",
      "metadata": {
        "id": "HcmzeCOzYvk3"
      },
      "source": [
        "Say that somehow we know we are about to roll a number greater than 5. What are all of the possible rolls (set B)?\n",
        "\n",
        "> 6,7,8,9,10\n",
        "\n",
        "What is the probability of rolling each of the numbers from set B?\n",
        "\n",
        "> 1/15 or 2/15\n",
        "\n",
        "If we know that we will roll a number from set B, what is the probability that we will roll an even?\n",
        "\n",
        ">3/4"
      ]
    },
    {
      "cell_type": "markdown",
      "metadata": {
        "id": "1mEmhLdgZxJx"
      },
      "source": [
        "Check your answer with code. You can reuse your roll function from part 2, since we are using the same die.\n",
        "\n",
        "Roll the die 1000 times. Out of all the even rolls (set A), how many were greater than 5 (set B)? Out of all the rolls greater than 5 (set B), how many were even (set A)?"
      ]
    },
    {
      "cell_type": "code",
      "metadata": {
        "id": "YD6tkWKMaDc1",
        "colab": {
          "base_uri": "https://localhost:8080/",
          "height": 52
        },
        "outputId": "ffe04bd3-7b4e-4efc-97c4-3005561958ad"
      },
      "source": [
        "set_a = [2,4,6,8,10]\n",
        "set_b = [6,7,8,9,10]\n",
        "omega = [1,2,3,4,5,6,7,8,9,10]\n",
        "def probability(set_a, set_b, omega, sample_size):\n",
        "  roll_list = roll2(sample_size)\n",
        "  num_a_given_b = 0\n",
        "  length_a = 0\n",
        "  num_b_given_a = 0\n",
        "  length_b = 0\n",
        "  for j in range(sample_size):\n",
        "    if roll_list[j] in set_a:\n",
        "      length_a +=1\n",
        "      if roll_list[j] in set_b:\n",
        "        num_b_given_a +=1\n",
        "    if roll_list[j] in set_b:\n",
        "      length_b +=1\n",
        "      if roll_list[j] in set_a:\n",
        "        num_a_given_b +=1\n",
        "  print(\"Probabililty of being in B given A =\", num_b_given_a/length_a) \n",
        "  print(\"Probabililty of being in A given B =\", num_a_given_b/length_b)\n",
        "probability(set_a, set_b, omega, 100000)"
      ],
      "execution_count": null,
      "outputs": [
        {
          "output_type": "stream",
          "text": [
            "Probabililty of being in B given A = 0.599895178197065\n",
            "Probabililty of being in A given B = 0.7512470464688895\n"
          ],
          "name": "stdout"
        }
      ]
    },
    {
      "cell_type": "markdown",
      "metadata": {
        "id": "G44tZekwZI3W"
      },
      "source": [
        "## Part 4"
      ]
    },
    {
      "cell_type": "markdown",
      "metadata": {
        "id": "LCPxFZKYaomx"
      },
      "source": [
        "**Using the first die**\n",
        "\n",
        "We decide to play a game with this die. We will roll the die once, and whatever number we roll is the number of points we receive."
      ]
    },
    {
      "cell_type": "markdown",
      "metadata": {
        "id": "OjNTby5JbDUE"
      },
      "source": [
        "How many points do we *expect* to receive? (if we were to roll the fair die 1000 times, what is the average amount of points we would receive?)\n",
        "\n",
        "> (1+2+3+4+5+6+7+8+9+10)/10 = 5.5\n",
        "\n",
        "Now, say that somehow we know we will roll a number greater than 5 (set B). How many points do we *expect* to receive?\n",
        "\n",
        "> (6+7+8+9+10)/5= 8"
      ]
    },
    {
      "cell_type": "markdown",
      "metadata": {
        "id": "JmSYe_ztcH-B"
      },
      "source": [
        "Check your answers with code. Roll the first die 1000 times. Out of all the rolls, what is the average number of the roll? Out of only the rolls greater than 5, what is the average number of the roll?"
      ]
    },
    {
      "cell_type": "code",
      "metadata": {
        "id": "agGoSxL2cZYE",
        "colab": {
          "base_uri": "https://localhost:8080/",
          "height": 34
        },
        "outputId": "a0cf8b28-384b-43d4-f6d2-959b41838521"
      },
      "source": [
        "def roll(sample_size):\n",
        "  roll_sum = 0\n",
        "  for i in range(sample_size):\n",
        "    roll_sum += random.randint(1,10)\n",
        "  return roll_sum/sample_size\n",
        "\n",
        "roll(10000)"
      ],
      "execution_count": null,
      "outputs": [
        {
          "output_type": "execute_result",
          "data": {
            "text/plain": [
              "5.4812"
            ]
          },
          "metadata": {
            "tags": []
          },
          "execution_count": 54
        }
      ]
    },
    {
      "cell_type": "markdown",
      "metadata": {
        "id": "309V_cfuaRcB"
      },
      "source": [
        "**Using die #2**\n",
        "\n",
        "We decide to play the game using the other die (die from parts 2 and 3)."
      ]
    },
    {
      "cell_type": "markdown",
      "metadata": {
        "id": "T8P1SK6XbxvX"
      },
      "source": [
        "How many points do we *expect* to receive?\n",
        "\n",
        "> 17/3\n",
        "\n",
        "Say that somehow we know we will roll a number greater than 5 (set B). Now how many points do we *expect* to receive?\n",
        "\n",
        "> 8"
      ]
    },
    {
      "cell_type": "markdown",
      "metadata": {
        "id": "Tbk3o7_zaS3Q"
      },
      "source": [
        "Check your answers with code. Roll the second die 1000 times. Out of all the rolls, what is the average number of the roll? Out of only the rolls greater than 5, what is the average number of the roll?"
      ]
    },
    {
      "cell_type": "code",
      "metadata": {
        "id": "K4LNuP8gZJmo",
        "colab": {
          "base_uri": "https://localhost:8080/",
          "height": 34
        },
        "outputId": "967517d9-93d6-4a13-e069-d8ccf6efb858"
      },
      "source": [
        "def roll2(sample_size):\n",
        "  sample_space = [1,2,3,4,5,6,7,8,9,10,2,4,6,8,10]\n",
        "  roll_sum = 0\n",
        "  for i in range(sample_size):\n",
        "    roll_sum += sample_space[random.randint(0,14)]\n",
        "  return roll_sum/sample_size\n",
        "\n",
        "roll2(100000)"
      ],
      "execution_count": null,
      "outputs": [
        {
          "output_type": "execute_result",
          "data": {
            "text/plain": [
              "5.67607"
            ]
          },
          "metadata": {
            "tags": []
          },
          "execution_count": 64
        }
      ]
    },
    {
      "cell_type": "markdown",
      "metadata": {
        "id": "yPUHE18vdRae"
      },
      "source": [
        "## Part 5"
      ]
    },
    {
      "cell_type": "markdown",
      "metadata": {
        "id": "-r20RRPGdUE7"
      },
      "source": [
        "Say that we have an agent, and that agent is currently in some state $s$ and it has chosen to take some action $a$. After it takes action $a$, it will end up in some new state $s'$ (one of a few possibilities) and receive some reward $r$ (also one of a few possibilities).\n",
        "\n",
        "We express the probability of landing in $s'$ AND receiving reward $r$ as $p(s', r \\mid s, a)$."
      ]
    },
    {
      "cell_type": "markdown",
      "metadata": {
        "id": "MOZEy9YueFiV"
      },
      "source": [
        "What are all of the possible outcomes?\n",
        "\n",
        "> possible s's and possible rs\n",
        "\n",
        "What is the expected reward (if we don't know $s'$)?\n",
        "\n",
        ">$\\mathbb{E}[R \\mid S=s, A=a]$\n",
        "\n",
        "$$\\sum_{r\\in \\mathcal{R}} r \\cdot (\\sum_{s'\\in \\mathcal{S}} p(s', r \\mid  s, a))$$\n",
        "\n",
        "\n",
        ">  (possible rewards +possible states)/"
      ]
    },
    {
      "cell_type": "markdown",
      "metadata": {
        "id": "Wgc3LI_gebj5"
      },
      "source": [
        "If we know we will land in a state $s'$, what are all of the possible outcomes?\n",
        "\n",
        "> all possible rewards\n",
        "\n",
        "What is the expected reward (if we do know $s'$)?\n",
        "\n",
        "> $$\\sum_{r\\in \\mathcal{R}} r \\cdot p(s', r \\mid  s, a)/p(s' \\mid s, a)$$\n",
        "\n",
        ">  $$\\frac{\\sum_{r\\in \\mathcal{R}} r \\cdot p(s', r \\mid  s, a)} {\\sum_{r\\in \\mathcal{R}} p(s', r \\mid s, a)}$$"
      ]
    }
  ]
}