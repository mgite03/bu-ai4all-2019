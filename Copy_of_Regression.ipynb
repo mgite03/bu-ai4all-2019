{
  "nbformat": 4,
  "nbformat_minor": 0,
  "metadata": {
    "colab": {
      "name": "Copy of Regression.ipynb",
      "provenance": [],
      "collapsed_sections": [],
      "include_colab_link": true
    },
    "kernelspec": {
      "name": "python3",
      "display_name": "Python 3"
    }
  },
  "cells": [
    {
      "cell_type": "markdown",
      "metadata": {
        "id": "view-in-github",
        "colab_type": "text"
      },
      "source": [
        "<a href=\"https://colab.research.google.com/github/mgite03/bu-ai4all-2019/blob/main/Copy_of_Regression.ipynb\" target=\"_parent\"><img src=\"https://colab.research.google.com/assets/colab-badge.svg\" alt=\"Open In Colab\"/></a>"
      ]
    },
    {
      "cell_type": "markdown",
      "metadata": {
        "id": "wLTp_tYi8O2t"
      },
      "source": [
        "# Practice Problems\n",
        "## Lesson 6: Regression\n",
        "---\n",
        "Created by Terron Ishihara"
      ]
    },
    {
      "cell_type": "markdown",
      "metadata": {
        "id": "p_QA59cN8UT8"
      },
      "source": [
        "### Problem 1\n",
        "\n",
        "You decide to use linear regression to predict the battery life of the phone. The features you pick are $x_1$ = phone weight and $x_2$ = screen size.  The linear regression model with two features and two weights is given by:\n",
        "\n",
        "> $\\hat{y} = w_1x_1 + w_2x_2$\n",
        "\n",
        "| Weight (ounces) | Screen Size (squared inches) | Battery Life (hours) |\n",
        "|-|-|-|\n",
        "| 6 | 4 | 12 |\n",
        "| 13 | 16 | 24 |\n",
        "| 5 | 15 | 20 |\n",
        "| 9 | 48 | 21 |\n",
        "| 7 | 13 | 16 |\n"
      ]
    },
    {
      "cell_type": "markdown",
      "metadata": {
        "id": "7GlxhnZ42e2R"
      },
      "source": [
        "> a. You initially guess $w_1=3$ and $w_2=4$. What is the predicted battery life for a phone of weight 10 ounces and screen size 18 squared inches?\n",
        "\n",
        "> 30 +72 = 102 hours"
      ]
    },
    {
      "cell_type": "code",
      "metadata": {
        "id": "5G-eJrG3beNx",
        "colab": {
          "base_uri": "https://localhost:8080/",
          "height": 34
        },
        "outputId": "8d98e491-c817-4e19-83b2-025fb06b1a22"
      },
      "source": [
        "w_1 = 3\n",
        "w_2 = 4\n",
        "\n",
        "phone_weight= 10\n",
        "screen_size = 18\n",
        "\n",
        "y_hat = (w_1 * phone_weight) + (w_2*screen_size)\n",
        "\n",
        "print(y_hat)"
      ],
      "execution_count": null,
      "outputs": [
        {
          "output_type": "stream",
          "text": [
            "102\n"
          ],
          "name": "stdout"
        }
      ]
    },
    {
      "cell_type": "markdown",
      "metadata": {
        "id": "kuhTpatE3NwI"
      },
      "source": [
        "> b. Recall the formula for Mean Squared Error (MSE) for this model is:\n",
        "\n",
        "> > $\\frac{1}{N}\\sum_{i=1}^N (w_1x_1+w_2x_2-y)^2$\n",
        "\n",
        "> What is the MSE for the model with $w_1=3$ and $w_2=4$?\n"
      ]
    },
    {
      "cell_type": "code",
      "metadata": {
        "id": "Z4K5ktadp97e",
        "colab": {
          "base_uri": "https://localhost:8080/",
          "height": 119
        },
        "outputId": "03019776-ad29-487e-a8cc-a86deecc0461"
      },
      "source": [
        "# Remember that you can use some code to perform these calculations if you like.\n",
        "# Google Colab also has a scratch code cell in the Insert menu.\n",
        "\n",
        "print((18+16-12)**2) \n",
        "print((39 + 64 - 24)**2)\n",
        "print((15 + 60 - 20)**2)\n",
        "print((27 + 192 - 21)**2)\n",
        "print((21 + 52 - 16)**2)\n",
        "print((484 + 6241 + 3025 + 39204 + 3249)/5)\n",
        "\n",
        "\n",
        "  "
      ],
      "execution_count": null,
      "outputs": [
        {
          "output_type": "stream",
          "text": [
            "484\n",
            "6241\n",
            "3025\n",
            "39204\n",
            "3249\n",
            "10440.6\n"
          ],
          "name": "stdout"
        }
      ]
    },
    {
      "cell_type": "markdown",
      "metadata": {
        "id": "GtGpYBam3srZ"
      },
      "source": [
        "> c. The update functions for the weights are:\n",
        "\n",
        ">> $w_1 = w_1 - \\alpha * (w_1x_1+w_2x_2-y)* x_1$\n",
        "\n",
        ">> $w_2 = w_2 - \\alpha * (w_1x_1+w_2x_2-y)* x_2$\n",
        "\n",
        "> Using the first data point as your example $([x_1,x_2], y)$ and setting $\\alpha=0.01$, what are the new weights after one round of updates?"
      ]
    },
    {
      "cell_type": "code",
      "metadata": {
        "id": "VTAM_GZceknI",
        "colab": {
          "base_uri": "https://localhost:8080/",
          "height": 34
        },
        "outputId": "f0fa860d-1255-422f-80b8-f95439336f6a"
      },
      "source": [
        "w1 = 3\n",
        "w2 = 4\n",
        "x1s = [6, 13, 5, 9, 7]\n",
        "x2s = [4, 16,15, 48, 13]\n",
        "ys = [12, 24, 20, 21, 16]\n",
        "\n",
        "new_w1 = w1-(0.01*(w1*x1s[0] + w2*x2s[0] - ys[0]))\n",
        "w2 = w2-(0.01 *(w1*x1s[0] + w2*x2s[0] - ys[0]))\n",
        "\n",
        "\n",
        "print(new_w1)\n",
        "\n"
      ],
      "execution_count": null,
      "outputs": [
        {
          "output_type": "stream",
          "text": [
            "2.78\n"
          ],
          "name": "stdout"
        }
      ]
    },
    {
      "cell_type": "markdown",
      "metadata": {
        "id": "FqGPT8Z-4RDc"
      },
      "source": [
        "> d. What is the new MSE after one round of updates? Did the MSE increase or decrease after updating?\n",
        "\n",
        ". Recall the formula for Mean Squared Error (MSE) for this model is:\n",
        "\n",
        "> > $\\frac{1}{N}\\sum_{i=1}^N (w_1x_1+w_2x_2-y)^2$\n",
        "\n",
        "\n",
        "> \n",
        "\n",
        "> The new mean squared error is 5121.5 so it went down but it's still kind of high. \n"
      ]
    },
    {
      "cell_type": "code",
      "metadata": {
        "id": "Ahh8nT7ZgY2X",
        "colab": {
          "base_uri": "https://localhost:8080/",
          "height": 34
        },
        "outputId": "0374ea92-990a-4d73-9b66-9c3bcb01f88b"
      },
      "source": [
        "def mse(lis_x1, lis_x2, y):\n",
        "  for i in range(len(lis_x1)):\n",
        "    sum = 0\n",
        "    sum += ((-9.012749976112639 * x_1s[i]) + (0.5788127901767428 * x_2s[i]) - ys[i])**2\n",
        "  return sum\n",
        "\n",
        "print(mse(x_1s, x_2s, ys))"
      ],
      "execution_count": null,
      "outputs": [
        {
          "output_type": "stream",
          "text": [
            "5121.503933113185\n"
          ],
          "name": "stdout"
        }
      ]
    },
    {
      "cell_type": "markdown",
      "metadata": {
        "id": "L9qgzLmOtQNh"
      },
      "source": [
        ">e.(challenge/optional) write a function that takes in the numbers\n",
        "\n",
        "\n",
        "*   w1\n",
        "* w2 \n",
        "* x1\n",
        "* x2 \n",
        "* y\n",
        "* alpha (learning rate)\n",
        "* num_iterations\n",
        "\n",
        "and returns three list \n",
        "\n",
        "\n",
        "* w1\n",
        "* w2\n",
        "* predictions\n",
        "\n",
        " Your function should perform gradient descent for num_iterations of time\n",
        "\n",
        "\n"
      ]
    },
    {
      "cell_type": "markdown",
      "metadata": {
        "id": "scl1uXhWKNnu"
      },
      "source": [
        "### Problem 2\n",
        "\n",
        "Let's explore regression using scikit-learn. We'll use a [dataset on diabetes](https://scikit-learn.org/stable/modules/generated/sklearn.datasets.load_diabetes.html), with 442 samples and 10 different features. We will focus on using a single feature, body mass index. The target values are a quantitative measure of diabetes progression one year after baseline.\n",
        "\n",
        "> To start, we import the models, the dataset, and some extra tools."
      ]
    },
    {
      "cell_type": "code",
      "metadata": {
        "id": "o_g_iWxKLWgK"
      },
      "source": [
        "import numpy as np\n",
        "from sklearn.linear_model import LinearRegression, LogisticRegression\n",
        "from sklearn.model_selection import train_test_split\n",
        "from sklearn.datasets import load_diabetes\n",
        "\n",
        "diabetes = load_diabetes()\n",
        "# Get the data samples and extract the feature at index 2,\n",
        "# which is body mass index\n",
        "X = diabetes.data[:, np.newaxis, 2]\n",
        "y = diabetes.target"
      ],
      "execution_count": null,
      "outputs": []
    },
    {
      "cell_type": "markdown",
      "metadata": {
        "id": "kLTHmM3qu0tz"
      },
      "source": [
        "> Now we can split our dataset into training and test sets. The `train_test_split()` method can do this for us. Here we use an 80/20 split. Then we create the regression classifiers, train them on the training set, and evaluate the models on the test set, printing out the mean squared error. "
      ]
    },
    {
      "cell_type": "code",
      "metadata": {
        "id": "QQuzrYj_urRP"
      },
      "source": [
        "# Partition the dataset into train and test\n",
        "X_train, X_test, y_train, y_test = train_test_split(X, y, train_size=0.8)\n",
        "\n",
        "# Instantiate the classifiers\n",
        "lin_clf = LinearRegression()\n",
        "\n",
        "# The parameters here are the default values for LogisticRegression,\n",
        "# included here just to suppress a couple warnings\n",
        "log_clf = LogisticRegression(solver='lbfgs', multi_class='multinomial')\n",
        "\n",
        "# Train the classifiers\n",
        "lin_clf.fit(X_train, y_train)\n",
        "log_clf.fit(X_train, y_train)\n",
        "\n",
        "# Calculate predictions on test set\n",
        "lin_predictions = lin_clf.predict(X_test)\n",
        "log_predictions = log_clf.predict(X_test)"
      ],
      "execution_count": null,
      "outputs": []
    },
    {
      "cell_type": "markdown",
      "metadata": {
        "id": "EL_K9_t1vMOc"
      },
      "source": [
        "> To get a better idea of what these models look like, let's plot the models' predictions on top of the test set."
      ]
    },
    {
      "cell_type": "code",
      "metadata": {
        "id": "dKnm1BIyYljY",
        "colab": {
          "base_uri": "https://localhost:8080/",
          "height": 283
        },
        "outputId": "8e5f2607-1c44-4bc2-fdff-102e214de7f9"
      },
      "source": [
        "import matplotlib.pyplot as plt\n",
        "\n",
        "# Plot the dataset points\n",
        "plt.scatter(X_test, y_test, color='black')\n",
        "\n",
        "# Plot the linear regression predictions\n",
        "# 'cs' means cyan is the color, square is the shape\n",
        "plt.plot(X_test, lin_predictions, 'cs')\n",
        "\n",
        "# Plot the logistic regression predictions\n",
        "# 'm^' means magenta is the color, triangle is the shape\n",
        "plt.plot(X_test, log_predictions, 'm^')\n",
        "\n",
        "# Label axes and legend\n",
        "plt.xlabel(\"Body Mass Index\")\n",
        "plt.ylabel(\"Disease progression after one year\")\n",
        "plt.legend(('Linear', 'Logistic'),\n",
        "           loc=\"lower right\", fontsize='small')\n",
        "# Show the plot\n",
        "plt.show()"
      ],
      "execution_count": null,
      "outputs": [
        {
          "output_type": "display_data",
          "data": {
            "image/png": "[encoded data removed]",
            "text/plain": [
              "<Figure size 432x288 with 1 Axes>"
            ]
          },
          "metadata": {
            "tags": []
          }
        }
      ]
    },
    {
      "cell_type": "markdown",
      "metadata": {
        "id": "ySL0pqapwAfp"
      },
      "source": [
        "> Recall the formula for the error function of our linear regression model, as an example: $w_1x+w_0-y$. We take the input, $x$, place it into our linear model, $w_1x+w_0$, and subtract the true value, $y$. A useful measure of how closely our model predicts all the test samples is Mean Squared Error (MSE). We simply square all of our error values, sum those squares, then divide by $N$ to calculate the mean squared error:\n",
        "\n",
        ">> $\\frac{1}{N}\\sum_{i=1}^N (w_1x+w_0-y)^2$\n",
        "\n",
        "> The logistic regression model has the same calculation for MSE, but with the sigmoid function as the model: $\\frac{1}{1+e^{-(w_1x+w_0)}}$.\n",
        "\n",
        "> Given the above plot, which regression classifier do you think has a larger mean squared error? Check your answer by printing out the values below."
      ]
    },
    {
      "cell_type": "code",
      "metadata": {
        "id": "QcQhWFylvnXW",
        "colab": {
          "base_uri": "https://localhost:8080/",
          "height": 34
        },
        "outputId": "4f4da8a2-ae9b-4d97-ebc1-ff98d8a91e3f"
      },
      "source": [
        "from sklearn.metrics import mean_squared_error\n",
        "\n",
        "lin_mse = mean_squared_error(lin_predictions, y_test)\n",
        "log_mse = mean_squared_error(log_predictions, y_test)\n",
        "\n",
        "print(lin_mse, log_mse)"
      ],
      "execution_count": null,
      "outputs": [
        {
          "output_type": "stream",
          "text": [
            "3268.466092826406 5003.157303370786\n"
          ],
          "name": "stdout"
        }
      ]
    },
    {
      "cell_type": "code",
      "metadata": {
        "id": "77Ia_H1QxNlz"
      },
      "source": [
        ""
      ],
      "execution_count": null,
      "outputs": []
    }
  ]
}