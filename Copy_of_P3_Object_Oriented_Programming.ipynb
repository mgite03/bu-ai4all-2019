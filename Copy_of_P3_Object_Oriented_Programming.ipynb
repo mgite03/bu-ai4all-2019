{
  "nbformat": 4,
  "nbformat_minor": 0,
  "metadata": {
    "colab": {
      "name": "Copy of P3: Object Oriented Programming.ipynb",
      "provenance": [],
      "collapsed_sections": [
        "fbAUHJTwE7VK",
        "IeQyrXqWO2e2",
        "b39-dHeiWWVR",
        "Qca7X_yrbOG_",
        "C7Eu1O5jeG24",
        "2hI25D2afh-R"
      ],
      "include_colab_link": true
    },
    "kernelspec": {
      "name": "python3",
      "display_name": "Python 3"
    }
  },
  "cells": [
    {
      "cell_type": "markdown",
      "metadata": {
        "id": "view-in-github",
        "colab_type": "text"
      },
      "source": [
        "<a href=\"https://colab.research.google.com/github/mgite03/bu-ai4all-2019/blob/main/Copy_of_P3_Object_Oriented_Programming.ipynb\" target=\"_parent\"><img src=\"https://colab.research.google.com/assets/colab-badge.svg\" alt=\"Open In Colab\"/></a>"
      ]
    },
    {
      "cell_type": "markdown",
      "metadata": {
        "id": "wSD1VD9eCPw0"
      },
      "source": [
        "# What is Object-Oriented Programming?\n",
        "This Python Notebook was adapted from [The Digital Cat](https://www.thedigitalcatonline.com/index.html)\n",
        "and  [Medium: Towards Data Science](https://towardsdatascience.com/explain-python-classes-and-objects-to-my-nephew-advanced-use-ca108c1856cd)\n",
        "\n",
        "\n"
      ]
    },
    {
      "cell_type": "markdown",
      "metadata": {
        "id": "lB66ETFfOaof"
      },
      "source": [
        "\n",
        "Object-oriented Programming, or OOP for short, is a programming paradigm which provides a means of structuring programs so that properties and behaviors are bundled into individual objects.\n",
        "\n",
        "For instance, an object could represent a person with a name property, age, address, etc., with behaviors like walking, talking, breathing, and running. Or an email with properties like recipient list, subject, body, etc., and behaviors like adding attachments and sending.\n"
      ]
    },
    {
      "cell_type": "markdown",
      "metadata": {
        "id": "dKJxqB9EDaag"
      },
      "source": [
        "# Classes in Python\n",
        "\n",
        "Focusing first on the data, each thing or object is an instance of some class.\n",
        "\n",
        "The primitive data structures available in Python, like numbers, strings, and lists are designed to represent simple things like the cost of something, the name of a poem, and your favorite colors, respectively.\n",
        "\n",
        "What if you wanted to represent something much more complicated?\n",
        "\n",
        "Classes are used to create new user-defined data structures that contain arbitrary information about something. It’s important to note that a class just provides structure—it’s a blueprint for how something should be defined, but it doesn’t actually provide any real content itself. \n",
        "\n",
        "In Python, the type of an object is represented by the class used to build the object: that is, in Python the word _type_ has the same meaning of the word _class_."
      ]
    },
    {
      "cell_type": "markdown",
      "metadata": {
        "id": "v8AwbxLCI8n3"
      },
      "source": [
        "For example, one of the built-in classes of Python is `int`, which represents an integer number"
      ]
    },
    {
      "cell_type": "code",
      "metadata": {
        "id": "PeiPrTmFJAAC",
        "colab": {
          "base_uri": "https://localhost:8080/",
          "height": 51
        },
        "outputId": "35cb68e3-4dca-4d46-f553-40a3637626f9"
      },
      "source": [
        "a = 6\n",
        "print(type(a))\n",
        "print(a.__class__)"
      ],
      "execution_count": null,
      "outputs": [
        {
          "output_type": "stream",
          "text": [
            "<class 'int'>\n",
            "<class 'int'>\n"
          ],
          "name": "stdout"
        }
      ]
    },
    {
      "cell_type": "markdown",
      "metadata": {
        "id": "DH-rLyoZJNdS"
      },
      "source": [
        "As you can see, the built-in function `type()` returns the content of the _magic attribute_ `__class__` (magic here means that its value is managed by Python itself offstage). The type of the variable `a`, or its class, is `int`. (This is a very inaccurate description of this rather complex topic, so remember that at the moment we are just scratching the surface).\n",
        "\n",
        "Once you have a class you can _instantiate_ it to get a concrete object (an _instance_) of that type, i.e. an object built according to the structure of that class. "
      ]
    },
    {
      "cell_type": "markdown",
      "metadata": {
        "id": "fbAUHJTwE7VK"
      },
      "source": [
        "# Python Objects (Instances)\n",
        "\n",
        "While the class is the blueprint, an instance is a copy of the class with actual values, literally an object belonging to a specific class. \n",
        "\n",
        "Put another way, a class is like a form or questionnaire. It defines the needed information. After you fill out the form, your specific copy is an instance of the class; it contains actual information relevant to you.\n",
        "\n",
        "The Python syntax to instantiate a class is the same of a function call."
      ]
    },
    {
      "cell_type": "code",
      "metadata": {
        "id": "1AnFLz1zFly_",
        "colab": {
          "base_uri": "https://localhost:8080/",
          "height": 50
        },
        "outputId": "830c82b1-e0d2-4c7f-81e1-ce3380a69b82"
      },
      "source": [
        "b = int()\n",
        "print(type(b))\n",
        "b"
      ],
      "execution_count": null,
      "outputs": [
        {
          "output_type": "stream",
          "text": [
            "<class 'int'>\n"
          ],
          "name": "stdout"
        },
        {
          "output_type": "execute_result",
          "data": {
            "text/plain": [
              "0"
            ]
          },
          "metadata": {
            "tags": []
          },
          "execution_count": 29
        }
      ]
    },
    {
      "cell_type": "markdown",
      "metadata": {
        "id": "URLsIfx7JmqW"
      },
      "source": [
        "When you create an instance, you can pass some values, according to the class definition, to _initialize_ it."
      ]
    },
    {
      "cell_type": "code",
      "metadata": {
        "id": "FC3JsYd-Jk3L",
        "colab": {
          "base_uri": "https://localhost:8080/",
          "height": 34
        },
        "outputId": "8f2827cd-2105-44b9-d472-cc209a9a0631"
      },
      "source": [
        "c = int(7)\n",
        "c"
      ],
      "execution_count": null,
      "outputs": [
        {
          "output_type": "execute_result",
          "data": {
            "text/plain": [
              "7"
            ]
          },
          "metadata": {
            "tags": []
          },
          "execution_count": 2
        }
      ]
    },
    {
      "cell_type": "markdown",
      "metadata": {
        "id": "rl1c7BvuJ8Kj"
      },
      "source": [
        "In this example, the `int` class creates an integer with value 0 when called without arguments, otherwise it uses the given argument to initialize the newly created object."
      ]
    },
    {
      "cell_type": "markdown",
      "metadata": {
        "id": "IeQyrXqWO2e2"
      },
      "source": [
        "# How To Define a Class in Python\n",
        "Defining a class is simple in Python:"
      ]
    },
    {
      "cell_type": "code",
      "metadata": {
        "id": "jOqrlPfVO5nq"
      },
      "source": [
        "class Dog:\n",
        "    pass"
      ],
      "execution_count": null,
      "outputs": []
    },
    {
      "cell_type": "markdown",
      "metadata": {
        "id": "h7zkAb6jO9pJ"
      },
      "source": [
        "You start with the class keyword to indicate that you are creating a class, then you add the name of the class.\n",
        "\n",
        "Also, we used the Python keyword pass here. This is very often used as a place holder where code will eventually go. It allows us to run this code without throwing an error.\n",
        "\n"
      ]
    },
    {
      "cell_type": "markdown",
      "metadata": {
        "id": "Vcxq3YWyPLmy"
      },
      "source": [
        "#Instance Attributes \n",
        "\n",
        "All classes create objects, and all objects contain characteristics called attributes (referred to as properties in the opening paragraph). \n",
        "\n",
        "Use the __init__() method to initialize (e.g., specify) an object’s initial attributes by giving them their default value (or state). This method must have at least one argument as well as the self variable, which refers to the object itself (e.g., Dog)."
      ]
    },
    {
      "cell_type": "code",
      "metadata": {
        "id": "ek4XmR6rO7lw"
      },
      "source": [
        "class Dog:\n",
        "\n",
        "    # Initializer / Instance Attributes\n",
        "    def __init__(self, name, age):\n",
        "        self.name = name\n",
        "        self.age = age"
      ],
      "execution_count": null,
      "outputs": []
    },
    {
      "cell_type": "markdown",
      "metadata": {
        "id": "R8VTvOCxPzP7"
      },
      "source": [
        "In the case of our Dog() class, each dog has a specific name and age, which is obviously important to know for when you start actually creating different dogs. Remember: the class is just for defining the Dog, not actually creating instances of individual dogs with specific names and ages; we’ll get to that shortly.\n",
        "\n",
        "Similarly, the self variable is also an instance of the class. Since instances of a class have varying values we could state Dog.name = name rather than self.name = name. But since not all dogs share the same name, we need to be able to assign different values to different instances. Hence the need for the special self variable, which will help to keep track of individual instances of each class.\n",
        "\n"
      ]
    },
    {
      "cell_type": "markdown",
      "metadata": {
        "id": "MKcuuBV9WJlP"
      },
      "source": [
        "# Class Attributes\n",
        "\n",
        "While instance attributes are specific to each object, class attributes are the same for all instances—which in this case is all dogs.\n",
        "\n"
      ]
    },
    {
      "cell_type": "code",
      "metadata": {
        "id": "fdlRxiAfPwaD"
      },
      "source": [
        "class Dog:\n",
        "\n",
        "    # Class Attribute\n",
        "    species = 'mammal'\n",
        "\n",
        "    # Initializer / Instance Attributes\n",
        "    def __init__(self, name, age):\n",
        "        self.name = name\n",
        "        self.age = age"
      ],
      "execution_count": null,
      "outputs": []
    },
    {
      "cell_type": "markdown",
      "metadata": {
        "id": "4vlOdAJzWTXx"
      },
      "source": [
        "So while each dog has a unique name and age, every dog will be a mammal.\n",
        "\n",
        "Let’s create some dogs…\n",
        "\n"
      ]
    },
    {
      "cell_type": "markdown",
      "metadata": {
        "id": "b39-dHeiWWVR"
      },
      "source": [
        "# Instantiating Objects\n",
        "\n",
        "Instantiating is a fancy term for creating a new, unique instance of a class."
      ]
    },
    {
      "cell_type": "markdown",
      "metadata": {
        "id": "Fi7doCSuWqgK"
      },
      "source": [
        "![alt text](https://upload.wikimedia.org/wikipedia/en/thumb/2/27/Characters_bolt.jpeg/200px-Characters_bolt.jpeg)\n",
        "\n"
      ]
    },
    {
      "cell_type": "code",
      "metadata": {
        "id": "dKbkFDO6WRDw"
      },
      "source": [
        "bolt = Dog(\"Bolt\",11)"
      ],
      "execution_count": null,
      "outputs": []
    },
    {
      "cell_type": "markdown",
      "metadata": {
        "id": "dlh5GmSIXs2d"
      },
      "source": [
        " ![alt text](https://upload.wikimedia.org/wikipedia/en/thumb/5/53/Scooby-Doo.png/150px-Scooby-Doo.png)"
      ]
    },
    {
      "cell_type": "code",
      "metadata": {
        "id": "cEnt9c0YXuJc"
      },
      "source": [
        "scooby = Dog(\"Scooby\",50)"
      ],
      "execution_count": null,
      "outputs": []
    },
    {
      "cell_type": "code",
      "metadata": {
        "id": "8ozACqrHYdts",
        "colab": {
          "base_uri": "https://localhost:8080/",
          "height": 51
        },
        "outputId": "cca1d1c6-ded3-4d29-f935-2eec200acf7c"
      },
      "source": [
        "# Access the instance attributes\n",
        "print(\"{} is {} and {} is {}.\".format(\n",
        "    bolt.name, bolt.age, scooby.name, scooby.age))\n",
        "\n",
        "#The .format helps in printing, simalarly you could also print it this way, but there would be a space after each variable\n",
        "print(bolt.name ,\"is\" ,bolt.age,\"and\",scooby.name, \"is\", scooby.age, \".\")\n"
      ],
      "execution_count": null,
      "outputs": [
        {
          "output_type": "stream",
          "text": [
            "Bolt is 11 and Scooby is 50.\n",
            "Bolt is 11 and Scooby is 50 .\n"
          ],
          "name": "stdout"
        }
      ]
    },
    {
      "cell_type": "code",
      "metadata": {
        "id": "zwWAqcrAYob9",
        "colab": {
          "base_uri": "https://localhost:8080/",
          "height": 34
        },
        "outputId": "6c76f96a-f171-4556-c346-eee87e453c03"
      },
      "source": [
        "# Is Bolt a mammal?\n",
        "if bolt.species == \"mammal\":\n",
        "    print(\"{} is a {}!\".format(bolt.name, bolt.species))"
      ],
      "execution_count": null,
      "outputs": [
        {
          "output_type": "stream",
          "text": [
            "Bolt is a mammal!\n"
          ],
          "name": "stdout"
        }
      ]
    },
    {
      "cell_type": "markdown",
      "metadata": {
        "id": "bHyOb6kFZf7O"
      },
      "source": [
        "# Exercise: \"The Oldest Dog\"\n",
        "\n",
        "Write a function called, get_biggest_number(), that takes a list of dogs and returns the age of the oldest one\n",
        "\n",
        "Output:\n",
        "The oldest dog is 7 years old."
      ]
    },
    {
      "cell_type": "code",
      "metadata": {
        "id": "1hzVJQKIB1d3",
        "colab": {
          "base_uri": "https://localhost:8080/",
          "height": 34
        },
        "outputId": "4a2ac7e4-e419-4bef-bde6-f24fd99b7598"
      },
      "source": [
        "# Instantiate the Dog object\n",
        "jake = Dog(\"Jake\", 7)\n",
        "doug = Dog(\"Doug\", 4)\n",
        "william = Dog(\"William\", 5)\n",
        "\n",
        "#put the dogs in a list\n",
        "dogs=[jake,doug,william]\n",
        "\n",
        "# Determine the oldest dog\n",
        "def get_biggest_number(dogs):\n",
        "  if jake.age > doug.age and jake.age > william.age:\n",
        "    return jake.age\n",
        "  elif doug.age > jake.age and doug.age > william.age:\n",
        "    return doug.age\n",
        "  elif william.age> doug.age and william.age > jake.age:\n",
        "    return william.age\n",
        "  \n",
        "# Output\n",
        "print(\"The oldest dog is {} years old.\".format(get_biggest_number(dogs)))"
      ],
      "execution_count": null,
      "outputs": [
        {
          "output_type": "stream",
          "text": [
            "The oldest dog is 7 years old.\n"
          ],
          "name": "stdout"
        }
      ]
    },
    {
      "cell_type": "markdown",
      "metadata": {
        "id": "j2qdio_WadFb"
      },
      "source": [
        "# Instance Methods\n",
        "\n",
        "Instance methods are defined inside a class and are used to get the contents of an instance. They can also be used to perform operations with the attributes of our objects. Like the __init__ method, the first argument is always self:"
      ]
    },
    {
      "cell_type": "code",
      "metadata": {
        "id": "3Dm08ULxYyMc",
        "colab": {
          "base_uri": "https://localhost:8080/",
          "height": 51
        },
        "outputId": "2226cc41-bf8d-4eb5-c94e-321b0fc7cabd"
      },
      "source": [
        "class Dog:\n",
        "\n",
        "    # Class Attribute\n",
        "    species = 'mammal'\n",
        "\n",
        "    # Initializer / Instance Attributes\n",
        "    def __init__(self, name, age):\n",
        "        self.name = name\n",
        "        self.age = age\n",
        "\n",
        "    # instance method\n",
        "    def description(self):\n",
        "        return \"{} is {} years old\".format(self.name, self.age)\n",
        "\n",
        "    # instance method\n",
        "    def speak(self, sound):\n",
        "        return \"{} says {}\".format(self.name, sound)\n",
        "\n",
        "# Instantiate the Dog object\n",
        "bolt = Dog(\"Bolt\",11)\n",
        "\n",
        "# call our instance methods\n",
        "print(bolt.description())\n",
        "print(bolt.speak(\"I have a super bark.\"))"
      ],
      "execution_count": null,
      "outputs": [
        {
          "output_type": "stream",
          "text": [
            "Bolt is 11 years old\n",
            "Bolt says I have a super bark.\n"
          ],
          "name": "stdout"
        }
      ]
    },
    {
      "cell_type": "markdown",
      "metadata": {
        "id": "Qca7X_yrbOG_"
      },
      "source": [
        "# Modifying Attributes\n",
        "\n",
        "You can change the value of attributes based on some behavior:"
      ]
    },
    {
      "cell_type": "code",
      "metadata": {
        "id": "NFqdwuq8bC4d"
      },
      "source": [
        "class Dog:\n",
        "\n",
        "    # Class Attribute\n",
        "    species = 'mammal'\n",
        "    ate = False\n",
        "\n",
        "    # Initializer / Instance Attributes\n",
        "    def __init__(self, name, age):\n",
        "        self.name = name\n",
        "        self.age = age\n",
        "        \n",
        "    def feed(self):\n",
        "      self.ate = True\n",
        "\n"
      ],
      "execution_count": null,
      "outputs": []
    },
    {
      "cell_type": "code",
      "metadata": {
        "id": "zleUFDcqblnm",
        "colab": {
          "base_uri": "https://localhost:8080/",
          "height": 51
        },
        "outputId": "a38c0623-0e50-471c-9cc5-90ea1eb52cc6"
      },
      "source": [
        "bolt = Dog(\"Bolt\",11)\n",
        "print(bolt.ate)\n",
        "bolt.feed()\n",
        "print(bolt.ate)\n"
      ],
      "execution_count": null,
      "outputs": [
        {
          "output_type": "stream",
          "text": [
            "False\n",
            "True\n"
          ],
          "name": "stdout"
        }
      ]
    },
    {
      "cell_type": "markdown",
      "metadata": {
        "id": "SsXnv7zNcO45"
      },
      "source": [
        "# Python Object Inheritance\n",
        "\n",
        "Inheritance is the process by which one class takes on the attributes and methods of another. Newly formed classes are called child classes, and the classes that child classes are derived from are called parent classes.\n",
        "\n",
        "It’s important to note that child classes override or extend the functionality (e.g., attributes and behaviors) of parent classes. In other words, child classes inherit all of the parent’s attributes and behaviors but can also specify different behavior to follow. The most basic type of class is an object, which generally all other classes inherit as their parent.\n",
        "\n"
      ]
    },
    {
      "cell_type": "markdown",
      "metadata": {
        "id": "aZc_xvyScrwt"
      },
      "source": [
        "## Dog Park Example\n",
        "\n",
        "Let’s pretend that we’re at a dog park. There are multiple Dog objects engaging in Dog behaviors, each with different attributes. In regular-speak that means some dogs are running, while some are stretching and some are just watching other dogs. Furthermore, each dog has been named by its owner and, since each dog is living and breathing, each ages.\n",
        "\n",
        "What’s another way to differentiate one dog from another? How about the dog’s breed:"
      ]
    },
    {
      "cell_type": "code",
      "metadata": {
        "id": "mxvwaH3mbxqM"
      },
      "source": [
        "class Dog:\n",
        "  def __init__(self, breed):\n",
        "    self.breed = breed"
      ],
      "execution_count": null,
      "outputs": []
    },
    {
      "cell_type": "code",
      "metadata": {
        "id": "gp81NRDac4Wc",
        "colab": {
          "base_uri": "https://localhost:8080/",
          "height": 34
        },
        "outputId": "c9238819-23b8-47a6-f1b7-9b7180eddd5a"
      },
      "source": [
        "bolt = Dog(\"German Shepard\")\n",
        "bolt.breed"
      ],
      "execution_count": null,
      "outputs": [
        {
          "output_type": "execute_result",
          "data": {
            "text/plain": [
              "'German Shepard'"
            ]
          },
          "metadata": {
            "tags": []
          },
          "execution_count": 26
        }
      ]
    },
    {
      "cell_type": "code",
      "metadata": {
        "id": "q7de3H6adGQk",
        "colab": {
          "base_uri": "https://localhost:8080/",
          "height": 34
        },
        "outputId": "d3286ff1-c0b1-4005-a6fc-ca6347caf40a"
      },
      "source": [
        "rhett = Dog(\"Boston Terrier\")\n",
        "rhett.breed"
      ],
      "execution_count": null,
      "outputs": [
        {
          "output_type": "execute_result",
          "data": {
            "text/plain": [
              "'Boston Terrier'"
            ]
          },
          "metadata": {
            "tags": []
          },
          "execution_count": 27
        }
      ]
    },
    {
      "cell_type": "markdown",
      "metadata": {
        "id": "osUwCEo1dY5S"
      },
      "source": [
        "Each breed of dog has slightly different behaviors. To take these into account, let’s create separate classes for each breed. These are child classes of the parent Dog class."
      ]
    },
    {
      "cell_type": "code",
      "metadata": {
        "id": "la6q1SGJdRMd",
        "colab": {
          "base_uri": "https://localhost:8080/",
          "height": 51
        },
        "outputId": "028a1d4b-02f2-4f16-8095-10d1dc9fc442"
      },
      "source": [
        "# Parent class\n",
        "class Dog:\n",
        "\n",
        "    # Class attribute\n",
        "    species = 'mammal'\n",
        "\n",
        "    # Initializer / Instance attributes\n",
        "    def __init__(self, name, age):\n",
        "        self.name = name\n",
        "        self.age = age\n",
        "\n",
        "    # instance method\n",
        "    def description(self):\n",
        "        return \"{} is {} years old\".format(self.name, self.age)\n",
        "\n",
        "    # instance method\n",
        "    def speak(self, sound):\n",
        "        return \"{} says {}\".format(self.name, sound)\n",
        "\n",
        "\n",
        "# Child class (inherits from Dog class)\n",
        "class GermanShepherd(Dog):\n",
        "    def run(self, speed):\n",
        "        return \"{} runs {}\".format(self.name, speed)\n",
        "\n",
        "\n",
        "# Child class (inherits from Dog class)\n",
        "class BostonTerrier(Dog):\n",
        "    def run(self, speed):\n",
        "        return \"{} runs {}\".format(self.name, speed)\n",
        "\n",
        "\n",
        "# Child classes inherit attributes and\n",
        "# behaviors from the parent class\n",
        "bolt = GermanShepherd(\"Bolt\", 11)\n",
        "print(bolt.description())\n",
        "\n",
        "# Child classes have specific attributes\n",
        "# and behaviors as well\n",
        "print(bolt.run(\"fast\"))"
      ],
      "execution_count": null,
      "outputs": [
        {
          "output_type": "stream",
          "text": [
            "Bolt is 11 years old\n",
            "Bolt runs fast\n"
          ],
          "name": "stdout"
        }
      ]
    },
    {
      "cell_type": "markdown",
      "metadata": {
        "id": "eVuyzr_Fd_YR"
      },
      "source": [
        "We haven’t added any special attributes or methods to differentiate a RussellTerrier from a Bulldog, but since they’re now two different classes, we could for instance give them different class attributes defining their respective speeds.\n",
        "\n"
      ]
    },
    {
      "cell_type": "markdown",
      "metadata": {
        "id": "C7Eu1O5jeG24"
      },
      "source": [
        "# Parent vs. Child Classes\n",
        "\n",
        "The isinstance() function is used to determine if an instance is also an instance of a certain parent class.\n",
        "\n"
      ]
    },
    {
      "cell_type": "code",
      "metadata": {
        "id": "sVuPSrWqeJd_",
        "colab": {
          "base_uri": "https://localhost:8080/",
          "height": 282
        },
        "outputId": "ab332e00-82bd-4403-a971-e7d884c61e50"
      },
      "source": [
        "# Is Bolt an instance of Dog()?\n",
        "print(isinstance(bolt, Dog))\n",
        "\n",
        "# Is Scooby an instance of Dog()?\n",
        "scooby = Dog(\"Scooby\", 50)\n",
        "print(isinstance(scooby, Dog))\n",
        "\n",
        "# Is Rhett an instance of GermanShepherd()\n",
        "rhett = BostonTerrier(\"Rhett\", 4)\n",
        "print(isinstance(rhett, GermanShepherd))\n",
        "\n",
        "# Is Scooby and instance of Bolt?\n",
        "print(isinstance(scooby, bolt))\n",
        "\n",
        "\n"
      ],
      "execution_count": null,
      "outputs": [
        {
          "output_type": "stream",
          "text": [
            "True\n",
            "True\n",
            "False\n"
          ],
          "name": "stdout"
        },
        {
          "output_type": "error",
          "ename": "TypeError",
          "evalue": "ignored",
          "traceback": [
            "\u001b[0;31m---------------------------------------------------------------------------\u001b[0m",
            "\u001b[0;31mTypeError\u001b[0m                                 Traceback (most recent call last)",
            "\u001b[0;32m<ipython-input-42-2ed2e4813325>\u001b[0m in \u001b[0;36m<module>\u001b[0;34m()\u001b[0m\n\u001b[1;32m     10\u001b[0m \u001b[0;34m\u001b[0m\u001b[0m\n\u001b[1;32m     11\u001b[0m \u001b[0;31m# Is Scooby and instance of Bolt?\u001b[0m\u001b[0;34m\u001b[0m\u001b[0;34m\u001b[0m\u001b[0;34m\u001b[0m\u001b[0m\n\u001b[0;32m---> 12\u001b[0;31m \u001b[0mprint\u001b[0m\u001b[0;34m(\u001b[0m\u001b[0misinstance\u001b[0m\u001b[0;34m(\u001b[0m\u001b[0mscooby\u001b[0m\u001b[0;34m,\u001b[0m \u001b[0mbolt\u001b[0m\u001b[0;34m)\u001b[0m\u001b[0;34m)\u001b[0m\u001b[0;34m\u001b[0m\u001b[0;34m\u001b[0m\u001b[0m\n\u001b[0m\u001b[1;32m     13\u001b[0m \u001b[0;34m\u001b[0m\u001b[0m\n\u001b[1;32m     14\u001b[0m \u001b[0;34m\u001b[0m\u001b[0m\n",
            "\u001b[0;31mTypeError\u001b[0m: isinstance() arg 2 must be a type or tuple of types"
          ]
        }
      ]
    },
    {
      "cell_type": "markdown",
      "metadata": {
        "id": "wfgXfgn0fUhJ"
      },
      "source": [
        "Make sense? Both Bolt and Scooby are instances of the Dog() class, while Rhett is not an instance of the GermanShepherd class. Then as a sanity check, we tested if Scooby is an instance of Bolt, which is impossible since Bolt is an instance of a class rather than a class itself—hence the reason for the TypeError."
      ]
    },
    {
      "cell_type": "markdown",
      "metadata": {
        "id": "2hI25D2afh-R"
      },
      "source": [
        "# Overriding the Functionality of a Parent Class\n",
        "\n",
        "Remember that child classes can also override attributes and behaviors from the parent class. For examples:"
      ]
    },
    {
      "cell_type": "code",
      "metadata": {
        "id": "p1Vz01dQecQR",
        "colab": {
          "base_uri": "https://localhost:8080/",
          "height": 50
        },
        "outputId": "f89b2ab3-9622-44f1-8b67-61c5670e446d"
      },
      "source": [
        "class Dog:\n",
        "  species = 'mammal'\n",
        "\n",
        "class SomeBreed(Dog):\n",
        "  pass\n",
        "\n",
        "class SomeOtherBreed(Dog):\n",
        "  species = 'reptile'\n",
        "\n",
        "frank = SomeBreed()\n",
        "print(frank.species)\n",
        "\n",
        "beans = SomeOtherBreed()\n",
        "print(beans.species)"
      ],
      "execution_count": null,
      "outputs": [
        {
          "output_type": "stream",
          "text": [
            "mammal\n",
            "reptile\n"
          ],
          "name": "stdout"
        }
      ]
    },
    {
      "cell_type": "markdown",
      "metadata": {
        "id": "5ljp9Ubmf-9-"
      },
      "source": [
        "The SomeBreed() class inherits the species from the parent class, while the SomeOtherBreed() class overrides the species, setting it to reptile.\n",
        "\n"
      ]
    },
    {
      "cell_type": "markdown",
      "metadata": {
        "id": "KWlQXq4pgL80"
      },
      "source": [
        "\n",
        "# Exercise: \"Dog Inheritance\"\n",
        "\n",
        "Create a Pets class that holds instances of dogs; this class is completely separate from the Dog class. In other words, the Dog class does not inherit from the Pets class. Then assign three dog instances to an instance of the Pets class. Start with the following code below. Your output should look like this:\n",
        "\n",
        "`I have 3 dogs.` \n",
        "\n",
        "`Tom is 6. `\n",
        "\n",
        "`Fletcher is 7.`\n",
        "\n",
        "`Larry is 9.`\n",
        "\n",
        "`And they're all mammals, of course.`"
      ]
    },
    {
      "cell_type": "code",
      "metadata": {
        "id": "s3rvKO5of59m",
        "colab": {
          "base_uri": "https://localhost:8080/",
          "height": 102
        },
        "outputId": "edde5138-9c38-43cf-c29d-e3ea16793082"
      },
      "source": [
        "# Insert a Pets class here\n",
        "class Pets:\n",
        "  \n",
        "  dogs = []\n",
        "  \n",
        "  def __init__(self, dogs):\n",
        "    self.dogs= dogs #I got help w this:\n",
        "# Parent class\n",
        "class Dog:\n",
        "  # Class attribute\n",
        "  species = 'mammal'\n",
        "\n",
        "  # Initializer / Instance attributes\n",
        "  def __init__(self, name, age):\n",
        "    self.name = name\n",
        "    self.age = age\n",
        "\n",
        "  # instance method\n",
        "  def description(self):\n",
        "    return \"{} is {} years old\".format(self.name, self.age)\n",
        "\n",
        "  # instance method\n",
        "  def speak(self, sound):\n",
        "    return \"{} says {}\".format(self.name, sound)\n",
        "\n",
        "# Child class (inherits from Dog class)\n",
        "class RussellTerrier(Dog):\n",
        "  \n",
        "  def run(self, speed):\n",
        "    return \"{} runs {}\".format(self.name, speed)\n",
        "\n",
        "# Child class (inherits from Dog class)\n",
        "class Bulldog(Dog):\n",
        "  def run(self, speed):\n",
        "    return \"{} runs {}\".format(self.name, speed)\n",
        "\n",
        "\n",
        "# Create instances of dogs\n",
        "my_dogs = [\n",
        "    Bulldog(\"Tom\", 6), \n",
        "    RussellTerrier(\"Fletcher\", 7), \n",
        "    Dog(\"Larry\", 9)\n",
        "  ]\n",
        "\n",
        "# Instantiate the Pets class by putting my_dogs in\n",
        "my_pets = Pets(my_dogs)\n",
        "\n",
        "#Output, Uncomment these lines of code once done editing classes\n",
        "print(\"I have {} dogs.\".format(len(my_pets.dogs)))\n",
        "for dog in my_pets.dogs:\n",
        "  print(\"{} is {}.\".format(dog.name, dog.age))\n",
        "print(\"And they're all {}s, of course.\".format(dog.species))\n"
      ],
      "execution_count": null,
      "outputs": [
        {
          "output_type": "stream",
          "text": [
            "I have 3 dogs.\n",
            "Tom is 6.\n",
            "Fletcher is 7.\n",
            "Larry is 9.\n",
            "And they're all mammals, of course.\n"
          ],
          "name": "stdout"
        }
      ]
    },
    {
      "cell_type": "markdown",
      "metadata": {
        "id": "9ZWGLXSOhZal"
      },
      "source": [
        "# Exercise: \"Dog Walking\"\n",
        "\n",
        "Next, add a walk() **method** to both the Pets and Dog classes so that when you call the method on the Pets class, each dog instance assigned to the Pets class will walk(). \n",
        "\n",
        "For the method in the Pets class, you will need to **iterate** through the list of dogs, then **call the method** itself, and **print**  the result for the call.\n",
        "\n",
        "The output should look like this:\n",
        "\n",
        "`Tom is walking!`\n",
        "\n",
        "`Fletcher is walking!`\n",
        "\n",
        "`Larry is walking!`\n",
        "\n",
        "\n",
        "My comment: to iterate through the dogs, you should put in a for loop, and say for each one in the list that's already defined    "
      ]
    },
    {
      "cell_type": "code",
      "metadata": {
        "id": "zCTP_nOn4mtD",
        "colab": {
          "base_uri": "https://localhost:8080/",
          "height": 72
        },
        "outputId": "bcd2997b-ec2c-46df-f880-cdc3c54f5631"
      },
      "source": [
        "# Copy paste all code from previous exercise and add the walk method.\n",
        "\n",
        "#Output, uncomment line below once done editing classes\n",
        "#my_pets.walk()\n",
        "\n",
        "class Pets:\n",
        "  \n",
        "  #dogs = []\n",
        "  \n",
        "  def __init__(self, dogs):\n",
        "    self.dogs= dogs #I got help w this:)\n",
        "    \n",
        "  def walk(self):\n",
        "    for dog in self.dogs:\n",
        "      print(\"{} is walking!\".format(dog.name)) # I got help w this too bc it's so confusing >:( \n",
        "      \n",
        "      \n",
        "\n",
        "class Dog:\n",
        "  \n",
        "    # Class attribute\n",
        "  species = 'mammal'\n",
        "  # Initializer / Instance attributes\n",
        "  def __init__(self, name, age):\n",
        "    self.name = name\n",
        "    self.age = age\n",
        "    \n",
        "  def walk(self):\n",
        "    print(\"{} is walking!\".format(self.name))\n",
        "\n",
        "  # instance method\n",
        "  def description(self):\n",
        "    return \"{} is {} years old\".format(self.name, self.age)\n",
        "\n",
        "  # instance method\n",
        "  def speak(self, sound):\n",
        "    return \"{} says {}\".format(self.name, sound)\n",
        "\n",
        "# Child class (inherits from Dog class)\n",
        "class RussellTerrier(Dog):\n",
        "  \n",
        "  def run(self, speed):\n",
        "    return \"{} runs {}\".format(self.name, speed)\n",
        "\n",
        "# Child class (inherits from Dog class)\n",
        "class Bulldog(Dog):\n",
        "  def run(self, speed):\n",
        "    return \"{} runs {}\".format(self.name, speed)\n",
        "\n",
        "\n",
        "# Create instances of dogs\n",
        "my_dogs = [\n",
        "    Bulldog(\"Tom\", 6), \n",
        "    RussellTerrier(\"Fletcher\", 7), \n",
        "    Dog(\"Larry\", 9)\n",
        "  ]\n",
        "\n",
        "# Instantiate the Pets class by putting my_dogs in\n",
        "my_pets = Pets(my_dogs)\n",
        "\n",
        "\n",
        "my_pets.walk()\n",
        "\n",
        "\n"
      ],
      "execution_count": null,
      "outputs": [
        {
          "output_type": "stream",
          "text": [
            "Tom is walking!\n",
            "Fletcher is walking!\n",
            "Larry is walking!\n"
          ],
          "name": "stdout"
        }
      ]
    },
    {
      "cell_type": "markdown",
      "metadata": {
        "id": "qZ-mRIs9inAK"
      },
      "source": [
        "Answer the following questions about OOP to check your learning progress:\n",
        "\n",
        "\n",
        "\n",
        "1.   What’s a class? - A class is a general container for information, kind of like a blank template.\n",
        "2.   What’s an instance? - An instance is a class but with the information filled in.\n",
        "3. What’s the relationship between a class and an instance? - an instance is a class but with information assigned to it\n",
        "4.How do you instantiate, or create an instance of, a class? - instance = Class(\"any information\", needed)\n",
        "5.How do you access the attributes and behaviors of a class instance? instance.attribute\n",
        "6.What’s a method? - an instance method is a function defined within a class\n",
        "8.What’s the purpose of self? Self is used if there are multiple different instances, so that the attributes of any instance can be expressed when called. \n",
        "9.What’s the purpose of the __init__ method? The init method defines the characteristics that the class has, it gives the framework for instances.   \n",
        "10.Describe how inheritance helps prevent code duplication. - Inheritance allows parent classes to give children classes their properties, so that child classes can have the same properties, and more.  \n",
        "11.Can child classes override properties of their parents? Yes, child classes can redefine properties that their parents had defined.  "
      ]
    },
    {
      "cell_type": "markdown",
      "metadata": {
        "id": "f5rDyPDtIUm8"
      },
      "source": [
        "# Extra Exercise\n",
        "\n",
        "Create a  parent class called **BUAIforALL**\n",
        "\n",
        "This class should have :\n",
        "\n",
        "\n",
        "*   Instance Attribute: *name, age*\n",
        "*   Method: *describe* , that should return a informative sentence  such as  \"Karen is 20\" or \"Sam is a Junior\"\n",
        "*  Method: *birthday*, that should increase the age by 1\n",
        "\n",
        "Create two child classes called  **coordinator** and **student**\n",
        "\n",
        "For the **coordinator** class:\n",
        "\n",
        "*   Class attribute: *university* and assign this to \"Boston University\"\n",
        "*  Method: *describe* . that prints out their name and age. ex: \"Karen is 20\"\n",
        "*   Method: *graduate* that prints out a congratulation message for graduating from their univesity ex: \"Congratulations Taylor, you are leaving Boston University!!\"\n",
        "\n",
        "For **student** class:\n",
        "\n",
        "*   Instance attribute: *High school, Year*\n",
        "*   Method:  *describe* . that prints out their name and age. ex: \"Sam is a Junior\"\n",
        "\n",
        "\n",
        "What other methods and attributes can you think of? Add them in, be creative!\n",
        "\n",
        "\n"
      ]
    },
    {
      "cell_type": "code",
      "metadata": {
        "id": "jM8zqQV0j3Om",
        "colab": {
          "base_uri": "https://localhost:8080/",
          "height": 35
        },
        "outputId": "bc0b354f-35b3-42af-a48b-150d6f774542"
      },
      "source": [
        "class BUAIforALL:\n",
        "  def __init__(self, name, age):\n",
        "    self.name = name\n",
        "    self.age = age\n",
        "    \n",
        "  \n",
        "  def describe(self, name, age):\n",
        "    return \"{} is {}.\".format(self.name, self.age)\n",
        "  \n",
        "  def birthday(self, age):\n",
        "    age += 1\n",
        "    return age\n",
        "  \n",
        "class coordinator(BUAIforALL):\n",
        "  university = \"Boston University\"\n",
        "\n",
        "\n",
        "  def describe(self, name, age):\n",
        "    return \"{} is {}.\".format(self.name, self.age)\n",
        "\n",
        "  def graduate(self, name):\n",
        "    return \"Congrats, {}. You're leaving Boston University.\".format(self.name)\n",
        "class student(BUAIforALL):\n",
        "  def __init__(self,name, age, high_school, year):\n",
        "    self.name = name\n",
        "    self.age = age\n",
        "    self.high_school= high_school\n",
        "    self.year = year\n",
        "\n",
        "  def describe(self, name, year):\n",
        "    return \"{} is a {}. \".format(self.name, self.year)\n",
        "\n",
        "    \n",
        "\n",
        "Meghna = student('Meghna', 15, \"arlington\", \"junior\")\n",
        "print(Meghna.describe(\"Meghna\", \"junior\"))\n",
        "    \n",
        "  "
      ],
      "execution_count": null,
      "outputs": [
        {
          "output_type": "stream",
          "text": [
            "Meghna is a junior. \n"
          ],
          "name": "stdout"
        }
      ]
    },
    {
      "cell_type": "code",
      "metadata": {
        "id": "yFJY10jrKygK"
      },
      "source": [
        ""
      ],
      "execution_count": null,
      "outputs": []
    }
  ]
}