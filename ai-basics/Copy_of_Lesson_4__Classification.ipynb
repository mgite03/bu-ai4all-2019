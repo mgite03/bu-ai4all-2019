{
  "nbformat": 4,
  "nbformat_minor": 0,
  "metadata": {
    "colab": {
      "name": "Copy of Lesson 4_ Classification.ipynb",
      "provenance": [],
      "collapsed_sections": [],
      "toc_visible": true,
      "include_colab_link": true
    },
    "kernelspec": {
      "name": "python3",
      "display_name": "Python 3"
    }
  },
  "cells": [
    {
      "cell_type": "markdown",
      "metadata": {
        "id": "view-in-github",
        "colab_type": "text"
      },
      "source": [
        "<a href=\"https://colab.research.google.com/github/mgite03/bu-ai4all-2019/blob/main/ai-basics/Copy_of_Lesson_4__Classification.ipynb\" target=\"_parent\"><img src=\"https://colab.research.google.com/assets/colab-badge.svg\" alt=\"Open In Colab\"/></a>"
      ]
    },
    {
      "cell_type": "markdown",
      "metadata": {
        "id": "kh38YnZvzLmv"
      },
      "source": [
        "# Practice Problems\n",
        "## Lesson 4: Classification\n",
        "---\n",
        "Created by Terron Ishihara"
      ]
    },
    {
      "cell_type": "markdown",
      "metadata": {
        "id": "bv2N1E8uzPxA"
      },
      "source": [
        "### Problem 1\n",
        "\n",
        "After a long and tiring adventure through the wilderness, Olimar and Louie head over to their spaceship with their [Pikmin](https://en.wikipedia.org/wiki/Pikmin_(series)) companions, ready to head home. Weary from their travels and eager to depart, they signal for the ship's ramp to lower. However, due to a technical malfunction, the ramp shoot off its hinges, colliding with the two explorers, knocking them unconscious. When they wake, they have no recollection of what happened, nor can they even recognize the Pikmin they had befriended that day!"
      ]
    },
    {
      "cell_type": "markdown",
      "metadata": {
        "id": "216QFdLuAOMY"
      },
      "source": [
        "> a. Look at the picture pikmin_decision_tree.png included in the drive. Based on this grouping (the left Pikmin belonging to Olimar and the right Pikmin belonging to Louie), build a decision tree to help jog their memories of which Pikmin each of them recruited onto their team. Your decision tree should have at least 3 levels and therefore at least 3 features to separate each set of Pikmin.\n",
        "\n",
        "Tree diagram in notebook\n"
      ]
    },
    {
      "cell_type": "markdown",
      "metadata": {
        "id": "QIv9GCgjAitM"
      },
      "source": [
        "> b. Does your decision tree separate all Pikmin correctly into their respective two groups? If not, which Pikmin is/are misclassified?\n",
        "\n",
        "Most of the classifications are done by color, and there is one blue Pikmin that is misclassified. (They are with Louie instead of Olimar.)"
      ]
    },
    {
      "cell_type": "markdown",
      "metadata": {
        "id": "WjhJjdo5CQ7S"
      },
      "source": [
        "### Problem 2\n",
        "\n",
        "Let's explore K-Nearest Neighbors using scikit-learn. For this example, we will use a data set of hand-written digits. We begin by loading the data set, which is a very low-resolution (8x8 pixels) version of the MNIST data set."
      ]
    },
    {
      "cell_type": "code",
      "metadata": {
        "id": "XDdHYZtdILuu",
        "colab": {
          "base_uri": "https://localhost:8080/",
          "height": 292
        },
        "outputId": "1b80e1ff-b28d-46f7-9456-056001531cce"
      },
      "source": [
        "import matplotlib.pyplot as plt\n",
        "from sklearn import datasets, neighbors\n",
        "\n",
        "# Load the digits data set\n",
        "digits = datasets.load_digits() \n",
        "\n",
        "# Visualize an example digit image \n",
        "plt.gray() \n",
        "plt.matshow(digits.images[0]) # Use the first digit in the data set\n",
        "plt.show()"
      ],
      "execution_count": null,
      "outputs": [
        {
          "output_type": "display_data",
          "data": {
            "text/plain": [
              "<Figure size 432x288 with 0 Axes>"
            ]
          },
          "metadata": {
            "tags": []
          }
        },
        {
          "output_type": "display_data",
          "data": {
            "image/png": "[encoded data removed]",
            "text/plain": [
              "<Figure size 288x288 with 1 Axes>"
            ]
          },
          "metadata": {
            "tags": []
          }
        }
      ]
    },
    {
      "cell_type": "markdown",
      "metadata": {
        "id": "Oa3pBLitNEdZ"
      },
      "source": [
        "> Each data sample is an 8x8 array of gray-scale values and will be the input values for our classifier. The target values are stored in a list of integers, each representing the digits 0-9."
      ]
    },
    {
      "cell_type": "code",
      "metadata": {
        "id": "6HvnyJTQM6rm",
        "colab": {
          "base_uri": "https://localhost:8080/",
          "height": 34
        },
        "outputId": "aa42cc35-d0fd-4c7b-d316-631c2d915504"
      },
      "source": [
        "# Extract the input data, force values to be between 0.0 and 1.0\n",
        "X_digits = digits.data / digits.data.max()\n",
        "\n",
        "# Extract the true values for each sample (each a digit between 0-9)\n",
        "y_digits = digits.target\n",
        "\n",
        "# Print the target values\n",
        "y_digits"
      ],
      "execution_count": null,
      "outputs": [
        {
          "output_type": "execute_result",
          "data": {
            "text/plain": [
              "array([0, 1, 2, ..., 8, 9, 8])"
            ]
          },
          "metadata": {
            "tags": []
          },
          "execution_count": 2
        }
      ]
    },
    {
      "cell_type": "markdown",
      "metadata": {
        "id": "vbMvXks8PKDw"
      },
      "source": [
        "> Now that we understand the data set being used, we can split the samples into a training set and test set. Here we use a 90/10 split (90% goes to the training set, 10% goes to the test set)."
      ]
    },
    {
      "cell_type": "code",
      "metadata": {
        "id": "vwgFIt8rImbX"
      },
      "source": [
        "n_samples = len(X_digits)\n",
        "# Training set will be 90% of available samples,\n",
        "# testing set will be remaining 10%\n",
        "train_test_split = int(.9*n_samples)\n",
        "\n",
        "# Sidenote:\n",
        "# sklearn has a method that does this partitioning for us,\n",
        "# but it is useful to see how you could do this manually.\n",
        "\n",
        "# Partition training set\n",
        "X_train = X_digits[:train_test_split]\n",
        "y_train = y_digits[:train_test_split]\n",
        "# Partition test set\n",
        "X_test = X_digits[train_test_split:]\n",
        "y_test = y_digits[train_test_split:]"
      ],
      "execution_count": null,
      "outputs": []
    },
    {
      "cell_type": "markdown",
      "metadata": {
        "id": "jFewwIymPZRj"
      },
      "source": [
        "> All that's left is to import the K-Nearest Neighbors classifier, train the classifier on the training set, and test the resulting model on the test set. "
      ]
    },
    {
      "cell_type": "code",
      "metadata": {
        "id": "GMGdfpQSIvIl",
        "colab": {
          "base_uri": "https://localhost:8080/",
          "height": 34
        },
        "outputId": "acb7c984-4a01-42af-f1fb-80bf784f5c69"
      },
      "source": [
        "# Import the default K-Nearest Neighbors classifier\n",
        "# What does the 5 represent in the line of code below?\n",
        "knn = neighbors.KNeighborsClassifier(n_neighbors=3)\n",
        "\n",
        "# Train the classifer\n",
        "knn.fit(X_train, y_train)\n",
        "# Compute the score (mean accuracy) on test set\n",
        "score = knn.score(X_test, y_test)\n",
        "print('KNN score: %f' % score)"
      ],
      "execution_count": null,
      "outputs": [
        {
          "output_type": "stream",
          "text": [
            "KNN score: 0.966667\n"
          ],
          "name": "stdout"
        }
      ]
    },
    {
      "cell_type": "markdown",
      "metadata": {
        "id": "w9YlRHE-nid6"
      },
      "source": [
        "> Recall that `k` is an input to a K-Neighbors classifier, specifying how many neighboring data point to use on each update. Where in the code do you think we provide a value for `k`? Try using other values to see how the score is affected.\n",
        "\n"
      ]
    },
    {
      "cell_type": "code",
      "metadata": {
        "id": "8zYfLpt8sLqm"
      },
      "source": [
        ""
      ],
      "execution_count": null,
      "outputs": []
    }
  ]
}