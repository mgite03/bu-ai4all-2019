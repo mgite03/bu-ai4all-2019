{
  "nbformat": 4,
  "nbformat_minor": 0,
  "metadata": {
    "colab": {
      "name": "Copy of PyTorch workshop",
      "provenance": [],
      "collapsed_sections": [],
      "include_colab_link": true
    },
    "kernelspec": {
      "name": "python3",
      "display_name": "Python 3"
    }
  },
  "cells": [
    {
      "cell_type": "markdown",
      "metadata": {
        "id": "view-in-github",
        "colab_type": "text"
      },
      "source": [
        "<a href=\"https://colab.research.google.com/github/mgite03/bu-ai4all-2019/blob/main/ai-basics/Copy_of_PyTorch_workshop.ipynb\" target=\"_parent\"><img src=\"https://colab.research.google.com/assets/colab-badge.svg\" alt=\"Open In Colab\"/></a>"
      ]
    },
    {
      "cell_type": "markdown",
      "metadata": {
        "id": "xTq1vQoEF-tk"
      },
      "source": [
        "#Quick Overview of Matrix Operations \n",
        "### If you have completed this in Taylor's project, feel free to skip this section"
      ]
    },
    {
      "cell_type": "markdown",
      "metadata": {
        "id": "dSru9d8kGK6k"
      },
      "source": [
        "A *matrix* is a rectangular or square grid of numbers arranged into rows and columns. Each\n",
        "number in the matrix is called an *element*, and they are arranged in what is called an array. The\n",
        "plural of “matrix” is “matrices”. Matrices are often used in algebra to solve for unknown values\n",
        "in linear equations, and in geometry when solving for vectors and vector operations. \n",
        "\n",
        "Now we're going to do a quick review on some basic matrix operations."
      ]
    },
    {
      "cell_type": "markdown",
      "metadata": {
        "id": "cRJk6P-4jqI3"
      },
      "source": [
        "Example One: \n",
        "Matrix M =\n",
        " ```\n",
        " [4 1 5]\n",
        " [3 6 2] \n",
        " ```\n",
        " \n",
        "There are 2 rows and 3 columns here in Matrix M, M would be called a 2 x 3 (i.e. “2 by 3”) matrix. \n",
        "       "
      ]
    },
    {
      "cell_type": "markdown",
      "metadata": {
        "id": "ZWrcuyUGk09Y"
      },
      "source": [
        "*Matrix Addition*\n",
        "\n",
        "We can add matrices together as long as their dimensions are the same, i.e. both matrices have\n",
        "the same number of rows and columns. To add two matrices, we add the numbers of each\n",
        "matrix that are in the same element position.\n",
        "\n",
        " ```\n",
        " [8 4 2]     [3 10 4]     [11 14 6]\n",
        " [6 1 5]  +  [5 6  1]  =  [11 7  6]\n",
        " ```\n",
        " \n",
        "We see that elements in the same positions are added together. This is a pretty simple example.\n",
        "\n",
        "This method is also used for matrix subtration."
      ]
    },
    {
      "cell_type": "markdown",
      "metadata": {
        "id": "oDBltsxklvfy"
      },
      "source": [
        "*Multiplying a Matrix by a Constant*\n",
        "\n",
        "We can multiply a matrix by some value by multiplying each element with that value. The value\n",
        "can be positive or negative.\n",
        "\n",
        " ```\n",
        "        [4 1]     [8 2]\n",
        "  2  *  [3 6]  =  [6 12]\n",
        " ```"
      ]
    },
    {
      "cell_type": "markdown",
      "metadata": {
        "id": "p96DqQb5lop4"
      },
      "source": [
        "*Matrix Multiplication*\n",
        "\n",
        "We can multiply a matrix (A) by another matrix (B) if the number of columns in A is equal to the\n",
        "number of rows in B. Multiplication of A by B is typically written as A(B) or (A)B.\n",
        "\n",
        "\n",
        " ```\n",
        "     [4 1 5]       [3]\n",
        " A = [3 6 2]   B = [6]\n",
        "                   [2]\n",
        " ```\n",
        " \n",
        " A has 2 rows and 3 columns and B has 3 rows and 1 column so we can multiply A by B. The INNER dimmensions are both 3, ((2x3) * (3x2)), so this matrix multiplication is possible.\n",
        " \n",
        "Notice that we can’t multiply B by A in this particular case because the number of columns in B\n",
        "is not equal to the number of rows in A.\n",
        "\n",
        "This means that multiplying matrices is not commutative: A(B) ≠ B(A)"
      ]
    },
    {
      "cell_type": "markdown",
      "metadata": {
        "id": "brQJpeVBm_So"
      },
      "source": [
        "To multiply matrices, there’s a convention that is followed. \n",
        "\n",
        "Let's say we have matrices A and B:\n",
        " ```\n",
        "      [a b]       [e f]\n",
        "  A = [c d]   B = [g h]  \n",
        "\n",
        "         [a b][e f]   [ae + bg  af + bh]\n",
        "  A(B) = [c d][g h] = [ce + dg  cf + dh]\n",
        " ```\n",
        " \n",
        " Let’s look at the first row of A and the first column of B. Element **a** is multiplied by element **e**.\n",
        "Element **b** is multiplied by element **g**. The value of the element in the first row and first column\n",
        "of A(B) is the sum of the products (ae + bg).\n",
        " \n",
        "Tip: For an item in the resultant matrix at row `i` and column `g`, it is made by the product of the `i`th row of the first matrix multiplied with the `j`th column of the second matrix. For instance, the item in the first row and second column of A(B) above is made from the first row of A and the second column of B."
      ]
    },
    {
      "cell_type": "markdown",
      "metadata": {
        "id": "NMAnQUgFoTmJ"
      },
      "source": [
        "Let's do an actual written example:\n",
        "\n",
        " ```\n",
        "     [4 1 5]       [3]\n",
        " A = [3 6 2]   B = [6]\n",
        "                   [2]\n",
        "       2x3         3x1\n",
        " ```\n",
        " \n",
        " \n",
        " We have the dimensions of the matrices below them. \n",
        " \n",
        " ```\n",
        " A(B) = [4(3) + 1(6) + 6(2)]   = [28]\n",
        "        [3(3) + 6(6) + (2)(2)]   [49]\n",
        " ```\n",
        " \n",
        " Notice A(B) is now a 2 x 1 matrix. "
      ]
    },
    {
      "cell_type": "markdown",
      "metadata": {
        "id": "HZkn7R_lGQ-X"
      },
      "source": [
        "###Practice Questions\n",
        "\n",
        "Given the following matrices, please solve the questions below on paper and if you can’t solve the problem, explain why:\n",
        "\n",
        "```\n",
        "     [4 1 5]       [3]       [2 4]       [5 2]       [3 -2]       [2 1 3]\n",
        " A = [3 6 2]   B = [6]   C = [3 6]   D = [3 1]   E = [1 4]   F =  [5 7 -2]\n",
        "                   [2]       [-1 2]\n",
        " ```\n",
        " \n",
        "```\n",
        " \n",
        "*   A + F = [6 2 8]\n",
        "            [8 13 0]\n",
        "*   E - D = [-2 -4]\n",
        "            [-2 3]\n",
        "*   C + B = no solution (mismatched dimensions)\n",
        "\n",
        "*   C(D) = [22 8]\n",
        "           [33 12]\n",
        "           [1 0]\n",
        "*   A(F) = no solutions (mismatched dimensions)\n",
        "```\n",
        "\n",
        "Check your solutions with a coordinator before moving on."
      ]
    },
    {
      "cell_type": "markdown",
      "metadata": {
        "id": "h4mUjeSZYjrn"
      },
      "source": [
        "##Application to Neural Networks\n",
        "As it turns out the way that humans have defined matrix multiplication makes it perfect for doing all of these forward propagation computations simultaneously. For example let's build a neural network with 1 input, 1 hidden layer with 2 nodes, and 2 output nodes, and using the ReLU activation function at each step.\n",
        "\n",
        "![alt text](https://ml-cheatsheet.readthedocs.io/en/latest/_images/nn_with_matrices_displayed.png)\n",
        "\n",
        "*Note: np.dot() calculates the dot product. This is a special name for matrix multiplication between two vectors.\n",
        "\n",
        "Carefully read the explanations of each component below."
      ]
    },
    {
      "cell_type": "markdown",
      "metadata": {
        "id": "-F7mzJDeb4f_"
      },
      "source": [
        "![alt text](https://lh3.googleusercontent.com/S6onfm5T-1xFAzkPCLry95eMcOm07R1f9lhWwYlmmsboefm8NnEwfj-bVAocmbdQwl63n_sUylvfwWkMYQviUgUzQLXqVxDIxxupqZQLFXXsox-2Y2BGIEDASdkcRtZeFnC7MKIMYgcIHbtixMis-c_1_Smd-dfrCY9gOMKR910rBg4_Z0w8n43uE-zsuxvntepkkEVr_DL60iMRo7wl_XIK-QtSzMqNlDO5AHvNnugf7EMLgf5q5avw2kSdw4Lsf_5I-Ob5CYz6-ik0CPbwgtq440XouB0FqN9i23U6LPs9-732rrISs1xTQe6ItAbOLdFxjdFvgX-gkSp18Og7zGNt4KVEICl4kbdNJH70G_gowEujd8VcBNVavnPimZU3h1J1xFgQxDlD-9VjClk3hViQNP8Y0jG8TKGUVhYef2J7880nwXP39GBxnAChIEdEfzmQaEa5VA8f9mudzxG0MBnrwOtmECKGAom56DqyDIj5clqwVAXhE6EnGh2G3ehsqJH_cDk9Je8qPjrhcWuD2QlY7HWKuc9J7dRJNtfvhsn3FUZPmvIZ7jBAyQjMu-3CRmLetKPqkmIDl5BiJdXXO3fOGCHsyuZXlU3J0D1KipJAgVHgXPQ-XDZVJOILP4KQzTEjv-5ZFQP8WDIrTc1_Kr6nUmsNNNM=w1079-h1187-no)"
      ]
    },
    {
      "cell_type": "markdown",
      "metadata": {
        "id": "lv3E35tOdcHL"
      },
      "source": [
        "Before we continue I want to point out how the matrix dimensions change with changes to the network architecture or size of the training set. For example, let’s build a network with 2 input neurons, 3 hidden neurons, 2 output neurons, and 4 observations in our training set.\n",
        "\n",
        "![alt text](https://ml-cheatsheet.readthedocs.io/en/latest/_images/dynamic_resizing_neural_network_4_obs.png)\n",
        "\n",
        "Now let’s use same number of layers and neurons but reduce the number of observations in our dataset to 1 instance:\n",
        "\n",
        "![alt text](https://ml-cheatsheet.readthedocs.io/en/latest/_images/dynamic_resizing_neural_network_1_obs.png)\n",
        "\n",
        "As you can see, the number of columns in all matrices remains the same. The only thing that changes is the number of rows the layer matrices, which fluctuate with the size of the training set. The dimensions of the weight matrices remain unchanged. This shows us we can use the same network, the same lines of code, to process any number of observations."
      ]
    },
    {
      "cell_type": "markdown",
      "metadata": {
        "id": "ueUn-6z2dvMN"
      },
      "source": [
        "##Getting Acquainted with PyTorch\n",
        "PyTorch uses Matrix-like structures called Tensors. These tensors can be seen as a generalization of matrices and look like n-dimensional arrays (ndarrays in numpy). \n",
        "\n",
        "To create a Tensor, we first have to import the Pytorch Module, called torch."
      ]
    },
    {
      "cell_type": "code",
      "metadata": {
        "id": "eYWFr2EGfFPU"
      },
      "source": [
        "import torch\n",
        "from torch import nn\n",
        "x0 = torch.tensor(10) # 0-dimensional tensor (single value)\n",
        "x1 = torch.tensor([10,2,5,2,10]) # 1-dimensional tensor (vector)\n",
        "x2 = torch.tensor([[10,2,4],[5,2,10]]) # 2-dimensional tensor (vector)\n",
        "x3 = torch.tensor([[[10,2],[5,2]], [[3,1],[15,8]]]) # 3-dimensional tensor (matrix)"
      ],
      "execution_count": null,
      "outputs": []
    },
    {
      "cell_type": "markdown",
      "metadata": {
        "id": "qVeOyYO8fjoE"
      },
      "source": [
        "A powerful transformation in PyTorch is the conversion from numpy array to a torch tensor and vice versa."
      ]
    },
    {
      "cell_type": "code",
      "metadata": {
        "id": "m656KDr5fhFa",
        "colab": {
          "base_uri": "https://localhost:8080/",
          "height": 34
        },
        "outputId": "d4d523bf-8c82-4ebe-9fb9-7ecbea98d8ae"
      },
      "source": [
        "import numpy as np\n",
        "x_numpy = np.random.randn(10,2) #Randomized numpy array\n",
        "x_torch = torch.tensor(x_numpy) #Convert it to a tensor\n",
        "x2_numpy = x_torch.numpy() #Back to a numpy array\n",
        "type(x_numpy), type(x_torch), type(x2_numpy)"
      ],
      "execution_count": null,
      "outputs": [
        {
          "output_type": "execute_result",
          "data": {
            "text/plain": [
              "(numpy.ndarray, torch.Tensor, numpy.ndarray)"
            ]
          },
          "metadata": {
            "tags": []
          },
          "execution_count": 3
        }
      ]
    },
    {
      "cell_type": "markdown",
      "metadata": {
        "id": "G8FEz1Uqf3nI"
      },
      "source": [
        "Let's make a neural network using PyTorch and use it to classify the sci-kit learn's Moon dataset, which generates data to look like two crescents. ![alt text](https://miro.medium.com/max/656/1*l-JofnGy39uEhvZwC0uvKQ.jpeg)\n",
        "\n"
      ]
    },
    {
      "cell_type": "code",
      "metadata": {
        "id": "VDDZWdF-gJ-y"
      },
      "source": [
        "import matplotlib.pyplot as plt\n",
        "from sklearn import datasets\n",
        "plt.style.use('seaborn') \n",
        "%matplotlib inline"
      ],
      "execution_count": null,
      "outputs": []
    },
    {
      "cell_type": "code",
      "metadata": {
        "id": "RiRl05g7gRDe",
        "colab": {
          "base_uri": "https://localhost:8080/",
          "height": 384
        },
        "outputId": "7da12694-1aa2-4171-aaec-562ed782dbf1"
      },
      "source": [
        "X,y = datasets.make_moons(n_samples=200, shuffle=True, noise=0.2, random_state=1234)\n",
        "y = np.reshape(y, (len(y),1))\n",
        "print(y[:,0])\n",
        "\n",
        "plt.scatter(X[:, 0], X[:, 1], c=y[:,0])\n",
        "#Do whatever you need to do to look at the data here."
      ],
      "execution_count": null,
      "outputs": [
        {
          "output_type": "stream",
          "text": [
            "[1 1 0 0 0 0 0 0 1 1 1 0 1 1 1 1 1 0 0 0 1 1 1 0 0 1 0 1 1 0 0 1 1 1 1 1 0\n",
            " 1 1 0 1 0 0 0 0 0 0 1 1 1 0 0 1 1 0 0 1 1 1 0 0 0 1 0 1 0 0 0 0 1 1 1 1 0\n",
            " 0 0 1 0 1 0 0 0 0 1 1 1 1 0 0 0 0 1 0 0 1 1 1 1 0 0 1 1 1 0 1 1 0 0 1 1 0\n",
            " 0 0 1 0 0 0 0 1 1 1 0 1 1 1 0 1 0 1 1 0 0 0 0 1 1 1 1 1 1 1 1 0 0 1 0 0 0\n",
            " 0 0 0 0 0 1 1 0 1 0 0 0 1 1 0 0 1 1 1 0 0 0 1 0 1 1 1 0 0 0 0 1 1 0 0 1 1\n",
            " 1 0 1 1 1 0 1 0 1 1 1 1 0 0 0]\n"
          ],
          "name": "stdout"
        },
        {
          "output_type": "execute_result",
          "data": {
            "text/plain": [
              "<matplotlib.collections.PathCollection at 0x7f5bfb310978>"
            ]
          },
          "metadata": {
            "tags": []
          },
          "execution_count": 33
        },
        {
          "output_type": "display_data",
          "data": {
            "image/png": "[encoded data removed]",
            "text/plain": [
              "<Figure size 432x288 with 1 Axes>"
            ]
          },
          "metadata": {
            "tags": []
          }
        }
      ]
    },
    {
      "cell_type": "markdown",
      "metadata": {
        "id": "K06LK5mzfgkj"
      },
      "source": [
        "PyTorch has its own built-in neural network class, but for the purpose of demonstrating and learning, we will build our own. "
      ]
    },
    {
      "cell_type": "code",
      "metadata": {
        "id": "0LaePpbKgyZJ"
      },
      "source": [
        "input_size = 2 \n",
        "hidden_size = 3 # randomly chosen\n",
        "output_size = 1 # we want it to return a number that can be used to calculate the difference from the actual number\n",
        "class NeuralNetwork():\n",
        "    def __init__(self, input_size, hidden_size, output_size):\n",
        "        # weights \n",
        "        self.W1 = torch.randn(input_size, hidden_size, requires_grad=True)\n",
        "        self.W2 = torch.randn(hidden_size, hidden_size, requires_grad=True)\n",
        "        self.W3 = torch.randn(hidden_size, output_size, requires_grad=True)\n",
        "        # Add bias\n",
        "        self.b1 = torch.randn(hidden_size, requires_grad=True)\n",
        "        self.b2 = torch.randn(hidden_size, requires_grad=True)\n",
        "        self.b3 = torch.randn(output_size, requires_grad=True)\n",
        "    def forward(self, inputs):\n",
        "        z1 = inputs.mm(self.W1).add(self.b1)\n",
        "        a1 = 1 / (1 + torch.exp(-z1))\n",
        "        z2 = a1.mm(self.W2).add(self.b2)\n",
        "        a2 = 1 / (1 + torch.exp(-z2))\n",
        "        z3 = a2.mm(self.W3).add(self.b3)\n",
        "        output = 1 / (1 + torch.exp(-z3))\n",
        "        return output"
      ],
      "execution_count": null,
      "outputs": []
    },
    {
      "cell_type": "markdown",
      "metadata": {
        "id": "vQc7zubHg4rd"
      },
      "source": [
        "This image is a visualisation of the neural network we are building now. The input size(2), matches with the two features(x1,x2) in the image. We have specified the hidden size to be 3, which can be seen as the three vertical blocks or neurons (three per hidden layer) in the image. In the code we have specified W1,W2,W3 , which are matrices, hence the capital W. Also, a bias is added. ![alt text](https://miro.medium.com/max/1050/1*eC9xSzCZwdrr0E52LbmVJQ.png)"
      ]
    },
    {
      "cell_type": "markdown",
      "metadata": {
        "id": "gyrVTNNGhVCB"
      },
      "source": [
        "Let's focus on these two lines of code in the forward() function.\n",
        "\n",
        "`\n",
        "z1 = inputs.mm(self.W1).add(self.b1)`\n",
        "\n",
        "`\n",
        "a1 = 1 / (1 + torch.exp(-z1))`\n",
        "\n",
        "\n",
        "The forward function can be calculated by taking the sum of X times W1 together with the bias. In PyTorch we use the function “.mm” short for matrix-multiplication(since X1 and W1 are matrices) and we add the bias to it. Then we use an activation function, in this case the sigmoid to introduce nonlinearity in the model. This is done so the model can learn more complex relationships in the data. This output is then used as input for the next layer and so on.\n",
        "\n"
      ]
    },
    {
      "cell_type": "markdown",
      "metadata": {
        "id": "RgOyng9Ch-ZH"
      },
      "source": [
        "Now the code we got so far only does half the job, it enables us to feed the input through the network, but the network needs to adapt to get better results, which is accomplished by backward-propagation. We didn't cover this in much detail during the lecture, but hopefully the comments should be informative."
      ]
    },
    {
      "cell_type": "code",
      "metadata": {
        "id": "Wj_cftsHg0cd",
        "colab": {
          "base_uri": "https://localhost:8080/",
          "height": 299
        },
        "outputId": "5c407a4e-11b4-4c85-f6c0-e1b5bb35c71f"
      },
      "source": [
        "epochs = 10000 #How many rounds of forward and backward propogation\n",
        "learning_rate = 0.005\n",
        "model = NeuralNetwork(input_size, hidden_size, output_size) #Create a NN with the input sizes specified earlier\n",
        "inputs = torch.tensor(X, dtype=torch.float) #Convert our data into a tensor\n",
        "labels = torch.tensor(y, dtype=torch.float) #Convert labels into a tensor.\n",
        "#store all the loss values\n",
        "losses = []\n",
        "\n",
        "#The following loop performs backpropogation\n",
        "for epoch in range(epochs):\n",
        "    # forward function\n",
        "    output = model.forward(inputs)\n",
        "    #BinaryCrossEntropy formula\n",
        "    loss = -((labels * torch.log(output)) + (1 - labels) * torch.log(1 - output)).sum()\n",
        "    #Log the log so we can plot it later\n",
        "    losses.append(loss.item())\n",
        "    #calculate the gradients of the weights wrt to loss\n",
        "    loss.backward()\n",
        "    #adjust the weights based on the previous calculated gradients\n",
        "    model.W1.data -= learning_rate * model.W1.grad #PyTorch can calculate the gradients for us\n",
        "    model.W2.data -= learning_rate * model.W2.grad\n",
        "    model.W3.data -= learning_rate * model.W3.grad\n",
        "    model.b1.data -= learning_rate * model.b1.grad\n",
        "    model.b2.data -= learning_rate * model.b2.grad\n",
        "    model.b3.data -= learning_rate * model.b3.grad\n",
        "    #clear the gradients so they wont accumulate\n",
        "    model.W1.grad.zero_()\n",
        "    model.W2.grad.zero_()\n",
        "    model.W3.grad.zero_()\n",
        "    model.b1.grad.zero_()\n",
        "    model.b2.grad.zero_()\n",
        "    model.b3.grad.zero_()\n",
        "print(\"Final loss: \", losses[-1])\n",
        "plt.plot(losses) #Plot the loss changing over time and hopefully decreasing as our weights optimize"
      ],
      "execution_count": null,
      "outputs": [
        {
          "output_type": "stream",
          "text": [
            "Final loss:  19.018795013427734\n"
          ],
          "name": "stdout"
        },
        {
          "output_type": "execute_result",
          "data": {
            "text/plain": [
              "[<matplotlib.lines.Line2D at 0x7f5bfb8596d8>]"
            ]
          },
          "metadata": {
            "tags": []
          },
          "execution_count": 18
        },
        {
          "output_type": "display_data",
          "data": {
            "image/png": "[encoded data removed]",
            "text/plain": [
              "<Figure size 432x288 with 1 Axes>"
            ]
          },
          "metadata": {
            "tags": []
          }
        }
      ]
    },
    {
      "cell_type": "markdown",
      "metadata": {
        "id": "BnqAQae1Az5y"
      },
      "source": [
        "Pytorch also has its own built-in loss functions and optimizers. This means that instead of manually changing the weights, we can use a loss function to calculate the loss and use an optimizer to update the weights. First, we redefine our NeuralNetwork class to extend Pytorch's Module class, which will allow us to use the optimizer to do automatic differentiation:"
      ]
    },
    {
      "cell_type": "code",
      "metadata": {
        "id": "1Y84EUubCqbr"
      },
      "source": [
        "class NeuralNet(nn.Module):\n",
        "    def __init__(self, input_size, hidden_size, output_size):\n",
        "        super(NeuralNet, self).__init__()\n",
        "        # weights \n",
        "        self.layer1 = nn.Linear(input_size, hidden_size)\n",
        "        self.layer2 = nn.Linear(hidden_size, hidden_size)\n",
        "        self.layer3 = nn.Linear(hidden_size, output_size)\n",
        "    def forward(self, inputs):\n",
        "        output = self.layer1(inputs)\n",
        "        output = self.layer2(output)\n",
        "        output = self.layer3(output)\n",
        "        return output"
      ],
      "execution_count": null,
      "outputs": []
    },
    {
      "cell_type": "markdown",
      "metadata": {
        "id": "wVsK5nXzCr_J"
      },
      "source": [
        "Now, this is what the training loop would look like:"
      ]
    },
    {
      "cell_type": "code",
      "metadata": {
        "id": "FAp9ffUABoph",
        "colab": {
          "base_uri": "https://localhost:8080/",
          "height": 299
        },
        "outputId": "94f0d33a-800b-4c5c-e472-0e3c19d4e25e"
      },
      "source": [
        "epochs = 10000 #How many rounds of forward and backward propogation\n",
        "learning_rate = 0.005\n",
        "model = NeuralNet(input_size, hidden_size, output_size) #Re-initialize the NN with the input sizes specified earlier\n",
        "criterion = nn.MSELoss() # use mean squared error as our loss function\n",
        "optimizer = torch.optim.SGD(model.parameters(), lr=learning_rate) # Construct the optimizer with references to the model parameters, and the learning rate\n",
        "#store all the loss values\n",
        "losses = []\n",
        "\n",
        "#The following loop performs backpropogation\n",
        "for epoch in range(epochs):\n",
        "    # forward function\n",
        "    outputs = model(inputs)\n",
        "    # zero the gradients in the weights\n",
        "    optimizer.zero_grad()\n",
        "    # calculate the losses\n",
        "    loss = criterion(outputs, labels)\n",
        "    # calculate the gradients\n",
        "    loss.backward()\n",
        "    # update the weights\n",
        "    optimizer.step()\n",
        "    #Log the log so we can plot it later\n",
        "    losses.append(loss.item())\n",
        "\n",
        "print(\"Final loss: \", losses[-1])\n",
        "plt.plot(losses) #Plot the loss changing over time and hopefully decreasing as our weights optimize"
      ],
      "execution_count": null,
      "outputs": [
        {
          "output_type": "stream",
          "text": [
            "Final loss:  0.10567186772823334\n"
          ],
          "name": "stdout"
        },
        {
          "output_type": "execute_result",
          "data": {
            "text/plain": [
              "[<matplotlib.lines.Line2D at 0x7f5bfb273c50>]"
            ]
          },
          "metadata": {
            "tags": []
          },
          "execution_count": 34
        },
        {
          "output_type": "display_data",
          "data": {
            "image/png": "[encoded data removed]",
            "text/plain": [
              "<Figure size 432x288 with 1 Axes>"
            ]
          },
          "metadata": {
            "tags": []
          }
        }
      ]
    },
    {
      "cell_type": "markdown",
      "metadata": {
        "id": "UWEmS3_xDx7v"
      },
      "source": [
        "There are many other layer types, loss functions, and optimizers that you can use in pytorch. They are all described in the pytorch documentation."
      ]
    }
  ]
}