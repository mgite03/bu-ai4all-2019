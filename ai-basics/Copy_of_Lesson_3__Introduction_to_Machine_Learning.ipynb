{
  "nbformat": 4,
  "nbformat_minor": 0,
  "metadata": {
    "colab": {
      "name": "Copy of Lesson 3_ Introduction to Machine Learning.ipynb",
      "provenance": [],
      "collapsed_sections": [],
      "include_colab_link": true
    },
    "kernelspec": {
      "name": "python3",
      "display_name": "Python 3"
    }
  },
  "cells": [
    {
      "cell_type": "markdown",
      "metadata": {
        "id": "view-in-github",
        "colab_type": "text"
      },
      "source": [
        "<a href=\"https://colab.research.google.com/github/mgite03/bu-ai4all-2019/blob/main/ai-basics/Copy_of_Lesson_3__Introduction_to_Machine_Learning.ipynb\" target=\"_parent\"><img src=\"https://colab.research.google.com/assets/colab-badge.svg\" alt=\"Open In Colab\"/></a>"
      ]
    },
    {
      "cell_type": "markdown",
      "metadata": {
        "id": "JaOmmNaEmQik"
      },
      "source": [
        "# Practice Problems\n",
        "## Lesson 3: Introduction to Machine Learning\n",
        "---\n",
        "Created by Terron Ishihara"
      ]
    },
    {
      "cell_type": "code",
      "metadata": {
        "id": "VKjZnBpoMViU"
      },
      "source": [
        "\n"
      ],
      "execution_count": null,
      "outputs": []
    },
    {
      "cell_type": "markdown",
      "metadata": {
        "id": "9LSrp803mX2i"
      },
      "source": [
        "### Problem 1\n",
        "\n",
        "List three examples of real-world applications of machine learning being utilized today. Your answers should be as specific as possible.\n",
        "\n",
        "1. Lettucebot!\n",
        "2. Your online shopping data is used for ads\n",
        "3. data is used for self-driving cars"
      ]
    },
    {
      "cell_type": "markdown",
      "metadata": {
        "id": "rs4JT7bMpO5V"
      },
      "source": [
        "### Problem 2\n",
        "\n",
        "For each of the following tasks, state what type of machine learning the task falls under. Possible answers are **supervised**, **unsupervised**, and **reinforcement learning**. Some may be categorized as multiple types of machine learning."
      ]
    },
    {
      "cell_type": "markdown",
      "metadata": {
        "id": "okqcG_B_pUIJ"
      },
      "source": [
        "> a. Training a robot to move through a maze by marking forward movement as positive progression and bumping into a wall as negative progression.\n",
        "\n",
        "reinforcement"
      ]
    },
    {
      "cell_type": "markdown",
      "metadata": {
        "id": "Ndscr-NrpXXf"
      },
      "source": [
        "> b. Classifying a photo unseen to a machine learning model as a cupcake or a muffin based on crowd-sourced tagged images of cupcakes and muffins.\n",
        "\n",
        "supervised"
      ]
    },
    {
      "cell_type": "markdown",
      "metadata": {
        "id": "pFcmL_uopZ0x"
      },
      "source": [
        "> c. Classifying a song as being a pop song or an indie song based only on the tempo, the loudness, and how many times the word “tonight” appears in the lyrics.\n",
        "\n",
        "unsupervised"
      ]
    },
    {
      "cell_type": "markdown",
      "metadata": {
        "id": "vB2coljepciB"
      },
      "source": [
        "> d. Analyzing a social network to determine groups of friends among users.\n",
        "\n",
        "unsupervised"
      ]
    },
    {
      "cell_type": "markdown",
      "metadata": {
        "id": "CiXc_8LFqebt"
      },
      "source": [
        "### Problem 3\n",
        "\n",
        "Suppose you are building an image classifier for recognizing fictional robot characters. "
      ]
    },
    {
      "cell_type": "markdown",
      "metadata": {
        "id": "dPaFWsSQrMQu"
      },
      "source": [
        "> a. What are some possible features that would be useful for differentiating between each character? List about 4 or 5 features.\n",
        "\n",
        "height, number of limbs, mode of transport, and noises made. "
      ]
    },
    {
      "cell_type": "markdown",
      "metadata": {
        "id": "5HT3k0qQrN3X"
      },
      "source": [
        "> b. Using the features you came up with in part A, write a feature vector for each of the following characters. Your vector should be in the form of **(feature1, feature2, feature3,...)**.\n",
        "\n",
        "> R2-D2: \n",
        "\n",
        "> ![R2-D2](http://aux.iconspalace.com/uploads/17870339511457998579.png)\n",
        "\n",
        "R2D2 = <short, 2, wheels, beeping>\n",
        "\n",
        "> WALL-E:\n",
        "\n",
        "> ![WALL-E](http://icons.iconarchive.com/icons/pixelresort/wall-e/256/Wall-E-icon.png)\n",
        "\n",
        "<short, 2, tracks, sounds>\n",
        "\n",
        "> GLADOS:\n",
        "\n",
        "> ![GLADOS](https://pbs.twimg.com/profile_images/556138176512016384/0G5DGyeo.jpeg)\n",
        "\n",
        "<tall, none?, none?, talks>\n",
        "\n",
        "> Bender:\n",
        "\n",
        "> ![Bender](http://aux.iconspalace.com/uploads/1618835790807432011.png)\n",
        "\n",
        "<tall, 4, legs, talks>"
      ]
    },
    {
      "cell_type": "markdown",
      "metadata": {
        "id": "ZWR-U31FufPb"
      },
      "source": [
        "### Problem 4\n",
        "\n",
        "Suppose you have built a classifier on thousands of images on Instagram that will determine if a given photo has been photoshopped. You test your classifier on a small portion of your dataset and you observe the following results:\n",
        "\n",
        "| Actual | Predicted |\n",
        "|------------|-----------------|\n",
        "| Photoshopped | Not Photoshopped |\n",
        "| Not Photoshopped | Photoshopped |\n",
        "| Not Photoshopped | Not Photoshopped |\n",
        "| Photoshopped | Photoshopped |\n",
        "| Photoshopped | Not Photoshopped |\n",
        "| Not Photoshopped | Not Photoshopped |\n",
        "| Photoshopped | Not Photoshopped |\n",
        "| Not Photoshopped | Not Photoshopped |\n",
        "| Not Photoshopped | Not Photoshopped |\n",
        "| Photoshopped | Not Photoshopped |\n",
        "\n"
      ]
    },
    {
      "cell_type": "markdown",
      "metadata": {
        "id": "3ZnCz_aCx2hh"
      },
      "source": [
        "> a. Build a confusion matrix for the above set of predictions.\n",
        "\n",
        "FN\n",
        "FP\n",
        "TN\n",
        "TP\n",
        "FN\n",
        "TN\n",
        "FN\n",
        "TN\n",
        "TN\n",
        "FN\n",
        "\n",
        "\n",
        ">FN: 4/ 10\n",
        ">FP: 1/10\n",
        ">TN: 4/10\n",
        ">TP:1/10"
      ]
    },
    {
      "cell_type": "markdown",
      "metadata": {
        "id": "zOv8lYJsx8pR"
      },
      "source": [
        "> b. What is the accuracy of this classifier? What are the precision, recall, specificity, and F1 score?\n",
        "\n",
        "Accuracy: 5/10\n",
        "Precision: 1/2\n",
        "Recall: 1/5\n",
        "specificity:  4/5\n",
        "F1: 2/7\n"
      ]
    },
    {
      "cell_type": "markdown",
      "metadata": {
        "id": "ndYFsj8GyYDR"
      },
      "source": [
        "> c. Based on these results, would you say that this is a good classifier? If yes, explain why. If not, one reason why could be bias in the training dataset. What sort of bias might exist in this dataset?\n",
        "\n",
        "I would say that this isn't a great classifier, because there were many false negatives. There were many pictures that were predicted to not be photoshopped but were actually photoshopped. One bias that might exist in the data set is that there might not be enough photoshopped images in the dataset, leading to inaccuracy in the model."
      ]
    }
  ]
}