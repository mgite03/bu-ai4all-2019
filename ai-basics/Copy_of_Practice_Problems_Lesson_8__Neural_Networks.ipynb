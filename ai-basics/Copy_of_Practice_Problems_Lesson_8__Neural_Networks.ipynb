{
  "nbformat": 4,
  "nbformat_minor": 0,
  "metadata": {
    "colab": {
      "name": "Copy of Practice Problems - Lesson 8_ Neural Networks.ipynb",
      "provenance": [],
      "collapsed_sections": [],
      "include_colab_link": true
    },
    "kernelspec": {
      "name": "python3",
      "display_name": "Python 3"
    }
  },
  "cells": [
    {
      "cell_type": "markdown",
      "metadata": {
        "id": "view-in-github",
        "colab_type": "text"
      },
      "source": [
        "<a href=\"https://colab.research.google.com/github/mgite03/bu-ai4all-2019/blob/main/ai-basics/Copy_of_Practice_Problems_Lesson_8__Neural_Networks.ipynb\" target=\"_parent\"><img src=\"https://colab.research.google.com/assets/colab-badge.svg\" alt=\"Open In Colab\"/></a>"
      ]
    },
    {
      "cell_type": "markdown",
      "metadata": {
        "id": "LOeLiXAfUc7g"
      },
      "source": [
        "# Practice Problems\n",
        "## Lesson 8: Neural Networks\n",
        "---\n",
        "Created by Terron Ishihara"
      ]
    },
    {
      "cell_type": "markdown",
      "metadata": {
        "id": "mggjIxKJUgiZ"
      },
      "source": [
        "### Practice Problem\n",
        "\n",
        "Let's explore neural networks using scikit-learn's Multi-layer Perceptron (basically another name for a neural net). Naturally, we will use the MNIST hand-written digits dataset, which is essentially the \"hello world\" example for neural network classification.\n",
        "\n",
        "> Start by importing the dataset. This may take a little while since the dataset is a little larger than the ones we've used in past problems."
      ]
    },
    {
      "cell_type": "code",
      "metadata": {
        "id": "dXSQNTytZSi9"
      },
      "source": [
        "from sklearn.model_selection import train_test_split\n",
        "from sklearn.datasets import fetch_openml\n",
        "\n",
        "X, y = fetch_openml('mnist_784', version=1, return_X_y=True)\n",
        "X = X / X.max()\n",
        "\n",
        "# Partition the dataset into training and test sets\n",
        "X_train, X_test, y_train, y_test = train_test_split(X, y)"
      ],
      "execution_count": null,
      "outputs": []
    },
    {
      "cell_type": "markdown",
      "metadata": {
        "id": "tixhW2hudJSV"
      },
      "source": [
        "> Each data point is a 28x28 matrix of grayscale values. Let's visualize this by plotting these values, using the first digit as an example. Feel free to change the index into X to see what other digits are in the dataset."
      ]
    },
    {
      "cell_type": "code",
      "metadata": {
        "id": "6E1_0Ye0bMsb",
        "colab": {
          "base_uri": "https://localhost:8080/",
          "height": 292
        },
        "outputId": "2e92b835-bd96-4eea-83ac-4a45d16c2a48"
      },
      "source": [
        "import matplotlib.pyplot as plt\n",
        "\n",
        "plt.gray() \n",
        "\n",
        "# Since each data point is stored in a list of 784 values, we have\n",
        "# to reshape the list into a 28x28 array.\n",
        "digit = X[0].reshape(28,28)\n",
        "plt.matshow(digit)\n",
        "plt.show()"
      ],
      "execution_count": null,
      "outputs": [
        {
          "output_type": "display_data",
          "data": {
            "text/plain": [
              "<Figure size 432x288 with 0 Axes>"
            ]
          },
          "metadata": {
            "tags": []
          }
        },
        {
          "output_type": "display_data",
          "data": {
            "image/png": "[encoded data removed]",
            "text/plain": [
              "<Figure size 288x288 with 1 Axes>"
            ]
          },
          "metadata": {
            "tags": []
          }
        }
      ]
    },
    {
      "cell_type": "markdown",
      "metadata": {
        "id": "R5Lazd03d5ee"
      },
      "source": [
        "> Now we can initialize the classifier, train it, and observe how well the classifier works on our test set. \n",
        "\n",
        "> The `hidden_layer_sizes` parameter accepts a tuple that specifies the number of hidden layers and the number of neurons per layer. The `solver` parameter specifies that we'll use Stochastic Gradient Descent.\n",
        "\n",
        "> * `hidden_layer_sizes`: The number of hidden layers and number of neurons per layer. For example, the tuple (64, 32, 16) represents 3 hidden layers, with 64, 32, and 16 neurons, respectively.\n",
        "> * `solver`: The solver for weight optimization. We learned about Stochastic Gradient Descent, so we use that here.\n",
        "> * `activation`: The activation function for the hidden layers. Possible values are `'identity'`, `'logistic'`, `'tanh'`, and `'relu'`.\n",
        "> * `max_iter`: The maximum number of iterations (updates) to perform. Ideally, the weights will converge, meaning the updates hardly change the weights. Keeping this value low will prevent the code from taking a long time (but may sacrifice accuracy).\n",
        "\n",
        "> The setup provided below is not very accurate at predicting on the test set. Go ahead and run the code to see the resulting score. \n",
        "\n",
        "> Try changing the parameters for the classifier and see how it affects the score. (`solver` needn't be changed since stochastic gradient descent is the only solver we learned about.) For example, which activation function that we mentioned in the lesson may be very effective?"
      ]
    },
    {
      "cell_type": "code",
      "metadata": {
        "id": "muzgZTffeAEO",
        "colab": {
          "base_uri": "https://localhost:8080/",
          "height": 68
        },
        "outputId": "6ddb2f21-d5d9-4604-9dc4-ee8d4eeaf39d"
      },
      "source": [
        "from sklearn.neural_network import MLPClassifier\n",
        "\n",
        "# Initialize the classifier\n",
        "mlp_clf = MLPClassifier(\n",
        "    hidden_layer_sizes=(6,), \n",
        "    solver='sgd', \n",
        "    activation='relu',\n",
        "    max_iter=5\n",
        ")\n",
        "\n",
        "# Train the classifier\n",
        "mlp_clf.fit(X_train, y_train)\n",
        "\n",
        "# Get the mean accuracy on the test data and print it\n",
        "score = mlp_clf.score(X_test, y_test)\n",
        "print(score)"
      ],
      "execution_count": null,
      "outputs": [
        {
          "output_type": "stream",
          "text": [
            "0.7532571428571428\n"
          ],
          "name": "stdout"
        },
        {
          "output_type": "stream",
          "text": [
            "/usr/local/lib/python3.6/dist-packages/sklearn/neural_network/multilayer_perceptron.py:566: ConvergenceWarning: Stochastic Optimizer: Maximum iterations (5) reached and the optimization hasn't converged yet.\n",
            "  % self.max_iter, ConvergenceWarning)\n"
          ],
          "name": "stderr"
        }
      ]
    }
  ]
}