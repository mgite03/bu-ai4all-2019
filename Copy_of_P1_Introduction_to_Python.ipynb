{
  "nbformat": 4,
  "nbformat_minor": 0,
  "metadata": {
    "colab": {
      "name": "Copy of P1: Introduction to Python",
      "provenance": [],
      "collapsed_sections": [],
      "include_colab_link": true
    },
    "kernelspec": {
      "name": "python3",
      "display_name": "Python 3"
    }
  },
  "cells": [
    {
      "cell_type": "markdown",
      "metadata": {
        "id": "view-in-github",
        "colab_type": "text"
      },
      "source": [
        "<a href=\"https://colab.research.google.com/github/mgite03/bu-ai4all-2019/blob/main/Copy_of_P1_Introduction_to_Python.ipynb\" target=\"_parent\"><img src=\"https://colab.research.google.com/assets/colab-badge.svg\" alt=\"Open In Colab\"/></a>"
      ]
    },
    {
      "cell_type": "markdown",
      "metadata": {
        "id": "bd59jn7NFC9Y"
      },
      "source": [
        "# Introduction to Python (Pt. 1)\n",
        "\n",
        "Welcome to the exciting world of Python!\n",
        "\n",
        "For some of you, this could be your very first time programming, and these lessons are designed to help you go from your very first steps with reading code all the way to writing code for the hands-on projects this summer. You got this!\n",
        "\n",
        "![alt text](https://media.giphy.com/media/fnQ3DS2bSrOdxNIXOC/giphy.gif)\n",
        "\n",
        "Before we jump into the lesson itself, let's talk about programming in general. **Programming** is a way to tell your computer how to perform tasks by giving it specific instructions. \n",
        "\n",
        "Everything a computer does is by using a computer program, and you may already be familiar with many of these! For example, Instagram, Pokemon Go, Google Maps, Siri, Photoshop, and more are all examples of computer programs.\n",
        "\n",
        "![Imgur](https://i.imgur.com/JLDNaFK.jpg)\n",
        "\n",
        "Just as humans communicate with different languages, there are also different languages to communicate to computers with. These are called **programming languages**, and there are hundreds of them, each with their own styles and uses.\n",
        "\n",
        "For AI, one of the most popular programming language to use is Python. There are many reasons that people like to use Python, such as:\n",
        "\n",
        "*   It's fast and easy to write code\n",
        "*   Many great open-source **libraries**\n",
        "*   Active and growing community\n",
        "\n",
        "A programming library is a collection of code that someone else has written, that you can then use (so you don't have to reinvent the wheel). Many libraries are private and owned by specific companies, but other libraries are open-source, meaning that they can be freely and publicly used and contributed to. Python has a very large community of people who build and maintain open-source libraries.\n",
        "\n",
        "We'll learn more about libraries in Python throughout the summer, and you may frequently see the use of one particular library called **Scikit-Learn**. This library and **TensorFlow** are two of the most popular for programming artificial intelligence.\n",
        "\n",
        "As an additional note, programming languages have different version numbers which may affect how they're read and written. (Think of this like the difference between Ancient Greek and Modern Greek, and how a language changes over time.) For this and the following lessons, we will be specifically using **Python 3**.\n",
        "\n"
      ]
    },
    {
      "cell_type": "markdown",
      "metadata": {
        "id": "Dx2VX_zGT211"
      },
      "source": [
        "## Your First Line of Python\n",
        "\n",
        "Now let's jump into some programming! \n",
        "\n",
        "Click on the programming block below, and a play button will appear on the left. Click on the play button to run the line of Python code. If you had to guess, what do you think this line of code will do?"
      ]
    },
    {
      "cell_type": "code",
      "metadata": {
        "id": "SIzLXK_4EoS8",
        "colab": {
          "base_uri": "https://localhost:8080/",
          "height": 34
        },
        "outputId": "09e738ca-f26f-46b1-d861-9a38f94a4ca7"
      },
      "source": [
        "print(\"I'm here! I'm coding!\")"
      ],
      "execution_count": null,
      "outputs": [
        {
          "output_type": "stream",
          "text": [
            "I'm here! I'm coding!\n"
          ],
          "name": "stdout"
        }
      ]
    },
    {
      "cell_type": "markdown",
      "metadata": {
        "id": "X-XaIznyFQ6s"
      },
      "source": [
        "Congratulations! You've just run your very first line of code at the AI4ALL program.\n",
        "\n",
        "![alt text](https://media.giphy.com/media/ely3apij36BJhoZ234/giphy.gif)\n",
        "\n",
        "Before we dig deeper into Python, let's get to know about the coding environment that we're using.\n"
      ]
    },
    {
      "cell_type": "markdown",
      "metadata": {
        "id": "aizuciOFSRZ0"
      },
      "source": [
        "## Intro to Jupyter Notebooks and Google Colabs\n",
        "\n",
        "Typically, to run Python code, you have to run it on your computer, using either the command line or a specific type of program called an IDE (integrated development environment). \n",
        "\n",
        "Instead, right now we're using a tool called **Jupyter Notebooks**, which in the past few years has been extremely popular in the data science and artificial intelligence communities to write and run code. In addition, Google has created a software called **Colaboratory** (Colabs for short), which allows us to run our Notebooks in Google Drive, just like with Google Docs or Google Sheets.\n",
        "\n",
        "**Let's try out Google Colabs by adding a _code block_ under this text. Click this text, and then on the top left of the web page, click the \"+ Code\" button.**"
      ]
    },
    {
      "cell_type": "code",
      "metadata": {
        "id": "zE9-VXMvrRR_"
      },
      "source": [
        "print(\"Meghna :)\")"
      ],
      "execution_count": null,
      "outputs": []
    },
    {
      "cell_type": "markdown",
      "metadata": {
        "id": "-Mnes9VGrpmd"
      },
      "source": [
        "\n",
        "\n",
        "---\n",
        "\n",
        "You can write new Python code in any of the code blocks within this Notebook. When you want to run the code that you've written, make sure you have the code block selected, and hit the Play button on the left side of the block.\n",
        "\n",
        "If you want to delete a code block, select it, and then click on the three dots on the right side of the block to show the \"Delete Cell\" option.\n",
        "\n",
        "Python code persists between code blocks within this Notebook. That means that if you write some code in one code block, it can affect future code blocks. When we talk about variables next, this means that if you declare a variable in one code block, you can still call it in a different code block afterwards.\n",
        "\n",
        "As you work more in Google Colabs over this program, you may use other functions, such as adding text blocks, rearranging cells, and maybe even learning some **Markdown**, which is a language used to help style text blocks.\n",
        "\n"
      ]
    },
    {
      "cell_type": "markdown",
      "metadata": {
        "id": "A145dPi1FUiI"
      },
      "source": [
        "## Your Very First Variable (at AI4ALL)\n",
        "\n",
        "In programming, we use a concept called a **variable** that's similar to what you have learned in math. Let's give it a try:"
      ]
    },
    {
      "cell_type": "code",
      "metadata": {
        "id": "Z8FlcLOPFxJe"
      },
      "source": [
        "x = 100"
      ],
      "execution_count": null,
      "outputs": []
    },
    {
      "cell_type": "markdown",
      "metadata": {
        "id": "5zKC-Rb2TsRm"
      },
      "source": [
        "When you run the cell above, you've **initialized** (created) a variable named `x` that you have **assigned** the value of 100. \n",
        "\n",
        "The next time you refer to `x` in your code, it will remember that it has been assigned 100. \n",
        "\n",
        "Variables are extremely useful in programming, and we'll see lots and lots of them moving forward!"
      ]
    },
    {
      "cell_type": "markdown",
      "metadata": {
        "id": "wbpvEQOBQpP4"
      },
      "source": [
        "Assignment statements in Python differ from mathematical equations in one key way: although mathematical equations can be reversed (e.g. x = 2 is the same as 2 = x), assignment statements cannot. "
      ]
    },
    {
      "cell_type": "code",
      "metadata": {
        "id": "C1LLcZLATydz",
        "colab": {
          "base_uri": "https://localhost:8080/",
          "height": 131
        },
        "outputId": "b15fb41f-8820-4aef-ff26-224968b91dc7"
      },
      "source": [
        "100 = x\n"
      ],
      "execution_count": null,
      "outputs": [
        {
          "output_type": "error",
          "ename": "SyntaxError",
          "evalue": "ignored",
          "traceback": [
            "\u001b[0;36m  File \u001b[0;32m\"<ipython-input-7-5f4751fc885d>\"\u001b[0;36m, line \u001b[0;32m1\u001b[0m\n\u001b[0;31m    100 = x\u001b[0m\n\u001b[0m           ^\u001b[0m\n\u001b[0;31mSyntaxError\u001b[0m\u001b[0;31m:\u001b[0m can't assign to literal\n"
          ]
        }
      ]
    },
    {
      "cell_type": "markdown",
      "metadata": {
        "id": "jI31CEW0T5Ma"
      },
      "source": [
        "Assignment is **directional from right-to-left**. The value on the right of the equals sign is assigned to the variable name to the left of the equals sign."
      ]
    },
    {
      "cell_type": "markdown",
      "metadata": {
        "id": "EhVneCRuF-qw"
      },
      "source": [
        "## Printing\n",
        "\n",
        "When we run a Python program, the user will only see what we decide to print to the screen. \n",
        "\n",
        "Notice that when we set `x = 100` earlier, nothing was printed back out. How can we make sure that the value we assign to a variable is correct? We can print it!"
      ]
    },
    {
      "cell_type": "code",
      "metadata": {
        "id": "SGboEhmDGLkQ",
        "colab": {
          "base_uri": "https://localhost:8080/",
          "height": 34
        },
        "outputId": "ac8b32f0-237f-4f86-d4e2-d284a6cf4b8c"
      },
      "source": [
        "y = 200\n",
        "print(y)"
      ],
      "execution_count": null,
      "outputs": [
        {
          "output_type": "stream",
          "text": [
            "200\n"
          ],
          "name": "stdout"
        }
      ]
    },
    {
      "cell_type": "markdown",
      "metadata": {
        "id": "agl-HIjaUch0"
      },
      "source": [
        "Try it out yourself! Add a line to the following code block to print the value of `z`."
      ]
    },
    {
      "cell_type": "code",
      "metadata": {
        "id": "CZzE--8kUgMI",
        "colab": {
          "base_uri": "https://localhost:8080/",
          "height": 34
        },
        "outputId": "578c5a41-86a1-43bf-e9ed-d138bf1af111"
      },
      "source": [
        "z = 1300\n",
        "# Add your line of code here & don't forget to hit Run when you're done!\n",
        "print(z)\n",
        "\n",
        "# By the way, when you add a hashtag to the front of your line, this tells\n",
        "# the coding environment to treat that line as a comment, so that you can\n",
        "# type out helpful notes for yourself. Great programmers leave comments on\n",
        "# their code to communicate information with other programmers!"
      ],
      "execution_count": null,
      "outputs": [
        {
          "output_type": "stream",
          "text": [
            "1300\n"
          ],
          "name": "stdout"
        }
      ]
    },
    {
      "cell_type": "markdown",
      "metadata": {
        "id": "fLAAGvkuWLjW"
      },
      "source": [
        "If we have multiple print commands in a row, they will print each on a separate line by default."
      ]
    },
    {
      "cell_type": "code",
      "metadata": {
        "id": "dIX2pxeOWSU4",
        "colab": {
          "base_uri": "https://localhost:8080/",
          "height": 51
        },
        "outputId": "f02a9d8a-8381-46be-a6a8-d0a17aea62c3"
      },
      "source": [
        "print(\"Hello there!\")\n",
        "print(\"This message will show up to the user.\")"
      ],
      "execution_count": null,
      "outputs": [
        {
          "output_type": "stream",
          "text": [
            "Hello there!\n",
            "This message will show up to the user.\n"
          ],
          "name": "stdout"
        }
      ]
    },
    {
      "cell_type": "markdown",
      "metadata": {
        "id": "BVY7e1QGWa4x"
      },
      "source": [
        "One thing that you will find useful is to be able to print out a message but also include the value of a variable in that message. For example:"
      ]
    },
    {
      "cell_type": "code",
      "metadata": {
        "id": "6TqMtz5fWsL-",
        "colab": {
          "base_uri": "https://localhost:8080/",
          "height": 35
        },
        "outputId": "cad4c9af-fb17-420a-8791-60159a633fcf"
      },
      "source": [
        "no_flowers = 5\n",
        "print(\"I have\", no_flowers, \"flowers.\")"
      ],
      "execution_count": null,
      "outputs": [
        {
          "output_type": "stream",
          "text": [
            "I have 5 flowers.\n"
          ],
          "name": "stdout"
        }
      ]
    },
    {
      "cell_type": "markdown",
      "metadata": {
        "id": "rYzhW61_W7-p"
      },
      "source": [
        "Notice that spaces were added between \"have\", \"5\", and \"flowers\" when we used the commas.\n",
        "\n",
        "In Python, there are many, many ways to format your print statements, and different programmers have different preferences for how they like to work with printing. You may see some of these other methods later but you will suffice in your own code to just be familiar with the method above."
      ]
    },
    {
      "cell_type": "code",
      "metadata": {
        "id": "OmJzbbHYz30m",
        "colab": {
          "base_uri": "https://localhost:8080/",
          "height": 34
        },
        "outputId": "e11d06d0-afcc-4df1-d937-2527c2cd7ae7"
      },
      "source": [
        "no_books = 100\n",
        "# Write a print statement below to say \"I own 100 books\", using the variable no_books\n",
        "print(\"I own \", no_books, \" books\" )"
      ],
      "execution_count": null,
      "outputs": [
        {
          "output_type": "stream",
          "text": [
            "I own  100  books\n"
          ],
          "name": "stdout"
        }
      ]
    },
    {
      "cell_type": "markdown",
      "metadata": {
        "id": "aW9avmXMGIk1"
      },
      "source": [
        "## Data Types\n",
        "\n",
        "So far, we've only been assigning integers to our variables, like we see in math. In Python, we can actually assign many more types of data to our variables!\n",
        "\n",
        "For example:"
      ]
    },
    {
      "cell_type": "code",
      "metadata": {
        "id": "JXHccv5bF0R3",
        "colab": {
          "base_uri": "https://localhost:8080/",
          "height": 51
        },
        "outputId": "b168feb4-a430-4b86-f87a-d7e557c2b5b8"
      },
      "source": [
        "some_string = \"This is type of data is called a string!\"\n",
        "some_string_2 = 'This is also a string; notice we can use both quote marks and apostrophes'\n",
        "\n",
        "# We can also assign numbers with decimal points to our variables. This is called a float.\n",
        "some_number = 13.45\n",
        "\n",
        "# Another type of variable is called a boolean, which only holds the value of True or False\n",
        "# We'll talk more about these as we get to conditionals, in a later section\n",
        "some_bool = True\n",
        "\n",
        "print(\"Practice adding some print statements below to print the other variables!\")\n",
        "print(some_string_2)"
      ],
      "execution_count": null,
      "outputs": [
        {
          "output_type": "stream",
          "text": [
            "Practice adding some print statements below to print the other variables!\n",
            "This is also a string; notice we can use both quote marks and apostrophes\n"
          ],
          "name": "stdout"
        }
      ]
    },
    {
      "cell_type": "markdown",
      "metadata": {
        "id": "Qlk179SBGShj"
      },
      "source": [
        "## Variable Naming Rules\n",
        "\n",
        "Variables are case-sensitive. That means a variable named `thing` and one named `Thing` are different! Let's see why this matters by running the following code:"
      ]
    },
    {
      "cell_type": "code",
      "metadata": {
        "id": "Ii_G-7RhVYqN",
        "colab": {
          "base_uri": "https://localhost:8080/",
          "height": 183
        },
        "outputId": "f89535b0-3792-4f3b-a88b-045e61231c7c"
      },
      "source": [
        "thing = 1\n",
        "print(Thing)"
      ],
      "execution_count": null,
      "outputs": [
        {
          "output_type": "error",
          "ename": "NameError",
          "evalue": "ignored",
          "traceback": [
            "\u001b[0;31m---------------------------------------------------------------------------\u001b[0m",
            "\u001b[0;31mNameError\u001b[0m                                 Traceback (most recent call last)",
            "\u001b[0;32m<ipython-input-1-b46ab614426e>\u001b[0m in \u001b[0;36m<module>\u001b[0;34m()\u001b[0m\n\u001b[1;32m      1\u001b[0m \u001b[0mthing\u001b[0m \u001b[0;34m=\u001b[0m \u001b[0;36m1\u001b[0m\u001b[0;34m\u001b[0m\u001b[0;34m\u001b[0m\u001b[0m\n\u001b[0;32m----> 2\u001b[0;31m \u001b[0mprint\u001b[0m\u001b[0;34m(\u001b[0m\u001b[0mThing\u001b[0m\u001b[0;34m)\u001b[0m\u001b[0;34m\u001b[0m\u001b[0;34m\u001b[0m\u001b[0m\n\u001b[0m",
            "\u001b[0;31mNameError\u001b[0m: name 'Thing' is not defined"
          ]
        }
      ]
    },
    {
      "cell_type": "markdown",
      "metadata": {
        "id": "5MrWMUhlVekt"
      },
      "source": [
        "Oh no! What happens when you run that code block? You'll see a `NameError` pop up, saying that `'Thing' is not defined`. This happens because we initialized a variable named `thing` but not one named `Thing` with the uppercase T.\n",
        "\n",
        "As you have seen in earlier examples, variables also can have letters, numbers, and underscores included in them, but with certain restrictions.\n",
        "\n",
        "Run the following code blocks to see if they work or if they raise errors:"
      ]
    },
    {
      "cell_type": "code",
      "metadata": {
        "id": "FrJUU4k4WFgi"
      },
      "source": [
        "thing_2 = 5"
      ],
      "execution_count": null,
      "outputs": []
    },
    {
      "cell_type": "code",
      "metadata": {
        "id": "bj-VX0k8WRmd",
        "colab": {
          "base_uri": "https://localhost:8080/",
          "height": 130
        },
        "outputId": "5be2b847-534b-46fc-8ff1-4cacce30b001"
      },
      "source": [
        "thing-2 = 5"
      ],
      "execution_count": null,
      "outputs": [
        {
          "output_type": "error",
          "ename": "SyntaxError",
          "evalue": "ignored",
          "traceback": [
            "\u001b[0;36m  File \u001b[0;32m\"<ipython-input-16-cfe80068f3a2>\"\u001b[0;36m, line \u001b[0;32m1\u001b[0m\n\u001b[0;31m    thing-2 = 5\u001b[0m\n\u001b[0m               ^\u001b[0m\n\u001b[0;31mSyntaxError\u001b[0m\u001b[0;31m:\u001b[0m can't assign to operator\n"
          ]
        }
      ]
    },
    {
      "cell_type": "code",
      "metadata": {
        "id": "9pGaJumiWTX9",
        "colab": {
          "base_uri": "https://localhost:8080/",
          "height": 130
        },
        "outputId": "2296acad-8505-488d-c2e9-ec949c4f2f54"
      },
      "source": [
        "2_thing = 5"
      ],
      "execution_count": null,
      "outputs": [
        {
          "output_type": "error",
          "ename": "SyntaxError",
          "evalue": "ignored",
          "traceback": [
            "\u001b[0;36m  File \u001b[0;32m\"<ipython-input-20-5c288ad0de83>\"\u001b[0;36m, line \u001b[0;32m1\u001b[0m\n\u001b[0;31m    2_thing = 5\u001b[0m\n\u001b[0m     ^\u001b[0m\n\u001b[0;31mSyntaxError\u001b[0m\u001b[0;31m:\u001b[0m invalid token\n"
          ]
        }
      ]
    },
    {
      "cell_type": "code",
      "metadata": {
        "id": "2T4xn5M6WWZg",
        "colab": {
          "base_uri": "https://localhost:8080/",
          "height": 130
        },
        "outputId": "3daa6411-f538-4b74-d25b-08bf32e8563a"
      },
      "source": [
        "some variable = 5"
      ],
      "execution_count": null,
      "outputs": [
        {
          "output_type": "error",
          "ename": "SyntaxError",
          "evalue": "ignored",
          "traceback": [
            "\u001b[0;36m  File \u001b[0;32m\"<ipython-input-19-bbc8e825cf71>\"\u001b[0;36m, line \u001b[0;32m1\u001b[0m\n\u001b[0;31m    some variable = 5\u001b[0m\n\u001b[0m                ^\u001b[0m\n\u001b[0;31mSyntaxError\u001b[0m\u001b[0;31m:\u001b[0m invalid syntax\n"
          ]
        }
      ]
    },
    {
      "cell_type": "markdown",
      "metadata": {
        "id": "4z3D17hHWiDk"
      },
      "source": [
        "After running the above code blocks, you should see that you:\n",
        "\n",
        "\n",
        "*   Can only start a variable name with a letter or underscore (no numbers)\n",
        "*   Can't include a space in a variable name\n",
        "*   Can't use any special characters (like `-` or `+`) or punctuation (like `.` or `,`)\n",
        "\n",
        "Finally, you cannot use \"reserved keywords\" as variable names. \"Reserved keywords\" are special words in the Python language that do specific things in your code. For example, one reserved keyword is `for`. Notice how it's colored purple in the code block below:"
      ]
    },
    {
      "cell_type": "code",
      "metadata": {
        "id": "y9i_XQ2UXS10",
        "colab": {
          "base_uri": "https://localhost:8080/",
          "height": 131
        },
        "outputId": "4c23ec9f-3201-4663-ca65-fe21782211dc"
      },
      "source": [
        "for = 10"
      ],
      "execution_count": null,
      "outputs": [
        {
          "output_type": "error",
          "ename": "SyntaxError",
          "evalue": "ignored",
          "traceback": [
            "\u001b[0;36m  File \u001b[0;32m\"<ipython-input-3-597287a2d762>\"\u001b[0;36m, line \u001b[0;32m1\u001b[0m\n\u001b[0;31m    for = 10\u001b[0m\n\u001b[0m        ^\u001b[0m\n\u001b[0;31mSyntaxError\u001b[0m\u001b[0;31m:\u001b[0m invalid syntax\n"
          ]
        }
      ]
    },
    {
      "cell_type": "markdown",
      "metadata": {
        "id": "lSJQWGgUXYXV"
      },
      "source": [
        "If you run the above code block, it will raise an error as expected."
      ]
    },
    {
      "cell_type": "code",
      "metadata": {
        "id": "274hJJg-0Xzc"
      },
      "source": [
        "# Initialize your own variable below (give it any valid name) and assign it the value \"Hello!\"\n",
        "greeting = \"Hello!\""
      ],
      "execution_count": null,
      "outputs": []
    },
    {
      "cell_type": "markdown",
      "metadata": {
        "id": "cl4H_EeSGTw9"
      },
      "source": [
        "## Math in Python\n",
        "\n",
        "Python also makes it _very_ easy to do math without calculating it ourselves. In artificial intelligence work, we often deal with very complex equations and numbers, sometimes even dealing with billions of numbers at once, and it can be nearly impossible to compute by hand! This is where programming really helps us out, so that we're not left feeling like:\n",
        "\n",
        "![alt text](https://media.giphy.com/media/8lPSqcjcNjymIOS4Pm/giphy.gif)\n",
        "\n",
        "For example, if someone asks us to multiply 35 and 67, we could type it right into Python:"
      ]
    },
    {
      "cell_type": "code",
      "metadata": {
        "id": "5b6juVn90xbc",
        "colab": {
          "base_uri": "https://localhost:8080/",
          "height": 34
        },
        "outputId": "46b2ce2a-1b84-4f71-fd4a-247a2075f357"
      },
      "source": [
        "print(35*67)"
      ],
      "execution_count": null,
      "outputs": [
        {
          "output_type": "stream",
          "text": [
            "2345\n"
          ],
          "name": "stdout"
        }
      ]
    },
    {
      "cell_type": "markdown",
      "metadata": {
        "id": "m1XLpRkT1ACS"
      },
      "source": [
        "When we run the code above, we can print out the result of multiplying 35 and 67. But what if we need to keep this answer for future calculations? We can save it as a variable and re-use it!"
      ]
    },
    {
      "cell_type": "code",
      "metadata": {
        "id": "WXQ-xXAJF6QT",
        "colab": {
          "base_uri": "https://localhost:8080/",
          "height": 35
        },
        "outputId": "48782c35-c787-4453-eb4f-d16a014f5793"
      },
      "source": [
        "a = 35 * 60\n",
        "b = 4\n",
        "c = a * b\n",
        "print(c)"
      ],
      "execution_count": null,
      "outputs": [
        {
          "output_type": "stream",
          "text": [
            "8400\n"
          ],
          "name": "stdout"
        }
      ]
    },
    {
      "cell_type": "markdown",
      "metadata": {
        "id": "qImtIYnqGh74"
      },
      "source": [
        "### Math Operators\n",
        "\n",
        "So what mathematical operations can we do in Python, and how do we do them? Some examples below:"
      ]
    },
    {
      "cell_type": "code",
      "metadata": {
        "id": "pSMipR2J1b8H",
        "colab": {
          "base_uri": "https://localhost:8080/",
          "height": 34
        },
        "outputId": "184d28ba-70ca-43a0-9ef3-2b90e1239e47"
      },
      "source": [
        "addition = 3 + 5\n",
        "subtraction = 10 - 2\n",
        "multiplication = 4 * 9\n",
        "division = 121 / 11\n",
        "exponentiation = 3 ** 2\n",
        "\n",
        "# Notice that if we run this cell block, there is no output (so we can't check our results)\n",
        "# Add print statements so you can check the calculations are as expected!\n",
        "print(addition, subtraction, division)"
      ],
      "execution_count": null,
      "outputs": [
        {
          "output_type": "stream",
          "text": [
            "8 8 11.0\n"
          ],
          "name": "stdout"
        }
      ]
    },
    {
      "cell_type": "markdown",
      "metadata": {
        "id": "ieXkjVSP18iY"
      },
      "source": [
        "Additionally, one math operation you might not have seen before is called **modulo** and is quite useful when programming. What modulo does is it returns the remainder after you divide.\n",
        "\n",
        "For example:"
      ]
    },
    {
      "cell_type": "code",
      "metadata": {
        "id": "3ndlIJZY2HzW",
        "colab": {
          "base_uri": "https://localhost:8080/",
          "height": 34
        },
        "outputId": "516c9402-799b-460c-fabb-63c759ee6668"
      },
      "source": [
        "modulo = 35 % 2\n",
        "print(modulo)\n",
        "\n",
        "# When you divide 35 by 2, you get 17 with a remainder of 1\n",
        "# The modulo (%) operator will return that 1"
      ],
      "execution_count": null,
      "outputs": [
        {
          "output_type": "stream",
          "text": [
            "1\n"
          ],
          "name": "stdout"
        }
      ]
    },
    {
      "cell_type": "code",
      "metadata": {
        "id": "tCGj0nGC2YF4",
        "colab": {
          "base_uri": "https://localhost:8080/",
          "height": 51
        },
        "outputId": "71216a5f-ebbf-4526-99fd-c1b37b15afa9"
      },
      "source": [
        "# What will the following return?\n",
        "mod = 44 % 10\n",
        "print(4)\n",
        "print(mod)"
      ],
      "execution_count": null,
      "outputs": [
        {
          "output_type": "stream",
          "text": [
            "4\n",
            "4\n"
          ],
          "name": "stdout"
        }
      ]
    },
    {
      "cell_type": "markdown",
      "metadata": {
        "id": "CeJcYlEQ2zB6"
      },
      "source": [
        "### Order of Operations and Parentheses\n",
        "\n",
        "Order of operations are respected in Python, and you can use parentheses as expected."
      ]
    },
    {
      "cell_type": "code",
      "metadata": {
        "id": "JYzFKAQy266e",
        "colab": {
          "base_uri": "https://localhost:8080/",
          "height": 34
        },
        "outputId": "edfb8727-6051-4111-bbfc-b7c0d00357c8"
      },
      "source": [
        "some_number = (47 + 3) * 2 / 10\n",
        "print(some_number)"
      ],
      "execution_count": null,
      "outputs": [
        {
          "output_type": "stream",
          "text": [
            "10.0\n"
          ],
          "name": "stdout"
        }
      ]
    },
    {
      "cell_type": "markdown",
      "metadata": {
        "id": "WIB9q_WU3FU8"
      },
      "source": [
        "You cannot, however, do implicit multiplication with parentheses. If you run the code below, it will return an error:"
      ]
    },
    {
      "cell_type": "code",
      "metadata": {
        "id": "1LbbzbKF3Klf",
        "colab": {
          "base_uri": "https://localhost:8080/",
          "height": 164
        },
        "outputId": "2523bd37-c6c0-4e84-c105-639f2069c6cc"
      },
      "source": [
        "some_number_2 = 2 (5 + 5)"
      ],
      "execution_count": null,
      "outputs": [
        {
          "output_type": "error",
          "ename": "TypeError",
          "evalue": "ignored",
          "traceback": [
            "\u001b[0;31m---------------------------------------------------------------------------\u001b[0m",
            "\u001b[0;31mTypeError\u001b[0m                                 Traceback (most recent call last)",
            "\u001b[0;32m<ipython-input-27-fcd17ba6befa>\u001b[0m in \u001b[0;36m<module>\u001b[0;34m()\u001b[0m\n\u001b[0;32m----> 1\u001b[0;31m \u001b[0msome_number_2\u001b[0m \u001b[0;34m=\u001b[0m \u001b[0;36m2\u001b[0m \u001b[0;34m(\u001b[0m\u001b[0;36m5\u001b[0m \u001b[0;34m+\u001b[0m \u001b[0;36m5\u001b[0m\u001b[0;34m)\u001b[0m\u001b[0;34m\u001b[0m\u001b[0;34m\u001b[0m\u001b[0m\n\u001b[0m",
            "\u001b[0;31mTypeError\u001b[0m: 'int' object is not callable"
          ]
        }
      ]
    },
    {
      "cell_type": "markdown",
      "metadata": {
        "id": "yjv3mJ9Z3dWS"
      },
      "source": [
        "### An Arithmetic Shortcut\n",
        "\n",
        "So far, we've only been initializing new variables. Variables in Python, unlike in math, can be updated to hold new values. For example:"
      ]
    },
    {
      "cell_type": "code",
      "metadata": {
        "id": "34BCUaoC3r6N"
      },
      "source": [
        "a = 10\n",
        "print(a)\n",
        "a = 20\n",
        "print(a)"
      ],
      "execution_count": null,
      "outputs": []
    },
    {
      "cell_type": "markdown",
      "metadata": {
        "id": "2v7QdEfq3wSE"
      },
      "source": [
        "On the third line in the code block above, `a` is reassigned the value of 20.\n",
        "\n",
        "What if we wanted to add 10 to the value of `a`? "
      ]
    },
    {
      "cell_type": "code",
      "metadata": {
        "id": "2WdfHaxhUi5a",
        "colab": {
          "base_uri": "https://localhost:8080/",
          "height": 34
        },
        "outputId": "daba1580-c836-4436-ab25-d895fee696db"
      },
      "source": [
        "a = 20\n",
        "a = a + 10\n",
        "print(a)\n",
        "# What do you expect this to print?"
      ],
      "execution_count": null,
      "outputs": [
        {
          "output_type": "stream",
          "text": [
            "30\n"
          ],
          "name": "stdout"
        }
      ]
    },
    {
      "cell_type": "markdown",
      "metadata": {
        "id": "MH9JBuw3Vj4L"
      },
      "source": [
        "Notice that the second line would not be valid as a mathematical expression. We interpret this statement as: take the value of `a` (20) plus 10, then assign the result (30) to the variable named `a`. \n",
        "\n",
        "The operation performed in the second line can also be done using the below shortcut."
      ]
    },
    {
      "cell_type": "code",
      "metadata": {
        "id": "WZCsT3Xd37N2",
        "colab": {
          "base_uri": "https://localhost:8080/",
          "height": 34
        },
        "outputId": "3fa4c3a6-b596-44cc-ffae-bf6aa8ef2585"
      },
      "source": [
        "a = 20\n",
        "a += 10\n",
        "print(a)\n"
      ],
      "execution_count": null,
      "outputs": [
        {
          "output_type": "stream",
          "text": [
            "30\n"
          ],
          "name": "stdout"
        }
      ]
    },
    {
      "cell_type": "markdown",
      "metadata": {
        "id": "z6wdIPsK4B4z"
      },
      "source": [
        "A longer example, with other operations. What do you think the final value should be? Try to calculate it yourself before adding a print command to test your answer:"
      ]
    },
    {
      "cell_type": "code",
      "metadata": {
        "id": "6cTxAUwG4KBd",
        "colab": {
          "base_uri": "https://localhost:8080/",
          "height": 51
        },
        "outputId": "06d38b4e-01c4-42d9-dc20-181def179651"
      },
      "source": [
        "unknown = 5\n",
        "unknown += 5\n",
        "unknown -= 2\n",
        "unknown *= 8\n",
        "unknown /= 4\n",
        "unknown %= 3\n",
        "print(4)\n",
        "print(unknown)"
      ],
      "execution_count": null,
      "outputs": [
        {
          "output_type": "stream",
          "text": [
            "4\n",
            "1.0\n"
          ],
          "name": "stdout"
        }
      ]
    },
    {
      "cell_type": "markdown",
      "metadata": {
        "id": "TFEzqNKE5a7s"
      },
      "source": [
        "## User Input\n",
        "\n",
        "Up until now, we've worked on printing, creating variables, and doing some math. All of that is useful, but what makes many programs interesting and valuable are that they can take in user input and change how they run.\n",
        "\n",
        "Run the following cells to learn how we get user input"
      ]
    },
    {
      "cell_type": "code",
      "metadata": {
        "id": "H6dLOIUc5x0S",
        "colab": {
          "base_uri": "https://localhost:8080/",
          "height": 52
        },
        "outputId": "bf9bb853-48e5-4ccd-e304-bb4b0505ca4c"
      },
      "source": [
        "input(\"Type something and hit enter! \")"
      ],
      "execution_count": null,
      "outputs": [
        {
          "output_type": "stream",
          "text": [
            "Type something and hit enter! hello\n"
          ],
          "name": "stdout"
        },
        {
          "output_type": "execute_result",
          "data": {
            "text/plain": [
              "'hello'"
            ]
          },
          "metadata": {
            "tags": []
          },
          "execution_count": 3
        }
      ]
    },
    {
      "cell_type": "markdown",
      "metadata": {
        "id": "YbQWIK6t56L3"
      },
      "source": [
        "We've gotten user input, but how do we remember it and use it in the future?\n",
        "\n",
        "As always, let's store it as a variable."
      ]
    },
    {
      "cell_type": "code",
      "metadata": {
        "id": "XJXEMyDn6EFb",
        "colab": {
          "base_uri": "https://localhost:8080/",
          "height": 52
        },
        "outputId": "e7d31a3e-c094-4fb9-eaa5-00d83d2064c0"
      },
      "source": [
        "answer = input(\"Tell me something: \")\n",
        "print(\"You said:\", answer)"
      ],
      "execution_count": null,
      "outputs": [
        {
          "output_type": "stream",
          "text": [
            "Tell me something: beep\n",
            "You said: beep\n"
          ],
          "name": "stdout"
        }
      ]
    },
    {
      "cell_type": "markdown",
      "metadata": {
        "id": "zhpJRcuS6Q4F"
      },
      "source": [
        "In fact, a very early version of AI (that wasn't _really_ AI) called ELIZA mainly just took user input and returned it in a way that tried to mimic how a psychologist might communicate with you:"
      ]
    },
    {
      "cell_type": "code",
      "metadata": {
        "id": "t7VRUaHi6h0y",
        "colab": {
          "base_uri": "https://localhost:8080/",
          "height": 52
        },
        "outputId": "9f50169a-aba2-40ce-b15e-1e246d1ecb31"
      },
      "source": [
        "topic = input(\"What topic is on your mind? \")\n",
        "print(\"And how does\", topic, \"make you feel?\")"
      ],
      "execution_count": null,
      "outputs": [
        {
          "output_type": "stream",
          "text": [
            "What topic is on your mind? bread\n",
            "And how does bread make you feel?\n"
          ],
          "name": "stdout"
        }
      ]
    },
    {
      "cell_type": "markdown",
      "metadata": {
        "id": "sSht1HzSQJdn"
      },
      "source": [
        "# Lists\n",
        "\n",
        "There are many ways in Python where we can store many different things in one single variable. Just like in the real world, we often want to be able to make lists in Python. Imagine these like to-do lists, shopping lists, or lists to keep track of a set of similar things.\n",
        "\n",
        "![alt text](https://media.giphy.com/media/MJ4Qi9dSACpLG/giphy.gif)"
      ]
    },
    {
      "cell_type": "code",
      "metadata": {
        "id": "WUeq84uACcXv"
      },
      "source": [
        "# The following is a list in Python:\n",
        "things_to_do = [\"water plants\", \"take out trash\", \"mow lawn\", \"prepare dinner\"]"
      ],
      "execution_count": null,
      "outputs": []
    },
    {
      "cell_type": "markdown",
      "metadata": {
        "id": "YKWBRIoeC2EA"
      },
      "source": [
        "We use the square brackets `[]` to show that we're using a list in Python. Lists can be a mixture of different data types, like:"
      ]
    },
    {
      "cell_type": "code",
      "metadata": {
        "id": "zT5HBPDtDAi6",
        "colab": {
          "base_uri": "https://localhost:8080/",
          "height": 35
        },
        "outputId": "49ec4f67-d134-40d4-822e-7d2881a03a0f"
      },
      "source": [
        "some_random_list = [5, \"something\", True, 4.5, \"okay\"]\n",
        "\n",
        "# To test if something is in a list, we use the operator 'in'\n",
        "\n",
        "print(5 in some_random_list) #This will evaluate to a boolean \n"
      ],
      "execution_count": null,
      "outputs": [
        {
          "output_type": "stream",
          "text": [
            "True\n"
          ],
          "name": "stdout"
        }
      ]
    },
    {
      "cell_type": "code",
      "metadata": {
        "id": "oyjb9WpgDb9z",
        "colab": {
          "base_uri": "https://localhost:8080/",
          "height": 34
        },
        "outputId": "33d91fb6-3432-4ef9-ccd7-787643a2ab82"
      },
      "source": [
        "# Fill in the list below so that the expression will evaluate to True!\n",
        "your_list = [42 ]\n",
        "x = 42\n",
        "\n",
        "print(x in your_list)"
      ],
      "execution_count": null,
      "outputs": [
        {
          "output_type": "stream",
          "text": [
            "True\n"
          ],
          "name": "stdout"
        }
      ]
    },
    {
      "cell_type": "markdown",
      "metadata": {
        "id": "4agTX3VRJ203"
      },
      "source": [
        "### Indexing into a list\n",
        "\n",
        "What if we wanted to get a specific **element** of a list? We can do the following:"
      ]
    },
    {
      "cell_type": "code",
      "metadata": {
        "id": "wZwBL9fTKN-g",
        "colab": {
          "base_uri": "https://localhost:8080/",
          "height": 51
        },
        "outputId": "29c92bc1-1568-484e-b5fe-2396173e1641"
      },
      "source": [
        "some_list = ['a', 'b', 'c']\n",
        "print(some_list[1])\n",
        "\n",
        "# What do you expect this to print?\n",
        "print (\"b\")"
      ],
      "execution_count": null,
      "outputs": [
        {
          "output_type": "stream",
          "text": [
            "b\n",
            "b\n"
          ],
          "name": "stdout"
        }
      ]
    },
    {
      "cell_type": "markdown",
      "metadata": {
        "id": "rYah0sMUKSww"
      },
      "source": [
        "In Python, we actually start counting from 0, not 1. So the \"first\" element of the list would be `some_list[0]`. The number that we use is called the **index** of the element. (So element `a` would have the index of 0.)"
      ]
    },
    {
      "cell_type": "code",
      "metadata": {
        "id": "zM6ZxKl5Kdwe",
        "colab": {
          "base_uri": "https://localhost:8080/",
          "height": 34
        },
        "outputId": "60f91e27-0d44-40dd-e4af-ede19408a956"
      },
      "source": [
        "# Print the 'e' from the list using indexing\n",
        "random_list = [3, 5, 'blob', 'e']\n",
        "print(random_list[3])"
      ],
      "execution_count": null,
      "outputs": [
        {
          "output_type": "stream",
          "text": [
            "e\n"
          ],
          "name": "stdout"
        }
      ]
    },
    {
      "cell_type": "markdown",
      "metadata": {
        "id": "JqWmoZdFKX9C"
      },
      "source": [
        "###Slicing\n",
        "\n",
        "![alt text](https://media.giphy.com/media/OHNg1tHZcUcKc/giphy.gif)\n",
        "\n",
        "Not that type of slicing."
      ]
    },
    {
      "cell_type": "markdown",
      "metadata": {
        "id": "GPwO8f4CsLs_"
      },
      "source": [
        "Recall how we access individual elements of lists:"
      ]
    },
    {
      "cell_type": "code",
      "metadata": {
        "id": "fbTgOU-7Rq_Z"
      },
      "source": [
        "lis = [\"The Poet X\", \"Electric Arches\", \"America Is Not The Heart\", \"Reliquaria\"]\n",
        "\n",
        "# If we wanted to print the element \"Electric Arches\":\n",
        "print(lis[1])"
      ],
      "execution_count": null,
      "outputs": []
    },
    {
      "cell_type": "markdown",
      "metadata": {
        "id": "XSOfzV7AR_oY"
      },
      "source": [
        "A common thing we'll want to do when working with data is to get multiple elements from a list."
      ]
    },
    {
      "cell_type": "code",
      "metadata": {
        "id": "hCo6JqtYSdgV",
        "colab": {
          "base_uri": "https://localhost:8080/",
          "height": 34
        },
        "outputId": "f647003e-4262-4082-eed0-dfeee571c4d1"
      },
      "source": [
        "lis = [\"The Poet X\", \"Electric Arches\", \"America Is Not The Heart\", \"Reliquaria\"]\n",
        "\n",
        "sub_lis = lis[0:2]\n",
        "\n",
        "# What do you think this will print?\n",
        "print(sub_lis)"
      ],
      "execution_count": null,
      "outputs": [
        {
          "output_type": "stream",
          "text": [
            "['The Poet X', 'Electric Arches']\n"
          ],
          "name": "stdout"
        }
      ]
    },
    {
      "cell_type": "markdown",
      "metadata": {
        "id": "w3XWX6UASptR"
      },
      "source": [
        "When we say `lis[0:2]`, we are telling Python to return us a new list that is a _slice_ of the original list. Specifically, we want this new list to start at the element whose index is 0 and go up to (but don't include) the element whose index is 2.\n",
        "\n",
        "In the above example, that means the new list will include \"The Poet X\" (index 0) and \"Electric Arches\" (index 1)."
      ]
    },
    {
      "cell_type": "code",
      "metadata": {
        "id": "3OZ6yoXATBtJ",
        "colab": {
          "base_uri": "https://localhost:8080/",
          "height": 34
        },
        "outputId": "a692bea5-e19d-41bf-86aa-cc1a90884912"
      },
      "source": [
        "lis = [\"The Poet X\", \"Electric Arches\", \"America Is Not The Heart\", \"Reliquaria\"]\n",
        "\n",
        "# Finish the following line so that your slice has \"America Is Not the Heart\" and \"Reliquaria\"\n",
        "sub_lis = lis[2:]\n",
        "\n",
        "print(sub_lis)"
      ],
      "execution_count": null,
      "outputs": [
        {
          "output_type": "stream",
          "text": [
            "['America Is Not The Heart', 'Reliquaria']\n"
          ],
          "name": "stdout"
        }
      ]
    },
    {
      "cell_type": "markdown",
      "metadata": {
        "id": "5pZfovAZToxK"
      },
      "source": [
        "The Python creators also provided a shortcut for doing our slices:"
      ]
    },
    {
      "cell_type": "code",
      "metadata": {
        "id": "UsoWzGF7Tzqn",
        "colab": {
          "base_uri": "https://localhost:8080/",
          "height": 34
        },
        "outputId": "329e8ff3-d8b4-44f8-d7cd-bbdcb8b2c36e"
      },
      "source": [
        "lis = [\"The Poet X\", \"Electric Arches\", \"America Is Not The Heart\", \"Reliquaria\"]\n",
        "\n",
        "sub_lis = lis[:2]\n",
        "print(sub_lis)"
      ],
      "execution_count": null,
      "outputs": [
        {
          "output_type": "stream",
          "text": [
            "['The Poet X', 'Electric Arches']\n"
          ],
          "name": "stdout"
        }
      ]
    },
    {
      "cell_type": "markdown",
      "metadata": {
        "id": "3WwEBqUpUF7D"
      },
      "source": [
        "When you leave out the number before the `:`, Python assumes you mean the first element (index 0).\n",
        "\n",
        "You can do the same for leaving out the number after the `:`. What do you think this does?"
      ]
    },
    {
      "cell_type": "code",
      "metadata": {
        "id": "MBWj0cQBUPF9",
        "colab": {
          "base_uri": "https://localhost:8080/",
          "height": 34
        },
        "outputId": "cfb724f3-a4fa-44fa-b674-98e8f5cd8ef1"
      },
      "source": [
        "lis = [\"The Poet X\", \"Electric Arches\", \"America Is Not The Heart\", \"Reliquaria\"]\n",
        "\n",
        "sub_lis = lis[2:]\n",
        "print(sub_lis)"
      ],
      "execution_count": null,
      "outputs": [
        {
          "output_type": "stream",
          "text": [
            "['America Is Not The Heart', 'Reliquaria']\n"
          ],
          "name": "stdout"
        }
      ]
    },
    {
      "cell_type": "markdown",
      "metadata": {
        "id": "Y6TVH0lST-V_"
      },
      "source": [
        "You can also perform skip slicing by using a third number separated by a colon in your slice. The third number indicates how large your \"skip\" is. \n",
        "\n",
        "The following slice should be read as: start from index 1, *get every second item*, and stop at index 5."
      ]
    },
    {
      "cell_type": "code",
      "metadata": {
        "id": "tYXTWIEhyjyN",
        "colab": {
          "base_uri": "https://localhost:8080/",
          "height": 34
        },
        "outputId": "29fda93e-da21-4d88-e0c1-f0129a16ec4e"
      },
      "source": [
        "test_list = [1,9,33,2,8,1,2]\n",
        "\n",
        "test_slice = test_list[1:5:2]\n",
        "print(test_slice)"
      ],
      "execution_count": null,
      "outputs": [
        {
          "output_type": "stream",
          "text": [
            "[9, 2]\n"
          ],
          "name": "stdout"
        }
      ]
    },
    {
      "cell_type": "markdown",
      "metadata": {
        "id": "DXnfj92Ry01-"
      },
      "source": [
        "If you specify a negative skip, it will go backwards. In this case, you have to make sure that your start index occurs after your end index."
      ]
    },
    {
      "cell_type": "code",
      "metadata": {
        "id": "Jljhgo1PzOIM",
        "colab": {
          "base_uri": "https://localhost:8080/",
          "height": 35
        },
        "outputId": "fff4d1ae-2749-42f7-e7c0-4ccb994bf831"
      },
      "source": [
        "test_list = [1,3,5,7,10]\n",
        "test_slice2 = test_list[4:1:-1] #should be read as: start at index 4, go in steps of negative 1 (backwards) until index 1\n",
        "print(test_slice2)"
      ],
      "execution_count": null,
      "outputs": [
        {
          "output_type": "stream",
          "text": [
            "[10, 7, 5]\n"
          ],
          "name": "stdout"
        }
      ]
    },
    {
      "cell_type": "markdown",
      "metadata": {
        "id": "3CxqqGmDSSow"
      },
      "source": [
        "You can also combine different lists through concatenation using `+`."
      ]
    },
    {
      "cell_type": "code",
      "metadata": {
        "id": "IQcBW7f1SW-3",
        "colab": {
          "base_uri": "https://localhost:8080/",
          "height": 51
        },
        "outputId": "8228b2c6-3449-4487-c40d-50313040f9b6"
      },
      "source": [
        "list1 = [1,2]\n",
        "list2 = [3,4]\n",
        "\n",
        "print(list1 + list2)\n",
        "print(list2 + list1)\n",
        "#Notice how they combine in the order specified"
      ],
      "execution_count": null,
      "outputs": [
        {
          "output_type": "stream",
          "text": [
            "[1, 2, 3, 4]\n",
            "[3, 4, 1, 2]\n"
          ],
          "name": "stdout"
        }
      ]
    },
    {
      "cell_type": "markdown",
      "metadata": {
        "id": "OyVQVhROSqGu"
      },
      "source": [
        "You can only concatenate lists with other lists. Observe below."
      ]
    },
    {
      "cell_type": "code",
      "metadata": {
        "id": "7fu2v656SkxN",
        "colab": {
          "base_uri": "https://localhost:8080/",
          "height": 34
        },
        "outputId": "d0396c81-b72a-47db-d1e0-705bd9f5f0dc"
      },
      "source": [
        "list1 = [1,2]\n",
        "list2 = [3,4]\n",
        "list1b = list1 + [list2[0]]\n",
        "\n",
        "print(list1b)"
      ],
      "execution_count": null,
      "outputs": [
        {
          "output_type": "stream",
          "text": [
            "[1, 2, 3]\n"
          ],
          "name": "stdout"
        }
      ]
    },
    {
      "cell_type": "markdown",
      "metadata": {
        "id": "A7mBz6MPSz8d"
      },
      "source": [
        "The error message says we're trying to concatenate a list and an int. When we index a list, as you might observe, it gives us the element in the list. If our list is full of integers, indexing that list will only give us an integer. However, slicing always gives us a list. There are 2 workarounds for this."
      ]
    },
    {
      "cell_type": "code",
      "metadata": {
        "id": "6IhbEmjrTAmK",
        "colab": {
          "base_uri": "https://localhost:8080/",
          "height": 104
        },
        "outputId": "43013089-2ef2-4375-ea7e-5881dd48efa4"
      },
      "source": [
        "list1 = [1,2]\n",
        "list2 = [3,4]\n",
        "\n",
        "print(\"This is an int:\", list2[0]) #Observe how this is printed without square brackets\n",
        "print(\"This is a list:\", list2[:1]) #Whereas this has square brackets, so it is a list\n",
        "\n",
        "print() #New line\n",
        "\n",
        "solution_1 = list1 + list2[:1] #Slicing always gives us a list\n",
        "print(solution_1)\n",
        "\n",
        "solution_2 = list1 + [list2[0]] #Make the integer into a list by putting square brackets around it\n",
        "print(solution_2)"
      ],
      "execution_count": null,
      "outputs": [
        {
          "output_type": "stream",
          "text": [
            "This is an int: 3\n",
            "This is a list: [3]\n",
            "\n",
            "[1, 2, 3]\n",
            "[1, 2, 3]\n"
          ],
          "name": "stdout"
        }
      ]
    },
    {
      "cell_type": "markdown",
      "metadata": {
        "id": "Zj0GGma1UWpl"
      },
      "source": [
        "You can think of strings as lists of characters, so many of the list operations also work on strings. "
      ]
    },
    {
      "cell_type": "code",
      "metadata": {
        "id": "Btnnr0_zUhVQ",
        "colab": {
          "base_uri": "https://localhost:8080/",
          "height": 34
        },
        "outputId": "1ae9d38a-7f73-4eeb-a5ff-fe09e884b290"
      },
      "source": [
        "string = \"This is a string!\"\n",
        "\n",
        "# Can you guess what this will print?\n",
        "sub_string = string[10:]\n",
        "print(sub_string)"
      ],
      "execution_count": null,
      "outputs": [
        {
          "output_type": "stream",
          "text": [
            "string!\n"
          ],
          "name": "stdout"
        }
      ]
    },
    {
      "cell_type": "markdown",
      "metadata": {
        "id": "OhmokoYmUvAJ"
      },
      "source": [
        "As you may have guessed, each character in a string can be indexed just like how we've been indexing into lists. This is very useful if you're working with string manipulation and natural language data.\n",
        "\n",
        "Example:"
      ]
    },
    {
      "cell_type": "code",
      "metadata": {
        "id": "x2eC6_RmU_XI",
        "colab": {
          "base_uri": "https://localhost:8080/",
          "height": 34
        },
        "outputId": "01a9b66b-0bbd-43a0-fff1-bc39ccc8050c"
      },
      "source": [
        "string = \"This is a string!\"\n",
        "\n",
        "# If I wanted the first character of this string, 'T', I would do:\n",
        "first_char = string[0]\n",
        "print(\"The first character of the string is\", first_char)"
      ],
      "execution_count": null,
      "outputs": [
        {
          "output_type": "stream",
          "text": [
            "The first character of the string is T\n"
          ],
          "name": "stdout"
        }
      ]
    },
    {
      "cell_type": "markdown",
      "metadata": {
        "id": "QH0VhK3nTUae"
      },
      "source": [
        "We'll see slicing quite commonly in machine learning, because we often want to use smaller or specific portions of our data."
      ]
    },
    {
      "cell_type": "markdown",
      "metadata": {
        "id": "_8SK0P5xBuNP"
      },
      "source": [
        "## Sets, tuples, and dictionaries, oh my!\n",
        "\n",
        "While integers, strings, and booleans are data types, a list is typically referred to as a **data structure**, which is a _collection_ of data that is governed by a specific set of rules for accessing, organizing, adding, and removing data.\n",
        "\n",
        "We'll make use of a few different data structures when manipulating data for machine learning -- each has its particular use cases."
      ]
    },
    {
      "cell_type": "markdown",
      "metadata": {
        "id": "4dMUJWUSkOPk"
      },
      "source": [
        "### Adding to and removing from a list\n",
        "\n",
        "To get started, let's look at how we can add and remove data from a list.\n",
        "\n",
        "There are actually lots of ways to do this, like:"
      ]
    },
    {
      "cell_type": "code",
      "metadata": {
        "id": "5HjztRIMkoIE",
        "colab": {
          "base_uri": "https://localhost:8080/",
          "height": 34
        },
        "outputId": "385d22ce-a7d7-4563-8ea9-2a7cd95e5656"
      },
      "source": [
        "# This is an empty list\n",
        "lis = []\n",
        "\n",
        "lis.append(\"My Hero Academia\")\n",
        "lis.append(\"Your Name\")\n",
        "print(lis)"
      ],
      "execution_count": null,
      "outputs": [
        {
          "output_type": "stream",
          "text": [
            "['My Hero Academia', 'Your Name']\n"
          ],
          "name": "stdout"
        }
      ]
    },
    {
      "cell_type": "markdown",
      "metadata": {
        "id": "JUSC7VyGk3RT"
      },
      "source": [
        "`append()` adds an element to the end of the list. What if we wanted to insert at a specific index?"
      ]
    },
    {
      "cell_type": "code",
      "metadata": {
        "id": "zMunEOU3k_dn",
        "colab": {
          "base_uri": "https://localhost:8080/",
          "height": 34
        },
        "outputId": "da0b9111-145e-44d4-f094-dcbbb2538467"
      },
      "source": [
        "lis = [\"My Hero Academia\", \"Your Name\"]\n",
        "lis.insert(1, \"Totoro\")\n",
        "print(lis)"
      ],
      "execution_count": null,
      "outputs": [
        {
          "output_type": "stream",
          "text": [
            "['My Hero Academia', 'Totoro', 'Your Name']\n"
          ],
          "name": "stdout"
        }
      ]
    },
    {
      "cell_type": "markdown",
      "metadata": {
        "id": "gv7v23rrlSCx"
      },
      "source": [
        "We can remove elements using other functions that are built-in."
      ]
    },
    {
      "cell_type": "code",
      "metadata": {
        "id": "WS6CI-9GlV5U",
        "colab": {
          "base_uri": "https://localhost:8080/",
          "height": 68
        },
        "outputId": "063d6e37-f51a-4017-cb11-10c530d2b4d1"
      },
      "source": [
        "lis = [\"My Hero Academia\", \"Totoro\", \"Your Name\", \"Avatar: The Last Airbender\"]\n",
        "\n",
        "# Looks for the element \"Totoro\" and removes it\n",
        "lis.remove(\"Totoro\")\n",
        "print(lis)\n",
        "\n",
        "# Remove an element with this specific index\n",
        "lis.pop(1)\n",
        "print(lis)\n",
        "\n",
        "# Removes the last element when no parameter is given\n",
        "lis.pop()\n",
        "print(lis)"
      ],
      "execution_count": null,
      "outputs": [
        {
          "output_type": "stream",
          "text": [
            "['My Hero Academia', 'Your Name', 'Avatar: The Last Airbender']\n",
            "['My Hero Academia', 'Avatar: The Last Airbender']\n",
            "['My Hero Academia']\n"
          ],
          "name": "stdout"
        }
      ]
    },
    {
      "cell_type": "markdown",
      "metadata": {
        "id": "X6vGRRhLl1aF"
      },
      "source": [
        "You can also modify the elements in a list, using indexing:"
      ]
    },
    {
      "cell_type": "code",
      "metadata": {
        "id": "qpj4x347mEQf",
        "colab": {
          "base_uri": "https://localhost:8080/",
          "height": 34
        },
        "outputId": "44fad012-e291-4076-d9bb-149ada7467d6"
      },
      "source": [
        "lis = [\"My Hero Academia\", \"Totoro\", \"Your Name\"]\n",
        "lis[1] = \"Spirited Away\"\n",
        "print(lis)"
      ],
      "execution_count": null,
      "outputs": [
        {
          "output_type": "stream",
          "text": [
            "['My Hero Academia', 'Spirited Away', 'Your Name']\n"
          ],
          "name": "stdout"
        }
      ]
    },
    {
      "cell_type": "markdown",
      "metadata": {
        "id": "KcmHHfnxmNSr"
      },
      "source": [
        "### Tuples\n",
        "\n",
        "What if you wanted a collection of data like a list where you didn't want the elements in it to be modified? you can use a tuple!\n",
        "\n",
        "In Python, we use `()` to show that we're using a tuple:"
      ]
    },
    {
      "cell_type": "code",
      "metadata": {
        "id": "-3NR673wmpXp",
        "colab": {
          "base_uri": "https://localhost:8080/",
          "height": 51
        },
        "outputId": "7873bc92-a879-4a40-ec05-388f99f4649a"
      },
      "source": [
        "tup = (\"My Hero Academia\", \"Totoro\")\n",
        "print(tup)\n",
        "print(tup[0])"
      ],
      "execution_count": null,
      "outputs": [
        {
          "output_type": "stream",
          "text": [
            "('My Hero Academia', 'Totoro')\n",
            "My Hero Academia\n"
          ],
          "name": "stdout"
        }
      ]
    },
    {
      "cell_type": "markdown",
      "metadata": {
        "id": "XAmgzoLfmt8g"
      },
      "source": [
        "The following examples will both give you an error:"
      ]
    },
    {
      "cell_type": "code",
      "metadata": {
        "id": "ty9oxv1wmvXQ",
        "colab": {
          "base_uri": "https://localhost:8080/",
          "height": 198
        },
        "outputId": "ac42120b-93ae-4aca-fc94-02c49844a6b5"
      },
      "source": [
        "tup = (\"My Hero Academia\", \"Totoro\")\n",
        "tup[1] = \"Spirited Away\"\n",
        "print(tup)"
      ],
      "execution_count": null,
      "outputs": [
        {
          "output_type": "error",
          "ename": "TypeError",
          "evalue": "ignored",
          "traceback": [
            "\u001b[0;31m---------------------------------------------------------------------------\u001b[0m",
            "\u001b[0;31mTypeError\u001b[0m                                 Traceback (most recent call last)",
            "\u001b[0;32m<ipython-input-35-f1afea7b7071>\u001b[0m in \u001b[0;36m<module>\u001b[0;34m()\u001b[0m\n\u001b[1;32m      1\u001b[0m \u001b[0mtup\u001b[0m \u001b[0;34m=\u001b[0m \u001b[0;34m(\u001b[0m\u001b[0;34m\"My Hero Academia\"\u001b[0m\u001b[0;34m,\u001b[0m \u001b[0;34m\"Totoro\"\u001b[0m\u001b[0;34m)\u001b[0m\u001b[0;34m\u001b[0m\u001b[0;34m\u001b[0m\u001b[0m\n\u001b[0;32m----> 2\u001b[0;31m \u001b[0mtup\u001b[0m\u001b[0;34m[\u001b[0m\u001b[0;36m1\u001b[0m\u001b[0;34m]\u001b[0m \u001b[0;34m=\u001b[0m \u001b[0;34m\"Spirited Away\"\u001b[0m\u001b[0;34m\u001b[0m\u001b[0;34m\u001b[0m\u001b[0m\n\u001b[0m\u001b[1;32m      3\u001b[0m \u001b[0mprint\u001b[0m\u001b[0;34m(\u001b[0m\u001b[0mtup\u001b[0m\u001b[0;34m)\u001b[0m\u001b[0;34m\u001b[0m\u001b[0;34m\u001b[0m\u001b[0m\n",
            "\u001b[0;31mTypeError\u001b[0m: 'tuple' object does not support item assignment"
          ]
        }
      ]
    },
    {
      "cell_type": "code",
      "metadata": {
        "id": "qxbxb4R1qAIi",
        "colab": {
          "base_uri": "https://localhost:8080/",
          "height": 198
        },
        "outputId": "57cf3435-6524-491c-933b-b45cdf0aba24"
      },
      "source": [
        "tup = (\"My Hero Academia\", \"Totoro\")\n",
        "tup.append(\"Your Name\")\n",
        "print(tup)"
      ],
      "execution_count": null,
      "outputs": [
        {
          "output_type": "error",
          "ename": "AttributeError",
          "evalue": "ignored",
          "traceback": [
            "\u001b[0;31m---------------------------------------------------------------------------\u001b[0m",
            "\u001b[0;31mAttributeError\u001b[0m                            Traceback (most recent call last)",
            "\u001b[0;32m<ipython-input-39-b43b9ce87a9e>\u001b[0m in \u001b[0;36m<module>\u001b[0;34m()\u001b[0m\n\u001b[1;32m      1\u001b[0m \u001b[0mtup\u001b[0m \u001b[0;34m=\u001b[0m \u001b[0;34m(\u001b[0m\u001b[0;34m\"My Hero Academia\"\u001b[0m\u001b[0;34m,\u001b[0m \u001b[0;34m\"Totoro\"\u001b[0m\u001b[0;34m)\u001b[0m\u001b[0;34m\u001b[0m\u001b[0;34m\u001b[0m\u001b[0m\n\u001b[0;32m----> 2\u001b[0;31m \u001b[0mtup\u001b[0m\u001b[0;34m.\u001b[0m\u001b[0mappend\u001b[0m\u001b[0;34m(\u001b[0m\u001b[0;34m\"Your Name\"\u001b[0m\u001b[0;34m)\u001b[0m\u001b[0;34m\u001b[0m\u001b[0;34m\u001b[0m\u001b[0m\n\u001b[0m\u001b[1;32m      3\u001b[0m \u001b[0mprint\u001b[0m\u001b[0;34m(\u001b[0m\u001b[0mtup\u001b[0m\u001b[0;34m)\u001b[0m\u001b[0;34m\u001b[0m\u001b[0;34m\u001b[0m\u001b[0m\n",
            "\u001b[0;31mAttributeError\u001b[0m: 'tuple' object has no attribute 'append'"
          ]
        }
      ]
    },
    {
      "cell_type": "markdown",
      "metadata": {
        "id": "pqsHBWXbm3LH"
      },
      "source": [
        "Tuples are typically faster for the computer to work with than lists, and they offer a form of protection on our data by not allowing us to modify the elements in a tuple."
      ]
    },
    {
      "cell_type": "markdown",
      "metadata": {
        "id": "1uZnrLQenKnT"
      },
      "source": [
        "### Sets\n",
        "\n",
        "Another collection that we'll use to work with our data is a set, which is essentially the same as a set in math. The main difference between a set and a list is that a set is _unordered_ and _unindexed_. That is, while the order in a list matters (and we can refer to something as the 0th element in a list), the same is not true for sets.\n",
        "\n",
        "We denote sets in Python by using the curly braces: `{}`."
      ]
    },
    {
      "cell_type": "code",
      "metadata": {
        "id": "T4dpqp4en-dc",
        "colab": {
          "base_uri": "https://localhost:8080/",
          "height": 34
        },
        "outputId": "541e075d-887e-4fed-8932-0c3e101afccb"
      },
      "source": [
        "some_list = [\"Item 0\", \"Item 1\"]\n",
        "some_set = {\"Some Item\", \"Another Item\"}\n",
        "\n",
        "print(some_list[1])\n",
        "\n",
        "# The following line will cause an error:\n",
        "#print(some_set[1])"
      ],
      "execution_count": null,
      "outputs": [
        {
          "output_type": "stream",
          "text": [
            "Item 1\n"
          ],
          "name": "stdout"
        }
      ]
    },
    {
      "cell_type": "markdown",
      "metadata": {
        "id": "2KQ8juCboQSS"
      },
      "source": [
        "Sets also only have unique elements, while lists do not."
      ]
    },
    {
      "cell_type": "code",
      "metadata": {
        "id": "eLZG-wigoU1_",
        "colab": {
          "base_uri": "https://localhost:8080/",
          "height": 51
        },
        "outputId": "93910bb4-82fc-4d95-9244-bc4172906145"
      },
      "source": [
        "some_list = [\"Item\", \"Item\"]\n",
        "some_set = {\"Item\", \"Item\"}\n",
        "print(some_list)\n",
        "print(some_set)"
      ],
      "execution_count": null,
      "outputs": [
        {
          "output_type": "stream",
          "text": [
            "['Item', 'Item']\n",
            "{'Item'}\n"
          ],
          "name": "stdout"
        }
      ]
    },
    {
      "cell_type": "markdown",
      "metadata": {
        "id": "raDH4NS-okHP"
      },
      "source": [
        "Suppose you wanted to keep track of the names of each student in a classroom. Would you use a set or a list?\n",
        "\n",
        "The answer: It depends on what you're using it for! If you just cared about the unique number of names in your classroom, then a set might be more useful, because it won't keep track of duplicate names. If you wanted something to keep track of all the students in your class, then you should use a list (since people with the same name aren't the same people)!\n",
        "\n"
      ]
    },
    {
      "cell_type": "markdown",
      "metadata": {
        "id": "3lHFJuvkpuaS"
      },
      "source": [
        "You cannot modify the individual elements in a set, but you can add and remove elements from the set. "
      ]
    },
    {
      "cell_type": "code",
      "metadata": {
        "id": "xzX3qkEBqQGc",
        "colab": {
          "base_uri": "https://localhost:8080/",
          "height": 68
        },
        "outputId": "f0b5d36b-60c8-4377-a236-399f9b86e6ac"
      },
      "source": [
        "some_set = {\"Item\"}\n",
        "print(some_set)\n",
        "some_set.add(\"Other Item\")\n",
        "print(some_set)\n",
        "some_set.remove(\"Item\")\n",
        "print(some_set)"
      ],
      "execution_count": null,
      "outputs": [
        {
          "output_type": "stream",
          "text": [
            "{'Item'}\n",
            "{'Other Item', 'Item'}\n",
            "{'Other Item'}\n"
          ],
          "name": "stdout"
        }
      ]
    },
    {
      "cell_type": "markdown",
      "metadata": {
        "id": "zmzkx3txqmoG"
      },
      "source": [
        "Let's say you asked 10 people what their favorite ice cream flavors are, but just want to know the unique number of favorite flavors they liked. You can use a set to help with this task:"
      ]
    },
    {
      "cell_type": "code",
      "metadata": {
        "id": "l23oMmssq6no",
        "colab": {
          "base_uri": "https://localhost:8080/",
          "height": 51
        },
        "outputId": "0ead4e70-c73e-4c84-99ca-2bd428b12425"
      },
      "source": [
        "fav_flavors = {\"strawberry\", \"vanilla\", \"chocolate\", \"green tea\", \"green tea\", \"vanilla\", \"green tea\", \"vanilla\", \"strawberry\", \"pistachio\"}\n",
        "\n",
        "# Remember that once you add those items into the set, the duplicates go away\n",
        "print(fav_flavors)\n",
        "\n",
        "# Print the length of the set\n",
        "print(len(fav_flavors))"
      ],
      "execution_count": null,
      "outputs": [
        {
          "output_type": "stream",
          "text": [
            "{'green tea', 'pistachio', 'strawberry', 'vanilla', 'chocolate'}\n",
            "5\n"
          ],
          "name": "stdout"
        }
      ]
    },
    {
      "cell_type": "code",
      "metadata": {
        "id": "kldw2phkrUeC",
        "colab": {
          "base_uri": "https://localhost:8080/",
          "height": 51
        },
        "outputId": "71d0f4d7-440c-488a-b320-28ed4ea5d539"
      },
      "source": [
        "# What if we tried this with a list?\n",
        "\n",
        "fav_flavors = [\"strawberry\", \"vanilla\", \"chocolate\", \"green tea\", \"green tea\", \"vanilla\", \"green tea\", \"vanilla\", \"strawberry\", \"pistachio\"]\n",
        "print(fav_flavors)\n",
        "\n",
        "# Print the length of the list\n",
        "print(len(fav_flavors))"
      ],
      "execution_count": null,
      "outputs": [
        {
          "output_type": "stream",
          "text": [
            "['strawberry', 'vanilla', 'chocolate', 'green tea', 'green tea', 'vanilla', 'green tea', 'vanilla', 'strawberry', 'pistachio']\n",
            "10\n"
          ],
          "name": "stdout"
        }
      ]
    },
    {
      "cell_type": "markdown",
      "metadata": {
        "id": "-kIaIb7Tra_Z"
      },
      "source": [
        "There are unique benefits to using either collection, and we'll use both as part of our toolbox when exploring and working with data.\n",
        "\n",
        "**Exercise:** Write a program that asks five people what their favorite animal is, and then prints the number of unique favorite animals.\n",
        "\n",
        "For now, to do something 5 times you can copy + paste code 5 times. This is repetitive, so tomorrow we'll learn a better way to do this, but for now it's fine. "
      ]
    },
    {
      "cell_type": "code",
      "metadata": {
        "id": "uniCelP2vPn1",
        "colab": {
          "base_uri": "https://localhost:8080/",
          "height": 119
        },
        "outputId": "b8140d1b-a805-4a25-9d6f-d6a2a3eaab27"
      },
      "source": [
        "# Your code here\n",
        "all_fav_animals = {}\n",
        "all_fav_animals = set(all_fav_animals)# you could also do all_fav_animals = set()\n",
        "all_fav_animals.add(input(\"What's your favorite animal?\"))\n",
        "all_fav_animals.add(input(\"What's your favorite animal, person 2?\"))\n",
        "all_fav_animals.add(input(\"What's your favorite animal, person 3?\"))\n",
        "all_fav_animals.add(input(\"What's your favorite animal, person 4?\"))\n",
        "all_fav_animals.add(input(\"What's your favorite animal, person 5?\"))\n",
        "                    \n",
        "print(len(all_fav_animals))"
      ],
      "execution_count": null,
      "outputs": [
        {
          "output_type": "stream",
          "text": [
            "What's your favorite animal?monkey\n",
            "What's your favorite animal, person 2?monkey\n",
            "What's your favorite animal, person 3?dog\n",
            "What's your favorite animal, person 4?dog\n",
            "What's your favorite animal, person 5?cat\n",
            "3\n"
          ],
          "name": "stdout"
        }
      ]
    },
    {
      "cell_type": "markdown",
      "metadata": {
        "id": "Pg4h-1Kerm5a"
      },
      "source": [
        "### Dictionaries\n",
        "\n",
        "The last collection we'll cover today is a dictionary, which is used just as you'd expect: like a dictionary.\n",
        "\n",
        "![alt text](https://media.giphy.com/media/umMYB9u0rpJyE/giphy.gif)\n",
        "\n",
        "Ok, so that's not the most helpful of explanations. Let's take a look at an example in code instead:"
      ]
    },
    {
      "cell_type": "code",
      "metadata": {
        "id": "FVB8Z9R2AqOJ",
        "colab": {
          "base_uri": "https://localhost:8080/",
          "height": 34
        },
        "outputId": "b39f1cc1-92fc-4f76-d8d5-d4c95a5fa0e2"
      },
      "source": [
        "# This is how you define a dictionary\n",
        "\n",
        "definition = {\n",
        "    \"flammable\": \"easily set on fire\",\n",
        "    \"inflammable\": \"easily set on fire\",\n",
        "    \"nonflammable\": \"not catching fire easily\"\n",
        "}\n",
        "\n",
        "# In order to access an element in the dictionary, we refer to its \"key\"\n",
        "print(definition[\"flammable\"])"
      ],
      "execution_count": null,
      "outputs": [
        {
          "output_type": "stream",
          "text": [
            "easily set on fire\n"
          ],
          "name": "stdout"
        }
      ]
    },
    {
      "cell_type": "markdown",
      "metadata": {
        "id": "Bp6UKK8RBdmZ"
      },
      "source": [
        "In the above example, our dictionary is designed very similarly to an actual dictionary. When we ask for the definition of a word like `flammable`, we get in return a string with its definition `easily set on fire`.\n",
        "\n",
        "In this example, the word itself is called a _key_ and its definition is its _value_. You can think of dictionaries as sets, except every element is a key-value pair. Unlike lists where you access elements by using an integer index, you access elements in a dictionary by using the key."
      ]
    },
    {
      "cell_type": "code",
      "metadata": {
        "id": "TpaJt2iJC51u",
        "colab": {
          "base_uri": "https://localhost:8080/",
          "height": 34
        },
        "outputId": "0e335e65-6802-4128-87e8-1f64a10d1938"
      },
      "source": [
        "# Another example of a dictionary, this time with a mix of integer and string values\n",
        "\n",
        "album_1 = {\n",
        "    \"name\": \"Escape from New York\",\n",
        "    \"artist\": \"Beast Coast\",\n",
        "    \"year\": 2019\n",
        "}\n",
        "\n",
        "# How would we print out the artist of album_1?\n",
        "print(album_1[\"artist\"])"
      ],
      "execution_count": null,
      "outputs": [
        {
          "output_type": "stream",
          "text": [
            "Beast Coast\n"
          ],
          "name": "stdout"
        }
      ]
    },
    {
      "cell_type": "markdown",
      "metadata": {
        "id": "_woFPH3DDaAj"
      },
      "source": [
        "Just like with lists, you can add to dictionaries, remove from dictionaries, print the length of a dictionary, check for specific elements, and many more operations."
      ]
    },
    {
      "cell_type": "code",
      "metadata": {
        "id": "X--sYTBGDgv8",
        "colab": {
          "base_uri": "https://localhost:8080/",
          "height": 136
        },
        "outputId": "fba103b5-e88e-420d-8aab-dd10c3d6c5a0"
      },
      "source": [
        "album_2 = {\n",
        "    \"name\": \"Sgt. Pepper's Lonely Hearts Club Band\"\n",
        "}\n",
        "\n",
        "# Inserting a new pair, with \"artist\" as the key and \"The Beatles\" as its value\n",
        "album_2[\"artist\"] = \"The Beatles\"\n",
        "print(album_2)\n",
        "\n",
        "album_2[\"year\"] = 1967\n",
        "print(len(album_2))\n",
        "\n",
        "print(\"artist\" in album_2)\n",
        "\n",
        "# Notice what the following will print:\n",
        "print(\"The Beatles\" in album_2)\n",
        "# This is because we can only search a dictionary by key, not by value\n",
        "\n",
        "# Deleting a key-value pair from the dictionary\n",
        "del album_2[\"artist\"]\n",
        "\n",
        "print(album_2)\n",
        "\n",
        "# If you just wanted the keys in a dictionary:\n",
        "print(album_2.keys())\n",
        "\n",
        "# Finally, if you want to clear out the entire dictionary:\n",
        "album_2.clear()\n",
        "print(album_2)"
      ],
      "execution_count": null,
      "outputs": [
        {
          "output_type": "stream",
          "text": [
            "{'name': \"Sgt. Pepper's Lonely Hearts Club Band\", 'artist': 'The Beatles'}\n",
            "3\n",
            "True\n",
            "False\n",
            "{'name': \"Sgt. Pepper's Lonely Hearts Club Band\", 'year': 1967}\n",
            "dict_keys(['name', 'year'])\n",
            "{}\n"
          ],
          "name": "stdout"
        }
      ]
    },
    {
      "cell_type": "markdown",
      "metadata": {
        "id": "XEdjQggSFFci"
      },
      "source": [
        "Notice that an empty dictionary is printed as `{}`, which at a glance looks like the same as an empty set. If you want to initialize an empty dictionary, you actually need to write `dict()`. Like so:"
      ]
    },
    {
      "cell_type": "code",
      "metadata": {
        "id": "sAcvVQuwFQzS"
      },
      "source": [
        "empty_dict = dict()\n",
        "empty_set = {}\n",
        "\n",
        "empty_list = []\n",
        "empty_tuple = ()"
      ],
      "execution_count": null,
      "outputs": []
    },
    {
      "cell_type": "markdown",
      "metadata": {
        "id": "26SKSDhut1nx"
      },
      "source": [
        "**Exercise:** Write a dictionary that contains the following information:\n",
        "\n",
        "```\n",
        "Issa       1\n",
        "Daniel     3\n",
        "Molly      2\n",
        "Kelli      3\n",
        "Lawrence   2\n",
        "```"
      ]
    },
    {
      "cell_type": "code",
      "metadata": {
        "id": "L38eUBKMuOPr",
        "colab": {
          "base_uri": "https://localhost:8080/",
          "height": 51
        },
        "outputId": "91b255e3-e104-4f36-df49-43e6e0fc1e5e"
      },
      "source": [
        "# Code here\n",
        "nums_for_ppl = {\n",
        "    \"Issa\" : 1,\n",
        "    \"Daniel\" : 3, \n",
        "    \"Molly\" : 2,\n",
        "    \"Kelli\" : 3,\n",
        "    \"Lawrence\" : 2\n",
        "}\n",
        "\n",
        "print(nums_for_ppl)\n",
        "print(nums_for_ppl.keys())"
      ],
      "execution_count": null,
      "outputs": [
        {
          "output_type": "stream",
          "text": [
            "{'Issa': 1, 'Daniel': 3, 'Molly': 2, 'Kelli': 3, 'Lawrence': 2}\n",
            "dict_keys(['Issa', 'Daniel', 'Molly', 'Kelli', 'Lawrence'])\n"
          ],
          "name": "stdout"
        }
      ]
    },
    {
      "cell_type": "markdown",
      "metadata": {
        "id": "wvwyCpbKGA7d"
      },
      "source": [
        "And that's it for the collections, aka data structures, that we'll be covering!"
      ]
    },
    {
      "cell_type": "markdown",
      "metadata": {
        "id": "YK9DA_IVNuSu"
      },
      "source": [
        "## Congratulations!\n",
        "\n",
        "You made it to the end of the first Introdution to Python lesson! This was a very condensed sprint through some fundamental Python concepts, and you did amazingly. Remember, it takes time and practice to get the hang of programming, so no sweat if you need to review some of the concepts in this lesson. Take this time to really congratulate yourself on all your work coding today!\n",
        "\n",
        "![alt text](https://media.giphy.com/media/26gs7fLOYbSGbBSN2/giphy.gif)"
      ]
    },
    {
      "cell_type": "markdown",
      "metadata": {
        "id": "c3PnUDORhZCl"
      },
      "source": [
        "#Practice problems"
      ]
    },
    {
      "cell_type": "markdown",
      "metadata": {
        "id": "Wu3HCZAohxaC"
      },
      "source": [
        "1. Write a simple Python program that computes the integers 0 through 4 using expressions involving exactly four fours and no other numbers. For example:\n",
        "\n",
        "\n",
        "```\n",
        "zero = 4 + 4 - 4 - 4\n",
        "```\n",
        "\n",
        "Your expressions may use any of the following operators: +, -, *, // (integer division), ** (power), and parentheses. Note that you should use the integer division operator (//) instead of the regular division operator (/), because the / operator will cause your results to include a decimal. For example, 4//4 will give you 1, but 4/4 will give you 1.0."
      ]
    },
    {
      "cell_type": "code",
      "metadata": {
        "id": "mvBECbWtiJ_3",
        "colab": {
          "base_uri": "https://localhost:8080/",
          "height": 102
        },
        "outputId": "74386b25-0398-471e-cd09-733710097993"
      },
      "source": [
        "zero = 4 + 4 - 4 - 4\n",
        "print('zero =', zero) #check that we did it right\n",
        "one = (4//4)+4-4\n",
        "print(\"one = \", one)\n",
        "two = (4//4)+(4//4)\n",
        "print(\"two = \", two)\n",
        "three = (4+4+4)//4\n",
        "print(\"three = \", three)\n",
        "four = ((4//4)**4)*4\n",
        "print(\"four = \", four)\n",
        "\n",
        "#Add your code below to calculate integers 1-4 using four fours"
      ],
      "execution_count": null,
      "outputs": [
        {
          "output_type": "stream",
          "text": [
            "zero = 0\n",
            "one =  1\n",
            "two =  2\n",
            "three =  3\n",
            "four =  4\n"
          ],
          "name": "stdout"
        }
      ]
    },
    {
      "cell_type": "markdown",
      "metadata": {
        "id": "MydYte0ei8Ni"
      },
      "source": [
        "2. List puzzles: Use the following lists and use indexing and slicing to create some new lists"
      ]
    },
    {
      "cell_type": "code",
      "metadata": {
        "id": "_5LkMS2XjEfp"
      },
      "source": [
        "pi = [3, 1, 4, 1, 5, 9]\n",
        "e = [2, 7, 1]\n"
      ],
      "execution_count": null,
      "outputs": []
    },
    {
      "cell_type": "markdown",
      "metadata": {
        "id": "g9oeqQSyN7jB"
      },
      "source": [
        "Create the list [1,1,1] using the above lists and operations we've shown."
      ]
    },
    {
      "cell_type": "code",
      "metadata": {
        "id": "2cgUcJbiOLS3",
        "colab": {
          "base_uri": "https://localhost:8080/",
          "height": 34
        },
        "outputId": "d4d2c43c-5d77-459c-d413-4c97f934acb2"
      },
      "source": [
        "answer1 = [pi[1]]+[pi[3]]+[e[2]]+\n",
        "print(answer1)"
      ],
      "execution_count": null,
      "outputs": [
        {
          "output_type": "stream",
          "text": [
            "[1, 1, 1]\n"
          ],
          "name": "stdout"
        }
      ]
    },
    {
      "cell_type": "markdown",
      "metadata": {
        "id": "nHAP9akLOBt9"
      },
      "source": [
        "Create the list [1,2,3,4,5] using the above lists and operations we've shown. \n",
        "\n",
        "Optional challenge: See if you can do this using only 3 list operations\n"
      ]
    },
    {
      "cell_type": "code",
      "metadata": {
        "id": "P7njvxAdOI9y",
        "colab": {
          "base_uri": "https://localhost:8080/",
          "height": 34
        },
        "outputId": "0919e561-e9a2-4b5b-fc14-f986927e8883"
      },
      "source": [
        "answer2 = [pi[1]]+[e[0]]+[pi[0]]+[pi[2]]+[pi[4]]\n",
        "print(answer2)"
      ],
      "execution_count": null,
      "outputs": [
        {
          "output_type": "stream",
          "text": [
            "[1, 2, 3, 4, 5]\n"
          ],
          "name": "stdout"
        }
      ]
    },
    {
      "cell_type": "markdown",
      "metadata": {
        "id": "g3WYyFrFOPOq"
      },
      "source": [
        "Create the list [9,1,1] using the above lists and oeprations we've shown.\n"
      ]
    },
    {
      "cell_type": "code",
      "metadata": {
        "id": "g5vGodjZOb-M",
        "colab": {
          "base_uri": "https://localhost:8080/",
          "height": 34
        },
        "outputId": "fa103481-dcc0-41ee-970c-1a08b33c4f0e"
      },
      "source": [
        "answer3 = [pi[5]]+[pi[1]]+[pi[3]]\n",
        "print(answer3)"
      ],
      "execution_count": null,
      "outputs": [
        {
          "output_type": "stream",
          "text": [
            "[9, 1, 1]\n"
          ],
          "name": "stdout"
        }
      ]
    },
    {
      "cell_type": "markdown",
      "metadata": {
        "id": "h_m_7UA3OeVI"
      },
      "source": [
        ""
      ]
    },
    {
      "cell_type": "markdown",
      "metadata": {
        "id": "MauhBkqHP0kJ"
      },
      "source": [
        "> 3. String puzzles: Use the following strings and use indexing, slicing, concatenation to create some new strings."
      ]
    },
    {
      "cell_type": "code",
      "metadata": {
        "id": "xs8bfNwNP70q"
      },
      "source": [
        "a = \"ai4all\"\n",
        "b = \"boston\"\n",
        "u = \"university\"\n"
      ],
      "execution_count": null,
      "outputs": []
    },
    {
      "cell_type": "markdown",
      "metadata": {
        "id": "NRyAzQwlQNkD"
      },
      "source": [
        "Create the string `ball` using the above strings and string operations."
      ]
    },
    {
      "cell_type": "code",
      "metadata": {
        "id": "DnizRJY2QVZ2",
        "colab": {
          "base_uri": "https://localhost:8080/",
          "height": 34
        },
        "outputId": "4cc4cb2e-fff3-4492-a7b6-e125dd1d7a61"
      },
      "source": [
        "\n",
        "string1 = b[0] + a[3:]\n",
        "print(string1)"
      ],
      "execution_count": null,
      "outputs": [
        {
          "output_type": "stream",
          "text": [
            "ball\n"
          ],
          "name": "stdout"
        }
      ]
    },
    {
      "cell_type": "markdown",
      "metadata": {
        "id": "MpnXmIf4QYit"
      },
      "source": [
        "Create the string `buai4all` using the above strings and string operations"
      ]
    },
    {
      "cell_type": "code",
      "metadata": {
        "id": "aA3RILAMQuRo",
        "colab": {
          "base_uri": "https://localhost:8080/",
          "height": 34
        },
        "outputId": "bfa30b8b-6642-4a57-9560-78b5538b0e0c"
      },
      "source": [
        "\n",
        "string2 = b[0]+u[0]+a\n",
        "print(string2)"
      ],
      "execution_count": null,
      "outputs": [
        {
          "output_type": "stream",
          "text": [
            "buai4all\n"
          ],
          "name": "stdout"
        }
      ]
    },
    {
      "cell_type": "markdown",
      "metadata": {
        "id": "ovPsaXm0Qy7S"
      },
      "source": [
        "Create the string `nonono` using the above strings and string operations. \n",
        "\n",
        "Hint: to do this using only two operations, see what happens when you multiply a string and an integer."
      ]
    },
    {
      "cell_type": "code",
      "metadata": {
        "id": "nxUs7mx21C2x",
        "colab": {
          "base_uri": "https://localhost:8080/",
          "height": 34
        },
        "outputId": "7b5c27b6-a187-4c3f-d6e5-5faa724e9522"
      },
      "source": [
        "string3 = (b[5:3:-1])*3\n",
        "print(string3)"
      ],
      "execution_count": null,
      "outputs": [
        {
          "output_type": "stream",
          "text": [
            "nonono\n"
          ],
          "name": "stdout"
        }
      ]
    },
    {
      "cell_type": "markdown",
      "metadata": {
        "id": "6emD3oCIv3Ie"
      },
      "source": [
        "**Exercise:** Write a program that asks five people if they prefer pineapple on pizza or no pineapple on pizza. Use a dictionary to keep track of how many votes each option gets, and then print out which of the two options is more popular."
      ]
    },
    {
      "cell_type": "code",
      "metadata": {
        "id": "QibbHBNHwvcf",
        "colab": {
          "base_uri": "https://localhost:8080/",
          "height": 221
        },
        "outputId": "23b64138-b61e-44cd-f24b-a1c1e41ff79a"
      },
      "source": [
        "# Some code to get you started:\n",
        "\n",
        "pin_votes = {\n",
        "    \"pineapple\": 0,\n",
        "    \"no pineapple\": 0\n",
        "}\n",
        "\n",
        "\n",
        "i=0\n",
        "while i<5:\n",
        "  num = int(input(\"Input 1 if you like pineapple on pizza. Input 0 if you don't like pineapple on pizza: \"))\n",
        "  if(num == 1):\n",
        "    pin_votes[\"pineapple\"]+= 1\n",
        "    i+=1\n",
        "  elif(num == 0):\n",
        "    pin_votes[\"no pineapple\"] +=1\n",
        "    i+=1\n",
        "  else:\n",
        "    print(\"sorry, I don't understand\")\n",
        "    \n",
        "\n",
        "if (pin_votes[\"pineapple\"] > pin_votes[\"no pineapple\"]):\n",
        "  print(\"Pineapple on pizza is more popular!\")\n",
        "elif(pin_votes[\"no pineapple\"] > pin_votes[\"pineapple\"]):\n",
        "  print(\"No pineapple on pizza is more popular!\")\n"
      ],
      "execution_count": null,
      "outputs": [
        {
          "output_type": "stream",
          "text": [
            "Input 1 if you like pineapple on pizza. Input 0 if you don't like pineapple on pizza: 9\n",
            "sorry, I don't understand\n",
            "Input 1 if you like pineapple on pizza. Input 0 if you don't like pineapple on pizza: 9\n",
            "sorry, I don't understand\n",
            "Input 1 if you like pineapple on pizza. Input 0 if you don't like pineapple on pizza: 9\n",
            "sorry, I don't understand\n",
            "Input 1 if you like pineapple on pizza. Input 0 if you don't like pineapple on pizza: 0\n",
            "Input 1 if you like pineapple on pizza. Input 0 if you don't like pineapple on pizza: 0\n",
            "Input 1 if you like pineapple on pizza. Input 0 if you don't like pineapple on pizza: 0\n",
            "Input 1 if you like pineapple on pizza. Input 0 if you don't like pineapple on pizza: 0\n",
            "Input 1 if you like pineapple on pizza. Input 0 if you don't like pineapple on pizza: 0\n",
            "No pineapple on pizza is more popular!\n"
          ],
          "name": "stdout"
        }
      ]
    },
    {
      "cell_type": "code",
      "metadata": {
        "id": "lsJtv_-S1GVU"
      },
      "source": [
        ""
      ],
      "execution_count": null,
      "outputs": []
    }
  ]
}