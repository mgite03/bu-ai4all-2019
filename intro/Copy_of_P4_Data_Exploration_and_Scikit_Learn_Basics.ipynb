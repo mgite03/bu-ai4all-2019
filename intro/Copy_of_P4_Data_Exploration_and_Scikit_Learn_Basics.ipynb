{
  "nbformat": 4,
  "nbformat_minor": 0,
  "metadata": {
    "colab": {
      "name": "Copy of P4: Data Exploration and Scikit-Learn Basics",
      "provenance": [],
      "collapsed_sections": [],
      "include_colab_link": true
    },
    "kernelspec": {
      "name": "python3",
      "display_name": "Python 3"
    }
  },
  "cells": [
    {
      "cell_type": "markdown",
      "metadata": {
        "id": "view-in-github",
        "colab_type": "text"
      },
      "source": [
        "<a href=\"https://colab.research.google.com/github/mgite03/bu-ai4all-2019/blob/main/Copy_of_P4_Data_Exploration_and_Scikit_Learn_Basics.ipynb\" target=\"_parent\"><img src=\"https://colab.research.google.com/assets/colab-badge.svg\" alt=\"Open In Colab\"/></a>"
      ]
    },
    {
      "cell_type": "markdown",
      "metadata": {
        "id": "Hd-CzwCD5cOE"
      },
      "source": [
        "# Working with Data\n",
        "\n",
        "In this lesson, we'll start to wrap up on some of the fundamentals of Python and start to think about how to work with data using Python.\n",
        "\n",
        "A large part of programming for artificial intelligence and machine learning is using and manipulating data, and the goal of this lesson is to look at a few tools in Python that help us organize and visualize that data. Keep this in mind while we go through the lesson -- there are quite a few concepts we'll go over, but remember that they serve as fundamental tools in our toolbox that we'll use for the hands-on projects.\n",
        "\n",
        "As always, you got this!\n",
        "\n",
        "![alt text](https://media.giphy.com/media/14bhmZtBNhVnIk/giphy.gif)\n",
        "\n",
        "(Batman's superpowers: being rich, having lots of tools, and having lots of data about everything.)"
      ]
    },
    {
      "cell_type": "markdown",
      "metadata": {
        "id": "WJ_v2bDDLSLh"
      },
      "source": [
        "## Visualizing Data\n",
        "\n",
        "To wrap up this lesson, we'll cover one more topic: how to visualize the data that you've been given. Although data may be well organized in Python using the different collections, we often want to be able to present this data to the user in a visual way. Visualization comes in many different forms, from creating tables to colorful charts to just plotting some points on a graph."
      ]
    },
    {
      "cell_type": "code",
      "metadata": {
        "id": "jmcZUrdMHH1k",
        "colab": {
          "base_uri": "https://localhost:8080/",
          "height": 34
        },
        "outputId": "ccce2552-0830-42ad-b4fb-cfe7bc2e1d85"
      },
      "source": [
        "# A list of tuples\n",
        "points_on_a_graph = [(3, 9), (1,1), (5, 25), (2, 4), (4, 16)]\n",
        "\n",
        "# We can print this list, but... is this the most useful?\n",
        "print(points_on_a_graph)"
      ],
      "execution_count": null,
      "outputs": [
        {
          "output_type": "stream",
          "text": [
            "[(3, 9), (1, 1), (5, 25), (2, 4), (4, 16)]\n"
          ],
          "name": "stdout"
        }
      ]
    },
    {
      "cell_type": "markdown",
      "metadata": {
        "id": "bdjsfaq6Hl0b"
      },
      "source": [
        "For visualization, we'll use a versatile Python library called `matplotlib`. (The reason it's called `matplotlib` is because much of the functionality of this library comes from a plotting library from a different language, called Matlab.)\n",
        "\n",
        "For the first example, let's plot some points on a graph:"
      ]
    },
    {
      "cell_type": "code",
      "metadata": {
        "id": "s6cErtdVIj_T",
        "colab": {
          "base_uri": "https://localhost:8080/",
          "height": 269
        },
        "outputId": "f9d3f9ea-9711-4fb5-cd14-97b06e53ed45"
      },
      "source": [
        "%matplotlib inline\n",
        "import matplotlib\n",
        "\n",
        "x = [3, 1, 5, 2, 4]\n",
        "y = [9, 1, 25, 4, 16]\n",
        "\n",
        "matplotlib.pyplot.scatter(x, y)\n",
        "matplotlib.pyplot.show()"
      ],
      "execution_count": null,
      "outputs": [
        {
          "output_type": "display_data",
          "data": {
            "image/png": "[encoded data removed]",
            "text/plain": [
              "<Figure size 432x288 with 1 Axes>"
            ]
          },
          "metadata": {
            "tags": []
          }
        }
      ]
    },
    {
      "cell_type": "markdown",
      "metadata": {
        "id": "LwdIY7FxJLS_"
      },
      "source": [
        "The above code imports the `matplotlib` library, takes in two lists (which correspond to `x` and `y` values of 5 different points), and then plots those five points on a graph.\n",
        "\n",
        "For Jupyter Notebooks, in order to show a `matplotlib` graph within the Notebook itself, we need to add the line `%matplotlib inline` before doing the import.\n",
        "\n",
        "When we say `matplotlib.pyplot.scatter(x, y)`, we are saying that we want to put the values of `x` and `y` onto a specific type of graph called a scatterplot.\n",
        "\n",
        "Finally, to actually show the scatterplot, we say `matplotlib.pyplot.show()`.\n",
        "\n",
        "\n",
        "\n",
        "---\n",
        "\n",
        "\n",
        "It's a lot of typing to say `matplotlib.pyplot` every time we want to use functions from this library, so there's a shorthand that we can actually use, when importing the specific `pyplot` module:"
      ]
    },
    {
      "cell_type": "code",
      "metadata": {
        "id": "Xg5Paod-J9b5"
      },
      "source": [
        "%matplotlib inline\n",
        "import matplotlib.pyplot as plt\n",
        "\n",
        "x = [3, 1, 5, 2, 4]\n",
        "y = [9, 1, 25, 4, 16]\n",
        "\n",
        "plt.scatter(x, y)\n",
        "plt.show()"
      ],
      "execution_count": null,
      "outputs": []
    },
    {
      "cell_type": "markdown",
      "metadata": {
        "id": "Lfpu2F7PKGzz"
      },
      "source": [
        "All this says is that instead of importing all of `matplotlib`, which consists of many different modules, we'll only import the `matplotlib.pyplot` module, and we'll refer to it as `plt` from now on in our code.\n",
        "\n",
        "`pyplot` has a lot of different useful features that we can use to manipulate our visualization."
      ]
    },
    {
      "cell_type": "code",
      "metadata": {
        "id": "iC4vdtjkKmpi",
        "colab": {
          "base_uri": "https://localhost:8080/",
          "height": 284
        },
        "outputId": "ffb75302-b54b-4afd-dfb4-7335ffdbda42"
      },
      "source": [
        "%matplotlib inline\n",
        "import matplotlib.pyplot as plt\n",
        "\n",
        "x = [3, 1, 5, 2, 4]\n",
        "y = [9, 1, 25, 4, 16]\n",
        "\n",
        "plt.scatter(x, y)\n",
        "plt.xlabel(\"Some numbers\")\n",
        "plt.ylabel(\"Some other numbers\")\n",
        "\n",
        "# Notice that when we show the graph now, we'll have words along the x and y dimensions\n",
        "plt.show()"
      ],
      "execution_count": null,
      "outputs": [
        {
          "output_type": "display_data",
          "data": {
            "image/png": "[encoded data removed]",
            "text/plain": [
              "<Figure size 432x288 with 1 Axes>"
            ]
          },
          "metadata": {
            "tags": []
          }
        }
      ]
    },
    {
      "cell_type": "markdown",
      "metadata": {
        "id": "HwO_AMXzLCfR"
      },
      "source": [
        "Instead of using a scatter plot, we can use a normal plot to connect the actual points:"
      ]
    },
    {
      "cell_type": "code",
      "metadata": {
        "id": "DV_qg-zxLGr3",
        "colab": {
          "base_uri": "https://localhost:8080/",
          "height": 284
        },
        "outputId": "5d0e07da-ef96-4751-9ea6-e0fb0de97701"
      },
      "source": [
        "%matplotlib inline\n",
        "import matplotlib.pyplot as plt\n",
        "\n",
        "x = [3, 1, 5, 2, 4]\n",
        "y = [9, 1, 25, 4, 16]\n",
        "\n",
        "plt.plot(x, y)\n",
        "plt.xlabel(\"Some numbers\")\n",
        "plt.ylabel(\"Some other numbers\")\n",
        "plt.show()"
      ],
      "execution_count": null,
      "outputs": [
        {
          "output_type": "display_data",
          "data": {
            "image/png": "[encoded data removed]",
            "text/plain": [
              "<Figure size 432x288 with 1 Axes>"
            ]
          },
          "metadata": {
            "tags": []
          }
        }
      ]
    },
    {
      "cell_type": "markdown",
      "metadata": {
        "id": "KbcPADkQLO6a"
      },
      "source": [
        "Did this connect the points like you expected? The first point is $(3, 9)$ and the next point is $(1,1)$, so it will draw a line between the two. If we re-order our points, we might get something better:"
      ]
    },
    {
      "cell_type": "code",
      "metadata": {
        "id": "xsKCx6VbL6Yv",
        "colab": {
          "base_uri": "https://localhost:8080/",
          "height": 284
        },
        "outputId": "34cadfe5-3e78-42ab-8e9f-a1c23aac1af1"
      },
      "source": [
        "%matplotlib inline\n",
        "import matplotlib.pyplot as plt\n",
        "\n",
        "x = [1, 2, 3, 4, 5]\n",
        "y = [1, 4, 9, 16, 25]\n",
        "\n",
        "plt.plot(x, y)\n",
        "plt.xlabel(\"Some numbers\")\n",
        "plt.ylabel(\"Some other numbers\")\n",
        "plt.show()"
      ],
      "execution_count": null,
      "outputs": [
        {
          "output_type": "display_data",
          "data": {
            "image/png": "[encoded data removed]",
            "text/plain": [
              "<Figure size 432x288 with 1 Axes>"
            ]
          },
          "metadata": {
            "tags": []
          }
        }
      ]
    },
    {
      "cell_type": "markdown",
      "metadata": {
        "id": "JhuC7HSUMR7g"
      },
      "source": [
        "There are many, many other functions, and we won't go over all of them. This is why it's common for programmers to refer to [documentation](https://matplotlib.org/api/index.html) when they read code, because there are so many different functions and libraries that exist in the world, and we need the documentation to help us understand what's going on.\n",
        "\n",
        "As you program more, you may also start to gain some intuition about how code you haven't seen before works:"
      ]
    },
    {
      "cell_type": "code",
      "metadata": {
        "id": "_x3AU9fONCDK",
        "colab": {
          "base_uri": "https://localhost:8080/",
          "height": 284
        },
        "outputId": "c272ff26-695d-47ef-e7b6-8b6ff88bf026"
      },
      "source": [
        "%matplotlib inline\n",
        "import matplotlib.pyplot as plt\n",
        "\n",
        "x = [1, 2, 3, 4, 5]\n",
        "y = [1, 4, 9, 16, 25]\n",
        "\n",
        "plt.plot(x, y)\n",
        "plt.xlabel(\"Some numbers\")\n",
        "plt.ylabel(\"Some other numbers\")\n",
        "\n",
        "# What might these following lines do?\n",
        "plt.gray()\n",
        "plt.axis([0, 10, 0, 100])\n",
        "\n",
        "plt.show()"
      ],
      "execution_count": null,
      "outputs": [
        {
          "output_type": "display_data",
          "data": {
            "image/png": "[encoded data removed]",
            "text/plain": [
              "<Figure size 432x288 with 1 Axes>"
            ]
          },
          "metadata": {
            "tags": []
          }
        }
      ]
    },
    {
      "cell_type": "markdown",
      "metadata": {
        "id": "JV-2Kqu9WHhu"
      },
      "source": [
        "# Data Exploration and Scikit-Learn\n",
        "\n",
        "In this final Python lesson, we'll use everything we've learned so far and work with some real datasets. We'll also finally use the Scikit-Learn library (called `sklearn` in Python) to do some basic machine learning on some sample data."
      ]
    },
    {
      "cell_type": "markdown",
      "metadata": {
        "id": "LDFIigZ5VXSs"
      },
      "source": [
        "## Some important imports"
      ]
    },
    {
      "cell_type": "markdown",
      "metadata": {
        "id": "0_4G-kOwVq4K"
      },
      "source": [
        "In Jupyter Notebooks, we can import the libraries we need once, and then use the libraries on all future code blocks without needing to re-import everything. \n",
        "\n",
        "Run the following code block:"
      ]
    },
    {
      "cell_type": "code",
      "metadata": {
        "id": "3KnWCWO8VawZ"
      },
      "source": [
        "%matplotlib inline\n",
        "import sklearn\n",
        "import pandas as pd\n",
        "import numpy as np\n",
        "import matplotlib.pyplot as plt"
      ],
      "execution_count": null,
      "outputs": []
    },
    {
      "cell_type": "markdown",
      "metadata": {
        "id": "9o918trVrjUH"
      },
      "source": [
        "## Get that dataset!\n",
        "\n",
        "Before we can start to do machine learning, we need to have data to train our systems on. If you remember in the \"Introduction to Machine Learning\" lesson, datasets aren't always easy to come by, and many are privately collected and owned. Very often, if you want to work on a new machine learning application, you may have to figure out how to collect your own data.\n",
        "\n",
        "However, there are many great services that have open and free datasets that you can use, like [Kaggle](https://www.kaggle.com/). For this lesson, we'll use a dataset from Kaggle that contains Spotify information on the top songs of 2017."
      ]
    },
    {
      "cell_type": "markdown",
      "metadata": {
        "id": "siyKab1mtSSG"
      },
      "source": [
        "## Grabbing datasets from GitHub"
      ]
    },
    {
      "cell_type": "markdown",
      "metadata": {
        "id": "4X6-63sysdM7"
      },
      "source": [
        "We've actually stored the dataset in a different website, called [GitHub](https://github.com/), so that we can easily grab the data for this lesson.\n",
        "\n",
        "Be sure to run each of the code blocks below. They're not written in Python -- they're written in a different language called Bash, which is typically used on the command line and can manipulate things like files on your computer.\n",
        "\n",
        "You don't have to worry about what each of these code blocks does, just that they help us pull data from GitHub so that we have access to it within this Notebook. (Almost like how we need to import libraries before we can start to use them.)"
      ]
    },
    {
      "cell_type": "code",
      "metadata": {
        "id": "BhSPs8MUUyIp",
        "colab": {
          "base_uri": "https://localhost:8080/",
          "height": 35
        },
        "outputId": "e2b35798-4db0-46d5-a253-773f5ce9ac7d"
      },
      "source": [
        "# The following is not a Python command, but a bash command\n",
        "# It looks at the files and folders in this current directory\n",
        "! ls"
      ],
      "execution_count": null,
      "outputs": [
        {
          "output_type": "stream",
          "text": [
            "sample_data\n"
          ],
          "name": "stdout"
        }
      ]
    },
    {
      "cell_type": "code",
      "metadata": {
        "id": "-kMznGGHUzpJ",
        "colab": {
          "base_uri": "https://localhost:8080/",
          "height": 35
        },
        "outputId": "c6fdf5f1-7e0e-4cbf-9b68-b6020cba90eb"
      },
      "source": [
        "# This checks if the directory called \"random-data\" exists, and if so, remove it\n",
        "! if [ -d \"random-data\" ]; then rm -r random-data; fi\n",
        "! ls"
      ],
      "execution_count": null,
      "outputs": [
        {
          "output_type": "stream",
          "text": [
            "sample_data\n"
          ],
          "name": "stdout"
        }
      ]
    },
    {
      "cell_type": "code",
      "metadata": {
        "id": "Dj4x7BDiU1GW",
        "colab": {
          "base_uri": "https://localhost:8080/",
          "height": 126
        },
        "outputId": "41f33c9f-b6ea-4ef8-a458-57891312765e"
      },
      "source": [
        "# This creates a new directory based on a repo from my GitHub\n",
        "! git clone https://github.com/Devking/random-data.git"
      ],
      "execution_count": null,
      "outputs": [
        {
          "output_type": "stream",
          "text": [
            "Cloning into 'random-data'...\n",
            "remote: Enumerating objects: 19, done.\u001b[K\n",
            "remote: Counting objects: 100% (19/19), done.\u001b[K\n",
            "remote: Compressing objects: 100% (15/15), done.\u001b[K\n",
            "remote: Total 19 (delta 4), reused 17 (delta 2), pack-reused 0\u001b[K\n",
            "Unpacking objects: 100% (19/19), done.\n"
          ],
          "name": "stdout"
        }
      ]
    },
    {
      "cell_type": "code",
      "metadata": {
        "id": "jmnLi3frU3rQ",
        "colab": {
          "base_uri": "https://localhost:8080/",
          "height": 35
        },
        "outputId": "37d87531-dd20-4266-8883-f2f7c4974ef2"
      },
      "source": [
        "# This is for us to check that the directory was successfully downloaded\n",
        "! ls"
      ],
      "execution_count": null,
      "outputs": [
        {
          "output_type": "stream",
          "text": [
            "random-data  sample_data\n"
          ],
          "name": "stdout"
        }
      ]
    },
    {
      "cell_type": "markdown",
      "metadata": {
        "id": "uZbLoBYMVPFG"
      },
      "source": [
        "# Spotify's Top Songs of 2017\n",
        "\n",
        "Let's say that you were interested in music and wanted to create a machine learning system to suggest a new song for someone to listen to. How would we create this?\n",
        "\n",
        "Well first, we would need to have some data on what music people like. Once we have that data, we might start to think about the different qualities of a song, so you can recommend new songs based on similar qualities from songs a person has listened to.\n",
        "\n",
        "The Spotify Top Songs of 2017 dataset contains exactly that information, so let's see how we would start to use it."
      ]
    },
    {
      "cell_type": "markdown",
      "metadata": {
        "id": "3iJbHGkbue1H"
      },
      "source": [
        "## Working with Pandas\n",
        "\n",
        "Before we jump into machine learning, let's practice looking at datasets and exploring them. We'll use a library called `pandas` to help us do this.\n",
        "\n",
        "We've already imported `pandas` earlier in the Notebook, so we can use it in the following code blocks. If you did not run the first code block of this lesson, the following code will raise an error."
      ]
    },
    {
      "cell_type": "code",
      "metadata": {
        "id": "YAgze1dMuqsm",
        "colab": {
          "base_uri": "https://localhost:8080/",
          "height": 1000
        },
        "outputId": "58cbab19-f2fe-4336-a889-535bcdf07f9b"
      },
      "source": [
        "# This is the file name of the Spotify dataset\n",
        "# It's a \"CSV\" file, which stands for \"comma-separated values file\"\n",
        "# Really, it's just a long text file with a lot of information separated by commas\n",
        "filename = \"random-data/spotify.csv\"\n",
        "\n",
        "# We will use a function built into pandas to read our csv data\n",
        "data = pd.read_csv(filename)\n",
        "\n",
        "# Finally, we'll print the data to take a look at it\n",
        "print(data)"
      ],
      "execution_count": null,
      "outputs": [
        {
          "output_type": "stream",
          "text": [
            "      Unnamed: 0  ...                     artist\n",
            "0              0  ...                     Future\n",
            "1              1  ...           Childish Gambino\n",
            "2              2  ...                     Future\n",
            "3              3  ...                Beach House\n",
            "4              4  ...                Junior Boys\n",
            "5              5  ...                      Drake\n",
            "6              6  ...                      Drake\n",
            "7              7  ...                      Omega\n",
            "8              8  ...                Death Grips\n",
            "9              9  ...                Honey Claws\n",
            "10            10  ...             The Avalanches\n",
            "11            11  ...         Modern Folk Üçlüsü\n",
            "12            12  ...                Erkin Koray\n",
            "13            13  ...                 Lil Yachty\n",
            "14            14  ...                        PNL\n",
            "15            15  ...            Crystal Castles\n",
            "16            16  ...                  New Order\n",
            "17            17  ...                 Funkadelic\n",
            "18            18  ...                 Chief Keef\n",
            "19            19  ...                   Le Youth\n",
            "20            20  ...                    Cajmere\n",
            "21            21  ...                The Rapture\n",
            "22            22  ...                 Young Thug\n",
            "23            23  ...                  Ty Segall\n",
            "24            24  ...                  Myron & E\n",
            "25            25  ...                      TR/ST\n",
            "26            26  ...                     A-Trak\n",
            "27            27  ...            Crystal Castles\n",
            "28            28  ...               Rae Sremmurd\n",
            "29            29  ...                     Father\n",
            "...          ...  ...                        ...\n",
            "1987        1987  ...              WALK THE MOON\n",
            "1988        1988  ...              WALK THE MOON\n",
            "1989        1989  ...              WALK THE MOON\n",
            "1990        1990  ...              WALK THE MOON\n",
            "1991        1991  ...              WALK THE MOON\n",
            "1992        1992  ...              WALK THE MOON\n",
            "1993        1993  ...              WALK THE MOON\n",
            "1994        1994  ...              WALK THE MOON\n",
            "1995        1995  ...           The Chainsmokers\n",
            "1996        1996  ...                 Lost Kings\n",
            "1997        1997  ...           The Chainsmokers\n",
            "1998        1998  ...                Alan Walker\n",
            "1999        1999  ...            Tommie Sunshine\n",
            "2000        2000  ...                   San Holo\n",
            "2001        2001  ...           The Chainsmokers\n",
            "2002        2002  ...                 Steve Aoki\n",
            "2003        2003  ...                   Borgeous\n",
            "2004        2004  ...                 Lost Kings\n",
            "2005        2005  ...                  Elliphant\n",
            "2006        2006  ...              Martin Garrix\n",
            "2007        2007  ...                      NERVO\n",
            "2008        2008  ...                    Starley\n",
            "2009        2009  ...                      Kuuro\n",
            "2010        2010  ...  Dimitri Vegas & Like Mike\n",
            "2011        2011  ...                  Icona Pop\n",
            "2012        2012  ...             Kill The Noise\n",
            "2013        2013  ...             Dillon Francis\n",
            "2014        2014  ...                   Rain Man\n",
            "2015        2015  ...                 Twin Moons\n",
            "2016        2016  ...                  Bleachers\n",
            "\n",
            "[2017 rows x 17 columns]\n"
          ],
          "name": "stdout"
        }
      ]
    },
    {
      "cell_type": "markdown",
      "metadata": {
        "id": "u56pvsyqvyaa"
      },
      "source": [
        "The print-out of our data above looks... not too informative. This is mainly because there's a lot of data in our dataset that we're working with, and Jupyter Notebooks doesn't format it nicely for us when we directly print all of the data. Instead, we'll have to use some functions in `pandas` to explore the data ourselves.\n",
        "\n",
        "By the way, if you want to see the data in this dataset as a table, you can [click here to see it displayed in GitHub](https://github.com/Devking/random-data/blob/master/spotify.csv). We'll also write some code so that we can visualize our data in table form.\n",
        "\n",
        "There are 2017 rows in this dataset and 17 columns, where each row is a single song and (almost) each column is a **feature** of the song. In terms of dataset size, this is closer to the small side -- some datasets may have thousands or even millions of rows.\n",
        "\n",
        "## Exploring some features\n",
        "\n",
        "Recall that our data in datasets is described by a set of properties called features.\n",
        "\n",
        "For song data, some features you might expect are tempo, time signature, and name.\n",
        "\n",
        "Let's print all of the names of the songs:"
      ]
    },
    {
      "cell_type": "code",
      "metadata": {
        "id": "0d05N6hixvUO",
        "colab": {
          "base_uri": "https://localhost:8080/",
          "height": 1000
        },
        "outputId": "7d5a0bfe-7234-40bb-d499-3c1cb11eb4ea"
      },
      "source": [
        "# Notice that we didn't just say \"name\"\n",
        "# Like with accessing values in dictionaries, the specific key value in this data set is \"song_title\"\n",
        "print(data[\"song_title\"])"
      ],
      "execution_count": null,
      "outputs": [
        {
          "output_type": "stream",
          "text": [
            "0                                           Mask Off\n",
            "1                                            Redbone\n",
            "2                                       Xanny Family\n",
            "3                                     Master Of None\n",
            "4                                     Parallel Lines\n",
            "5                                           Sneakin’\n",
            "6                                        Childs Play\n",
            "7                                    Gyöngyhajú lány\n",
            "8                                  I've Seen Footage\n",
            "9                                     Digital Animal\n",
            "10              Subways - In Flagranti Extended Edit\n",
            "11                        Donme Dolap - Baris K Edit\n",
            "12                                           Cemalim\n",
            "13                                         One Night\n",
            "14                                           Oh lala\n",
            "15                                              Char\n",
            "16                                   World In Motion\n",
            "17                         One Nation Under a Groove\n",
            "18                                           Bouncin\n",
            "19                              C O O L - Radio Edit\n",
            "20        Percolator (Jamie Jones Vault Mix) - mixed\n",
            "21                           House of Jealous Lovers\n",
            "22                                         Imma Ride\n",
            "23                                        Girlfriend\n",
            "24                             If I Gave You My Love\n",
            "25                                  This Ready Flesh\n",
            "26                                      Lose My Mind\n",
            "27                                              Char\n",
            "28                                        Look Alive\n",
            "29                   Please Stop Making Fake Versace\n",
            "                            ...                     \n",
            "1987                                  Work This Body\n",
            "1988                                       Tightrope\n",
            "1989                                Different Colors\n",
            "1990                                       Avalanche\n",
            "1991                                           Jenny\n",
            "1992                                        Portugal\n",
            "1993                                      Quesadilla\n",
            "1994                                         Aquaman\n",
            "1995                    Paris - Pegboard Nerds Remix\n",
            "1996                           Quit You - Wuki Remix\n",
            "1997                Don't Let Me Down - Zomboy Remix\n",
            "1998                           Faded - Slushii Remix\n",
            "1999         Can't Get Enough - Pegboard Nerds Remix\n",
            "2000                            Light - Loosid Remix\n",
            "2001        Something Just Like This - ARMNHMR Remix\n",
            "2002                                       Without U\n",
            "2003                                         Hold Up\n",
            "2004                Phone Down - Dodge & Fuski Remix\n",
            "2005                        Spoon Me - Slushii Remix\n",
            "2006               Scared To Be Lonely (Conro Remix)\n",
            "2007    Let It Go - Scott Melker & Mister Gray Remix\n",
            "2008       Call On Me - EDWYNN X TIKAL, Spirix Remix\n",
            "2009                                           Aamon\n",
            "2010                     Hey Baby - Steve Aoki Remix\n",
            "2011                     Brightside - Borgeous Remix\n",
            "2012             Like A Bitch - Kill The Noise Remix\n",
            "2013                                           Candy\n",
            "2014            Habit - Dack Janiels & Wenzday Remix\n",
            "2015                                   First Contact\n",
            "2016                              I Wanna Get Better\n",
            "Name: song_title, Length: 2017, dtype: object\n"
          ],
          "name": "stdout"
        }
      ]
    },
    {
      "cell_type": "markdown",
      "metadata": {
        "id": "gZRM0CDEyL7k"
      },
      "source": [
        "The above code prints the song titles for all 2017 songs in our dataset. However, if we wanted to recommend a new song to someone, it probably wouldn't be enough to just recommend them based on song title. We'll want to make use of multiple features, and it may help us to visualize them to find patterns in the data.\n",
        "\n",
        "How do we know what all of the features in our dataset are? One way is to look directly at the CSV file, because these are usually the column headers that are on the first line of the file. (We could also look at the column headings in GitHub since it displays all of the data in a table nicely for us.) Since we're trying to work with our Python code as much as possible, let's see how we would do it in Python:"
      ]
    },
    {
      "cell_type": "code",
      "metadata": {
        "id": "jqNtL7KdzMC-",
        "colab": {
          "base_uri": "https://localhost:8080/",
          "height": 72
        },
        "outputId": "b3c494e9-ed2f-4eb3-c49d-f05cdb248efc"
      },
      "source": [
        "filename = \"random-data/spotify.csv\"\n",
        "raw_data = pd.read_csv(filename)\n",
        "\n",
        "# Get the values of the columns (the features) and print them out\n",
        "features = raw_data.columns.values\n",
        "print(features)"
      ],
      "execution_count": null,
      "outputs": [
        {
          "output_type": "stream",
          "text": [
            "['Unnamed: 0' 'acousticness' 'danceability' 'duration_ms' 'energy'\n",
            " 'instrumentalness' 'key' 'liveness' 'loudness' 'mode' 'speechiness'\n",
            " 'tempo' 'time_signature' 'valence' 'target' 'song_title' 'artist']\n"
          ],
          "name": "stdout"
        }
      ]
    },
    {
      "cell_type": "markdown",
      "metadata": {
        "id": "C-QOvE2Y0IUz"
      },
      "source": [
        "We see from the printout different features of our songs, such as tempo, acoustiness (how many acoustic sounds, like an acoustic guitar, are in a song), title, and artist. The first column is actually used to index the songs (so we can refer to them by number), and that's why the column title shows as \"Unnamed: 0\". This particular column is not a feature of our data.\n",
        "\n",
        "For now, let's work with just a small amount of our dataset -- four features (tempo, acousticness, song title, and artist) and 20 songs."
      ]
    },
    {
      "cell_type": "code",
      "metadata": {
        "id": "u47Xjj3a0ybR",
        "colab": {
          "base_uri": "https://localhost:8080/",
          "height": 648
        },
        "outputId": "b2ba2e5b-6a62-46ce-9c88-a59b5b3ce323"
      },
      "source": [
        "filename = \"random-data/spotify.csv\"\n",
        "raw_data = pd.read_csv(filename)\n",
        "\n",
        "# In pandas, we put our data into data frames so that we can manipulate them\n",
        "# This takes two parameters: raw_data specifies that we're using the music data from above\n",
        "# columns specifies what columns of that data we want to keep\n",
        "data = pd.DataFrame(raw_data, columns=['tempo', 'acousticness', 'song_title', 'artist'])\n",
        "\n",
        "# Remember slicing? We use that to take just the first 20 songs in our dataset\n",
        "data = data[:20]\n",
        "\n",
        "# This will display our data in a nice table\n",
        "# Typically we need to use print(), but our variable 'data' is a pandas DataFrame which has special display properties\n",
        "data"
      ],
      "execution_count": null,
      "outputs": [
        {
          "output_type": "execute_result",
          "data": {
            "text/html": [
              "<div>\n",
              "<style scoped>\n",
              "    .dataframe tbody tr th:only-of-type {\n",
              "        vertical-align: middle;\n",
              "    }\n",
              "\n",
              "    .dataframe tbody tr th {\n",
              "        vertical-align: top;\n",
              "    }\n",
              "\n",
              "    .dataframe thead th {\n",
              "        text-align: right;\n",
              "    }\n",
              "</style>\n",
              "<table border=\"1\" class=\"dataframe\">\n",
              "  <thead>\n",
              "    <tr style=\"text-align: right;\">\n",
              "      <th></th>\n",
              "      <th>tempo</th>\n",
              "      <th>acousticness</th>\n",
              "      <th>song_title</th>\n",
              "      <th>artist</th>\n",
              "    </tr>\n",
              "  </thead>\n",
              "  <tbody>\n",
              "    <tr>\n",
              "      <th>0</th>\n",
              "      <td>150.062</td>\n",
              "      <td>0.01020</td>\n",
              "      <td>Mask Off</td>\n",
              "      <td>Future</td>\n",
              "    </tr>\n",
              "    <tr>\n",
              "      <th>1</th>\n",
              "      <td>160.083</td>\n",
              "      <td>0.19900</td>\n",
              "      <td>Redbone</td>\n",
              "      <td>Childish Gambino</td>\n",
              "    </tr>\n",
              "    <tr>\n",
              "      <th>2</th>\n",
              "      <td>75.044</td>\n",
              "      <td>0.03440</td>\n",
              "      <td>Xanny Family</td>\n",
              "      <td>Future</td>\n",
              "    </tr>\n",
              "    <tr>\n",
              "      <th>3</th>\n",
              "      <td>86.468</td>\n",
              "      <td>0.60400</td>\n",
              "      <td>Master Of None</td>\n",
              "      <td>Beach House</td>\n",
              "    </tr>\n",
              "    <tr>\n",
              "      <th>4</th>\n",
              "      <td>174.004</td>\n",
              "      <td>0.18000</td>\n",
              "      <td>Parallel Lines</td>\n",
              "      <td>Junior Boys</td>\n",
              "    </tr>\n",
              "    <tr>\n",
              "      <th>5</th>\n",
              "      <td>85.023</td>\n",
              "      <td>0.00479</td>\n",
              "      <td>Sneakin’</td>\n",
              "      <td>Drake</td>\n",
              "    </tr>\n",
              "    <tr>\n",
              "      <th>6</th>\n",
              "      <td>80.030</td>\n",
              "      <td>0.01450</td>\n",
              "      <td>Childs Play</td>\n",
              "      <td>Drake</td>\n",
              "    </tr>\n",
              "    <tr>\n",
              "      <th>7</th>\n",
              "      <td>144.154</td>\n",
              "      <td>0.02020</td>\n",
              "      <td>Gyöngyhajú lány</td>\n",
              "      <td>Omega</td>\n",
              "    </tr>\n",
              "    <tr>\n",
              "      <th>8</th>\n",
              "      <td>130.035</td>\n",
              "      <td>0.04810</td>\n",
              "      <td>I've Seen Footage</td>\n",
              "      <td>Death Grips</td>\n",
              "    </tr>\n",
              "    <tr>\n",
              "      <th>9</th>\n",
              "      <td>99.994</td>\n",
              "      <td>0.00208</td>\n",
              "      <td>Digital Animal</td>\n",
              "      <td>Honey Claws</td>\n",
              "    </tr>\n",
              "    <tr>\n",
              "      <th>10</th>\n",
              "      <td>111.951</td>\n",
              "      <td>0.05720</td>\n",
              "      <td>Subways - In Flagranti Extended Edit</td>\n",
              "      <td>The Avalanches</td>\n",
              "    </tr>\n",
              "    <tr>\n",
              "      <th>11</th>\n",
              "      <td>104.322</td>\n",
              "      <td>0.09150</td>\n",
              "      <td>Donme Dolap - Baris K Edit</td>\n",
              "      <td>Modern Folk Üçlüsü</td>\n",
              "    </tr>\n",
              "    <tr>\n",
              "      <th>12</th>\n",
              "      <td>127.681</td>\n",
              "      <td>0.25300</td>\n",
              "      <td>Cemalim</td>\n",
              "      <td>Erkin Koray</td>\n",
              "    </tr>\n",
              "    <tr>\n",
              "      <th>13</th>\n",
              "      <td>130.007</td>\n",
              "      <td>0.36600</td>\n",
              "      <td>One Night</td>\n",
              "      <td>Lil Yachty</td>\n",
              "    </tr>\n",
              "    <tr>\n",
              "      <th>14</th>\n",
              "      <td>125.011</td>\n",
              "      <td>0.44000</td>\n",
              "      <td>Oh lala</td>\n",
              "      <td>PNL</td>\n",
              "    </tr>\n",
              "    <tr>\n",
              "      <th>15</th>\n",
              "      <td>99.988</td>\n",
              "      <td>0.01900</td>\n",
              "      <td>Char</td>\n",
              "      <td>Crystal Castles</td>\n",
              "    </tr>\n",
              "    <tr>\n",
              "      <th>16</th>\n",
              "      <td>123.922</td>\n",
              "      <td>0.02390</td>\n",
              "      <td>World In Motion</td>\n",
              "      <td>New Order</td>\n",
              "    </tr>\n",
              "    <tr>\n",
              "      <th>17</th>\n",
              "      <td>122.415</td>\n",
              "      <td>0.23300</td>\n",
              "      <td>One Nation Under a Groove</td>\n",
              "      <td>Funkadelic</td>\n",
              "    </tr>\n",
              "    <tr>\n",
              "      <th>18</th>\n",
              "      <td>140.061</td>\n",
              "      <td>0.31400</td>\n",
              "      <td>Bouncin</td>\n",
              "      <td>Chief Keef</td>\n",
              "    </tr>\n",
              "    <tr>\n",
              "      <th>19</th>\n",
              "      <td>109.982</td>\n",
              "      <td>0.02420</td>\n",
              "      <td>C O O L - Radio Edit</td>\n",
              "      <td>Le Youth</td>\n",
              "    </tr>\n",
              "  </tbody>\n",
              "</table>\n",
              "</div>"
            ],
            "text/plain": [
              "      tempo  ...              artist\n",
              "0   150.062  ...              Future\n",
              "1   160.083  ...    Childish Gambino\n",
              "2    75.044  ...              Future\n",
              "3    86.468  ...         Beach House\n",
              "4   174.004  ...         Junior Boys\n",
              "5    85.023  ...               Drake\n",
              "6    80.030  ...               Drake\n",
              "7   144.154  ...               Omega\n",
              "8   130.035  ...         Death Grips\n",
              "9    99.994  ...         Honey Claws\n",
              "10  111.951  ...      The Avalanches\n",
              "11  104.322  ...  Modern Folk Üçlüsü\n",
              "12  127.681  ...         Erkin Koray\n",
              "13  130.007  ...          Lil Yachty\n",
              "14  125.011  ...                 PNL\n",
              "15   99.988  ...     Crystal Castles\n",
              "16  123.922  ...           New Order\n",
              "17  122.415  ...          Funkadelic\n",
              "18  140.061  ...          Chief Keef\n",
              "19  109.982  ...            Le Youth\n",
              "\n",
              "[20 rows x 4 columns]"
            ]
          },
          "metadata": {
            "tags": []
          },
          "execution_count": 20
        }
      ]
    },
    {
      "cell_type": "markdown",
      "metadata": {
        "id": "il4aHlcC1mTu"
      },
      "source": [
        "There! Now we have something that's much more manageable."
      ]
    },
    {
      "cell_type": "markdown",
      "metadata": {
        "id": "LOezFvkT1_1-"
      },
      "source": [
        "## Comparing features of songs\n",
        "\n",
        "Say we know someone likes the song \"Mask Off\" by Future, and we want to recommend them another song based off of similarity to \"Mask Off\".\n",
        "\n",
        "Perhaps we think that the tempo (or speed) of the song might be helpful, so we'll look for songs that are similar in tempo to \"Mask Off\" (which is tempo = 150.062 beats per minute)."
      ]
    },
    {
      "cell_type": "code",
      "metadata": {
        "id": "SDZP76DN2340",
        "colab": {
          "base_uri": "https://localhost:8080/",
          "height": 648
        },
        "outputId": "5dd04cbf-bd1d-449c-f296-89e56cb95a0b"
      },
      "source": [
        "# Let's keep track of the Mask Off tempo\n",
        "mask_off_tempo = 150.062\n",
        "\n",
        "# Let's create a new column in our dataset\n",
        "# The value of this column is the difference in tempo from that song and the tempo of \"Mask Off\"\n",
        "# The function abs() takes the absolute value, because we just need to know the difference in tempo,\n",
        "# but not if that tempo is faster or slower than \"Mask Off\"\n",
        "data['tempo_difference'] = abs(mask_off_tempo - data.tempo)\n",
        "data"
      ],
      "execution_count": null,
      "outputs": [
        {
          "output_type": "execute_result",
          "data": {
            "text/html": [
              "<div>\n",
              "<style scoped>\n",
              "    .dataframe tbody tr th:only-of-type {\n",
              "        vertical-align: middle;\n",
              "    }\n",
              "\n",
              "    .dataframe tbody tr th {\n",
              "        vertical-align: top;\n",
              "    }\n",
              "\n",
              "    .dataframe thead th {\n",
              "        text-align: right;\n",
              "    }\n",
              "</style>\n",
              "<table border=\"1\" class=\"dataframe\">\n",
              "  <thead>\n",
              "    <tr style=\"text-align: right;\">\n",
              "      <th></th>\n",
              "      <th>tempo</th>\n",
              "      <th>acousticness</th>\n",
              "      <th>song_title</th>\n",
              "      <th>artist</th>\n",
              "      <th>tempo_difference</th>\n",
              "    </tr>\n",
              "  </thead>\n",
              "  <tbody>\n",
              "    <tr>\n",
              "      <th>0</th>\n",
              "      <td>150.062</td>\n",
              "      <td>0.01020</td>\n",
              "      <td>Mask Off</td>\n",
              "      <td>Future</td>\n",
              "      <td>0.000</td>\n",
              "    </tr>\n",
              "    <tr>\n",
              "      <th>1</th>\n",
              "      <td>160.083</td>\n",
              "      <td>0.19900</td>\n",
              "      <td>Redbone</td>\n",
              "      <td>Childish Gambino</td>\n",
              "      <td>10.021</td>\n",
              "    </tr>\n",
              "    <tr>\n",
              "      <th>2</th>\n",
              "      <td>75.044</td>\n",
              "      <td>0.03440</td>\n",
              "      <td>Xanny Family</td>\n",
              "      <td>Future</td>\n",
              "      <td>75.018</td>\n",
              "    </tr>\n",
              "    <tr>\n",
              "      <th>3</th>\n",
              "      <td>86.468</td>\n",
              "      <td>0.60400</td>\n",
              "      <td>Master Of None</td>\n",
              "      <td>Beach House</td>\n",
              "      <td>63.594</td>\n",
              "    </tr>\n",
              "    <tr>\n",
              "      <th>4</th>\n",
              "      <td>174.004</td>\n",
              "      <td>0.18000</td>\n",
              "      <td>Parallel Lines</td>\n",
              "      <td>Junior Boys</td>\n",
              "      <td>23.942</td>\n",
              "    </tr>\n",
              "    <tr>\n",
              "      <th>5</th>\n",
              "      <td>85.023</td>\n",
              "      <td>0.00479</td>\n",
              "      <td>Sneakin’</td>\n",
              "      <td>Drake</td>\n",
              "      <td>65.039</td>\n",
              "    </tr>\n",
              "    <tr>\n",
              "      <th>6</th>\n",
              "      <td>80.030</td>\n",
              "      <td>0.01450</td>\n",
              "      <td>Childs Play</td>\n",
              "      <td>Drake</td>\n",
              "      <td>70.032</td>\n",
              "    </tr>\n",
              "    <tr>\n",
              "      <th>7</th>\n",
              "      <td>144.154</td>\n",
              "      <td>0.02020</td>\n",
              "      <td>Gyöngyhajú lány</td>\n",
              "      <td>Omega</td>\n",
              "      <td>5.908</td>\n",
              "    </tr>\n",
              "    <tr>\n",
              "      <th>8</th>\n",
              "      <td>130.035</td>\n",
              "      <td>0.04810</td>\n",
              "      <td>I've Seen Footage</td>\n",
              "      <td>Death Grips</td>\n",
              "      <td>20.027</td>\n",
              "    </tr>\n",
              "    <tr>\n",
              "      <th>9</th>\n",
              "      <td>99.994</td>\n",
              "      <td>0.00208</td>\n",
              "      <td>Digital Animal</td>\n",
              "      <td>Honey Claws</td>\n",
              "      <td>50.068</td>\n",
              "    </tr>\n",
              "    <tr>\n",
              "      <th>10</th>\n",
              "      <td>111.951</td>\n",
              "      <td>0.05720</td>\n",
              "      <td>Subways - In Flagranti Extended Edit</td>\n",
              "      <td>The Avalanches</td>\n",
              "      <td>38.111</td>\n",
              "    </tr>\n",
              "    <tr>\n",
              "      <th>11</th>\n",
              "      <td>104.322</td>\n",
              "      <td>0.09150</td>\n",
              "      <td>Donme Dolap - Baris K Edit</td>\n",
              "      <td>Modern Folk Üçlüsü</td>\n",
              "      <td>45.740</td>\n",
              "    </tr>\n",
              "    <tr>\n",
              "      <th>12</th>\n",
              "      <td>127.681</td>\n",
              "      <td>0.25300</td>\n",
              "      <td>Cemalim</td>\n",
              "      <td>Erkin Koray</td>\n",
              "      <td>22.381</td>\n",
              "    </tr>\n",
              "    <tr>\n",
              "      <th>13</th>\n",
              "      <td>130.007</td>\n",
              "      <td>0.36600</td>\n",
              "      <td>One Night</td>\n",
              "      <td>Lil Yachty</td>\n",
              "      <td>20.055</td>\n",
              "    </tr>\n",
              "    <tr>\n",
              "      <th>14</th>\n",
              "      <td>125.011</td>\n",
              "      <td>0.44000</td>\n",
              "      <td>Oh lala</td>\n",
              "      <td>PNL</td>\n",
              "      <td>25.051</td>\n",
              "    </tr>\n",
              "    <tr>\n",
              "      <th>15</th>\n",
              "      <td>99.988</td>\n",
              "      <td>0.01900</td>\n",
              "      <td>Char</td>\n",
              "      <td>Crystal Castles</td>\n",
              "      <td>50.074</td>\n",
              "    </tr>\n",
              "    <tr>\n",
              "      <th>16</th>\n",
              "      <td>123.922</td>\n",
              "      <td>0.02390</td>\n",
              "      <td>World In Motion</td>\n",
              "      <td>New Order</td>\n",
              "      <td>26.140</td>\n",
              "    </tr>\n",
              "    <tr>\n",
              "      <th>17</th>\n",
              "      <td>122.415</td>\n",
              "      <td>0.23300</td>\n",
              "      <td>One Nation Under a Groove</td>\n",
              "      <td>Funkadelic</td>\n",
              "      <td>27.647</td>\n",
              "    </tr>\n",
              "    <tr>\n",
              "      <th>18</th>\n",
              "      <td>140.061</td>\n",
              "      <td>0.31400</td>\n",
              "      <td>Bouncin</td>\n",
              "      <td>Chief Keef</td>\n",
              "      <td>10.001</td>\n",
              "    </tr>\n",
              "    <tr>\n",
              "      <th>19</th>\n",
              "      <td>109.982</td>\n",
              "      <td>0.02420</td>\n",
              "      <td>C O O L - Radio Edit</td>\n",
              "      <td>Le Youth</td>\n",
              "      <td>40.080</td>\n",
              "    </tr>\n",
              "  </tbody>\n",
              "</table>\n",
              "</div>"
            ],
            "text/plain": [
              "      tempo  acousticness  ...              artist tempo_difference\n",
              "0   150.062       0.01020  ...              Future            0.000\n",
              "1   160.083       0.19900  ...    Childish Gambino           10.021\n",
              "2    75.044       0.03440  ...              Future           75.018\n",
              "3    86.468       0.60400  ...         Beach House           63.594\n",
              "4   174.004       0.18000  ...         Junior Boys           23.942\n",
              "5    85.023       0.00479  ...               Drake           65.039\n",
              "6    80.030       0.01450  ...               Drake           70.032\n",
              "7   144.154       0.02020  ...               Omega            5.908\n",
              "8   130.035       0.04810  ...         Death Grips           20.027\n",
              "9    99.994       0.00208  ...         Honey Claws           50.068\n",
              "10  111.951       0.05720  ...      The Avalanches           38.111\n",
              "11  104.322       0.09150  ...  Modern Folk Üçlüsü           45.740\n",
              "12  127.681       0.25300  ...         Erkin Koray           22.381\n",
              "13  130.007       0.36600  ...          Lil Yachty           20.055\n",
              "14  125.011       0.44000  ...                 PNL           25.051\n",
              "15   99.988       0.01900  ...     Crystal Castles           50.074\n",
              "16  123.922       0.02390  ...           New Order           26.140\n",
              "17  122.415       0.23300  ...          Funkadelic           27.647\n",
              "18  140.061       0.31400  ...          Chief Keef           10.001\n",
              "19  109.982       0.02420  ...            Le Youth           40.080\n",
              "\n",
              "[20 rows x 5 columns]"
            ]
          },
          "metadata": {
            "tags": []
          },
          "execution_count": 21
        }
      ]
    },
    {
      "cell_type": "markdown",
      "metadata": {
        "id": "-geY3CTI3a_5"
      },
      "source": [
        "### Visualizing the tempo difference\n",
        "\n",
        "We can look at the column `tempo_difference` in our table above to see which songs have similar tempos to \"Mask Off\". Another way to present this information is to visualize it in a graph:"
      ]
    },
    {
      "cell_type": "code",
      "metadata": {
        "id": "KwiW0WmF3ygY",
        "colab": {
          "base_uri": "https://localhost:8080/",
          "height": 284
        },
        "outputId": "e88323a8-54ce-4e9d-a424-f279a9d44f52"
      },
      "source": [
        "# Remember that we've imported matplotlib.pyplot as plt at the start of the Notebook\n",
        "# Here we will use pyplot to do our visualization\n",
        "\n",
        "plt.scatter(data['tempo_difference'], data['song_title'])\n",
        "plt.xlabel('Difference in Tempo')\n",
        "plt.show()"
      ],
      "execution_count": null,
      "outputs": [
        {
          "output_type": "display_data",
          "data": {
            "image/png": "[encoded data removed]",
            "text/plain": [
              "<Figure size 432x288 with 1 Axes>"
            ]
          },
          "metadata": {
            "tags": []
          }
        }
      ]
    },
    {
      "cell_type": "markdown",
      "metadata": {
        "id": "zPgl8VY54FYU"
      },
      "source": [
        "Take a moment to look at the graph and see what's going on. The y-axis of the graph is _discrete_ -- each y-value refers to a specific song. The x-axis of the graph is the tempo difference. \n",
        "\n",
        "Points that are closer to the left have smaller differences in tempo, whereas points that are closer to the right have larger differences in tempo.\n",
        "\n",
        "Looking at the graph above, which song has the largest difference in tempo from \"Mask Off\"?"
      ]
    },
    {
      "cell_type": "markdown",
      "metadata": {
        "id": "0mmikhHd5Tw3"
      },
      "source": [
        "### Finding the acousticness difference\n",
        "\n",
        "Let's do the same for acousticness, which we might think is another good measure of song similarity.\n",
        "\n",
        "The acousticness of a song is measured from 0 to 1, with 0 being no acousticness (all electronic sounds) and 1 being all acoustic (imagine an acoustic guitar on its own). The acoustiness of \"Mask Off\" is 0.01020."
      ]
    },
    {
      "cell_type": "code",
      "metadata": {
        "id": "NzC_SdXc5u-a",
        "colab": {
          "base_uri": "https://localhost:8080/",
          "height": 648
        },
        "outputId": "bd332198-6f5a-4fd7-ad60-70d54db86188"
      },
      "source": [
        "# Add new column for acoustic difference\n",
        "data['acoustic_difference'] = abs(0.01020 - data.acousticness)\n",
        "data"
      ],
      "execution_count": null,
      "outputs": [
        {
          "output_type": "execute_result",
          "data": {
            "text/html": [
              "<div>\n",
              "<style scoped>\n",
              "    .dataframe tbody tr th:only-of-type {\n",
              "        vertical-align: middle;\n",
              "    }\n",
              "\n",
              "    .dataframe tbody tr th {\n",
              "        vertical-align: top;\n",
              "    }\n",
              "\n",
              "    .dataframe thead th {\n",
              "        text-align: right;\n",
              "    }\n",
              "</style>\n",
              "<table border=\"1\" class=\"dataframe\">\n",
              "  <thead>\n",
              "    <tr style=\"text-align: right;\">\n",
              "      <th></th>\n",
              "      <th>tempo</th>\n",
              "      <th>acousticness</th>\n",
              "      <th>song_title</th>\n",
              "      <th>artist</th>\n",
              "      <th>tempo_difference</th>\n",
              "      <th>acoustic_difference</th>\n",
              "    </tr>\n",
              "  </thead>\n",
              "  <tbody>\n",
              "    <tr>\n",
              "      <th>0</th>\n",
              "      <td>150.062</td>\n",
              "      <td>0.01020</td>\n",
              "      <td>Mask Off</td>\n",
              "      <td>Future</td>\n",
              "      <td>0.000</td>\n",
              "      <td>0.00000</td>\n",
              "    </tr>\n",
              "    <tr>\n",
              "      <th>1</th>\n",
              "      <td>160.083</td>\n",
              "      <td>0.19900</td>\n",
              "      <td>Redbone</td>\n",
              "      <td>Childish Gambino</td>\n",
              "      <td>10.021</td>\n",
              "      <td>0.18880</td>\n",
              "    </tr>\n",
              "    <tr>\n",
              "      <th>2</th>\n",
              "      <td>75.044</td>\n",
              "      <td>0.03440</td>\n",
              "      <td>Xanny Family</td>\n",
              "      <td>Future</td>\n",
              "      <td>75.018</td>\n",
              "      <td>0.02420</td>\n",
              "    </tr>\n",
              "    <tr>\n",
              "      <th>3</th>\n",
              "      <td>86.468</td>\n",
              "      <td>0.60400</td>\n",
              "      <td>Master Of None</td>\n",
              "      <td>Beach House</td>\n",
              "      <td>63.594</td>\n",
              "      <td>0.59380</td>\n",
              "    </tr>\n",
              "    <tr>\n",
              "      <th>4</th>\n",
              "      <td>174.004</td>\n",
              "      <td>0.18000</td>\n",
              "      <td>Parallel Lines</td>\n",
              "      <td>Junior Boys</td>\n",
              "      <td>23.942</td>\n",
              "      <td>0.16980</td>\n",
              "    </tr>\n",
              "    <tr>\n",
              "      <th>5</th>\n",
              "      <td>85.023</td>\n",
              "      <td>0.00479</td>\n",
              "      <td>Sneakin’</td>\n",
              "      <td>Drake</td>\n",
              "      <td>65.039</td>\n",
              "      <td>0.00541</td>\n",
              "    </tr>\n",
              "    <tr>\n",
              "      <th>6</th>\n",
              "      <td>80.030</td>\n",
              "      <td>0.01450</td>\n",
              "      <td>Childs Play</td>\n",
              "      <td>Drake</td>\n",
              "      <td>70.032</td>\n",
              "      <td>0.00430</td>\n",
              "    </tr>\n",
              "    <tr>\n",
              "      <th>7</th>\n",
              "      <td>144.154</td>\n",
              "      <td>0.02020</td>\n",
              "      <td>Gyöngyhajú lány</td>\n",
              "      <td>Omega</td>\n",
              "      <td>5.908</td>\n",
              "      <td>0.01000</td>\n",
              "    </tr>\n",
              "    <tr>\n",
              "      <th>8</th>\n",
              "      <td>130.035</td>\n",
              "      <td>0.04810</td>\n",
              "      <td>I've Seen Footage</td>\n",
              "      <td>Death Grips</td>\n",
              "      <td>20.027</td>\n",
              "      <td>0.03790</td>\n",
              "    </tr>\n",
              "    <tr>\n",
              "      <th>9</th>\n",
              "      <td>99.994</td>\n",
              "      <td>0.00208</td>\n",
              "      <td>Digital Animal</td>\n",
              "      <td>Honey Claws</td>\n",
              "      <td>50.068</td>\n",
              "      <td>0.00812</td>\n",
              "    </tr>\n",
              "    <tr>\n",
              "      <th>10</th>\n",
              "      <td>111.951</td>\n",
              "      <td>0.05720</td>\n",
              "      <td>Subways - In Flagranti Extended Edit</td>\n",
              "      <td>The Avalanches</td>\n",
              "      <td>38.111</td>\n",
              "      <td>0.04700</td>\n",
              "    </tr>\n",
              "    <tr>\n",
              "      <th>11</th>\n",
              "      <td>104.322</td>\n",
              "      <td>0.09150</td>\n",
              "      <td>Donme Dolap - Baris K Edit</td>\n",
              "      <td>Modern Folk Üçlüsü</td>\n",
              "      <td>45.740</td>\n",
              "      <td>0.08130</td>\n",
              "    </tr>\n",
              "    <tr>\n",
              "      <th>12</th>\n",
              "      <td>127.681</td>\n",
              "      <td>0.25300</td>\n",
              "      <td>Cemalim</td>\n",
              "      <td>Erkin Koray</td>\n",
              "      <td>22.381</td>\n",
              "      <td>0.24280</td>\n",
              "    </tr>\n",
              "    <tr>\n",
              "      <th>13</th>\n",
              "      <td>130.007</td>\n",
              "      <td>0.36600</td>\n",
              "      <td>One Night</td>\n",
              "      <td>Lil Yachty</td>\n",
              "      <td>20.055</td>\n",
              "      <td>0.35580</td>\n",
              "    </tr>\n",
              "    <tr>\n",
              "      <th>14</th>\n",
              "      <td>125.011</td>\n",
              "      <td>0.44000</td>\n",
              "      <td>Oh lala</td>\n",
              "      <td>PNL</td>\n",
              "      <td>25.051</td>\n",
              "      <td>0.42980</td>\n",
              "    </tr>\n",
              "    <tr>\n",
              "      <th>15</th>\n",
              "      <td>99.988</td>\n",
              "      <td>0.01900</td>\n",
              "      <td>Char</td>\n",
              "      <td>Crystal Castles</td>\n",
              "      <td>50.074</td>\n",
              "      <td>0.00880</td>\n",
              "    </tr>\n",
              "    <tr>\n",
              "      <th>16</th>\n",
              "      <td>123.922</td>\n",
              "      <td>0.02390</td>\n",
              "      <td>World In Motion</td>\n",
              "      <td>New Order</td>\n",
              "      <td>26.140</td>\n",
              "      <td>0.01370</td>\n",
              "    </tr>\n",
              "    <tr>\n",
              "      <th>17</th>\n",
              "      <td>122.415</td>\n",
              "      <td>0.23300</td>\n",
              "      <td>One Nation Under a Groove</td>\n",
              "      <td>Funkadelic</td>\n",
              "      <td>27.647</td>\n",
              "      <td>0.22280</td>\n",
              "    </tr>\n",
              "    <tr>\n",
              "      <th>18</th>\n",
              "      <td>140.061</td>\n",
              "      <td>0.31400</td>\n",
              "      <td>Bouncin</td>\n",
              "      <td>Chief Keef</td>\n",
              "      <td>10.001</td>\n",
              "      <td>0.30380</td>\n",
              "    </tr>\n",
              "    <tr>\n",
              "      <th>19</th>\n",
              "      <td>109.982</td>\n",
              "      <td>0.02420</td>\n",
              "      <td>C O O L - Radio Edit</td>\n",
              "      <td>Le Youth</td>\n",
              "      <td>40.080</td>\n",
              "      <td>0.01400</td>\n",
              "    </tr>\n",
              "  </tbody>\n",
              "</table>\n",
              "</div>"
            ],
            "text/plain": [
              "      tempo  acousticness  ... tempo_difference acoustic_difference\n",
              "0   150.062       0.01020  ...            0.000             0.00000\n",
              "1   160.083       0.19900  ...           10.021             0.18880\n",
              "2    75.044       0.03440  ...           75.018             0.02420\n",
              "3    86.468       0.60400  ...           63.594             0.59380\n",
              "4   174.004       0.18000  ...           23.942             0.16980\n",
              "5    85.023       0.00479  ...           65.039             0.00541\n",
              "6    80.030       0.01450  ...           70.032             0.00430\n",
              "7   144.154       0.02020  ...            5.908             0.01000\n",
              "8   130.035       0.04810  ...           20.027             0.03790\n",
              "9    99.994       0.00208  ...           50.068             0.00812\n",
              "10  111.951       0.05720  ...           38.111             0.04700\n",
              "11  104.322       0.09150  ...           45.740             0.08130\n",
              "12  127.681       0.25300  ...           22.381             0.24280\n",
              "13  130.007       0.36600  ...           20.055             0.35580\n",
              "14  125.011       0.44000  ...           25.051             0.42980\n",
              "15   99.988       0.01900  ...           50.074             0.00880\n",
              "16  123.922       0.02390  ...           26.140             0.01370\n",
              "17  122.415       0.23300  ...           27.647             0.22280\n",
              "18  140.061       0.31400  ...           10.001             0.30380\n",
              "19  109.982       0.02420  ...           40.080             0.01400\n",
              "\n",
              "[20 rows x 6 columns]"
            ]
          },
          "metadata": {
            "tags": []
          },
          "execution_count": 23
        }
      ]
    },
    {
      "cell_type": "code",
      "metadata": {
        "id": "yQgqXKFi53fX",
        "colab": {
          "base_uri": "https://localhost:8080/",
          "height": 284
        },
        "outputId": "a7a65cc4-910b-4c22-908f-cf377ebb4956"
      },
      "source": [
        "# Visualize it\n",
        "\n",
        "plt.scatter(data['acoustic_difference'], data['song_title'])\n",
        "plt.xlabel('Difference in Acousticness')\n",
        "plt.show()"
      ],
      "execution_count": null,
      "outputs": [
        {
          "output_type": "display_data",
          "data": {
            "image/png": "[encoded data removed]",
            "text/plain": [
              "<Figure size 432x288 with 1 Axes>"
            ]
          },
          "metadata": {
            "tags": []
          }
        }
      ]
    },
    {
      "cell_type": "markdown",
      "metadata": {
        "id": "iQ8cHgol58W5"
      },
      "source": [
        "What song is most different in acousticness to \"Mask Off\"?"
      ]
    },
    {
      "cell_type": "markdown",
      "metadata": {
        "id": "JcLxATUa6EMZ"
      },
      "source": [
        "## Recommendation based on similarity\n",
        "\n",
        "Now we want to recommend a song based on its similarity to \"Mask Off\", in terms of both tempo and acousticness. Looking at the two graphs above, which song might you say is closest to \"Mask Off\" for both features?\n",
        "\n",
        "Take a moment to look at both graphs and try to decide!"
      ]
    },
    {
      "cell_type": "markdown",
      "metadata": {
        "id": "RX82zjdt6qg0"
      },
      "source": [
        "\n",
        "\n",
        "---\n",
        "\n",
        "One possible recommendation is the song \"Gyöngyhajú lány\", which is similar in both tempo and acousticness. Let's listen to a bit of the two songs to see if we think that's accurate:\n",
        "\n",
        "> Future - Mask Off (Clean): https://www.youtube.com/watch?v=5G2SjYMy7gk\n",
        "\n",
        "> Omega - Gyöngyhajú lány: https://www.youtube.com/watch?v=CGt-rTDkMcM&feature=youtu.be\n",
        "\n",
        "Though they sound very different from one another, you can indeed say that the features like tempo are similar. However, upon listening to the songs themselves, you might come to the conclusion that they don't _really_ sound similar. Perhaps other features of songs, like genre, may be better features to recommend off of. It's an open question! \n",
        "\n",
        "Part of the work when developing a recommendation system like this is to see which features give better recommendations, and to select what the best features might be. We might know that \"Mask Off\" and \"Gyöngyhajú lány\" are similar songs in terms of tempo and acoustiness, but this might not mean that they're similar with regards to other features."
      ]
    },
    {
      "cell_type": "markdown",
      "metadata": {
        "id": "6YVVTKv29ONf"
      },
      "source": [
        "### Quantifying similarity with multiple features\n",
        "\n",
        "Before we move on to using Scikit-Learn, let's try to quantify the similarity between songs using both tempo and acousticness together. Previously, we had calculated the tempo difference and the acousticness difference separately, and can compare songs based on one feature or the other. \n",
        "\n",
        "When we tried to find the most similar song using both features, we mainly approached it by visually inspecting the two graphs.\n",
        "\n",
        "But how can we calculate similarity with respect to both features, in a quantifiable way?"
      ]
    },
    {
      "cell_type": "markdown",
      "metadata": {
        "id": "NW0fn38Q-OWQ"
      },
      "source": [
        "First, let's see if we can visualize our 20 songs on the same graph, with both tempo and acoustiness features represented:"
      ]
    },
    {
      "cell_type": "code",
      "metadata": {
        "id": "EJQRYCUP-WDt",
        "colab": {
          "base_uri": "https://localhost:8080/",
          "height": 284
        },
        "outputId": "3b1759a5-4e5f-438b-fde2-2b92f519dcce"
      },
      "source": [
        "# The x-axis is tempo\n",
        "# The y-axis is acousticness\n",
        "plt.scatter(data['tempo_difference'], data['acoustic_difference'])\n",
        "plt.xlabel('Tempo Difference')\n",
        "plt.ylabel('Acoustic Difference')\n",
        "\n",
        "# Set the figure size of the plot so it's not too small to read\n",
        "plt.rcParams[\"figure.figsize\"] = 10,10\n",
        "\n",
        "# This loop goes through each point on the graph and labels it with the song title\n",
        "for index, row in data.iterrows():\n",
        "    plt.annotate(row['song_title'], xy=(row['tempo_difference'], row['acoustic_difference']))"
      ],
      "execution_count": null,
      "outputs": [
        {
          "output_type": "display_data",
          "data": {
            "image/png": "[encoded data removed]",
            "text/plain": [
              "<Figure size 432x288 with 1 Axes>"
            ]
          },
          "metadata": {
            "tags": []
          }
        }
      ]
    },
    {
      "cell_type": "markdown",
      "metadata": {
        "id": "zP7Tr32l_b6r"
      },
      "source": [
        "From this visualization, where we look at both features at once, it's a lot clearer that \"Gyöngyhajú lány\" is very similar to \"Mask Off\" in terms of both acousticness and tempo difference, whereas \"Master of None\" is very different.\n",
        "\n",
        "Interesting aside: While \"Mask Off\" was released in the year 2017, \"Master of None\" was released in 2007, but happened to regain popularity in 2017. This is likely because of its use in the Netflix show, \"Master of None\". While a data scientist may look at data in terms of the numbers, a social scientist (like a sociologist or cultural anthropologist) can give context to the data that we're looking at. When creating applications for the real world, we need this sort of context, and it may help us understand how to make better software like recommendation systems. For example, a music expert might be able to provide context that similarity in genre is a better feature to use for recommending a song, rather than similarity in tempo. Working across disciplines and bringing in perspectives from the arts and humanities helps us create better computer programs!"
      ]
    },
    {
      "cell_type": "markdown",
      "metadata": {
        "id": "kM56goXVBMRv"
      },
      "source": [
        "\n",
        "\n",
        "---\n",
        "\n",
        "On the visualization above, we might realize that we can quantify 'similarity' as the distance between two points. The shorter the distance from \"Mask Off\", the more similar the song represented by that point is. We can make use of this intuition to numerically compute similarity across both features.\n",
        "\n",
        "How do we compute distance again? We use the distance formula!\n",
        "\n",
        "$$ distance = \\sqrt{(y_2 - y_1)^{2} + (x_2 - x_1)^{2}} $$\n",
        "\n",
        "In words, we take the squared difference of both features, add them, and then take the square root.\n",
        "\n",
        "Let's say $ (x_2, y_2) $ is our point representing \"Mask Off\", which is at $(0,0)$. To find the distance to the point representing \"Gyöngyhajú lány\", we substitute for $x_1$ and $y_1$ the values of \"Gyöngyhajú lány\", which are 5.908 and 0.01000.\n",
        "\n",
        "Written out:\n",
        "\n",
        "$$ distance = \\sqrt{(0.01 - 0)^{2} + (5.908 - 0)^{2}} $$\n",
        "$$ distance = 5.908 $$ \n",
        "\n",
        "We can write this out in code and create a new column based on \"distance\" from \"Mask Off\":"
      ]
    },
    {
      "cell_type": "code",
      "metadata": {
        "id": "8JHNiIfvDFly",
        "colab": {
          "base_uri": "https://localhost:8080/",
          "height": 648
        },
        "outputId": "a7a19aa4-1876-4d41-c2eb-94a1e312080d"
      },
      "source": [
        "mask_off_tempo = 150.062\n",
        "mask_off_acousticness = 0.0102\n",
        "data[\"distance\"] = np.sqrt((data.acousticness - mask_off_acousticness) ** 2 + (data.tempo - mask_off_tempo) ** 2)\n",
        "\n",
        "# Let's sort the dataset in terms of distance\n",
        "sorted_dataset_distance = data.sort_values('distance')\n",
        "\n",
        "sorted_dataset_distance"
      ],
      "execution_count": null,
      "outputs": [
        {
          "output_type": "execute_result",
          "data": {
            "text/html": [
              "<div>\n",
              "<style scoped>\n",
              "    .dataframe tbody tr th:only-of-type {\n",
              "        vertical-align: middle;\n",
              "    }\n",
              "\n",
              "    .dataframe tbody tr th {\n",
              "        vertical-align: top;\n",
              "    }\n",
              "\n",
              "    .dataframe thead th {\n",
              "        text-align: right;\n",
              "    }\n",
              "</style>\n",
              "<table border=\"1\" class=\"dataframe\">\n",
              "  <thead>\n",
              "    <tr style=\"text-align: right;\">\n",
              "      <th></th>\n",
              "      <th>tempo</th>\n",
              "      <th>acousticness</th>\n",
              "      <th>song_title</th>\n",
              "      <th>artist</th>\n",
              "      <th>tempo_difference</th>\n",
              "      <th>acoustic_difference</th>\n",
              "      <th>distance</th>\n",
              "    </tr>\n",
              "  </thead>\n",
              "  <tbody>\n",
              "    <tr>\n",
              "      <th>0</th>\n",
              "      <td>150.062</td>\n",
              "      <td>0.01020</td>\n",
              "      <td>Mask Off</td>\n",
              "      <td>Future</td>\n",
              "      <td>0.000</td>\n",
              "      <td>0.00000</td>\n",
              "      <td>0.000000</td>\n",
              "    </tr>\n",
              "    <tr>\n",
              "      <th>7</th>\n",
              "      <td>144.154</td>\n",
              "      <td>0.02020</td>\n",
              "      <td>Gyöngyhajú lány</td>\n",
              "      <td>Omega</td>\n",
              "      <td>5.908</td>\n",
              "      <td>0.01000</td>\n",
              "      <td>5.908008</td>\n",
              "    </tr>\n",
              "    <tr>\n",
              "      <th>18</th>\n",
              "      <td>140.061</td>\n",
              "      <td>0.31400</td>\n",
              "      <td>Bouncin</td>\n",
              "      <td>Chief Keef</td>\n",
              "      <td>10.001</td>\n",
              "      <td>0.30380</td>\n",
              "      <td>10.005613</td>\n",
              "    </tr>\n",
              "    <tr>\n",
              "      <th>1</th>\n",
              "      <td>160.083</td>\n",
              "      <td>0.19900</td>\n",
              "      <td>Redbone</td>\n",
              "      <td>Childish Gambino</td>\n",
              "      <td>10.021</td>\n",
              "      <td>0.18880</td>\n",
              "      <td>10.022778</td>\n",
              "    </tr>\n",
              "    <tr>\n",
              "      <th>8</th>\n",
              "      <td>130.035</td>\n",
              "      <td>0.04810</td>\n",
              "      <td>I've Seen Footage</td>\n",
              "      <td>Death Grips</td>\n",
              "      <td>20.027</td>\n",
              "      <td>0.03790</td>\n",
              "      <td>20.027036</td>\n",
              "    </tr>\n",
              "    <tr>\n",
              "      <th>13</th>\n",
              "      <td>130.007</td>\n",
              "      <td>0.36600</td>\n",
              "      <td>One Night</td>\n",
              "      <td>Lil Yachty</td>\n",
              "      <td>20.055</td>\n",
              "      <td>0.35580</td>\n",
              "      <td>20.058156</td>\n",
              "    </tr>\n",
              "    <tr>\n",
              "      <th>12</th>\n",
              "      <td>127.681</td>\n",
              "      <td>0.25300</td>\n",
              "      <td>Cemalim</td>\n",
              "      <td>Erkin Koray</td>\n",
              "      <td>22.381</td>\n",
              "      <td>0.24280</td>\n",
              "      <td>22.382317</td>\n",
              "    </tr>\n",
              "    <tr>\n",
              "      <th>4</th>\n",
              "      <td>174.004</td>\n",
              "      <td>0.18000</td>\n",
              "      <td>Parallel Lines</td>\n",
              "      <td>Junior Boys</td>\n",
              "      <td>23.942</td>\n",
              "      <td>0.16980</td>\n",
              "      <td>23.942602</td>\n",
              "    </tr>\n",
              "    <tr>\n",
              "      <th>14</th>\n",
              "      <td>125.011</td>\n",
              "      <td>0.44000</td>\n",
              "      <td>Oh lala</td>\n",
              "      <td>PNL</td>\n",
              "      <td>25.051</td>\n",
              "      <td>0.42980</td>\n",
              "      <td>25.054687</td>\n",
              "    </tr>\n",
              "    <tr>\n",
              "      <th>16</th>\n",
              "      <td>123.922</td>\n",
              "      <td>0.02390</td>\n",
              "      <td>World In Motion</td>\n",
              "      <td>New Order</td>\n",
              "      <td>26.140</td>\n",
              "      <td>0.01370</td>\n",
              "      <td>26.140004</td>\n",
              "    </tr>\n",
              "    <tr>\n",
              "      <th>17</th>\n",
              "      <td>122.415</td>\n",
              "      <td>0.23300</td>\n",
              "      <td>One Nation Under a Groove</td>\n",
              "      <td>Funkadelic</td>\n",
              "      <td>27.647</td>\n",
              "      <td>0.22280</td>\n",
              "      <td>27.647898</td>\n",
              "    </tr>\n",
              "    <tr>\n",
              "      <th>10</th>\n",
              "      <td>111.951</td>\n",
              "      <td>0.05720</td>\n",
              "      <td>Subways - In Flagranti Extended Edit</td>\n",
              "      <td>The Avalanches</td>\n",
              "      <td>38.111</td>\n",
              "      <td>0.04700</td>\n",
              "      <td>38.111029</td>\n",
              "    </tr>\n",
              "    <tr>\n",
              "      <th>19</th>\n",
              "      <td>109.982</td>\n",
              "      <td>0.02420</td>\n",
              "      <td>C O O L - Radio Edit</td>\n",
              "      <td>Le Youth</td>\n",
              "      <td>40.080</td>\n",
              "      <td>0.01400</td>\n",
              "      <td>40.080002</td>\n",
              "    </tr>\n",
              "    <tr>\n",
              "      <th>11</th>\n",
              "      <td>104.322</td>\n",
              "      <td>0.09150</td>\n",
              "      <td>Donme Dolap - Baris K Edit</td>\n",
              "      <td>Modern Folk Üçlüsü</td>\n",
              "      <td>45.740</td>\n",
              "      <td>0.08130</td>\n",
              "      <td>45.740072</td>\n",
              "    </tr>\n",
              "    <tr>\n",
              "      <th>9</th>\n",
              "      <td>99.994</td>\n",
              "      <td>0.00208</td>\n",
              "      <td>Digital Animal</td>\n",
              "      <td>Honey Claws</td>\n",
              "      <td>50.068</td>\n",
              "      <td>0.00812</td>\n",
              "      <td>50.068001</td>\n",
              "    </tr>\n",
              "    <tr>\n",
              "      <th>15</th>\n",
              "      <td>99.988</td>\n",
              "      <td>0.01900</td>\n",
              "      <td>Char</td>\n",
              "      <td>Crystal Castles</td>\n",
              "      <td>50.074</td>\n",
              "      <td>0.00880</td>\n",
              "      <td>50.074001</td>\n",
              "    </tr>\n",
              "    <tr>\n",
              "      <th>3</th>\n",
              "      <td>86.468</td>\n",
              "      <td>0.60400</td>\n",
              "      <td>Master Of None</td>\n",
              "      <td>Beach House</td>\n",
              "      <td>63.594</td>\n",
              "      <td>0.59380</td>\n",
              "      <td>63.596772</td>\n",
              "    </tr>\n",
              "    <tr>\n",
              "      <th>5</th>\n",
              "      <td>85.023</td>\n",
              "      <td>0.00479</td>\n",
              "      <td>Sneakin’</td>\n",
              "      <td>Drake</td>\n",
              "      <td>65.039</td>\n",
              "      <td>0.00541</td>\n",
              "      <td>65.039000</td>\n",
              "    </tr>\n",
              "    <tr>\n",
              "      <th>6</th>\n",
              "      <td>80.030</td>\n",
              "      <td>0.01450</td>\n",
              "      <td>Childs Play</td>\n",
              "      <td>Drake</td>\n",
              "      <td>70.032</td>\n",
              "      <td>0.00430</td>\n",
              "      <td>70.032000</td>\n",
              "    </tr>\n",
              "    <tr>\n",
              "      <th>2</th>\n",
              "      <td>75.044</td>\n",
              "      <td>0.03440</td>\n",
              "      <td>Xanny Family</td>\n",
              "      <td>Future</td>\n",
              "      <td>75.018</td>\n",
              "      <td>0.02420</td>\n",
              "      <td>75.018004</td>\n",
              "    </tr>\n",
              "  </tbody>\n",
              "</table>\n",
              "</div>"
            ],
            "text/plain": [
              "      tempo  acousticness  ... acoustic_difference   distance\n",
              "0   150.062       0.01020  ...             0.00000   0.000000\n",
              "7   144.154       0.02020  ...             0.01000   5.908008\n",
              "18  140.061       0.31400  ...             0.30380  10.005613\n",
              "1   160.083       0.19900  ...             0.18880  10.022778\n",
              "8   130.035       0.04810  ...             0.03790  20.027036\n",
              "13  130.007       0.36600  ...             0.35580  20.058156\n",
              "12  127.681       0.25300  ...             0.24280  22.382317\n",
              "4   174.004       0.18000  ...             0.16980  23.942602\n",
              "14  125.011       0.44000  ...             0.42980  25.054687\n",
              "16  123.922       0.02390  ...             0.01370  26.140004\n",
              "17  122.415       0.23300  ...             0.22280  27.647898\n",
              "10  111.951       0.05720  ...             0.04700  38.111029\n",
              "19  109.982       0.02420  ...             0.01400  40.080002\n",
              "11  104.322       0.09150  ...             0.08130  45.740072\n",
              "9    99.994       0.00208  ...             0.00812  50.068001\n",
              "15   99.988       0.01900  ...             0.00880  50.074001\n",
              "3    86.468       0.60400  ...             0.59380  63.596772\n",
              "5    85.023       0.00479  ...             0.00541  65.039000\n",
              "6    80.030       0.01450  ...             0.00430  70.032000\n",
              "2    75.044       0.03440  ...             0.02420  75.018004\n",
              "\n",
              "[20 rows x 7 columns]"
            ]
          },
          "metadata": {
            "tags": []
          },
          "execution_count": 26
        }
      ]
    },
    {
      "cell_type": "markdown",
      "metadata": {
        "id": "WbXTMsfHElZk"
      },
      "source": [
        "Now we have a column that tells us numerically which song is closest to \"Mask Off\" in terms of both tempo and acousticness!\n",
        "\n",
        "### Normalizing our data\n",
        "\n",
        "But wait a minute... if we take a close look at the `tempo_difference` and `distance` columns, we will notice that the two are very similar. This makes sense, because while tempo values range anywhere from 0 to 161 in our dataset, acousticness only goes from 0 to 1. The `tempo_difference` completely overshadows the `acoustic_difference` when we calculate `distance`.\n",
        "\n",
        "In data science and machine learning, it's very common for different features to work on completely different scales. This means that we cannot compare two features directly against one another, without first **normalizing** the data to the same scale across all features. Typically, normalizing our data means scaling the values of our features to a range between 0 and 1.\n",
        "\n",
        "We won't cover normalizing in this lesson, but it's good to be aware that this is a typical process that we perform on our data before using it to train a machine learning system."
      ]
    },
    {
      "cell_type": "markdown",
      "metadata": {
        "id": "0CILNo48tX73"
      },
      "source": [
        "# Scikit-Learn\n",
        "\n"
      ]
    },
    {
      "cell_type": "markdown",
      "metadata": {
        "id": "04FLQcjuIdFw"
      },
      "source": [
        "Finally, we get to the library of the hour: scikit-learn.\n",
        "\n",
        "Scikit-learn is a powerful library because it allows us to easily apply all of the machine learning concepts that we've learned to real datasets with just a few lines of code.\n",
        "\n",
        "## The Iris Dataset\n",
        "\n",
        "Before we get started with using scikit-learn, we need to decide what machine learning task we want to accomplish with it. \n",
        "\n",
        "In this lesson, we'll use scikit-learn for Classification using the **Decision Tree** algorithm, and we'll use a popular sample dataset often referred to as \"the Iris dataset\" that comes with the scikit-learn library.\n",
        "\n",
        "There are many different species of Iris flowers ([Iris itself is a genus](https://en.wikipedia.org/wiki/Iris_(plant))). Our goal is to train a machine learning system to be able to take a new Iris flower and predict which Iris species it is.\n",
        "\n",
        "![alt text](https://www.gardendesign.com/pictures/images/275x275Exact_34x0/site_3/iris-sibirica-ruffled-velvet-iris-purple-flower-beardless-siberian-iris-alamy-stock-photo_12591.jpg)\n",
        "\n",
        "This dataset has:\n",
        "\n",
        "* 150 examples\n",
        "* 3 classes: setosa, versicolor, and virginica\n",
        "* 4 features: sepal length, sepal width, petal length, petal width\n",
        "* 50 examples for each class\n",
        "\n",
        "Let's load this dataset using scikit-learn, which is called `sklearn` in Python."
      ]
    },
    {
      "cell_type": "code",
      "metadata": {
        "id": "of55AT7RLKtW",
        "colab": {
          "base_uri": "https://localhost:8080/",
          "height": 1000
        },
        "outputId": "744b7b54-b9d0-4bd8-ed51-92512c2fc534"
      },
      "source": [
        "from sklearn.datasets import load_iris\n",
        "\n",
        "# Load the dataset, which contains the examples and their labels\n",
        "iris_dataset = load_iris()\n",
        "\n",
        "print(iris_dataset)"
      ],
      "execution_count": null,
      "outputs": [
        {
          "output_type": "stream",
          "text": [
            "{'data': array([[5.1, 3.5, 1.4, 0.2],\n",
            "       [4.9, 3. , 1.4, 0.2],\n",
            "       [4.7, 3.2, 1.3, 0.2],\n",
            "       [4.6, 3.1, 1.5, 0.2],\n",
            "       [5. , 3.6, 1.4, 0.2],\n",
            "       [5.4, 3.9, 1.7, 0.4],\n",
            "       [4.6, 3.4, 1.4, 0.3],\n",
            "       [5. , 3.4, 1.5, 0.2],\n",
            "       [4.4, 2.9, 1.4, 0.2],\n",
            "       [4.9, 3.1, 1.5, 0.1],\n",
            "       [5.4, 3.7, 1.5, 0.2],\n",
            "       [4.8, 3.4, 1.6, 0.2],\n",
            "       [4.8, 3. , 1.4, 0.1],\n",
            "       [4.3, 3. , 1.1, 0.1],\n",
            "       [5.8, 4. , 1.2, 0.2],\n",
            "       [5.7, 4.4, 1.5, 0.4],\n",
            "       [5.4, 3.9, 1.3, 0.4],\n",
            "       [5.1, 3.5, 1.4, 0.3],\n",
            "       [5.7, 3.8, 1.7, 0.3],\n",
            "       [5.1, 3.8, 1.5, 0.3],\n",
            "       [5.4, 3.4, 1.7, 0.2],\n",
            "       [5.1, 3.7, 1.5, 0.4],\n",
            "       [4.6, 3.6, 1. , 0.2],\n",
            "       [5.1, 3.3, 1.7, 0.5],\n",
            "       [4.8, 3.4, 1.9, 0.2],\n",
            "       [5. , 3. , 1.6, 0.2],\n",
            "       [5. , 3.4, 1.6, 0.4],\n",
            "       [5.2, 3.5, 1.5, 0.2],\n",
            "       [5.2, 3.4, 1.4, 0.2],\n",
            "       [4.7, 3.2, 1.6, 0.2],\n",
            "       [4.8, 3.1, 1.6, 0.2],\n",
            "       [5.4, 3.4, 1.5, 0.4],\n",
            "       [5.2, 4.1, 1.5, 0.1],\n",
            "       [5.5, 4.2, 1.4, 0.2],\n",
            "       [4.9, 3.1, 1.5, 0.2],\n",
            "       [5. , 3.2, 1.2, 0.2],\n",
            "       [5.5, 3.5, 1.3, 0.2],\n",
            "       [4.9, 3.6, 1.4, 0.1],\n",
            "       [4.4, 3. , 1.3, 0.2],\n",
            "       [5.1, 3.4, 1.5, 0.2],\n",
            "       [5. , 3.5, 1.3, 0.3],\n",
            "       [4.5, 2.3, 1.3, 0.3],\n",
            "       [4.4, 3.2, 1.3, 0.2],\n",
            "       [5. , 3.5, 1.6, 0.6],\n",
            "       [5.1, 3.8, 1.9, 0.4],\n",
            "       [4.8, 3. , 1.4, 0.3],\n",
            "       [5.1, 3.8, 1.6, 0.2],\n",
            "       [4.6, 3.2, 1.4, 0.2],\n",
            "       [5.3, 3.7, 1.5, 0.2],\n",
            "       [5. , 3.3, 1.4, 0.2],\n",
            "       [7. , 3.2, 4.7, 1.4],\n",
            "       [6.4, 3.2, 4.5, 1.5],\n",
            "       [6.9, 3.1, 4.9, 1.5],\n",
            "       [5.5, 2.3, 4. , 1.3],\n",
            "       [6.5, 2.8, 4.6, 1.5],\n",
            "       [5.7, 2.8, 4.5, 1.3],\n",
            "       [6.3, 3.3, 4.7, 1.6],\n",
            "       [4.9, 2.4, 3.3, 1. ],\n",
            "       [6.6, 2.9, 4.6, 1.3],\n",
            "       [5.2, 2.7, 3.9, 1.4],\n",
            "       [5. , 2. , 3.5, 1. ],\n",
            "       [5.9, 3. , 4.2, 1.5],\n",
            "       [6. , 2.2, 4. , 1. ],\n",
            "       [6.1, 2.9, 4.7, 1.4],\n",
            "       [5.6, 2.9, 3.6, 1.3],\n",
            "       [6.7, 3.1, 4.4, 1.4],\n",
            "       [5.6, 3. , 4.5, 1.5],\n",
            "       [5.8, 2.7, 4.1, 1. ],\n",
            "       [6.2, 2.2, 4.5, 1.5],\n",
            "       [5.6, 2.5, 3.9, 1.1],\n",
            "       [5.9, 3.2, 4.8, 1.8],\n",
            "       [6.1, 2.8, 4. , 1.3],\n",
            "       [6.3, 2.5, 4.9, 1.5],\n",
            "       [6.1, 2.8, 4.7, 1.2],\n",
            "       [6.4, 2.9, 4.3, 1.3],\n",
            "       [6.6, 3. , 4.4, 1.4],\n",
            "       [6.8, 2.8, 4.8, 1.4],\n",
            "       [6.7, 3. , 5. , 1.7],\n",
            "       [6. , 2.9, 4.5, 1.5],\n",
            "       [5.7, 2.6, 3.5, 1. ],\n",
            "       [5.5, 2.4, 3.8, 1.1],\n",
            "       [5.5, 2.4, 3.7, 1. ],\n",
            "       [5.8, 2.7, 3.9, 1.2],\n",
            "       [6. , 2.7, 5.1, 1.6],\n",
            "       [5.4, 3. , 4.5, 1.5],\n",
            "       [6. , 3.4, 4.5, 1.6],\n",
            "       [6.7, 3.1, 4.7, 1.5],\n",
            "       [6.3, 2.3, 4.4, 1.3],\n",
            "       [5.6, 3. , 4.1, 1.3],\n",
            "       [5.5, 2.5, 4. , 1.3],\n",
            "       [5.5, 2.6, 4.4, 1.2],\n",
            "       [6.1, 3. , 4.6, 1.4],\n",
            "       [5.8, 2.6, 4. , 1.2],\n",
            "       [5. , 2.3, 3.3, 1. ],\n",
            "       [5.6, 2.7, 4.2, 1.3],\n",
            "       [5.7, 3. , 4.2, 1.2],\n",
            "       [5.7, 2.9, 4.2, 1.3],\n",
            "       [6.2, 2.9, 4.3, 1.3],\n",
            "       [5.1, 2.5, 3. , 1.1],\n",
            "       [5.7, 2.8, 4.1, 1.3],\n",
            "       [6.3, 3.3, 6. , 2.5],\n",
            "       [5.8, 2.7, 5.1, 1.9],\n",
            "       [7.1, 3. , 5.9, 2.1],\n",
            "       [6.3, 2.9, 5.6, 1.8],\n",
            "       [6.5, 3. , 5.8, 2.2],\n",
            "       [7.6, 3. , 6.6, 2.1],\n",
            "       [4.9, 2.5, 4.5, 1.7],\n",
            "       [7.3, 2.9, 6.3, 1.8],\n",
            "       [6.7, 2.5, 5.8, 1.8],\n",
            "       [7.2, 3.6, 6.1, 2.5],\n",
            "       [6.5, 3.2, 5.1, 2. ],\n",
            "       [6.4, 2.7, 5.3, 1.9],\n",
            "       [6.8, 3. , 5.5, 2.1],\n",
            "       [5.7, 2.5, 5. , 2. ],\n",
            "       [5.8, 2.8, 5.1, 2.4],\n",
            "       [6.4, 3.2, 5.3, 2.3],\n",
            "       [6.5, 3. , 5.5, 1.8],\n",
            "       [7.7, 3.8, 6.7, 2.2],\n",
            "       [7.7, 2.6, 6.9, 2.3],\n",
            "       [6. , 2.2, 5. , 1.5],\n",
            "       [6.9, 3.2, 5.7, 2.3],\n",
            "       [5.6, 2.8, 4.9, 2. ],\n",
            "       [7.7, 2.8, 6.7, 2. ],\n",
            "       [6.3, 2.7, 4.9, 1.8],\n",
            "       [6.7, 3.3, 5.7, 2.1],\n",
            "       [7.2, 3.2, 6. , 1.8],\n",
            "       [6.2, 2.8, 4.8, 1.8],\n",
            "       [6.1, 3. , 4.9, 1.8],\n",
            "       [6.4, 2.8, 5.6, 2.1],\n",
            "       [7.2, 3. , 5.8, 1.6],\n",
            "       [7.4, 2.8, 6.1, 1.9],\n",
            "       [7.9, 3.8, 6.4, 2. ],\n",
            "       [6.4, 2.8, 5.6, 2.2],\n",
            "       [6.3, 2.8, 5.1, 1.5],\n",
            "       [6.1, 2.6, 5.6, 1.4],\n",
            "       [7.7, 3. , 6.1, 2.3],\n",
            "       [6.3, 3.4, 5.6, 2.4],\n",
            "       [6.4, 3.1, 5.5, 1.8],\n",
            "       [6. , 3. , 4.8, 1.8],\n",
            "       [6.9, 3.1, 5.4, 2.1],\n",
            "       [6.7, 3.1, 5.6, 2.4],\n",
            "       [6.9, 3.1, 5.1, 2.3],\n",
            "       [5.8, 2.7, 5.1, 1.9],\n",
            "       [6.8, 3.2, 5.9, 2.3],\n",
            "       [6.7, 3.3, 5.7, 2.5],\n",
            "       [6.7, 3. , 5.2, 2.3],\n",
            "       [6.3, 2.5, 5. , 1.9],\n",
            "       [6.5, 3. , 5.2, 2. ],\n",
            "       [6.2, 3.4, 5.4, 2.3],\n",
            "       [5.9, 3. , 5.1, 1.8]]), 'target': array([0, 0, 0, 0, 0, 0, 0, 0, 0, 0, 0, 0, 0, 0, 0, 0, 0, 0, 0, 0, 0, 0,\n",
            "       0, 0, 0, 0, 0, 0, 0, 0, 0, 0, 0, 0, 0, 0, 0, 0, 0, 0, 0, 0, 0, 0,\n",
            "       0, 0, 0, 0, 0, 0, 1, 1, 1, 1, 1, 1, 1, 1, 1, 1, 1, 1, 1, 1, 1, 1,\n",
            "       1, 1, 1, 1, 1, 1, 1, 1, 1, 1, 1, 1, 1, 1, 1, 1, 1, 1, 1, 1, 1, 1,\n",
            "       1, 1, 1, 1, 1, 1, 1, 1, 1, 1, 1, 1, 2, 2, 2, 2, 2, 2, 2, 2, 2, 2,\n",
            "       2, 2, 2, 2, 2, 2, 2, 2, 2, 2, 2, 2, 2, 2, 2, 2, 2, 2, 2, 2, 2, 2,\n",
            "       2, 2, 2, 2, 2, 2, 2, 2, 2, 2, 2, 2, 2, 2, 2, 2, 2, 2]), 'target_names': array(['setosa', 'versicolor', 'virginica'], dtype='<U10'), 'DESCR': '.. _iris_dataset:\\n\\nIris plants dataset\\n--------------------\\n\\n**Data Set Characteristics:**\\n\\n    :Number of Instances: 150 (50 in each of three classes)\\n    :Number of Attributes: 4 numeric, predictive attributes and the class\\n    :Attribute Information:\\n        - sepal length in cm\\n        - sepal width in cm\\n        - petal length in cm\\n        - petal width in cm\\n        - class:\\n                - Iris-Setosa\\n                - Iris-Versicolour\\n                - Iris-Virginica\\n                \\n    :Summary Statistics:\\n\\n    ============== ==== ==== ======= ===== ====================\\n                    Min  Max   Mean    SD   Class Correlation\\n    ============== ==== ==== ======= ===== ====================\\n    sepal length:   4.3  7.9   5.84   0.83    0.7826\\n    sepal width:    2.0  4.4   3.05   0.43   -0.4194\\n    petal length:   1.0  6.9   3.76   1.76    0.9490  (high!)\\n    petal width:    0.1  2.5   1.20   0.76    0.9565  (high!)\\n    ============== ==== ==== ======= ===== ====================\\n\\n    :Missing Attribute Values: None\\n    :Class Distribution: 33.3% for each of 3 classes.\\n    :Creator: R.A. Fisher\\n    :Donor: Michael Marshall (MARSHALL%PLU@io.arc.nasa.gov)\\n    :Date: July, 1988\\n\\nThe famous Iris database, first used by Sir R.A. Fisher. The dataset is taken\\nfrom Fisher\\'s paper. Note that it\\'s the same as in R, but not as in the UCI\\nMachine Learning Repository, which has two wrong data points.\\n\\nThis is perhaps the best known database to be found in the\\npattern recognition literature.  Fisher\\'s paper is a classic in the field and\\nis referenced frequently to this day.  (See Duda & Hart, for example.)  The\\ndata set contains 3 classes of 50 instances each, where each class refers to a\\ntype of iris plant.  One class is linearly separable from the other 2; the\\nlatter are NOT linearly separable from each other.\\n\\n.. topic:: References\\n\\n   - Fisher, R.A. \"The use of multiple measurements in taxonomic problems\"\\n     Annual Eugenics, 7, Part II, 179-188 (1936); also in \"Contributions to\\n     Mathematical Statistics\" (John Wiley, NY, 1950).\\n   - Duda, R.O., & Hart, P.E. (1973) Pattern Classification and Scene Analysis.\\n     (Q327.D83) John Wiley & Sons.  ISBN 0-471-22361-1.  See page 218.\\n   - Dasarathy, B.V. (1980) \"Nosing Around the Neighborhood: A New System\\n     Structure and Classification Rule for Recognition in Partially Exposed\\n     Environments\".  IEEE Transactions on Pattern Analysis and Machine\\n     Intelligence, Vol. PAMI-2, No. 1, 67-71.\\n   - Gates, G.W. (1972) \"The Reduced Nearest Neighbor Rule\".  IEEE Transactions\\n     on Information Theory, May 1972, 431-433.\\n   - See also: 1988 MLC Proceedings, 54-64.  Cheeseman et al\"s AUTOCLASS II\\n     conceptual clustering system finds 3 classes in the data.\\n   - Many, many more ...', 'feature_names': ['sepal length (cm)', 'sepal width (cm)', 'petal length (cm)', 'petal width (cm)'], 'filename': '/usr/local/lib/python3.6/dist-packages/sklearn/datasets/data/iris.csv'}\n"
          ],
          "name": "stdout"
        }
      ]
    },
    {
      "cell_type": "markdown",
      "metadata": {
        "id": "A27Q-iC8Ldwl"
      },
      "source": [
        "Like with our music data, printing out all of the dataset at once isn't the most approachable or presentable. We can manipulate this data to visualize it with a library like `pandas` with `matplotlib` like we did in the music example, but for now, we'll just work directly with this data.\n",
        "\n",
        "Notice that included in our dataset is an array of 150 lists, called the \"data\" array. Each list here represents a flower example and has 4 values. These correspond to the 4 features of each flower (sepal length, sepal width, petal length, petal width).\n",
        "\n",
        "Additionally, for each example, there is a correct flower classification (as either setosa, versicolor, or virginica). If you scroll to the bottom of the printout, you will see this reflected in the \"target\" array.\n",
        "\n",
        "## Splitting up the training and test sets\n",
        "\n",
        "Remember that in classification, which is a type of supervised machine learning, we must use a training set to teach our model how to correctly classify future examples. We also use a test set to test how good our model is.\n",
        "\n",
        "The first step that we'll do is break up the Iris dataset into training set and test set:"
      ]
    },
    {
      "cell_type": "code",
      "metadata": {
        "id": "LqYJ3_PvM2fF",
        "colab": {
          "base_uri": "https://localhost:8080/",
          "height": 498
        },
        "outputId": "6dc0888c-8d6e-4908-84cd-749c9561ec17"
      },
      "source": [
        "from sklearn.model_selection import train_test_split\n",
        "\n",
        "# Break the dataset up into the examples (X) and their labels (y)\n",
        "X, y = iris_dataset.data, iris_dataset.target\n",
        "\n",
        "# Split up the X and y datasets into train and test sets\n",
        "# 25% of the dataset will be used for the test set\n",
        "X_train, X_test, y_train, y_test = train_test_split(X, y, test_size=0.25, random_state=31)\n",
        "\n",
        "# Let's use pandas to visualize 10% of our training set\n",
        "df = pd.DataFrame(\n",
        "    data=np.c_[X,y], \n",
        "    columns=iris_dataset['feature_names'] + ['target'])\n",
        "df.sample(frac=0.1)"
      ],
      "execution_count": null,
      "outputs": [
        {
          "output_type": "execute_result",
          "data": {
            "text/html": [
              "<div>\n",
              "<style scoped>\n",
              "    .dataframe tbody tr th:only-of-type {\n",
              "        vertical-align: middle;\n",
              "    }\n",
              "\n",
              "    .dataframe tbody tr th {\n",
              "        vertical-align: top;\n",
              "    }\n",
              "\n",
              "    .dataframe thead th {\n",
              "        text-align: right;\n",
              "    }\n",
              "</style>\n",
              "<table border=\"1\" class=\"dataframe\">\n",
              "  <thead>\n",
              "    <tr style=\"text-align: right;\">\n",
              "      <th></th>\n",
              "      <th>sepal length (cm)</th>\n",
              "      <th>sepal width (cm)</th>\n",
              "      <th>petal length (cm)</th>\n",
              "      <th>petal width (cm)</th>\n",
              "      <th>target</th>\n",
              "    </tr>\n",
              "  </thead>\n",
              "  <tbody>\n",
              "    <tr>\n",
              "      <th>5</th>\n",
              "      <td>5.4</td>\n",
              "      <td>3.9</td>\n",
              "      <td>1.7</td>\n",
              "      <td>0.4</td>\n",
              "      <td>0.0</td>\n",
              "    </tr>\n",
              "    <tr>\n",
              "      <th>57</th>\n",
              "      <td>4.9</td>\n",
              "      <td>2.4</td>\n",
              "      <td>3.3</td>\n",
              "      <td>1.0</td>\n",
              "      <td>1.0</td>\n",
              "    </tr>\n",
              "    <tr>\n",
              "      <th>95</th>\n",
              "      <td>5.7</td>\n",
              "      <td>3.0</td>\n",
              "      <td>4.2</td>\n",
              "      <td>1.2</td>\n",
              "      <td>1.0</td>\n",
              "    </tr>\n",
              "    <tr>\n",
              "      <th>25</th>\n",
              "      <td>5.0</td>\n",
              "      <td>3.0</td>\n",
              "      <td>1.6</td>\n",
              "      <td>0.2</td>\n",
              "      <td>0.0</td>\n",
              "    </tr>\n",
              "    <tr>\n",
              "      <th>64</th>\n",
              "      <td>5.6</td>\n",
              "      <td>2.9</td>\n",
              "      <td>3.6</td>\n",
              "      <td>1.3</td>\n",
              "      <td>1.0</td>\n",
              "    </tr>\n",
              "    <tr>\n",
              "      <th>115</th>\n",
              "      <td>6.4</td>\n",
              "      <td>3.2</td>\n",
              "      <td>5.3</td>\n",
              "      <td>2.3</td>\n",
              "      <td>2.0</td>\n",
              "    </tr>\n",
              "    <tr>\n",
              "      <th>112</th>\n",
              "      <td>6.8</td>\n",
              "      <td>3.0</td>\n",
              "      <td>5.5</td>\n",
              "      <td>2.1</td>\n",
              "      <td>2.0</td>\n",
              "    </tr>\n",
              "    <tr>\n",
              "      <th>145</th>\n",
              "      <td>6.7</td>\n",
              "      <td>3.0</td>\n",
              "      <td>5.2</td>\n",
              "      <td>2.3</td>\n",
              "      <td>2.0</td>\n",
              "    </tr>\n",
              "    <tr>\n",
              "      <th>68</th>\n",
              "      <td>6.2</td>\n",
              "      <td>2.2</td>\n",
              "      <td>4.5</td>\n",
              "      <td>1.5</td>\n",
              "      <td>1.0</td>\n",
              "    </tr>\n",
              "    <tr>\n",
              "      <th>10</th>\n",
              "      <td>5.4</td>\n",
              "      <td>3.7</td>\n",
              "      <td>1.5</td>\n",
              "      <td>0.2</td>\n",
              "      <td>0.0</td>\n",
              "    </tr>\n",
              "    <tr>\n",
              "      <th>26</th>\n",
              "      <td>5.0</td>\n",
              "      <td>3.4</td>\n",
              "      <td>1.6</td>\n",
              "      <td>0.4</td>\n",
              "      <td>0.0</td>\n",
              "    </tr>\n",
              "    <tr>\n",
              "      <th>59</th>\n",
              "      <td>5.2</td>\n",
              "      <td>2.7</td>\n",
              "      <td>3.9</td>\n",
              "      <td>1.4</td>\n",
              "      <td>1.0</td>\n",
              "    </tr>\n",
              "    <tr>\n",
              "      <th>53</th>\n",
              "      <td>5.5</td>\n",
              "      <td>2.3</td>\n",
              "      <td>4.0</td>\n",
              "      <td>1.3</td>\n",
              "      <td>1.0</td>\n",
              "    </tr>\n",
              "    <tr>\n",
              "      <th>37</th>\n",
              "      <td>4.9</td>\n",
              "      <td>3.6</td>\n",
              "      <td>1.4</td>\n",
              "      <td>0.1</td>\n",
              "      <td>0.0</td>\n",
              "    </tr>\n",
              "    <tr>\n",
              "      <th>31</th>\n",
              "      <td>5.4</td>\n",
              "      <td>3.4</td>\n",
              "      <td>1.5</td>\n",
              "      <td>0.4</td>\n",
              "      <td>0.0</td>\n",
              "    </tr>\n",
              "  </tbody>\n",
              "</table>\n",
              "</div>"
            ],
            "text/plain": [
              "     sepal length (cm)  sepal width (cm)  ...  petal width (cm)  target\n",
              "5                  5.4               3.9  ...               0.4     0.0\n",
              "57                 4.9               2.4  ...               1.0     1.0\n",
              "95                 5.7               3.0  ...               1.2     1.0\n",
              "25                 5.0               3.0  ...               0.2     0.0\n",
              "64                 5.6               2.9  ...               1.3     1.0\n",
              "115                6.4               3.2  ...               2.3     2.0\n",
              "112                6.8               3.0  ...               2.1     2.0\n",
              "145                6.7               3.0  ...               2.3     2.0\n",
              "68                 6.2               2.2  ...               1.5     1.0\n",
              "10                 5.4               3.7  ...               0.2     0.0\n",
              "26                 5.0               3.4  ...               0.4     0.0\n",
              "59                 5.2               2.7  ...               1.4     1.0\n",
              "53                 5.5               2.3  ...               1.3     1.0\n",
              "37                 4.9               3.6  ...               0.1     0.0\n",
              "31                 5.4               3.4  ...               0.4     0.0\n",
              "\n",
              "[15 rows x 5 columns]"
            ]
          },
          "metadata": {
            "tags": []
          },
          "execution_count": 38
        }
      ]
    },
    {
      "cell_type": "markdown",
      "metadata": {
        "id": "JdqolJoRNV--"
      },
      "source": [
        "Our training set contains all of the correct targets (classes) for our flower examples, along with the four features of each flower. We'll need all of this information to teach our classifier how to predict a class given a new set of four features.\n",
        "\n",
        "**Note: Because we randomly split the examples of the dataset into a training set and test set, your output above may look different from another student's output.**\n",
        "\n",
        "## Training our decision tree\n",
        "\n",
        "Now that we've split our data into a training set and a test set, it's time to train our decision tree."
      ]
    },
    {
      "cell_type": "code",
      "metadata": {
        "id": "UIhZ76JtN-Sv"
      },
      "source": [
        "# sklearn has these classifiers built in\n",
        "# We're going to import the decision tree classifier\n",
        "from sklearn.tree import DecisionTreeClassifier\n",
        "\n",
        "# Initialize the classifier with a max_depth of 5\n",
        "classifier = DecisionTreeClassifier(max_depth=5)\n",
        "\n",
        "# Fit the classifier to the training set\n",
        "# This is the training process!! sklearn makes it super easy for us\n",
        "classifier = classifier.fit(X_train, y_train)"
      ],
      "execution_count": null,
      "outputs": []
    },
    {
      "cell_type": "markdown",
      "metadata": {
        "id": "AavnLV4HOGTL"
      },
      "source": [
        "One of the major advantages with using a Decision Tree is that we can see visually how it makes its decisions. This **transparency** is not true for all models and is actually one of the big research questions in AI today.\n",
        "\n",
        "For example, machine learning is often used in government agencies today. If a model makes a decision that can affect whether someone gets health care or a loan, they should be able to ask *why* the system made the decision that it did.\n",
        "\n",
        "Let's visualize the decision tree below:"
      ]
    },
    {
      "cell_type": "code",
      "metadata": {
        "id": "aoztGEDkOJSA",
        "colab": {
          "base_uri": "https://localhost:8080/",
          "height": 675
        },
        "outputId": "081ebd2d-a8f3-4c87-d5d5-23d59dd068f3"
      },
      "source": [
        "from sklearn import tree\n",
        "import graphviz \n",
        "\n",
        "dot_data = tree.export_graphviz(classifier, out_file=None, impurity=False) \n",
        "graph = graphviz.Source(dot_data) \n",
        "graph"
      ],
      "execution_count": null,
      "outputs": [
        {
          "output_type": "execute_result",
          "data": {
            "text/plain": [
              "<graphviz.files.Source at 0x7fd0cab67320>"
            ],
            "image/svg+xml": "<?xml version=\"1.0\" encoding=\"UTF-8\" standalone=\"no\"?>\n<!DOCTYPE svg PUBLIC \"-//W3C//DTD SVG 1.1//EN\"\n \"http://www.w3.org/Graphics/SVG/1.1/DTD/svg11.dtd\">\n<!-- Generated by graphviz version 2.40.1 (20161225.0304)\n -->\n<!-- Title: Tree Pages: 1 -->\n<svg width=\"522pt\" height=\"491pt\"\n viewBox=\"0.00 0.00 522.00 491.00\" xmlns=\"http://www.w3.org/2000/svg\" xmlns:xlink=\"http://www.w3.org/1999/xlink\">\n<g id=\"graph0\" class=\"graph\" transform=\"scale(1 1) rotate(0) translate(4 487)\">\n<title>Tree</title>\n<polygon fill=\"#ffffff\" stroke=\"transparent\" points=\"-4,4 -4,-487 518,-487 518,4 -4,4\"/>\n<!-- 0 -->\n<g id=\"node1\" class=\"node\">\n<title>0</title>\n<polygon fill=\"none\" stroke=\"#000000\" points=\"252.5,-483 120.5,-483 120.5,-430 252.5,-430 252.5,-483\"/>\n<text text-anchor=\"middle\" x=\"186.5\" y=\"-467.8\" font-family=\"Times,serif\" font-size=\"14.00\" fill=\"#000000\">X[3] &lt;= 0.75</text>\n<text text-anchor=\"middle\" x=\"186.5\" y=\"-452.8\" font-family=\"Times,serif\" font-size=\"14.00\" fill=\"#000000\">samples = 112</text>\n<text text-anchor=\"middle\" x=\"186.5\" y=\"-437.8\" font-family=\"Times,serif\" font-size=\"14.00\" fill=\"#000000\">value = [39, 34, 39]</text>\n</g>\n<!-- 1 -->\n<g id=\"node2\" class=\"node\">\n<title>1</title>\n<polygon fill=\"none\" stroke=\"#000000\" points=\"176,-386.5 59,-386.5 59,-348.5 176,-348.5 176,-386.5\"/>\n<text text-anchor=\"middle\" x=\"117.5\" y=\"-371.3\" font-family=\"Times,serif\" font-size=\"14.00\" fill=\"#000000\">samples = 39</text>\n<text text-anchor=\"middle\" x=\"117.5\" y=\"-356.3\" font-family=\"Times,serif\" font-size=\"14.00\" fill=\"#000000\">value = [39, 0, 0]</text>\n</g>\n<!-- 0&#45;&gt;1 -->\n<g id=\"edge1\" class=\"edge\">\n<title>0&#45;&gt;1</title>\n<path fill=\"none\" stroke=\"#000000\" d=\"M165.7977,-429.7971C157.1936,-418.699 147.2187,-405.8328 138.5755,-394.6844\"/>\n<polygon fill=\"#000000\" stroke=\"#000000\" points=\"141.1637,-392.3104 132.2705,-386.5518 135.6315,-396.5994 141.1637,-392.3104\"/>\n<text text-anchor=\"middle\" x=\"129.131\" y=\"-407.6539\" font-family=\"Times,serif\" font-size=\"14.00\" fill=\"#000000\">True</text>\n</g>\n<!-- 2 -->\n<g id=\"node3\" class=\"node\">\n<title>2</title>\n<polygon fill=\"none\" stroke=\"#000000\" points=\"319,-394 194,-394 194,-341 319,-341 319,-394\"/>\n<text text-anchor=\"middle\" x=\"256.5\" y=\"-378.8\" font-family=\"Times,serif\" font-size=\"14.00\" fill=\"#000000\">X[2] &lt;= 4.85</text>\n<text text-anchor=\"middle\" x=\"256.5\" y=\"-363.8\" font-family=\"Times,serif\" font-size=\"14.00\" fill=\"#000000\">samples = 73</text>\n<text text-anchor=\"middle\" x=\"256.5\" y=\"-348.8\" font-family=\"Times,serif\" font-size=\"14.00\" fill=\"#000000\">value = [0, 34, 39]</text>\n</g>\n<!-- 0&#45;&gt;2 -->\n<g id=\"edge2\" class=\"edge\">\n<title>0&#45;&gt;2</title>\n<path fill=\"none\" stroke=\"#000000\" d=\"M207.5023,-429.7971C214.3547,-421.0847 222.0642,-411.2826 229.3042,-402.0775\"/>\n<polygon fill=\"#000000\" stroke=\"#000000\" points=\"232.0814,-404.208 235.5125,-394.1841 226.5793,-399.8805 232.0814,-404.208\"/>\n<text text-anchor=\"middle\" x=\"238.4788\" y=\"-415.3075\" font-family=\"Times,serif\" font-size=\"14.00\" fill=\"#000000\">False</text>\n</g>\n<!-- 3 -->\n<g id=\"node4\" class=\"node\">\n<title>3</title>\n<polygon fill=\"none\" stroke=\"#000000\" points=\"247,-305 130,-305 130,-252 247,-252 247,-305\"/>\n<text text-anchor=\"middle\" x=\"188.5\" y=\"-289.8\" font-family=\"Times,serif\" font-size=\"14.00\" fill=\"#000000\">X[3] &lt;= 1.65</text>\n<text text-anchor=\"middle\" x=\"188.5\" y=\"-274.8\" font-family=\"Times,serif\" font-size=\"14.00\" fill=\"#000000\">samples = 34</text>\n<text text-anchor=\"middle\" x=\"188.5\" y=\"-259.8\" font-family=\"Times,serif\" font-size=\"14.00\" fill=\"#000000\">value = [0, 32, 2]</text>\n</g>\n<!-- 2&#45;&gt;3 -->\n<g id=\"edge3\" class=\"edge\">\n<title>2&#45;&gt;3</title>\n<path fill=\"none\" stroke=\"#000000\" d=\"M236.0978,-340.7971C229.5084,-332.1727 222.1031,-322.4806 215.132,-313.3566\"/>\n<polygon fill=\"#000000\" stroke=\"#000000\" points=\"217.7402,-311.0053 208.8878,-305.1841 212.1779,-315.2551 217.7402,-311.0053\"/>\n</g>\n<!-- 8 -->\n<g id=\"node9\" class=\"node\">\n<title>8</title>\n<polygon fill=\"none\" stroke=\"#000000\" points=\"382,-305 265,-305 265,-252 382,-252 382,-305\"/>\n<text text-anchor=\"middle\" x=\"323.5\" y=\"-289.8\" font-family=\"Times,serif\" font-size=\"14.00\" fill=\"#000000\">X[3] &lt;= 1.75</text>\n<text text-anchor=\"middle\" x=\"323.5\" y=\"-274.8\" font-family=\"Times,serif\" font-size=\"14.00\" fill=\"#000000\">samples = 39</text>\n<text text-anchor=\"middle\" x=\"323.5\" y=\"-259.8\" font-family=\"Times,serif\" font-size=\"14.00\" fill=\"#000000\">value = [0, 2, 37]</text>\n</g>\n<!-- 2&#45;&gt;8 -->\n<g id=\"edge8\" class=\"edge\">\n<title>2&#45;&gt;8</title>\n<path fill=\"none\" stroke=\"#000000\" d=\"M276.6022,-340.7971C283.0947,-332.1727 290.391,-322.4806 297.2596,-313.3566\"/>\n<polygon fill=\"#000000\" stroke=\"#000000\" points=\"300.1938,-315.2784 303.412,-305.1841 294.6014,-311.0683 300.1938,-315.2784\"/>\n</g>\n<!-- 4 -->\n<g id=\"node5\" class=\"node\">\n<title>4</title>\n<polygon fill=\"none\" stroke=\"#000000\" points=\"117,-208.5 0,-208.5 0,-170.5 117,-170.5 117,-208.5\"/>\n<text text-anchor=\"middle\" x=\"58.5\" y=\"-193.3\" font-family=\"Times,serif\" font-size=\"14.00\" fill=\"#000000\">samples = 31</text>\n<text text-anchor=\"middle\" x=\"58.5\" y=\"-178.3\" font-family=\"Times,serif\" font-size=\"14.00\" fill=\"#000000\">value = [0, 31, 0]</text>\n</g>\n<!-- 3&#45;&gt;4 -->\n<g id=\"edge4\" class=\"edge\">\n<title>3&#45;&gt;4</title>\n<path fill=\"none\" stroke=\"#000000\" d=\"M149.4957,-251.7971C132.1726,-239.9374 111.9,-226.0585 94.892,-214.4145\"/>\n<polygon fill=\"#000000\" stroke=\"#000000\" points=\"96.5572,-211.3129 86.3284,-208.5518 92.6028,-217.089 96.5572,-211.3129\"/>\n</g>\n<!-- 5 -->\n<g id=\"node6\" class=\"node\">\n<title>5</title>\n<polygon fill=\"none\" stroke=\"#000000\" points=\"245.5,-216 135.5,-216 135.5,-163 245.5,-163 245.5,-216\"/>\n<text text-anchor=\"middle\" x=\"190.5\" y=\"-200.8\" font-family=\"Times,serif\" font-size=\"14.00\" fill=\"#000000\">X[1] &lt;= 3.0</text>\n<text text-anchor=\"middle\" x=\"190.5\" y=\"-185.8\" font-family=\"Times,serif\" font-size=\"14.00\" fill=\"#000000\">samples = 3</text>\n<text text-anchor=\"middle\" x=\"190.5\" y=\"-170.8\" font-family=\"Times,serif\" font-size=\"14.00\" fill=\"#000000\">value = [0, 1, 2]</text>\n</g>\n<!-- 3&#45;&gt;5 -->\n<g id=\"edge5\" class=\"edge\">\n<title>3&#45;&gt;5</title>\n<path fill=\"none\" stroke=\"#000000\" d=\"M189.1001,-251.7971C189.28,-243.7887 189.4807,-234.8597 189.6726,-226.3198\"/>\n<polygon fill=\"#000000\" stroke=\"#000000\" points=\"193.1747,-226.2602 189.9004,-216.1841 186.1765,-226.1029 193.1747,-226.2602\"/>\n</g>\n<!-- 6 -->\n<g id=\"node7\" class=\"node\">\n<title>6</title>\n<polygon fill=\"none\" stroke=\"#000000\" points=\"118.5,-119.5 8.5,-119.5 8.5,-81.5 118.5,-81.5 118.5,-119.5\"/>\n<text text-anchor=\"middle\" x=\"63.5\" y=\"-104.3\" font-family=\"Times,serif\" font-size=\"14.00\" fill=\"#000000\">samples = 2</text>\n<text text-anchor=\"middle\" x=\"63.5\" y=\"-89.3\" font-family=\"Times,serif\" font-size=\"14.00\" fill=\"#000000\">value = [0, 0, 2]</text>\n</g>\n<!-- 5&#45;&gt;6 -->\n<g id=\"edge6\" class=\"edge\">\n<title>5&#45;&gt;6</title>\n<path fill=\"none\" stroke=\"#000000\" d=\"M152.3958,-162.7971C135.4724,-150.9374 115.6677,-137.0585 99.0522,-125.4145\"/>\n<polygon fill=\"#000000\" stroke=\"#000000\" points=\"100.8842,-122.4245 90.6862,-119.5518 96.8669,-128.157 100.8842,-122.4245\"/>\n</g>\n<!-- 7 -->\n<g id=\"node8\" class=\"node\">\n<title>7</title>\n<polygon fill=\"none\" stroke=\"#000000\" points=\"246.5,-119.5 136.5,-119.5 136.5,-81.5 246.5,-81.5 246.5,-119.5\"/>\n<text text-anchor=\"middle\" x=\"191.5\" y=\"-104.3\" font-family=\"Times,serif\" font-size=\"14.00\" fill=\"#000000\">samples = 1</text>\n<text text-anchor=\"middle\" x=\"191.5\" y=\"-89.3\" font-family=\"Times,serif\" font-size=\"14.00\" fill=\"#000000\">value = [0, 1, 0]</text>\n</g>\n<!-- 5&#45;&gt;7 -->\n<g id=\"edge7\" class=\"edge\">\n<title>5&#45;&gt;7</title>\n<path fill=\"none\" stroke=\"#000000\" d=\"M190.8,-162.7971C190.9174,-152.3518 191.0524,-140.3403 191.1723,-129.6689\"/>\n<polygon fill=\"#000000\" stroke=\"#000000\" points=\"194.6733,-129.5905 191.2859,-119.5518 187.6737,-129.5118 194.6733,-129.5905\"/>\n</g>\n<!-- 9 -->\n<g id=\"node10\" class=\"node\">\n<title>9</title>\n<polygon fill=\"none\" stroke=\"#000000\" points=\"378.5,-216 268.5,-216 268.5,-163 378.5,-163 378.5,-216\"/>\n<text text-anchor=\"middle\" x=\"323.5\" y=\"-200.8\" font-family=\"Times,serif\" font-size=\"14.00\" fill=\"#000000\">X[2] &lt;= 5.05</text>\n<text text-anchor=\"middle\" x=\"323.5\" y=\"-185.8\" font-family=\"Times,serif\" font-size=\"14.00\" fill=\"#000000\">samples = 5</text>\n<text text-anchor=\"middle\" x=\"323.5\" y=\"-170.8\" font-family=\"Times,serif\" font-size=\"14.00\" fill=\"#000000\">value = [0, 2, 3]</text>\n</g>\n<!-- 8&#45;&gt;9 -->\n<g id=\"edge9\" class=\"edge\">\n<title>8&#45;&gt;9</title>\n<path fill=\"none\" stroke=\"#000000\" d=\"M323.5,-251.7971C323.5,-243.7887 323.5,-234.8597 323.5,-226.3198\"/>\n<polygon fill=\"#000000\" stroke=\"#000000\" points=\"327.0001,-226.1841 323.5,-216.1841 320.0001,-226.1841 327.0001,-226.1841\"/>\n</g>\n<!-- 14 -->\n<g id=\"node15\" class=\"node\">\n<title>14</title>\n<polygon fill=\"none\" stroke=\"#000000\" points=\"514,-208.5 397,-208.5 397,-170.5 514,-170.5 514,-208.5\"/>\n<text text-anchor=\"middle\" x=\"455.5\" y=\"-193.3\" font-family=\"Times,serif\" font-size=\"14.00\" fill=\"#000000\">samples = 34</text>\n<text text-anchor=\"middle\" x=\"455.5\" y=\"-178.3\" font-family=\"Times,serif\" font-size=\"14.00\" fill=\"#000000\">value = [0, 0, 34]</text>\n</g>\n<!-- 8&#45;&gt;14 -->\n<g id=\"edge14\" class=\"edge\">\n<title>8&#45;&gt;14</title>\n<path fill=\"none\" stroke=\"#000000\" d=\"M363.1044,-251.7971C380.694,-239.9374 401.2784,-226.0585 418.5481,-214.4145\"/>\n<polygon fill=\"#000000\" stroke=\"#000000\" points=\"420.9087,-217.0442 427.2434,-208.5518 416.9954,-211.2402 420.9087,-217.0442\"/>\n</g>\n<!-- 10 -->\n<g id=\"node11\" class=\"node\">\n<title>10</title>\n<polygon fill=\"none\" stroke=\"#000000\" points=\"377.5,-127 267.5,-127 267.5,-74 377.5,-74 377.5,-127\"/>\n<text text-anchor=\"middle\" x=\"322.5\" y=\"-111.8\" font-family=\"Times,serif\" font-size=\"14.00\" fill=\"#000000\">X[0] &lt;= 6.35</text>\n<text text-anchor=\"middle\" x=\"322.5\" y=\"-96.8\" font-family=\"Times,serif\" font-size=\"14.00\" fill=\"#000000\">samples = 3</text>\n<text text-anchor=\"middle\" x=\"322.5\" y=\"-81.8\" font-family=\"Times,serif\" font-size=\"14.00\" fill=\"#000000\">value = [0, 2, 1]</text>\n</g>\n<!-- 9&#45;&gt;10 -->\n<g id=\"edge10\" class=\"edge\">\n<title>9&#45;&gt;10</title>\n<path fill=\"none\" stroke=\"#000000\" d=\"M323.2,-162.7971C323.11,-154.7887 323.0097,-145.8597 322.9137,-137.3198\"/>\n<polygon fill=\"#000000\" stroke=\"#000000\" points=\"326.4121,-137.1441 322.7998,-127.1841 319.4125,-137.2228 326.4121,-137.1441\"/>\n</g>\n<!-- 13 -->\n<g id=\"node14\" class=\"node\">\n<title>13</title>\n<polygon fill=\"none\" stroke=\"#000000\" points=\"505.5,-119.5 395.5,-119.5 395.5,-81.5 505.5,-81.5 505.5,-119.5\"/>\n<text text-anchor=\"middle\" x=\"450.5\" y=\"-104.3\" font-family=\"Times,serif\" font-size=\"14.00\" fill=\"#000000\">samples = 2</text>\n<text text-anchor=\"middle\" x=\"450.5\" y=\"-89.3\" font-family=\"Times,serif\" font-size=\"14.00\" fill=\"#000000\">value = [0, 0, 2]</text>\n</g>\n<!-- 9&#45;&gt;13 -->\n<g id=\"edge13\" class=\"edge\">\n<title>9&#45;&gt;13</title>\n<path fill=\"none\" stroke=\"#000000\" d=\"M361.6042,-162.7971C378.5276,-150.9374 398.3323,-137.0585 414.9478,-125.4145\"/>\n<polygon fill=\"#000000\" stroke=\"#000000\" points=\"417.1331,-128.157 423.3138,-119.5518 413.1158,-122.4245 417.1331,-128.157\"/>\n</g>\n<!-- 11 -->\n<g id=\"node12\" class=\"node\">\n<title>11</title>\n<polygon fill=\"none\" stroke=\"#000000\" points=\"313.5,-38 203.5,-38 203.5,0 313.5,0 313.5,-38\"/>\n<text text-anchor=\"middle\" x=\"258.5\" y=\"-22.8\" font-family=\"Times,serif\" font-size=\"14.00\" fill=\"#000000\">samples = 1</text>\n<text text-anchor=\"middle\" x=\"258.5\" y=\"-7.8\" font-family=\"Times,serif\" font-size=\"14.00\" fill=\"#000000\">value = [0, 0, 1]</text>\n</g>\n<!-- 10&#45;&gt;11 -->\n<g id=\"edge11\" class=\"edge\">\n<title>10&#45;&gt;11</title>\n<path fill=\"none\" stroke=\"#000000\" d=\"M301.544,-73.8139C294.6374,-65.0188 286.9485,-55.2274 280.0019,-46.3814\"/>\n<polygon fill=\"#000000\" stroke=\"#000000\" points=\"282.5478,-43.9563 273.619,-38.2531 277.0424,-48.2796 282.5478,-43.9563\"/>\n</g>\n<!-- 12 -->\n<g id=\"node13\" class=\"node\">\n<title>12</title>\n<polygon fill=\"none\" stroke=\"#000000\" points=\"441.5,-38 331.5,-38 331.5,0 441.5,0 441.5,-38\"/>\n<text text-anchor=\"middle\" x=\"386.5\" y=\"-22.8\" font-family=\"Times,serif\" font-size=\"14.00\" fill=\"#000000\">samples = 2</text>\n<text text-anchor=\"middle\" x=\"386.5\" y=\"-7.8\" font-family=\"Times,serif\" font-size=\"14.00\" fill=\"#000000\">value = [0, 2, 0]</text>\n</g>\n<!-- 10&#45;&gt;12 -->\n<g id=\"edge12\" class=\"edge\">\n<title>10&#45;&gt;12</title>\n<path fill=\"none\" stroke=\"#000000\" d=\"M343.456,-73.8139C350.3626,-65.0188 358.0515,-55.2274 364.9981,-46.3814\"/>\n<polygon fill=\"#000000\" stroke=\"#000000\" points=\"367.9576,-48.2796 371.381,-38.2531 362.4522,-43.9563 367.9576,-48.2796\"/>\n</g>\n</g>\n</svg>\n"
          },
          "metadata": {
            "tags": []
          },
          "execution_count": 41
        }
      ]
    },
    {
      "cell_type": "markdown",
      "metadata": {
        "id": "QwiMG25jOS12"
      },
      "source": [
        "_Again, because we split the dataset randomly, this means that your decision tree may look different from another student's decision tree._\n",
        "\n",
        "Here's an example of what the top of the decision tree visualization may look like:\n",
        "\n",
        "![alt text](https://i.imgur.com/SFktGyk.png)\n",
        "\n",
        "It takes some practice to read the visualization of the decision tree, but it's actually quite informative. The root node of the decision tree starts with the line `X[3] <= 0.75`. This is the condition that splits the tree. In this case, it's saying that we should look at the feature with index 3 (petal width) and see if it's less than or equal to 0.75. If this is true, we will follow the tree to the left child. If this is false, we will follow the tree to the right child.\n",
        "\n",
        "The `samples = 112` line means that at this node, we still have 112 samples to look at.\n",
        "\n",
        "The `[39, 34, 39]` line tells us that of these 112 samples, 39 are the zeroth class (setosa), 34 are the first class (versicolor), and 39 are the second class (virginica).\n",
        "\n",
        "After the first split, we'll see that we did really well! All 39 samples of setosa are correctly classified in the left child of the root.\n",
        "\n",
        "We can follow the visualization for the rest of the decision tree to see what feature it splits on at each node."
      ]
    },
    {
      "cell_type": "markdown",
      "metadata": {
        "id": "jlXWoFhwPXXQ"
      },
      "source": [
        "## Testing our decision tree\n",
        "\n",
        "We've trained our decision tree and visualized it, but we have not yet tested it to see how well it does. This is where the test set comes in -- the test set is a set of correctly labelled examples that we have withheld from the decision tree, so we can test to see if the predictions made by the decision tree match the correct labels.\n",
        "\n",
        "With `sklearn`, it's really easy to generate our predicted labels for the test set:"
      ]
    },
    {
      "cell_type": "code",
      "metadata": {
        "id": "Z19a9q9hPvge",
        "colab": {
          "base_uri": "https://localhost:8080/",
          "height": 54
        },
        "outputId": "c660f702-f9d8-4a82-e317-96174b280333"
      },
      "source": [
        "# Create a list of predicted classes for each of the examples in the test set\n",
        "y_predict = classifier.predict(X_test)\n",
        "\n",
        "print(y_predict)"
      ],
      "execution_count": null,
      "outputs": [
        {
          "output_type": "stream",
          "text": [
            "[1 2 0 1 2 0 2 1 0 0 2 1 2 0 2 2 2 1 2 0 2 2 0 2 1 0 1 1 1 1 0 0 1 1 1 0 1\n",
            " 2]\n"
          ],
          "name": "stdout"
        }
      ]
    },
    {
      "cell_type": "markdown",
      "metadata": {
        "id": "xaL7CjEGQBOd"
      },
      "source": [
        "In order to find the accuracy of our classifier on the test set, we use the function `score()`, which takes two parameters: (1) the data of the test set, and (2) the correct labels of the test set.\n",
        "\n",
        "It will automatically compare our predicted label with the correct label to compute the accuracy."
      ]
    },
    {
      "cell_type": "code",
      "metadata": {
        "id": "MmOxj1czQGAF",
        "colab": {
          "base_uri": "https://localhost:8080/",
          "height": 35
        },
        "outputId": "91cc5f06-3ea8-470a-af14-5e007c6dc28d"
      },
      "source": [
        "accuracy = classifier.score(X_test, y_test)\n",
        "print(accuracy)"
      ],
      "execution_count": null,
      "outputs": [
        {
          "output_type": "stream",
          "text": [
            "0.9473684210526315\n"
          ],
          "name": "stdout"
        }
      ]
    },
    {
      "cell_type": "markdown",
      "metadata": {
        "id": "VBxM-QIqQtZM"
      },
      "source": [
        "And we're done! In a few lines of code, we've actually:\n",
        "\n",
        "*  Loaded our dataset\n",
        "*  Picked our classifier to use\n",
        "* Trained our classifier on the dataset\n",
        "* Tested our classifier on unseen data\n",
        "\n",
        "If we are satisfied with the performance of our classifier on the test set, we're ready to go, to use this model on real data in the real world!\n",
        "\n",
        "Just to show you how little code we actually have to write to train and test a classifier, here's everything in one code block:"
      ]
    },
    {
      "cell_type": "code",
      "metadata": {
        "id": "sif1mAcSQ3gU",
        "colab": {
          "base_uri": "https://localhost:8080/",
          "height": 35
        },
        "outputId": "79096205-cd0f-4ade-acca-19d005ec4dd1"
      },
      "source": [
        "from sklearn.datasets import load_iris\n",
        "from sklearn.tree import DecisionTreeClassifier\n",
        "\n",
        "iris_dataset = load_iris()\n",
        "X, y = iris_dataset.data, iris_dataset.target\n",
        "X_train, X_test, y_train, y_test = train_test_split(X, y, test_size=0.25, random_state=31)\n",
        "\n",
        "classifier = DecisionTreeClassifier(max_depth=5)\n",
        "classifier = classifier.fit(X_train, y_train)\n",
        "classifier.score(X_test, y_test)"
      ],
      "execution_count": null,
      "outputs": [
        {
          "output_type": "execute_result",
          "data": {
            "text/plain": [
              "0.9473684210526315"
            ]
          },
          "metadata": {
            "tags": []
          },
          "execution_count": 47
        }
      ]
    },
    {
      "cell_type": "markdown",
      "metadata": {
        "id": "4s8MYJcMaFWO"
      },
      "source": [
        "In these few lines of code, we turned everything we learned about with classification and decision trees in the morning lessons into code, and used it on an actual dataset!"
      ]
    },
    {
      "cell_type": "markdown",
      "metadata": {
        "id": "BItzdDyIRP9K"
      },
      "source": [
        "## The Confusion Matrix\n",
        "\n",
        "The code above told us how accurate the decision tree was, but what if we wanted some more details about which sorts of classifications we got right and wrong? That's where the confusion matrix comes in.\n",
        "\n",
        "We'll use the familiar `matplotlib` library to accomplish this visualization, but we'll also use a library called `seaborn` to make our visualization look a bit nicer:"
      ]
    },
    {
      "cell_type": "code",
      "metadata": {
        "id": "uOhK4ZY4RVnw",
        "colab": {
          "base_uri": "https://localhost:8080/",
          "height": 451
        },
        "outputId": "043feb52-775e-4954-9565-a9084b91966e"
      },
      "source": [
        "from sklearn.metrics import confusion_matrix\n",
        "import matplotlib.pyplot as plt\n",
        "import seaborn as sns\n",
        "\n",
        "confusion_matrix = confusion_matrix(y_test,y_predict)\n",
        "cm_df = pd.DataFrame(\n",
        "    confusion_matrix, \n",
        "    index = [idx for idx in ['setosa', 'versicolor', 'virginica']],\n",
        "    columns = [col for col in ['setosa (pred)', 'versicolor (pred)', 'virginica (pred)']])\n",
        "plt.figure(figsize = (10,7))\n",
        "sns.heatmap(cm_df, annot=True)"
      ],
      "execution_count": null,
      "outputs": [
        {
          "output_type": "execute_result",
          "data": {
            "text/plain": [
              "<matplotlib.axes._subplots.AxesSubplot at 0x7fd0d0b480b8>"
            ]
          },
          "metadata": {
            "tags": []
          },
          "execution_count": 49
        },
        {
          "output_type": "display_data",
          "data": {
            "image/png": "[encoded data removed]",
            "text/plain": [
              "<Figure size 720x504 with 2 Axes>"
            ]
          },
          "metadata": {
            "tags": []
          }
        }
      ]
    },
    {
      "cell_type": "markdown",
      "metadata": {
        "id": "h4Kd31cAXQuY"
      },
      "source": [
        "Our confusion matrix in this case is a 3x3 table, because there are 3 different possible classes for each flower. The columns tell us what class we predicted, whereas the rows tell us what the actual class is.\n",
        "\n",
        "*Because we randomly split the data set, your confusion matrix might look different from someone else's in the class.*\n",
        "\n",
        "The following is an example of what the confusion matrix might look like:\n",
        "\n",
        "![alt text](https://i.imgur.com/vsKCEKx.png)\n",
        "\n",
        "The first row tells us that for flowers that should actually be classified as setosa, what our decision tree predicted their class should be. In the example screenshot, there were 11 setosa flowers, and they were all correctly labelled setosa.\n",
        "\n",
        "The second row is more interesting. It tells us that there were 16 versicolor plants, but only 14 were classified correctly. The remaining two were predicted to be virginica, which was incorrect.\n",
        "\n",
        "Finally, the last row shows that our decision tree classified all 11 virginica plants correctly.\n",
        "\n",
        "For this particular example above, there were 38 test examples, and 36 were classified correctly, for an accuracy of 94.7%. The confusion matrix helps us visualize the performance of our decision tree and in addition to the accuracy number itself, it gives us the added information of which type of flower we tended to classify incorrectly."
      ]
    },
    {
      "cell_type": "markdown",
      "metadata": {
        "id": "A9dQbxIDV92B"
      },
      "source": [
        "# And that's all for the Python lessons!\n",
        "\n",
        "Congrats on making it through all four Python lessons, starting all the way from the very basics and finishing with using Scikit-Learn to do machine learning. This is an accomplishment to be proud of, so be sure to pat yourself on the back!\n",
        "\n",
        "![clapping gif](https://media.giphy.com/media/1BhG0U58TwNllcEXcd/giphy.gif)\n",
        "\n",
        "Remember, it takes time and practice to improve in Python -- don't worry if much of this still seems new. You'll have lots of opportunities to look over these lessons and apply what you have learned to the hands-on projects. This is just the beginning of your Python (and programming) journey!"
      ]
    }
  ]
}
