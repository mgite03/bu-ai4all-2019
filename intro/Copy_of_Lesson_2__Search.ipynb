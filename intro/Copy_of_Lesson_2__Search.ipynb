{
  "nbformat": 4,
  "nbformat_minor": 0,
  "metadata": {
    "colab": {
      "name": "Copy of Lesson 2_ Search.ipynb",
      "provenance": [],
      "collapsed_sections": [],
      "include_colab_link": true
    },
    "kernelspec": {
      "name": "python3",
      "display_name": "Python 3"
    }
  },
  "cells": [
    {
      "cell_type": "markdown",
      "metadata": {
        "id": "view-in-github",
        "colab_type": "text"
      },
      "source": [
        "<a href=\"https://colab.research.google.com/github/mgite03/bu-ai4all-2019/blob/main/intro/Copy_of_Lesson_2__Search.ipynb\" target=\"_parent\"><img src=\"https://colab.research.google.com/assets/colab-badge.svg\" alt=\"Open In Colab\"/></a>"
      ]
    },
    {
      "cell_type": "markdown",
      "metadata": {
        "id": "llv57stMcfwY"
      },
      "source": [
        "# Practice Problems\n",
        "## Lesson 2: Search\n",
        "---\n",
        "Created by Terron Ishihara"
      ]
    },
    {
      "cell_type": "markdown",
      "metadata": {
        "id": "bqtbOg9Oclhd"
      },
      "source": [
        "### Problem 1\n",
        "Imagine you are working for a big tech company called Shmoogle. Your boss asks you to design an app called Shmaps that can help users navigate between cities within a particular state and find the shortest route between cities."
      ]
    },
    {
      "cell_type": "markdown",
      "metadata": {
        "id": "2ZDybY9A6_11"
      },
      "source": [
        "> a. What kind of data structure would you use to represent the cities and routes?\n",
        "\n",
        "A graph ( with nodes and edges!)"
      ]
    },
    {
      "cell_type": "markdown",
      "metadata": {
        "id": "4W2dfPWFcv2l"
      },
      "source": [
        "> b. Would the edges be directed or undirected? Explain your answer.\n",
        "\n",
        "If the roads were two way, then undirected"
      ]
    },
    {
      "cell_type": "markdown",
      "metadata": {
        "id": "D63RC_h_c41l"
      },
      "source": [
        "> c. Would the edges be weighted or unweighted? Explain your answer.\n",
        "\n",
        "The edges would be weighted, because some roads take longer"
      ]
    },
    {
      "cell_type": "markdown",
      "metadata": {
        "id": "ZheoNCO8dR-o"
      },
      "source": [
        "> d. Draw an example of your representation with at least 4 example cities. You can base these off of a real state or use fictional locations (e.g. a map of Hogwarts!)."
      ]
    },
    {
      "cell_type": "markdown",
      "metadata": {
        "id": "btiCjHEZdUb0"
      },
      "source": [
        "> e. What search algorithm would you use to find the shortest path between cities? Why?\n",
        "\n",
        "I would use A* because there are weights, so the options would be Dijkstra's and A*, and the roads are ever changing, so heuristics should be added. "
      ]
    },
    {
      "cell_type": "markdown",
      "metadata": {
        "id": "_yY4A9B2dX6C"
      },
      "source": [
        "### Problem 2\n",
        "Consider the following graph representing relationships (think Facebook friend network)\n",
        "![alt text](https://cs.nyu.edu/courses/fall17/CSCI-UA.0102-001/Notes/people.gif)\n",
        "\n",
        "For the following questions, assume nodes being explored at the same time enter the data structure in alphabetical order.\n",
        "\n",
        "\n",
        "\n"
      ]
    },
    {
      "cell_type": "markdown",
      "metadata": {
        "id": "3MnYPeu5kCZA"
      },
      "source": [
        ">a. What kind of graph is this? (directed/undirected? weighted/unweighted?)\n",
        "\n",
        "This graph is directed and unweighted."
      ]
    },
    {
      "cell_type": "markdown",
      "metadata": {
        "id": "6h_K-ye_lqlx"
      },
      "source": [
        "> b. In what order would we visit each node if we run Breadth-First Search starting at **Carol**?\n",
        "\n",
        "From Carol, we would visit Liza and Max. Then from Liza, we would visit Rob, and Isaac. From Max, we would visit Sam and Ed. From Rob, we can't visit anyone new. From Isaac, we would visit Will. From Sam, we would visit Joan. From Ed, we can't visit anyone new. From Will, we can visit Ann.  To finally check, Joan can't go to anyone new. Therefore, we have searched all nodes breadth-first.   \n",
        "\n",
        "I don't want to do this alphabetically. "
      ]
    },
    {
      "cell_type": "markdown",
      "metadata": {
        "id": "p7XBrS2qlzF3"
      },
      "source": [
        "> c. In what order would we visit each node if we run Depth-First Search starting at **Isaac**?\n",
        "\n",
        "Starting at Isaac, we would stack Sam, and Will. Popping Will, we can go to Ed and Ann. Popping Ann, we can't go anywhere. Popping Ed, we can go to Joan. Popping Joan, we can't go to anyone new. Popping Sam, we can stack Max and Rob. Popping Rob, we can go to Liza. Popping Liza, we can go to Carol. Popping Carol, we can't go to anyone new, but we have finished the depth first search. \n",
        "\n",
        "Again, screw alphabetization."
      ]
    },
    {
      "cell_type": "markdown",
      "metadata": {
        "id": "bRiRg-jfl4KO"
      },
      "source": [
        "> d. Which search algorithm (BFS or DFS) reaches **Ann** first, starting from **Carol**? Why?\n",
        "\n",
        "\n",
        " BFS: **Liza** **Max(1)**, **Ann(1)** , **Sam(2)**, **Ed(2)**, **Isaac(3)**,**Joan (3)**, Will(3), Ann(4)\n",
        " \n",
        " DFS: Liza(1), **Max(1)**, Ed(2), **Sam(2),**, Rob(3), Isaac(3), **Joan(3),** **Ed(4),** Will(5), Ann(6)\n",
        " \n",
        " Breadth First Search\n",
        " \n",
        " I know alphabet is coneventional, I just didn't want to >:( \n",
        " \n",
        " "
      ]
    },
    {
      "cell_type": "markdown",
      "metadata": {
        "id": "lZjQV9RLe1ji"
      },
      "source": [
        "###Problem 3: Implement stacks and queues in Python\n"
      ]
    },
    {
      "cell_type": "markdown",
      "metadata": {
        "id": "0aYrmljmEA61"
      },
      "source": [
        "Later in this notebook we'll implement functions to push/pop a stack and enqueue/dequeue a queue. You'll be learning about functions in the programming workshop later today, so I won't really explain much about how functions work. We'll start by performing these operations without functions though."
      ]
    },
    {
      "cell_type": "code",
      "metadata": {
        "id": "VL6v8MkUErTW",
        "colab": {
          "base_uri": "https://localhost:8080/",
          "height": 34
        },
        "outputId": "45b9d72c-b3a3-4ff1-9cef-93e3c0a4053c"
      },
      "source": [
        "#Say you have a stack represented by a list [3,7,5] where the \"top\" of the stack\n",
        "#is the end and the \"bottom\" of the stack is the front so 5 is on the top and 3 \n",
        "#is on the bottom\n",
        "stack0 = [3,7,5]\n",
        "\n",
        "elem = 6\n",
        "#If we want to push an the variable elem onto the top of this stack, how would you do\n",
        "#that? Write the line to perform this operation and assign the result to stack1\n",
        "#Your new stack should look like [3,7,5,6]\n",
        "\n",
        "stack1 = stack0 + [elem]\n",
        "#YOUR CODE HERE\n",
        "\n",
        "print(stack1) #Check that it's correct\n",
        "\n"
      ],
      "execution_count": null,
      "outputs": [
        {
          "output_type": "stream",
          "text": [
            "[3, 7, 5, 6]\n"
          ],
          "name": "stdout"
        }
      ]
    },
    {
      "cell_type": "code",
      "metadata": {
        "id": "0ex9A5gqzI_T",
        "colab": {
          "base_uri": "https://localhost:8080/",
          "height": 51
        },
        "outputId": "b5cf1e2a-0f30-4c88-d7e7-aed56e57fd15"
      },
      "source": [
        "stack0 = [3,7,5]\n",
        "\n",
        "#If we want to pop stack0 so we get the element at the top (5),\n",
        "#how would you do that? Write a line to perform the aforementioned operation\n",
        "#on our variable stack and assign the result to elem2\n",
        "\n",
        "elem2 = stack0[-1]#YOUR CODE HERE\n",
        "print(elem2) #should be 5\n",
        "\n",
        "#Since we've removed the 5 from the list, the new stack should only contain the\n",
        "#remaining elemnts [3,7]. Write the line to get the remaining elements and\n",
        "#assign the results to stack2.\n",
        "\n",
        "#YOUR CODE HERE\n",
        "stack2 = stack0[:2]\n",
        "print(stack2) #should be [3,7]"
      ],
      "execution_count": null,
      "outputs": [
        {
          "output_type": "stream",
          "text": [
            "5\n",
            "[3, 7]\n"
          ],
          "name": "stdout"
        }
      ]
    },
    {
      "cell_type": "markdown",
      "metadata": {
        "id": "W3MxftrOp0Bz"
      },
      "source": [
        "What if we had a different stack we wanted to perform pop and push operations on? We would have to re-write all these operations. To be more efficient, we'll write a function that can perform the operations through a function call. Since you'll be learning about functions later today, just copy and paste the operations you did to push an element onto a stack into the push function (making sure to indent it with everything else) and change the variable names to take the variable names `stack` and `elem` (representing a stack and element respectively), perform the operation on them, and assign the resulting stack to `new_stack`"
      ]
    },
    {
      "cell_type": "code",
      "metadata": {
        "id": "1fT2kMKem_H_"
      },
      "source": [
        "def push(stack, elem):\n",
        "  \"\"\"Write a function that takes a stack(represented as a list) and an element to be pushed to the stack and\n",
        "  returns the stack with the element added.\"\"\"\n",
        "  \n",
        "  new_stack = stack + [elem]#Perform an operation on stack and elem to get the new_stack\n",
        "  return new_stack\n"
      ],
      "execution_count": null,
      "outputs": []
    },
    {
      "cell_type": "markdown",
      "metadata": {
        "id": "KmxyE3BPvdzD"
      },
      "source": [
        "If you wrote your function successfully, you should be able to run the cell below and see the correct results printed."
      ]
    },
    {
      "cell_type": "code",
      "metadata": {
        "id": "1-7zGApxqKUR",
        "colab": {
          "base_uri": "https://localhost:8080/",
          "height": 51
        },
        "outputId": "edeaab21-94b8-4fff-b743-929d3a400b6e"
      },
      "source": [
        "##Test your function\n",
        "stack1 = []\n",
        "stack1 = push(stack1, 5) #We reassign the variable name stack1 to the new stack returned by the function\n",
        "print(stack1) #should print [5]\n",
        "\n",
        "stack1 = push(stack1, 7)\n",
        "stack1 = push(stack1, 10) \n",
        "print(stack1) #should print [5,7,10]\n",
        "\n",
        "#You can add other function calls to test your function here"
      ],
      "execution_count": null,
      "outputs": [
        {
          "output_type": "stream",
          "text": [
            "[5]\n",
            "[5, 7, 10]\n"
          ],
          "name": "stdout"
        }
      ]
    },
    {
      "cell_type": "markdown",
      "metadata": {
        "id": "myOltx9Y1xx6"
      },
      "source": [
        "Do the same thing for the pop function below. Take your code from before and change the variable names so it takes an initial stack called `stack` and returns the modified stack `new_stack` and the popped element `elem`\n"
      ]
    },
    {
      "cell_type": "code",
      "metadata": {
        "id": "n8j_SfzE2ddG"
      },
      "source": [
        "def pop(stack):\n",
        "  \"\"\"\n",
        "  Pops the most recent element (at the end of the list)\n",
        "  Returns a tuple containing the modified list and the element that has been popped.\n",
        "  Assume that the stack passed in is not empty (contains at least 1 element).\n",
        "  \"\"\"\n",
        "  leng= len(stack)\n",
        "  #YOUR CODE HERE\n",
        "  new_stack = stack[:leng-1]\n",
        "  elem = stack[leng-1]\n",
        "  return (new_stack, elem)\n",
        "  "
      ],
      "execution_count": null,
      "outputs": []
    },
    {
      "cell_type": "code",
      "metadata": {
        "id": "uOpAIfZN2pAG",
        "colab": {
          "base_uri": "https://localhost:8080/",
          "height": 170
        },
        "outputId": "37a51b22-93d8-447f-da64-ac5147cf1052"
      },
      "source": [
        "#Test it\n",
        "stack1 = [5,7,10]\n",
        "\n",
        "stack1, elem1 = pop(stack1)\n",
        "print(stack1)#should print [5,7]\n",
        "print(elem1) #should print 10\n",
        "\n",
        "print() #spacing\n",
        "\n",
        "stack1, elem2 = pop(stack1)\n",
        "print(stack1) #should print [5]\n",
        "print(elem2) #should print 7\n",
        "\n",
        "print()\n",
        "\n",
        "stack1, elem3 = pop(stack1)\n",
        "print(stack1) #should print []\n",
        "print(elem3) #should print 5\n",
        "\n",
        "print()\n"
      ],
      "execution_count": null,
      "outputs": [
        {
          "output_type": "stream",
          "text": [
            "[5, 7]\n",
            "10\n",
            "\n",
            "[5]\n",
            "7\n",
            "\n",
            "[]\n",
            "5\n",
            "\n"
          ],
          "name": "stdout"
        }
      ]
    },
    {
      "cell_type": "markdown",
      "metadata": {
        "id": "x7UGM-QW4mxS"
      },
      "source": [
        "###Implement a queue using lists in Python\n",
        "\n",
        "\n"
      ]
    },
    {
      "cell_type": "markdown",
      "metadata": {
        "id": "ve5ib2u544_o"
      },
      "source": [
        "####Enqueue"
      ]
    },
    {
      "cell_type": "code",
      "metadata": {
        "id": "s2eEg1-OyGKq",
        "colab": {
          "base_uri": "https://localhost:8080/",
          "height": 34
        },
        "outputId": "38a8be76-d5f1-4713-9f3c-535c8cd90a8a"
      },
      "source": [
        "#Say you have a queue represented by a list [3,7,5] where elements enqueue at the \n",
        "#end and are dequeued from the front.\n",
        "queue0 = [3,7,5]\n",
        "\n",
        "elem = 6\n",
        "#If we want to enqueue an the variable elem, how would you do\n",
        "#that? Write the line to perform this operation and assign the result to queue1\n",
        "#Your new queue should look like [3,7,5,6]\n",
        "\n",
        "queue1 = queue0 +[elem]#YOUR CODE HERE\n",
        "\n",
        "print(queue1) #Check that it's correct\n",
        "\n"
      ],
      "execution_count": null,
      "outputs": [
        {
          "output_type": "stream",
          "text": [
            "[3, 7, 5, 6]\n"
          ],
          "name": "stdout"
        }
      ]
    },
    {
      "cell_type": "markdown",
      "metadata": {
        "id": "GYx-npzqyFmu"
      },
      "source": [
        "Take the line you wrote from before and paste it into the function below, modifying the variable names so that it takes an element named `elem` and adds it to a queue named `queue` and assigns the new queue to a variable named `new_queue`. "
      ]
    },
    {
      "cell_type": "code",
      "metadata": {
        "id": "SOClfFn15FN9"
      },
      "source": [
        "def enqueue(queue, elem):\n",
        "  \"\"\"\n",
        "  Enqueue an element to the back of the list\n",
        "  Return the modified list\n",
        "  \"\"\"\n",
        "  new_queue = queue + [elem]#YOUR CODE HERE\n",
        "  return new_queue\n",
        "\n"
      ],
      "execution_count": null,
      "outputs": []
    },
    {
      "cell_type": "code",
      "metadata": {
        "id": "JQJeE8vL5bb6",
        "colab": {
          "base_uri": "https://localhost:8080/",
          "height": 51
        },
        "outputId": "8b2b37e9-7df0-479e-878c-2ec77a5428bf"
      },
      "source": [
        "##Test your function\n",
        "test_queue = [1,2,3,4]\n",
        "test_queue = enqueue(test_queue, 5)\n",
        "print(test_queue) #should be [1,2,3,4,5]\n",
        "\n",
        "test_queue = enqueue(test_queue, 18)\n",
        "test_queue = enqueue(test_queue, 19)\n",
        "print(test_queue) #should be [1,2,3,4,5,18,19]"
      ],
      "execution_count": null,
      "outputs": [
        {
          "output_type": "stream",
          "text": [
            "[1, 2, 3, 4, 5]\n",
            "[1, 2, 3, 4, 5, 18, 19]\n"
          ],
          "name": "stdout"
        }
      ]
    },
    {
      "cell_type": "markdown",
      "metadata": {
        "id": "edpFs7r143cp"
      },
      "source": [
        "####Dequeue"
      ]
    },
    {
      "cell_type": "code",
      "metadata": {
        "id": "yeEKg71J1dN0",
        "colab": {
          "base_uri": "https://localhost:8080/",
          "height": 51
        },
        "outputId": "6c5c79ff-bd91-4ca2-f725-fbf561f82c04"
      },
      "source": [
        "queue0=[3,7,5]\n",
        "\n",
        "#If we want to dequeue queue0, and get the dequeued element\n",
        "#how would you do that? Write a line to perform the aforementioned operation\n",
        "#on our variable queue0 and assign the result to elem2\n",
        "\n",
        "elem2 = queue0[0]#YOUR CODE HERE\n",
        "print(elem2) #should be 3\n",
        "\n",
        "#Since we've removed the 3, the new queue should only contain the\n",
        "#remaining elemnts [7,5]. Write the line to get the remaining elements and\n",
        "#assign the results to queue2.\n",
        "\n",
        "queue2 = queue0[1:]#YOUR CODE HERE\n",
        "print(queue2) #should be [7,5]"
      ],
      "execution_count": null,
      "outputs": [
        {
          "output_type": "stream",
          "text": [
            "3\n",
            "[7, 5]\n"
          ],
          "name": "stdout"
        }
      ]
    },
    {
      "cell_type": "markdown",
      "metadata": {
        "id": "LkM86_Hz5FeD"
      },
      "source": [
        "Take the lines above and paste it into the function below, modifying the variable names so that it takes a queue named `queue` and assigns the dequeued element to a variable named `elem` and the modified queue to `new_queue`"
      ]
    },
    {
      "cell_type": "code",
      "metadata": {
        "id": "R-BeDuIu24P8"
      },
      "source": [
        "def dequeue(queue):\n",
        "  \"\"\"\n",
        "  Dequeue an element from the front of the list\n",
        "  Return a tuple containing the modified list \n",
        "  \"\"\"\n",
        "  \n",
        "  new_queue = queue[1:]\n",
        "  elem = queue[0]\n",
        "  return (new_queue, elem)\n",
        "\n"
      ],
      "execution_count": null,
      "outputs": []
    },
    {
      "cell_type": "code",
      "metadata": {
        "id": "ZtZrrmql5tqi",
        "colab": {
          "base_uri": "https://localhost:8080/",
          "height": 85
        },
        "outputId": "d8c76220-7278-41c5-9bf2-68871e2af2f9"
      },
      "source": [
        "##Test your function\n",
        "\n",
        "test_queue_2 = [2,4,6,8,10]\n",
        "test_queue_2, elem_a = dequeue(test_queue_2)\n",
        "print(elem_a) #should be 2\n",
        "print(test_queue_2) #should be [4,6,8,10]\n",
        "\n",
        "\n",
        "test_queue_2, elem_b = dequeue(test_queue_2)\n",
        "print(elem_b) #should be 4\n",
        "print(test_queue2) #should be [6,8,10]\n"
      ],
      "execution_count": null,
      "outputs": [
        {
          "output_type": "stream",
          "text": [
            "2\n",
            "[4, 6, 8, 10]\n",
            "4\n",
            "[6, 8, 10]\n"
          ],
          "name": "stdout"
        }
      ]
    }
  ]
}