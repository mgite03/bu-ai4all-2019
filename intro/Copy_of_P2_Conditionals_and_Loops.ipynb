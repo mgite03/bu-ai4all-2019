{
  "nbformat": 4,
  "nbformat_minor": 0,
  "metadata": {
    "colab": {
      "name": "Copy of P2: Conditionals and Loops",
      "provenance": [],
      "collapsed_sections": [],
      "include_colab_link": true
    },
    "kernelspec": {
      "name": "python3",
      "display_name": "Python 3"
    }
  },
  "cells": [
    {
      "cell_type": "markdown",
      "metadata": {
        "id": "view-in-github",
        "colab_type": "text"
      },
      "source": [
        "<a href=\"https://colab.research.google.com/github/mgite03/bu-ai4all-2019/blob/main/Copy_of_P2_Conditionals_and_Loops.ipynb\" target=\"_parent\"><img src=\"https://colab.research.google.com/assets/colab-badge.svg\" alt=\"Open In Colab\"/></a>"
      ]
    },
    {
      "cell_type": "markdown",
      "metadata": {
        "id": "516Ip-B7RQNL"
      },
      "source": [
        "## Welcome Back and Review\n",
        "\n",
        "Welcome back to the world of Python!\n",
        "\n",
        "Last lesson, we covered topics such as variables, input/output, and lists. In this lesson, we'll expand on those topics by talking about conditionals, loops, 2D lists (also known as matrices) and nested loops (loops within loops), and we'll cover new topics such as importing libraries and using functions.\n",
        "\n",
        "Let's jump right into coding with a quick review example!\n",
        "\n",
        "![alt text](https://media.giphy.com/media/3oKIPnAiaMCws8nOsE/giphy.gif)\n",
        "\n"
      ]
    },
    {
      "cell_type": "markdown",
      "metadata": {
        "id": "b7iSRfpWQCmP"
      },
      "source": [
        "## If Statements (Conditionals)\n",
        "\n",
        "How can we change how the program acts based on input from the user? We can make use of a concept called **conditionals**, which come from the idea that for certain _conditions_, you do certain actions.\n",
        "\n",
        "What do you think this following line of code does? Once you have a guess, give it a run a few times, with different inputs:\n"
      ]
    },
    {
      "cell_type": "code",
      "metadata": {
        "id": "_eY16gH65Z7X",
        "colab": {
          "base_uri": "https://localhost:8080/",
          "height": 51
        },
        "outputId": "b3f93c1b-a031-4e5b-e172-fd00131a4328"
      },
      "source": [
        "num = int(input(\"Input a number from 1 to 10: \"))\n",
        "\n",
        "if num > 5:\n",
        "  print(\"This was a good number!\")"
      ],
      "execution_count": null,
      "outputs": [
        {
          "output_type": "stream",
          "text": [
            "Input a number from 1 to 10: 9\n",
            "This was a good number!\n"
          ],
          "name": "stdout"
        }
      ]
    },
    {
      "cell_type": "markdown",
      "metadata": {
        "id": "k4HhhrgI7r0a"
      },
      "source": [
        "Notice that in the code block above, the print statement only happens for certain numbers that are input. We happen to use the comparison operator `>` to compare `num` and `5` in this particular case. All of the comparison operators are as follows:\n",
        "\n",
        "\n",
        "* `==` to check for equality\n",
        "* `!=` to check for inequality\n",
        "* `>` greater than\n",
        "*   `<` less than\n",
        "*   `>=` greater than or equal to\n",
        "* `<=` less than or equal to\n",
        "\n",
        "It's particularly important to note that if you are checking if something is equal, you must use `==` and not just a single `=`, because a single `=` in Python is interpretted as assigning a value to a variable.\n",
        "\n",
        "We'll put this to use in the code block below. Don't be afraid to ask for help!\n",
        "\n"
      ]
    },
    {
      "cell_type": "code",
      "metadata": {
        "id": "ImWSfqzt9CS7"
      },
      "source": [
        "num = int(input(\"Input a number from 1 to 10: \"))\n",
        "\n",
        "# Let's give it a try! Finish the following line so that \"You got it!\" only prints when num equals 3\n",
        "if\n",
        "  print(\"You got it!\")"
      ],
      "execution_count": null,
      "outputs": []
    },
    {
      "cell_type": "markdown",
      "metadata": {
        "id": "Gw6Q51KP9pnx"
      },
      "source": [
        "What if we wanted to print a different message if they got the number wrong? It would take a lot of time to write a condition for every single other option, so instead we can make use of a different piece of code:\n",
        "\n",
        "(Spoilers for the previous code block, so be sure to have finished that before looking at the following.)"
      ]
    },
    {
      "cell_type": "code",
      "metadata": {
        "id": "rwKvZoVc94tO"
      },
      "source": [
        "num = int(input(\"Input a number from 1 to 10: \"))\n",
        "\n",
        "if num == 5:\n",
        "  print(\"You got it!\")\n",
        "else:\n",
        "  print(\"Try again!\")"
      ],
      "execution_count": null,
      "outputs": []
    },
    {
      "cell_type": "markdown",
      "metadata": {
        "id": "owQaUNuH-NyG"
      },
      "source": [
        "We can also include some math in our if statement, to help check for specific conditions. For example, a very popular use of the modulo operator is to check if a number is even or odd, and we can combine this with an if statement:"
      ]
    },
    {
      "cell_type": "code",
      "metadata": {
        "id": "iaTdt45N-kZC"
      },
      "source": [
        "num = int(input(\"Input a number from 1 to 100: \"))\n",
        "\n",
        "if num % 2 == 0:\n",
        "  print(\"You inputted an even number.\")\n",
        "else:\n",
        "  print(\"You inputted an odd number.\")"
      ],
      "execution_count": null,
      "outputs": []
    },
    {
      "cell_type": "markdown",
      "metadata": {
        "id": "Hw0xFruG-wr5"
      },
      "source": [
        "So how does this work?\n",
        "\n",
        "Because modulo returns the remainder after dividing by 2, we know that all even numbers will have a remainder of 0 and all odd numbers will have a remainder of 1. Our if-statement checks to see that if after `num % 2` you get the result of 0, you know that `num` is an even number.\n",
        "\n",
        "There are many more uses of if-statements, and we'll see that this is one of the most useful fundamental concepts in programming that helps us create meaningful programs."
      ]
    },
    {
      "cell_type": "markdown",
      "metadata": {
        "id": "4_VBcdGR_26X"
      },
      "source": [
        "### A Note on Indenting\n",
        "\n",
        "You may have noticed in all of the code examples above that there is a single indent for the line that comes after the if-statement condition. Why might that be?\n",
        "\n",
        "Try running the following code to see what happens:"
      ]
    },
    {
      "cell_type": "code",
      "metadata": {
        "id": "ARmPnYh3AGc-"
      },
      "source": [
        "x = 5\n",
        "\n",
        "if x < 2:\n",
        "  print(\"Well, we know this will not print...\")\n",
        "  print(\"But what about this?\")"
      ],
      "execution_count": null,
      "outputs": []
    },
    {
      "cell_type": "markdown",
      "metadata": {
        "id": "ZJGrCiGQAO6z"
      },
      "source": [
        "Compare it with the following:"
      ]
    },
    {
      "cell_type": "code",
      "metadata": {
        "id": "zvroZsG_AQSN",
        "colab": {
          "base_uri": "https://localhost:8080/",
          "height": 34
        },
        "outputId": "2481af08-968d-4218-9862-c261c89585ed"
      },
      "source": [
        "x = 5\n",
        "\n",
        "if x < 2:\n",
        "  print(\"Well, we know this will not print...\")\n",
        "print(\"But what about this?\")"
      ],
      "execution_count": null,
      "outputs": [
        {
          "output_type": "stream",
          "text": [
            "But what about this?\n"
          ],
          "name": "stdout"
        }
      ]
    },
    {
      "cell_type": "markdown",
      "metadata": {
        "id": "2ktpJ4NPAWG2"
      },
      "source": [
        "What do you notice is the difference between the two code blocks?"
      ]
    },
    {
      "cell_type": "markdown",
      "metadata": {
        "id": "PmMDVxleAd1R"
      },
      "source": [
        "We use indenting to tell Python which block of code should be run as part of the conditional, and which part comes after the conditional. \n",
        "\n",
        "Not all programming languages use indentation for this -- for example, a different programming language called JavaScript uses the curly braces `{}` to tell the computer that everything inside the curly braces should be run if the condition is true, and everything afterwards will be run regardless of the conditional."
      ]
    },
    {
      "cell_type": "code",
      "metadata": {
        "id": "H5URZNxgBDgx",
        "colab": {
          "base_uri": "https://localhost:8080/",
          "height": 34
        },
        "outputId": "5cf52962-facb-4f61-d902-295ae5d623ca"
      },
      "source": [
        "# One more example just to be clear!\n",
        "y = 100\n",
        "\n",
        "# Do you remember what this following comparison operator does?\n",
        "if y != 100:\n",
        "  print(\"Will this line print?\")\n",
        "  print(\"How about this line?\")\n",
        "  print(\"Let's add one more line just in case.\")\n",
        "print(\"Now will it print?\")"
      ],
      "execution_count": null,
      "outputs": [
        {
          "output_type": "stream",
          "text": [
            "Now will it print?\n"
          ],
          "name": "stdout"
        }
      ]
    },
    {
      "cell_type": "markdown",
      "metadata": {
        "id": "IDNz636mQKJq"
      },
      "source": [
        "## Loops\n",
        "\n",
        "Sometimes we want to repeat the same operation many times. For example, say we wanted to print all of the multiples of 7 up to 100. How could we do this?\n",
        "\n",
        "One way is to manually calculate all of the multiples and write `print(7)`, then `print(14)`, and continue until we've printed all of them out. But this takes lots of time to calculate and type out, and we're likely to make errors in this way.\n",
        "\n",
        "Instead, we can use something called a while loop:"
      ]
    },
    {
      "cell_type": "code",
      "metadata": {
        "id": "mQUIZgfoEVyA",
        "colab": {
          "base_uri": "https://localhost:8080/",
          "height": 255
        },
        "outputId": "a194623b-619d-4575-9981-b5cc7227a8b7"
      },
      "source": [
        "num = 7\n",
        "while num < 100:\n",
        "  print(num)\n",
        "  num += 7"
      ],
      "execution_count": null,
      "outputs": [
        {
          "output_type": "stream",
          "text": [
            "7\n",
            "14\n",
            "21\n",
            "28\n",
            "35\n",
            "42\n",
            "49\n",
            "56\n",
            "63\n",
            "70\n",
            "77\n",
            "84\n",
            "91\n",
            "98\n"
          ],
          "name": "stdout"
        }
      ]
    },
    {
      "cell_type": "markdown",
      "metadata": {
        "id": "T7jnj-BhE8dX"
      },
      "source": [
        "On line 2 in the code above, we check to see if the variable `num` is less than 100. If it is, we will run the two indented lines of code, which print `num` and also increase it by 7. This will continue until `num` is greater than 100, and stop repeating, which we see from running the code.\n",
        "\n",
        "Loops are a very useful way to repeat the same task over and over, often with just a small thing changed on each **iteration**, which is what we call one cycle of the loop. If you feel like you're doing a lot of copying and pasting of code, this is often a sign that you can potentially replace things with a loop."
      ]
    },
    {
      "cell_type": "markdown",
      "metadata": {
        "id": "rnRBRs2fFtWC"
      },
      "source": [
        "### For Loops\n",
        "\n",
        "One particular type of loop is the for loop. It has many uses, such as with lists:"
      ]
    },
    {
      "cell_type": "code",
      "metadata": {
        "id": "azpbfV1ZF1Pz",
        "colab": {
          "base_uri": "https://localhost:8080/",
          "height": 255
        },
        "outputId": "62d6312c-e19f-4648-da10-ddc17440ee97"
      },
      "source": [
        "things_to_do = [\"water plants\", \"take out trash\", \"mow lawn\", \"prepare dinner\"]\n",
        "\n",
        "for task in things_to_do:\n",
        "  print(\"Now doing:\", task)\n",
        "  \n",
        "for i in range(10):\n",
        "  print(i)\n",
        "  \n",
        "  # with only one number in the range, the for loop starts at 0"
      ],
      "execution_count": null,
      "outputs": [
        {
          "output_type": "stream",
          "text": [
            "Now doing: water plants\n",
            "Now doing: take out trash\n",
            "Now doing: mow lawn\n",
            "Now doing: prepare dinner\n",
            "0\n",
            "1\n",
            "2\n",
            "3\n",
            "4\n",
            "5\n",
            "6\n",
            "7\n",
            "8\n",
            "9\n"
          ],
          "name": "stdout"
        }
      ]
    },
    {
      "cell_type": "markdown",
      "metadata": {
        "id": "jIDdokoOGAl6"
      },
      "source": [
        "Notice that in order to print out each element of the list one-by-one, we need to use a for loop. We cannot do the following:"
      ]
    },
    {
      "cell_type": "code",
      "metadata": {
        "id": "ZTsl1w5SGGuN",
        "colab": {
          "base_uri": "https://localhost:8080/",
          "height": 34
        },
        "outputId": "4c2e138f-9f99-4f31-ec43-b1311c8bf148"
      },
      "source": [
        "# This would just print the entire list at once\n",
        "things_to_do = [\"water plants\", \"take out trash\", \"mow lawn\", \"prepare dinner\"]\n",
        "print(things_to_do)"
      ],
      "execution_count": null,
      "outputs": [
        {
          "output_type": "stream",
          "text": [
            "['water plants', 'take out trash', 'mow lawn', 'prepare dinner']\n"
          ],
          "name": "stdout"
        }
      ]
    },
    {
      "cell_type": "markdown",
      "metadata": {
        "id": "BpDOerE7IufB"
      },
      "source": [
        "Notice that in the for loop, we mention the variable `task`, but never initialize it beforehand. Typically you'd expect this to return an error, like you see below:"
      ]
    },
    {
      "cell_type": "code",
      "metadata": {
        "id": "PMIif1WEI5sj",
        "colab": {
          "base_uri": "https://localhost:8080/",
          "height": 163
        },
        "outputId": "a2540a91-db16-4775-bffb-5bc51141b2e5"
      },
      "source": [
        "# An example of a variable we've never initialized before being used\n",
        "print(some_random_new_variable)"
      ],
      "execution_count": null,
      "outputs": [
        {
          "output_type": "error",
          "ename": "NameError",
          "evalue": "ignored",
          "traceback": [
            "\u001b[0;31m---------------------------------------------------------------------------\u001b[0m",
            "\u001b[0;31mNameError\u001b[0m                                 Traceback (most recent call last)",
            "\u001b[0;32m<ipython-input-9-d0b17b7621be>\u001b[0m in \u001b[0;36m<module>\u001b[0;34m()\u001b[0m\n\u001b[0;32m----> 1\u001b[0;31m \u001b[0mprint\u001b[0m\u001b[0;34m(\u001b[0m\u001b[0msome_random_new_variable\u001b[0m\u001b[0;34m)\u001b[0m\u001b[0;34m\u001b[0m\u001b[0;34m\u001b[0m\u001b[0m\n\u001b[0m",
            "\u001b[0;31mNameError\u001b[0m: name 'some_random_new_variable' is not defined"
          ]
        }
      ]
    },
    {
      "cell_type": "markdown",
      "metadata": {
        "id": "ZblZ4V6dJAPp"
      },
      "source": [
        "However, in the first line of a for loop, Python understands that we are using a placeholder variable that is updated each time the for loop runs. In the following example, `num` is a placeholder variable that's assigned the first value in the list the first time the for loop runs, and the next item in the list each time the loop repeats:"
      ]
    },
    {
      "cell_type": "code",
      "metadata": {
        "id": "Gs4rV2quJc7M",
        "colab": {
          "base_uri": "https://localhost:8080/",
          "height": 119
        },
        "outputId": "fba72973-b038-4134-f4cf-a38bcbb0cd44"
      },
      "source": [
        "my_list = [1,22,13,14,95]\n",
        "for num in my_list:\n",
        "  print(num)\n",
        "  \n"
      ],
      "execution_count": null,
      "outputs": [
        {
          "output_type": "stream",
          "text": [
            "1\n",
            "22\n",
            "13\n",
            "14\n",
            "95\n",
            "range(0, 5)\n"
          ],
          "name": "stdout"
        }
      ]
    },
    {
      "cell_type": "markdown",
      "metadata": {
        "id": "u53rfwj6GPKf"
      },
      "source": [
        "Say we want to loop through a list of numbers and count how many times we see an even number. We could do that by combining for loops and if statements:"
      ]
    },
    {
      "cell_type": "code",
      "metadata": {
        "id": "_wj_WJcbGOpX"
      },
      "source": [
        "list_of_no = [1,2,99,24,45,76]\n",
        "\n",
        "count = 0\n",
        "\n",
        "for number in list_of_no:\n",
        "  if number % 2 == 0:\n",
        "    count += 1\n",
        "    \n",
        "print(count)"
      ],
      "execution_count": null,
      "outputs": []
    },
    {
      "cell_type": "markdown",
      "metadata": {
        "id": "GZXRxYgjG8lm"
      },
      "source": [
        "Take your time to read the code example above. We've combined many of the different things that we've learned in the lesson so far to accomplish this task. Try to read through each line of code to understand what it does, especially within the for loop. Notice that the if-statement condition is indented once, and the `count += 1` line is indented twice."
      ]
    },
    {
      "cell_type": "markdown",
      "metadata": {
        "id": "TmR8AMRuQLiB"
      },
      "source": [
        "## Ranged For Loop\n",
        "\n",
        "In addition to using a for loop with a list, we can use a for loop with a range of numbers. Say we wanted to count up from 1 to 100 and print each number:"
      ]
    },
    {
      "cell_type": "code",
      "metadata": {
        "id": "-_phUnfIH3IH",
        "colab": {
          "base_uri": "https://localhost:8080/",
          "height": 1000
        },
        "outputId": "adeb037c-a153-478a-9eb2-762f8dda2b5f"
      },
      "source": [
        "for number in range(100):\n",
        "  print(number)"
      ],
      "execution_count": null,
      "outputs": [
        {
          "output_type": "stream",
          "text": [
            "0\n",
            "1\n",
            "2\n",
            "3\n",
            "4\n",
            "5\n",
            "6\n",
            "7\n",
            "8\n",
            "9\n",
            "10\n",
            "11\n",
            "12\n",
            "13\n",
            "14\n",
            "15\n",
            "16\n",
            "17\n",
            "18\n",
            "19\n",
            "20\n",
            "21\n",
            "22\n",
            "23\n",
            "24\n",
            "25\n",
            "26\n",
            "27\n",
            "28\n",
            "29\n",
            "30\n",
            "31\n",
            "32\n",
            "33\n",
            "34\n",
            "35\n",
            "36\n",
            "37\n",
            "38\n",
            "39\n",
            "40\n",
            "41\n",
            "42\n",
            "43\n",
            "44\n",
            "45\n",
            "46\n",
            "47\n",
            "48\n",
            "49\n",
            "50\n",
            "51\n",
            "52\n",
            "53\n",
            "54\n",
            "55\n",
            "56\n",
            "57\n",
            "58\n",
            "59\n",
            "60\n",
            "61\n",
            "62\n",
            "63\n",
            "64\n",
            "65\n",
            "66\n",
            "67\n",
            "68\n",
            "69\n",
            "70\n",
            "71\n",
            "72\n",
            "73\n",
            "74\n",
            "75\n",
            "76\n",
            "77\n",
            "78\n",
            "79\n",
            "80\n",
            "81\n",
            "82\n",
            "83\n",
            "84\n",
            "85\n",
            "86\n",
            "87\n",
            "88\n",
            "89\n",
            "90\n",
            "91\n",
            "92\n",
            "93\n",
            "94\n",
            "95\n",
            "96\n",
            "97\n",
            "98\n",
            "99\n"
          ],
          "name": "stdout"
        }
      ]
    },
    {
      "cell_type": "markdown",
      "metadata": {
        "id": "sUi3K9q9H7TZ"
      },
      "source": [
        "**What is the first number that's printed?**\n",
        "\n",
        "0! Remember that in Python, we typically start counting from 0, not 1.\n",
        "\n",
        "**What is the final number that's printed?**\n",
        "\n",
        "You'll notice that the number we specify in `range()` is the number we count _up to_, but don't actually get to.\n",
        "\n",
        "**How can we correct this to print the numbers 1 to 100 instead of 0 to 99?**"
      ]
    },
    {
      "cell_type": "code",
      "metadata": {
        "id": "7Psf3t8aIW5d"
      },
      "source": [
        "# One approach:\n",
        "for number in range(100):\n",
        "  print(number + 1)"
      ],
      "execution_count": null,
      "outputs": []
    },
    {
      "cell_type": "markdown",
      "metadata": {
        "id": "r-tZ57aoIeSM"
      },
      "source": [
        "Often we'll find multiple ways to do the same thing in Python."
      ]
    },
    {
      "cell_type": "code",
      "metadata": {
        "id": "Q91Y5tghIiZF"
      },
      "source": [
        "# Another approach:\n",
        "for number in range(1, 101):\n",
        "  print(number)"
      ],
      "execution_count": null,
      "outputs": []
    },
    {
      "cell_type": "markdown",
      "metadata": {
        "id": "jUD_tPfNInVY"
      },
      "source": [
        "Both are valid approaches that have pros and cons."
      ]
    },
    {
      "cell_type": "markdown",
      "metadata": {
        "id": "pq9pK36gvRVp"
      },
      "source": [
        "Note that a ranged for loop is not fundamentally different from the first type of for loop we learned where we declare a list to iterate through. Let's look at what the range function does."
      ]
    },
    {
      "cell_type": "code",
      "metadata": {
        "id": "Q0UDVnedvafM"
      },
      "source": [
        "range_list = range(5)\n",
        "for i in range_list:\n",
        "  print(range_list[i])"
      ],
      "execution_count": null,
      "outputs": []
    },
    {
      "cell_type": "markdown",
      "metadata": {
        "id": "It8igJ-LeiOB"
      },
      "source": [
        "## Debugging\n",
        "\n",
        "In this lesson, we'll start to shift from reading code to writing more code. When writing code, we often run into errors or end up with programs that might not run exactly as we wanted. This is ok! In fact, all of the best programmers in the world still make errors and mistakes in their code.\n",
        "\n",
        "One of the tools in a programmer's toolbox is figuring out how to look for errors, or \"bugs\", in their code. The process of finding and removing bugs in your code is called **debugging**, and from computer science folklore, the origin of this word comes from legendary computer scientist Grace Hopper, who once found an actual moth in her computer (back when they were the size of rooms) that caused an error in its calculations.\n",
        "\n",
        "![alt text](http://www.pitt.edu/~super1/lecture/lec44911/img019.JPG)"
      ]
    },
    {
      "cell_type": "markdown",
      "metadata": {
        "id": "ZnZ113AQfzUt"
      },
      "source": [
        "Let's look at the following code block. It's intended to print out the numbers from 1 to 5, but something's wrong. Can you debug it and figure out what needs to be changed?"
      ]
    },
    {
      "cell_type": "code",
      "metadata": {
        "id": "316euGkXf_NH",
        "colab": {
          "base_uri": "https://localhost:8080/",
          "height": 102
        },
        "outputId": "2d3f9e72-a964-4e84-b5d3-2d38ea397f0c"
      },
      "source": [
        "for num in range(1,6):\n",
        "  print(num)"
      ],
      "execution_count": null,
      "outputs": [
        {
          "output_type": "stream",
          "text": [
            "1\n",
            "2\n",
            "3\n",
            "4\n",
            "5\n"
          ],
          "name": "stdout"
        }
      ]
    },
    {
      "cell_type": "markdown",
      "metadata": {
        "id": "-uvBwayhgFgx"
      },
      "source": [
        "Sometimes bugs are hard to find, and it's helpful to add print statements to see what the values of certain variables are at that point in time. Say we want to write a program that takes in an word input and checks if the characters `un` were found in that input:"
      ]
    },
    {
      "cell_type": "code",
      "metadata": {
        "id": "6ID5TtK_gldV",
        "colab": {
          "base_uri": "https://localhost:8080/",
          "height": 34
        },
        "outputId": "6b985c66-207b-4abb-a8eb-f104171868d3"
      },
      "source": [
        "# There's an error in this program -- can you spot it?\n",
        "check = 'um'\n",
        "\n",
        "# Pretend that there were hundreds of lines of code here\n",
        "# So that the lines you see above\n",
        "# And the lines you see below\n",
        "# Aren't right next to each other\n",
        "# You might look to find an error in the code below\n",
        "# But it turns out the bug is somewhere else...\n",
        "\n",
        "word = input(\"Input a word: \")\n",
        "\n",
        "if check in word:\n",
        "  print(\"Found 'un'!\")"
      ],
      "execution_count": null,
      "outputs": [
        {
          "output_type": "stream",
          "text": [
            "Input a word: frog\n"
          ],
          "name": "stdout"
        }
      ]
    },
    {
      "cell_type": "markdown",
      "metadata": {
        "id": "Us6wtWCMhqec"
      },
      "source": [
        "If we run the code and input the word `unimportant`, we should expect the output `Found 'un'!`.\n",
        "\n",
        "However, it doesn't work as expected, because there's a typo that makes the program do something else. \n",
        "\n",
        "When we think there's a bug with our program, we can add a print statement as a check for ourselves. Run the program below and input a word:\n"
      ]
    },
    {
      "cell_type": "code",
      "metadata": {
        "id": "H1AMEuELjMlV"
      },
      "source": [
        "# There's an error in this program -- can you spot it?\n",
        "check = 'um'\n",
        "\n",
        "# Pretend that there were hundreds of lines of code here\n",
        "# So that the lines you see above\n",
        "# And the lines you see below\n",
        "# Aren't right next to each other\n",
        "# You might look to find an error in the code below\n",
        "# But it turns out the bug is somewhere else...\n",
        "\n",
        "word = input(\"Input a word: \")\n",
        "\n",
        "# Added this line to make sure that we're checking for 'un'\n",
        "print(\"We're actually looking for\", check)\n",
        "\n",
        "if check in word:\n",
        "  print(\"Found 'un'!\")"
      ],
      "execution_count": null,
      "outputs": []
    },
    {
      "cell_type": "markdown",
      "metadata": {
        "id": "MBMX46wcjlkD"
      },
      "source": [
        "When we run the program this time, our print statement tells us that we're actually looking for the characters `um` and not `un`. This might help us realize we had made a typo much earlier in the program, so that we go look for it and fix the typo.\n",
        "\n",
        "In this example, it might have been easy to spot the typo since there's not a lot of code in the program. But when programs start to get to hundreds or even thousands of lines long, typos might be harder to catch. Printing what your variables are every now and then can be useful as a debugging tool!\n",
        "\n",
        "Just be sure to remove the debugging print statements you added once you're done, because they likely are not part of the output you want to show a user."
      ]
    },
    {
      "cell_type": "code",
      "metadata": {
        "id": "rYCjkch0muyZ"
      },
      "source": [
        "# The program, without the debug line, with the typo fixed\n",
        "check = 'un'\n",
        "\n",
        "# Pretend that there were hundreds of lines of code here...\n",
        "\n",
        "word = input(\"Input a word:\")\n",
        "\n",
        "if check in word:\n",
        "  print(\"Found 'un'!\")"
      ],
      "execution_count": null,
      "outputs": []
    },
    {
      "cell_type": "markdown",
      "metadata": {
        "id": "UlTCjJHenC2i"
      },
      "source": [
        "If all of this seems confusing at first, no worries! Debugging is a skill that takes practice, which you'll have lots of in this lesson."
      ]
    },
    {
      "cell_type": "markdown",
      "metadata": {
        "id": "4B7kGluDvtsd"
      },
      "source": [
        "Just as before, we learned that the loop variable (named `i` in this case) takes on each value in the list one at a time starting from the 0th index untill the end.\n",
        "\n",
        "Ranged for loops do the exact same thing, but `range` will create the sequence for us to iterate through."
      ]
    },
    {
      "cell_type": "markdown",
      "metadata": {
        "id": "lvYdmKAXK_cP"
      },
      "source": [
        "## Exercise\n",
        "\n",
        "![alt text](https://media.giphy.com/media/9GimADqtnpAPe/giphy.gif)\n",
        "\n",
        "Let's try to put a few of the things that we've learned to the test!\n",
        "\n",
        "In this exercise, write a program that counts from 1 to 100, but will only print the word \"fizz\" on every multiple of three, along with the number itself. For example, the start of your output should look like:\n",
        "\n",
        "> 1\n",
        "\n",
        "> 2\n",
        "\n",
        "> 3 fizz\n",
        "\n",
        "> 4\n",
        "\n",
        "> 5\n",
        "\n",
        "> 6 fizz\n",
        "\n",
        "> 7\n",
        "\n",
        "> ...\n",
        "\n",
        "There are many ways to accomplish this exercise with what we have learned!"
      ]
    },
    {
      "cell_type": "code",
      "metadata": {
        "id": "Vy8PhrbXMIX6",
        "colab": {
          "base_uri": "https://localhost:8080/",
          "height": 1000
        },
        "outputId": "de2db0a4-2fa8-4639-d905-33b1260d964f"
      },
      "source": [
        "# Write your code here\n",
        "\n",
        "for number in range(1,101):\n",
        "  if number % 3 == 0:\n",
        "    print(number, \"fizz\")\n",
        "  else: \n",
        "    print(number)\n",
        "    \n",
        "  "
      ],
      "execution_count": null,
      "outputs": [
        {
          "output_type": "stream",
          "text": [
            "1\n",
            "2\n",
            "3 fizz\n",
            "4\n",
            "5\n",
            "6 fizz\n",
            "7\n",
            "8\n",
            "9 fizz\n",
            "10\n",
            "11\n",
            "12 fizz\n",
            "13\n",
            "14\n",
            "15 fizz\n",
            "16\n",
            "17\n",
            "18 fizz\n",
            "19\n",
            "20\n",
            "21 fizz\n",
            "22\n",
            "23\n",
            "24 fizz\n",
            "25\n",
            "26\n",
            "27 fizz\n",
            "28\n",
            "29\n",
            "30 fizz\n",
            "31\n",
            "32\n",
            "33 fizz\n",
            "34\n",
            "35\n",
            "36 fizz\n",
            "37\n",
            "38\n",
            "39 fizz\n",
            "40\n",
            "41\n",
            "42 fizz\n",
            "43\n",
            "44\n",
            "45 fizz\n",
            "46\n",
            "47\n",
            "48 fizz\n",
            "49\n",
            "50\n",
            "51 fizz\n",
            "52\n",
            "53\n",
            "54 fizz\n",
            "55\n",
            "56\n",
            "57 fizz\n",
            "58\n",
            "59\n",
            "60 fizz\n",
            "61\n",
            "62\n",
            "63 fizz\n",
            "64\n",
            "65\n",
            "66 fizz\n",
            "67\n",
            "68\n",
            "69 fizz\n",
            "70\n",
            "71\n",
            "72 fizz\n",
            "73\n",
            "74\n",
            "75 fizz\n",
            "76\n",
            "77\n",
            "78 fizz\n",
            "79\n",
            "80\n",
            "81 fizz\n",
            "82\n",
            "83\n",
            "84 fizz\n",
            "85\n",
            "86\n",
            "87 fizz\n",
            "88\n",
            "89\n",
            "90 fizz\n",
            "91\n",
            "92\n",
            "93 fizz\n",
            "94\n",
            "95\n",
            "96 fizz\n",
            "97\n",
            "98\n",
            "99 fizz\n",
            "100\n"
          ],
          "name": "stdout"
        }
      ]
    },
    {
      "cell_type": "markdown",
      "metadata": {
        "id": "u1aoFYtBMLsW"
      },
      "source": [
        "## Challenge Exercise\n",
        "\n",
        "For those who are ambitious, here's a coding question that you can answer with just the concepts we've learned in this lesson. This one is slightly trickier, but you've got this!\n",
        "\n",
        "Write a program that prints the numbers from 1 to 100, but on multiples of 3 will print \"fizz\", on multiples of 5 will print \"buzz\", and on multiples of both 3 and 5 will print \"fizzbuzz\". For example, the start of your output should look like:\n",
        "\n",
        "> 1\n",
        "\n",
        "> 2\n",
        "\n",
        "> 3 fizz\n",
        "\n",
        "> 4\n",
        "\n",
        "> 5 buzz\n",
        "\n",
        "> 6 fizz\n",
        "\n",
        "> 7\n",
        "\n",
        "> 8\n",
        "\n",
        "> 9 fizz\n",
        "\n",
        "> 10 buzz\n",
        "\n",
        "> 11\n",
        "\n",
        "> 12 fizz\n",
        "\n",
        "> 13\n",
        "\n",
        "> 14\n",
        "\n",
        "> 15 fizzbuzz\n",
        "\n",
        "> 16\n",
        "\n",
        "> ...\n",
        "\n",
        "Feel free to work with others and ask questions on this challenge exercise!"
      ]
    },
    {
      "cell_type": "code",
      "metadata": {
        "id": "dFyWQQomMLLk"
      },
      "source": [
        "# Write your code here\n",
        "\n",
        "for number in range (1,101):\n",
        "  if number % 3 == 0 and number % 5 == 0:\n",
        "    print(number, \"fizzbuzz\")\n",
        "  elif number % 3 == 0:\n",
        "    print(number, \"fizz\")\n",
        "  elif number % 5 == 0:\n",
        "    print(number, \"buzz\")\n",
        "  else:\n",
        "    print(number)\n",
        "  "
      ],
      "execution_count": null,
      "outputs": []
    },
    {
      "cell_type": "markdown",
      "metadata": {
        "id": "6OuXu_uMNMFA"
      },
      "source": [
        "Note: This is the classic \"fizzbuzz\" problem, which is actually a real interview question that some companies ask when they hire software engineers! Good job to those who figured out the solution to this question!"
      ]
    },
    {
      "cell_type": "markdown",
      "metadata": {
        "id": "wFMV78AAQnmu"
      },
      "source": [
        "## Nested Loops\n",
        "\n",
        "In all examples from the first lesson, we only used a single loop at a time, like you see below:"
      ]
    },
    {
      "cell_type": "code",
      "metadata": {
        "id": "h5UdW2jBZcDa"
      },
      "source": [
        "for num in range(5):\n",
        "  print(\"We're going to repeat this 5 times!\")"
      ],
      "execution_count": null,
      "outputs": []
    },
    {
      "cell_type": "markdown",
      "metadata": {
        "id": "cGL7mxgVZn_W"
      },
      "source": [
        "Remember that the placeholder variable (`placeholder` in the following example) is automatically updated each time the loop runs:"
      ]
    },
    {
      "cell_type": "code",
      "metadata": {
        "id": "ZvmifHK_Z66w"
      },
      "source": [
        "for placeholder in range(1, 6):\n",
        "  print(\"This is iteration #\",placeholder,\"of this loop\")"
      ],
      "execution_count": null,
      "outputs": []
    },
    {
      "cell_type": "markdown",
      "metadata": {
        "id": "wuO8UPA7aFtx"
      },
      "source": [
        "Also remember that every line immediately after the `for` that we indent is looped, but once we un-indent, we're outside of the loop. What would the following example print?"
      ]
    },
    {
      "cell_type": "code",
      "metadata": {
        "id": "MOD9xeqhaYGq"
      },
      "source": [
        "lis = [\"coffee\", \"tea\", \"boba\"]\n",
        "\n",
        "for item in lis:\n",
        "  print(\"I like the following item:\")\n",
        "  print(item)\n",
        "print(\"That's the whole list!\")"
      ],
      "execution_count": null,
      "outputs": []
    },
    {
      "cell_type": "markdown",
      "metadata": {
        "id": "xFxs3Uarauuw"
      },
      "source": [
        "Sometimes, it's useful for us to have a loop inside of a loop. For example, if we had a list of words and wanted to print each 5 times, how would we do this?"
      ]
    },
    {
      "cell_type": "code",
      "metadata": {
        "id": "vyCnwvhxa9m0",
        "colab": {
          "base_uri": "https://localhost:8080/",
          "height": 272
        },
        "outputId": "892234ba-fa18-4dc7-e4e4-c288b7dd02b5"
      },
      "source": [
        "lis = [\"taro\", \"wintermelon\", \"passion fruit\"]\n",
        "\n",
        "for item in lis:\n",
        "  for num in range(5):\n",
        "    print(item)"
      ],
      "execution_count": null,
      "outputs": [
        {
          "output_type": "stream",
          "text": [
            "taro\n",
            "taro\n",
            "taro\n",
            "taro\n",
            "taro\n",
            "wintermelon\n",
            "wintermelon\n",
            "wintermelon\n",
            "wintermelon\n",
            "wintermelon\n",
            "passion fruit\n",
            "passion fruit\n",
            "passion fruit\n",
            "passion fruit\n",
            "passion fruit\n"
          ],
          "name": "stdout"
        }
      ]
    },
    {
      "cell_type": "markdown",
      "metadata": {
        "id": "UVisQ70PbPpf"
      },
      "source": [
        "A quick note that there's a different way of doing this using multiplication, but the example above illustrates how we can use a loop inside of a loop, otherwise known as a **nested loop**.\n",
        "\n",
        "But what exactly is going on?\n",
        "\n",
        "Let's add some print statements to try to understand how the two loops work:"
      ]
    },
    {
      "cell_type": "code",
      "metadata": {
        "id": "EBDYWz9RbtUC",
        "colab": {
          "base_uri": "https://localhost:8080/",
          "height": 578
        },
        "outputId": "f0586b3b-84a3-4a92-9704-236612429dd2"
      },
      "source": [
        "lis = [\"taro\", \"wintermelon\", \"passion fruit\"]\n",
        "\n",
        "for item in lis:\n",
        "  print(\"We're back outside to the top of the outer loop. The item we're looking at now is\", item)\n",
        "  for num in range(5):\n",
        "    print(\"Inner loop, iteration #\",num)\n",
        "    print(item)"
      ],
      "execution_count": null,
      "outputs": [
        {
          "output_type": "stream",
          "text": [
            "We're back outside to the top of the outer loop. The item we're looking at now is taro\n",
            "Inner loop, iteration # 0\n",
            "taro\n",
            "Inner loop, iteration # 1\n",
            "taro\n",
            "Inner loop, iteration # 2\n",
            "taro\n",
            "Inner loop, iteration # 3\n",
            "taro\n",
            "Inner loop, iteration # 4\n",
            "taro\n",
            "We're back outside to the top of the outer loop. The item we're looking at now is wintermelon\n",
            "Inner loop, iteration # 0\n",
            "wintermelon\n",
            "Inner loop, iteration # 1\n",
            "wintermelon\n",
            "Inner loop, iteration # 2\n",
            "wintermelon\n",
            "Inner loop, iteration # 3\n",
            "wintermelon\n",
            "Inner loop, iteration # 4\n",
            "wintermelon\n",
            "We're back outside to the top of the outer loop. The item we're looking at now is passion fruit\n",
            "Inner loop, iteration # 0\n",
            "passion fruit\n",
            "Inner loop, iteration # 1\n",
            "passion fruit\n",
            "Inner loop, iteration # 2\n",
            "passion fruit\n",
            "Inner loop, iteration # 3\n",
            "passion fruit\n",
            "Inner loop, iteration # 4\n",
            "passion fruit\n"
          ],
          "name": "stdout"
        }
      ]
    },
    {
      "cell_type": "markdown",
      "metadata": {
        "id": "dL8wxXB8cG1A"
      },
      "source": [
        "This might look like a lot at first! But take a breath, and try to follow the code, line by line, to see which line prints which statement.\n",
        "\n",
        "The key thing to remember is that the inner loop will repeat 5 times before it's finished. Once it's finished, we'll get to the end of the outer loop, and the outer loop will repeat.\n",
        "\n",
        "Said differently, remember that the outer loop will not repeat until the inner loop is done repeating.\n",
        "\n",
        "Here's another example. Try to follow the code and the loops and **write down** what it would print before running it:"
      ]
    },
    {
      "cell_type": "code",
      "metadata": {
        "id": "KE07ngmRdX3_",
        "colab": {
          "base_uri": "https://localhost:8080/",
          "height": 170
        },
        "outputId": "21e89b62-3289-489e-83f9-7cd354209a22"
      },
      "source": [
        "for a in range(1, 3):\n",
        "  print(a)\n",
        "  for b in range(1, 3):\n",
        "    num = a + b\n",
        "    print(num)\n",
        "  print(\"Finished the inner loop, repeating the outer loop\")\n",
        "print(\"Finished both loops\")\n",
        "\n",
        "\n",
        "\n",
        "#1\n",
        "#2\n",
        "#3\n",
        "#finish\n",
        "#2\n",
        "#3\n",
        "#4\n",
        "#finish, \n",
        "#finish both"
      ],
      "execution_count": null,
      "outputs": [
        {
          "output_type": "stream",
          "text": [
            "1\n",
            "2\n",
            "3\n",
            "Finished the inner loop, repeating the outer loop\n",
            "2\n",
            "3\n",
            "4\n",
            "Finished the inner loop, repeating the outer loop\n",
            "Finished both loops\n"
          ],
          "name": "stdout"
        }
      ]
    },
    {
      "cell_type": "markdown",
      "metadata": {
        "id": "239GjVfpn0vm"
      },
      "source": [
        "Nested loops are extremely useful, and we'll see them a lot when working with things like tables of information. It does take some time and practice to get used to nested loops, so don't worry if they don't come naturally right away.\n",
        "\n",
        "For practice, try to write a program that prints out the multiplication table up to 10 x 10. It should look like:\n",
        "\n",
        "```\n",
        "1 2 3 4 5 6 7 8 9 10 \n",
        "2 4 6 8 10 12 14 16 18 20 \n",
        "3 6 9 12 15 18 21 24 27 30 \n",
        "4 8 12 16 20 24 28 32 36 40 \n",
        "5 10 15 20 25 30 35 40 45 50 \n",
        "6 12 18 24 30 36 42 48 54 60 \n",
        "7 14 21 28 35 42 49 56 63 70 \n",
        "8 16 24 32 40 48 56 64 72 80 \n",
        "9 18 27 36 45 54 63 72 81 90 \n",
        "10 20 30 40 50 60 70 80 90 100 \n",
        "\n",
        "```\n",
        "\n",
        "For this exercise, you'll need to be able to print without a new line happening every time you write a print statement. Here's an example of that:"
      ]
    },
    {
      "cell_type": "code",
      "metadata": {
        "id": "iSORg3rfo3dt",
        "colab": {
          "base_uri": "https://localhost:8080/",
          "height": 187
        },
        "outputId": "5bdbcab5-2cf7-413f-da46-4dc21ca03b05"
      },
      "source": [
        "print(\"When we print this\")\n",
        "print(\"this happens on a new line.\")\n",
        "\n",
        "print()\n",
        "print()\n",
        "\n",
        "print(\"If we want a blank line,\")\n",
        "print()\n",
        "print(\"We can just say print().\")\n",
        "\n",
        "print()\n",
        "print()\n",
        "\n",
        "print(\"But when we print and include the code that says end='', \", end='')\n",
        "print(\"the next print statement won't happen on a new line!\")"
      ],
      "execution_count": null,
      "outputs": [
        {
          "output_type": "stream",
          "text": [
            "When we print this\n",
            "this happens on a new line.\n",
            "\n",
            "\n",
            "If we want a blank line,\n",
            "\n",
            "We can just say print().\n",
            "\n",
            "\n",
            "But when we print and include the code that says end='', the next print statement won't happen on a new line!\n"
          ],
          "name": "stdout"
        }
      ]
    },
    {
      "cell_type": "markdown",
      "metadata": {
        "id": "D4sWdbPYpjEy"
      },
      "source": [
        "We need this, because it will help us print out a single line of the multiplication table. For example, let's see the difference between the following two blocks of code:"
      ]
    },
    {
      "cell_type": "code",
      "metadata": {
        "id": "aFxLC6xnpsgH",
        "colab": {
          "base_uri": "https://localhost:8080/",
          "height": 187
        },
        "outputId": "f92edcc0-c4bc-4dbb-97ec-aa4912e5c43f"
      },
      "source": [
        "for num in range(1, 11):\n",
        "  print(num)"
      ],
      "execution_count": null,
      "outputs": [
        {
          "output_type": "stream",
          "text": [
            "1\n",
            "2\n",
            "3\n",
            "4\n",
            "5\n",
            "6\n",
            "7\n",
            "8\n",
            "9\n",
            "10\n"
          ],
          "name": "stdout"
        }
      ]
    },
    {
      "cell_type": "code",
      "metadata": {
        "id": "DXwbHppJpyfv",
        "colab": {
          "base_uri": "https://localhost:8080/",
          "height": 34
        },
        "outputId": "07139f23-fa76-4f30-f189-d2c474a2a92f"
      },
      "source": [
        "for num in range(1, 11):\n",
        "  print(num, end='')"
      ],
      "execution_count": null,
      "outputs": [
        {
          "output_type": "stream",
          "text": [
            "12345678910"
          ],
          "name": "stdout"
        }
      ]
    },
    {
      "cell_type": "markdown",
      "metadata": {
        "id": "XRB0LYKRp3bL"
      },
      "source": [
        "We use `end=''` to tell the print statement that when we finish printing, we won't tell the computer to start the next print on a new line.\n",
        "\n",
        "Notice that after printing, we don't have any spaces between the characters as well. If we instead say `end=' '`, that means that we're telling the computer to add a space after each print."
      ]
    },
    {
      "cell_type": "code",
      "metadata": {
        "id": "A4Bbm6iaqREd",
        "colab": {
          "base_uri": "https://localhost:8080/",
          "height": 34
        },
        "outputId": "0672e495-10bf-4f82-ebd1-6391fd1857b9"
      },
      "source": [
        "for num in range(1, 11):\n",
        "  print(num, end=' ')"
      ],
      "execution_count": null,
      "outputs": [
        {
          "output_type": "stream",
          "text": [
            "1 2 3 4 5 6 7 8 9 10 "
          ],
          "name": "stdout"
        }
      ]
    },
    {
      "cell_type": "markdown",
      "metadata": {
        "id": "CQDSdOJRqUi3"
      },
      "source": [
        "How might we use this to print our multiplication table using nested loops?\n",
        "\n",
        "Think about it a bit, and give it a try. This may also be an excellent opportunity to practice debugging! Feel free to work with others:"
      ]
    },
    {
      "cell_type": "code",
      "metadata": {
        "id": "bBcNJaLvq7LM",
        "colab": {
          "base_uri": "https://localhost:8080/",
          "height": 187
        },
        "outputId": "45c03f62-184a-43c4-f8f6-c6c7a1731b0c"
      },
      "source": [
        "# Write your code here for printing the multiplication table, up to 10 x 10\n",
        "# You should use a nested loop\n",
        "\n",
        "for column_num in range(1,11):\n",
        "  for row_num in range (1,11):\n",
        "    print (column_num*row_num, end=\" \")\n",
        "  print()"
      ],
      "execution_count": null,
      "outputs": [
        {
          "output_type": "stream",
          "text": [
            "1 2 3 4 5 6 7 8 9 10 \n",
            "2 4 6 8 10 12 14 16 18 20 \n",
            "3 6 9 12 15 18 21 24 27 30 \n",
            "4 8 12 16 20 24 28 32 36 40 \n",
            "5 10 15 20 25 30 35 40 45 50 \n",
            "6 12 18 24 30 36 42 48 54 60 \n",
            "7 14 21 28 35 42 49 56 63 70 \n",
            "8 16 24 32 40 48 56 64 72 80 \n",
            "9 18 27 36 45 54 63 72 81 90 \n",
            "10 20 30 40 50 60 70 80 90 100 \n"
          ],
          "name": "stdout"
        }
      ]
    },
    {
      "cell_type": "markdown",
      "metadata": {
        "id": "GLqF_tVGRZRn"
      },
      "source": [
        "## 2D Lists and Matrices\n",
        "\n",
        "Recall lists from the previous lesson:"
      ]
    },
    {
      "cell_type": "code",
      "metadata": {
        "id": "dKu-qVuAsQnW",
        "colab": {
          "base_uri": "https://localhost:8080/",
          "height": 68
        },
        "outputId": "bc540566-f523-4668-8b03-78a096c8760f"
      },
      "source": [
        "lis = [\"element 0\", \"element 1\", \"element 2\"]\n",
        "\n",
        "print(lis)\n",
        "\n",
        "for item in lis:\n",
        "  if item == \"element 1\":\n",
        "    print(\"Found element 1\")\n",
        "\n",
        "#easier way to do this??-by me :)\n",
        "if \"element 1\" in lis:\n",
        "  print(\"Found element 1 again\")"
      ],
      "execution_count": null,
      "outputs": [
        {
          "output_type": "stream",
          "text": [
            "['element 0', 'element 1', 'element 2']\n",
            "Found element 1\n",
            "Found element 1 again\n"
          ],
          "name": "stdout"
        }
      ]
    },
    {
      "cell_type": "markdown",
      "metadata": {
        "id": "M_2xLMvxshnk"
      },
      "source": [
        "We know that a list can contain strings, numbers, booleans, and all other sorts of data types. But can a list contain a list? Yes!"
      ]
    },
    {
      "cell_type": "code",
      "metadata": {
        "id": "2DmVU7oass6q",
        "colab": {
          "base_uri": "https://localhost:8080/",
          "height": 85
        },
        "outputId": "cc4fb96e-ca1b-4e85-8967-d2e1a3a4f8d1"
      },
      "source": [
        "lis = [\"element 0\", [0, 1, 2], \"element 2\"]\n",
        "\n",
        "for item in lis:\n",
        "  print(item)\n",
        "  \n",
        "print()"
      ],
      "execution_count": null,
      "outputs": [
        {
          "output_type": "stream",
          "text": [
            "element 0\n",
            "[0, 1, 2]\n",
            "element 2\n",
            "\n"
          ],
          "name": "stdout"
        }
      ]
    },
    {
      "cell_type": "code",
      "metadata": {
        "id": "iJi1wKJhzRX7",
        "colab": {
          "base_uri": "https://localhost:8080/",
          "height": 34
        },
        "outputId": "7d30f2a5-73af-4718-cdc2-f7398c905326"
      },
      "source": [
        "# Remember indexing into a list?\n",
        "# What would the following print?\n",
        "print(lis[2])"
      ],
      "execution_count": null,
      "outputs": [
        {
          "output_type": "stream",
          "text": [
            "element 2\n"
          ],
          "name": "stdout"
        }
      ]
    },
    {
      "cell_type": "markdown",
      "metadata": {
        "id": "ywoBvwT8s11N"
      },
      "source": [
        "We see that the list inside of the list is the element with index 1. If we wanted to access that list, we would do:"
      ]
    },
    {
      "cell_type": "code",
      "metadata": {
        "id": "3-sh-vBRtWHX",
        "colab": {
          "base_uri": "https://localhost:8080/",
          "height": 34
        },
        "outputId": "a618160e-66d2-4efb-9445-43c93e99e9c6"
      },
      "source": [
        "lis = [\"element 0\", [0, 1, 2], \"element 2\"]\n",
        "\n",
        "print(lis[1])"
      ],
      "execution_count": null,
      "outputs": [
        {
          "output_type": "stream",
          "text": [
            "[0, 1, 2]\n"
          ],
          "name": "stdout"
        }
      ]
    },
    {
      "cell_type": "markdown",
      "metadata": {
        "id": "DpxS4P-DtZ9p"
      },
      "source": [
        "And if we wanted to loop through this list:"
      ]
    },
    {
      "cell_type": "code",
      "metadata": {
        "id": "OMjbvGcMtf_p",
        "colab": {
          "base_uri": "https://localhost:8080/",
          "height": 68
        },
        "outputId": "826d9a71-caa2-4e4e-8a6f-40fadaa634fa"
      },
      "source": [
        "lis = [\"element 0\", [0, 1, 2], \"element 2\"]\n",
        "\n",
        "# This works, because lis[1] is a list and we're looping over it\n",
        "for item in lis[1]:\n",
        "  print(item)"
      ],
      "execution_count": null,
      "outputs": [
        {
          "output_type": "stream",
          "text": [
            "0\n",
            "1\n",
            "2\n"
          ],
          "name": "stdout"
        }
      ]
    },
    {
      "cell_type": "markdown",
      "metadata": {
        "id": "RBcuUvwvtwaZ"
      },
      "source": [
        "Very frequently, when we work with data for artificial intelligence, it's presented to us as a table. For example, we might have something like:\n",
        "\n",
        "```\n",
        "name     favorite color\n",
        "wells    yellow\n",
        "susanna  black\n",
        "```\n",
        "\n",
        "We can code this up as a \"**2-dimensional list**\", or 2D list, which is a fancy way of calling a list where every element in it is a list.\n"
      ]
    },
    {
      "cell_type": "code",
      "metadata": {
        "id": "QrKNCwYJuttL",
        "colab": {
          "base_uri": "https://localhost:8080/",
          "height": 34
        },
        "outputId": "b28f8815-d53c-4262-b788-addecb14ae84"
      },
      "source": [
        "two_d_list = [[\"name\", \"favorite color\"],\n",
        "              [\"wells\", \"yellow\"],\n",
        "              [\"susanna\", \"black\"]]\n",
        "print(two_d_list)#added by me, I see the difference"
      ],
      "execution_count": null,
      "outputs": [
        {
          "output_type": "stream",
          "text": [
            "[['name', 'favorite color'], ['wells', 'yellow'], ['susanna', 'black']]\n"
          ],
          "name": "stdout"
        }
      ]
    },
    {
      "cell_type": "markdown",
      "metadata": {
        "id": "iH3ZV1fTu9ZM"
      },
      "source": [
        "How can we print this list out? We can use a nested loop!"
      ]
    },
    {
      "cell_type": "code",
      "metadata": {
        "id": "iV-k4Jkfu_qY",
        "colab": {
          "base_uri": "https://localhost:8080/",
          "height": 68
        },
        "outputId": "026588af-8ef3-4d57-9522-fc8ae420a4c4"
      },
      "source": [
        "two_d_list = [[\"name\", \"favorite color\"],\n",
        "              [\"wells\", \"yellow\"],\n",
        "              [\"susanna\", \"black\"]]\n",
        "\n",
        "for row in two_d_list:\n",
        "  for item in row:\n",
        "    print(item,end=\" \")\n",
        "  print()"
      ],
      "execution_count": null,
      "outputs": [
        {
          "output_type": "stream",
          "text": [
            "name favorite color \n",
            "wells yellow \n",
            "susanna black \n"
          ],
          "name": "stdout"
        }
      ]
    },
    {
      "cell_type": "markdown",
      "metadata": {
        "id": "8JIYY8SevRVp"
      },
      "source": [
        "Notice that each inner list in the example above is of the same length (2 items). This doesn't always have to be the case, but when it is, we call it a **matrix**. (Plural form: Matrices)\n",
        "\n",
        "![alt text](https://media.giphy.com/media/3rVfBUa9f0RErtMZBH/giphy.gif)\n",
        "\n",
        "(The above gif is from a movie from 1999 called _The Matrix_.)\n",
        "\n",
        "We'll see matrices just about everywhere when writing programs that deal with artificial intelligence."
      ]
    },
    {
      "cell_type": "markdown",
      "metadata": {
        "id": "r82Uy65tQo1T"
      },
      "source": [
        "## Libraries\n",
        "\n",
        "Now to switch gears and talk about one of the most important concepts in the Python language: libraries.\n",
        "\n",
        "![alt text](https://media.giphy.com/media/3o6ozkeXSb0Cm25CzS/giphy.gif)\n",
        "\n",
        "(No, not that type of library... well, the idea is similar.)\n",
        "\n",
        "\n",
        "\n"
      ]
    },
    {
      "cell_type": "markdown",
      "metadata": {
        "id": "j0E9KSaox8gV"
      },
      "source": [
        "As mentioned at the start of the first lesson, what makes Python a particularly popular language is the fact that you can use code that's already been written by other people, so you don't have to reinvent the wheel each time you need to do something.\n",
        "\n",
        "For example, let's say I want to write some code that outputs a random integer between 1 and 10. It might be hard to write code from scratch that tells a computer to simulate randomness, but luckily, others have written this code for us to use!\n",
        "\n",
        "How do we actually do this? In the following example, we're telling Python that we want to use a library called `random`:\n"
      ]
    },
    {
      "cell_type": "code",
      "metadata": {
        "id": "klTrMcYezCUJ"
      },
      "source": [
        "import random"
      ],
      "execution_count": null,
      "outputs": []
    },
    {
      "cell_type": "markdown",
      "metadata": {
        "id": "VtcQHqlvzEZS"
      },
      "source": [
        "`random` happens to be a library of code that comes with Python. The keyword `import` tells Python that we want to import all of the code in that library into our current program so we can use it."
      ]
    },
    {
      "cell_type": "code",
      "metadata": {
        "id": "dXzHSVwbzRE_",
        "colab": {
          "base_uri": "https://localhost:8080/",
          "height": 34
        },
        "outputId": "a60b059b-df53-4bdd-cd20-bcd4a58554d4"
      },
      "source": [
        "import random\n",
        "\n",
        "rand_no = random.randint(1, 10)\n",
        "print(rand_no)"
      ],
      "execution_count": null,
      "outputs": [
        {
          "output_type": "stream",
          "text": [
            "7\n"
          ],
          "name": "stdout"
        }
      ]
    },
    {
      "cell_type": "markdown",
      "metadata": {
        "id": "xO8SQSuBzaOW"
      },
      "source": [
        "Run the above code a few times to see that a random integer between 1 and 10 is printed out each time.\n",
        "\n",
        "This works because someone else in the world has written the `random` library, and we are making use of code that they have written. \n",
        "\n",
        "For the purposes of artificial intelligence, there are many libraries that other people have written (and are constantly being updated) that help turn the concepts we learn into code. Scikit-learn is one of these libraries that we'll see more of throughout the AI4ALL program. If we want to import it, we write the following line:"
      ]
    },
    {
      "cell_type": "code",
      "metadata": {
        "id": "NWtzf4Vi0Izn"
      },
      "source": [
        "import sklearn"
      ],
      "execution_count": null,
      "outputs": []
    },
    {
      "cell_type": "markdown",
      "metadata": {
        "id": "0zNW82qN0RMV"
      },
      "source": [
        "When we write programs, we typically put all of our import statements at the top of all of our code, so that we make sure the code is imported before using it. This is because we cannot call code from the `random` library before we say `import random`.\n",
        "\n",
        "As a final note, other words you might hear when talking about libraries include **module**, **package**, and **framework**. These are all slightly different, but fundamentally, they're all pieces of code that are external to the code you're currently writing, that you need to import.\n",
        "\n",
        "To oversimplify, a module is usually a single file of Python code, a package is a set of modules (or other packages), a library is a collection of packages (though you can really say \"package\" and \"library\" interchangeably for Python), and a framework is a collection of libraries that are all intended to work together in a specific way."
      ]
    },
    {
      "cell_type": "markdown",
      "metadata": {
        "id": "tsrJIQL0Qv2n"
      },
      "source": [
        "## Functions\n",
        "\n",
        "Let's look at the random integer example again:"
      ]
    },
    {
      "cell_type": "code",
      "metadata": {
        "id": "bynVpfOd0-do",
        "colab": {
          "base_uri": "https://localhost:8080/",
          "height": 34
        },
        "outputId": "7d5f0fbd-6920-409c-b7bc-0c68d7d2513d"
      },
      "source": [
        "import random\n",
        "\n",
        "rand_no = random.randint(1, 10)\n",
        "print(rand_no)"
      ],
      "execution_count": null,
      "outputs": [
        {
          "output_type": "stream",
          "text": [
            "4\n"
          ],
          "name": "stdout"
        }
      ]
    },
    {
      "cell_type": "markdown",
      "metadata": {
        "id": "aQzuaQnu0_8Q"
      },
      "source": [
        "When we write libraries, we want to organize our code into logical blocks that can be reused by ourselves and others. These logical blocks are called **functions**.\n",
        "\n",
        "In the example above, we see the code:\n",
        "\n",
        "```\n",
        "random.randint(1, 10)\n",
        "```\n",
        "\n",
        "This means that from the library `random`, we want to **call** (or use) the function called `randint()`."
      ]
    },
    {
      "cell_type": "markdown",
      "metadata": {
        "id": "GC7KLBTv3UOQ"
      },
      "source": [
        "### Inputs, or Parameters\n",
        "\n",
        "Note that the origin of the term \"function\" in computer science does have its roots in the concept of functions from math. If we think of a math function as something that takes in an input, does some work, and then returns an output, this is essentially what a Python function does as well.\n",
        "\n",
        "For the function `random.randint(1, 10)`, we are taking two inputs (`1` and `10`) and returning a random integer, from 1 up to 10.\n",
        "\n",
        "In programming, we call the inputs to a function its **parameters**."
      ]
    },
    {
      "cell_type": "markdown",
      "metadata": {
        "id": "Osz3HGCu4j5b"
      },
      "source": [
        "### Functions Everywhere!\n",
        "\n",
        "Now that we've talked about functions, it's time to mention... we've actually been seeing functions in use from the very first code you've run!\n",
        "\n",
        "When we run the code `print()`, we are actually running a function that's built into Python. \n",
        "\n",
        "When we run `print(\"Hello world\")`, we are running the function with a single parameter, which is a string that has the value `\"Hello world\"`."
      ]
    },
    {
      "cell_type": "markdown",
      "metadata": {
        "id": "HmOUWIWY5Vrc"
      },
      "source": [
        "### Exercise\n",
        "\n",
        "Let's go back to using the `randint()` function from the `random` library.\n",
        "\n",
        "Say I give you a list of three elements. How could you use `randint()` and list indexing to print one of the elements out by random?"
      ]
    },
    {
      "cell_type": "code",
      "metadata": {
        "id": "4z-ctKKo5nor",
        "colab": {
          "base_uri": "https://localhost:8080/",
          "height": 34
        },
        "outputId": "31f54cdf-bd63-4a5b-859a-1ea2c20c7ae4"
      },
      "source": [
        "import random\n",
        "\n",
        "insp = [\"You can do it!\", \"Progress takes time!\", \"Keep up the good work!\"]\n",
        "\n",
        "# Add your code below to randomly print one of the elements from the list\n",
        "item_num = random.randint(0,2)\n",
        "print(insp[item_num])"
      ],
      "execution_count": null,
      "outputs": [
        {
          "output_type": "stream",
          "text": [
            "Progress takes time!\n"
          ],
          "name": "stdout"
        }
      ]
    },
    {
      "cell_type": "markdown",
      "metadata": {
        "id": "YsDowlr76HhI"
      },
      "source": [
        "## Nested Functions\n",
        "\n",
        "Just like with nested loops and 2D lists, we can have functions within functions. We've actually seen this code in the past as well, like when we do:\n",
        "\n",
        "```\n",
        "num = int(input(\"Enter an integer: \"))\n",
        "```\n",
        "\n",
        "There are two functions being used here: `input()` and `int()`.\n",
        "\n",
        "`input()` does what you would expect: it takes user input. The parameter (which in this case is `\"Enter an integer: \"`) is a message that's shown to the user as you take input.\n",
        "\n",
        "But what about `int()`? \n",
        "\n",
        "Try the following code and see what happens:"
      ]
    },
    {
      "cell_type": "code",
      "metadata": {
        "id": "PT8ErSAl6wJm",
        "colab": {
          "base_uri": "https://localhost:8080/",
          "height": 231
        },
        "outputId": "05b270f5-fc4d-42ee-cb32-9ce02bfd76f2"
      },
      "source": [
        "num = input(\"Enter an integer: \")\n",
        "\n",
        "if num > 5:\n",
        "  print(\"Your number was greater than 5.\")"
      ],
      "execution_count": null,
      "outputs": [
        {
          "output_type": "stream",
          "text": [
            "Enter an integer: 3\n"
          ],
          "name": "stdout"
        },
        {
          "output_type": "error",
          "ename": "TypeError",
          "evalue": "ignored",
          "traceback": [
            "\u001b[0;31m---------------------------------------------------------------------------\u001b[0m",
            "\u001b[0;31mTypeError\u001b[0m                                 Traceback (most recent call last)",
            "\u001b[0;32m<ipython-input-84-b2b9dcb2d925>\u001b[0m in \u001b[0;36m<module>\u001b[0;34m()\u001b[0m\n\u001b[1;32m      1\u001b[0m \u001b[0mnum\u001b[0m \u001b[0;34m=\u001b[0m \u001b[0minput\u001b[0m\u001b[0;34m(\u001b[0m\u001b[0;34m\"Enter an integer: \"\u001b[0m\u001b[0;34m)\u001b[0m\u001b[0;34m\u001b[0m\u001b[0;34m\u001b[0m\u001b[0m\n\u001b[1;32m      2\u001b[0m \u001b[0;34m\u001b[0m\u001b[0m\n\u001b[0;32m----> 3\u001b[0;31m \u001b[0;32mif\u001b[0m \u001b[0mnum\u001b[0m \u001b[0;34m>\u001b[0m \u001b[0;36m5\u001b[0m\u001b[0;34m:\u001b[0m\u001b[0;34m\u001b[0m\u001b[0;34m\u001b[0m\u001b[0m\n\u001b[0m\u001b[1;32m      4\u001b[0m   \u001b[0mprint\u001b[0m\u001b[0;34m(\u001b[0m\u001b[0;34m\"Your number was greater than 5.\"\u001b[0m\u001b[0;34m)\u001b[0m\u001b[0;34m\u001b[0m\u001b[0;34m\u001b[0m\u001b[0m\n",
            "\u001b[0;31mTypeError\u001b[0m: '>' not supported between instances of 'str' and 'int'"
          ]
        }
      ]
    },
    {
      "cell_type": "markdown",
      "metadata": {
        "id": "J4brYMMV65mA"
      },
      "source": [
        "Once you run this code, you'll notice that there's an error! What happened?\n",
        "\n",
        "The error message says:\n",
        "\n",
        "```\n",
        "TypeError: '>' not supported between instances of 'str' and 'int'\n",
        "```\n",
        "\n",
        "and points us at line 3, where we compare `num` to `5`.\n",
        "\n",
        "It turns out that the variable `num` is a string, whereas the number `5` is an integer, and we can't compare strings to integers using the `>` comparison operator.\n",
        "\n",
        "When we take input from the user using the function `input()`, we are actually returning a string. So when we write the following line:\n",
        "\n",
        "```\n",
        "num = input(\"Enter an integer: \")\n",
        "```\n",
        "\n",
        "`num` will actually be given whatever the user enters, but as a string. This is because it's valid for the user to type out phrases and sentences as input, and Python itself doesn't know that we expect an integer. It's as important to note that there's a difference between the following two variables:"
      ]
    },
    {
      "cell_type": "code",
      "metadata": {
        "id": "R2eRI4Z272A4"
      },
      "source": [
        "a = 3\n",
        "b = \"3\""
      ],
      "execution_count": null,
      "outputs": []
    },
    {
      "cell_type": "markdown",
      "metadata": {
        "id": "x00oC6Fm74Lq"
      },
      "source": [
        "Whereas the variable `a` has been assigned the integer 3, the variable `b` has been assigned a string that happens to say \"3\". The two are different in Python!\n",
        "\n",
        "When we use the function `int()`, we are telling the computer to convert whatever parameter we pass into `int()` into an integer, as best as we can. For example:"
      ]
    },
    {
      "cell_type": "code",
      "metadata": {
        "id": "S4yZdc988QUB",
        "colab": {
          "base_uri": "https://localhost:8080/",
          "height": 34
        },
        "outputId": "20eda683-cd87-42ec-e6ec-ce9eebb376f9"
      },
      "source": [
        "a = 4\n",
        "b = int(\"3\")\n",
        "\n",
        "if a > b:\n",
        "  print(\"We can make this comparison now!\")"
      ],
      "execution_count": null,
      "outputs": [
        {
          "output_type": "stream",
          "text": [
            "We can make this comparison now!\n"
          ],
          "name": "stdout"
        }
      ]
    },
    {
      "cell_type": "markdown",
      "metadata": {
        "id": "9aqKLyYa8Z9C"
      },
      "source": [
        "So when we write\n",
        "\n",
        "```\n",
        "num = int(input(\"Enter an integer: \"))\n",
        "```\n",
        "\n",
        "what we're really doing is taking an input as a string, telling Python to convert it into an integer, and then assigning that integer value to `num`.\n",
        "\n",
        "What happens if what the user tried to input was not an integer? (Perhaps some of you have already tried this!)"
      ]
    },
    {
      "cell_type": "code",
      "metadata": {
        "id": "hRExKzkl85Qc",
        "colab": {
          "base_uri": "https://localhost:8080/",
          "height": 197
        },
        "outputId": "dbd1195d-fddc-42c7-a8d8-e625dd779209"
      },
      "source": [
        "# Try to enter something that's not an integer\n",
        "num = int(input(\"Enter an integer: \"))\n",
        "print(num)"
      ],
      "execution_count": null,
      "outputs": [
        {
          "output_type": "stream",
          "text": [
            "Enter an integer: number\n"
          ],
          "name": "stdout"
        },
        {
          "output_type": "error",
          "ename": "ValueError",
          "evalue": "ignored",
          "traceback": [
            "\u001b[0;31m---------------------------------------------------------------------------\u001b[0m",
            "\u001b[0;31mValueError\u001b[0m                                Traceback (most recent call last)",
            "\u001b[0;32m<ipython-input-86-214fd4831510>\u001b[0m in \u001b[0;36m<module>\u001b[0;34m()\u001b[0m\n\u001b[0;32m----> 1\u001b[0;31m \u001b[0mnum\u001b[0m \u001b[0;34m=\u001b[0m \u001b[0mint\u001b[0m\u001b[0;34m(\u001b[0m\u001b[0minput\u001b[0m\u001b[0;34m(\u001b[0m\u001b[0;34m\"Enter an integer: \"\u001b[0m\u001b[0;34m)\u001b[0m\u001b[0;34m)\u001b[0m\u001b[0;34m\u001b[0m\u001b[0;34m\u001b[0m\u001b[0m\n\u001b[0m\u001b[1;32m      2\u001b[0m \u001b[0mprint\u001b[0m\u001b[0;34m(\u001b[0m\u001b[0mnum\u001b[0m\u001b[0;34m)\u001b[0m\u001b[0;34m\u001b[0m\u001b[0;34m\u001b[0m\u001b[0m\n",
            "\u001b[0;31mValueError\u001b[0m: invalid literal for int() with base 10: 'number'"
          ]
        }
      ]
    },
    {
      "cell_type": "markdown",
      "metadata": {
        "id": "0PkmO2Pn9Buh"
      },
      "source": [
        "If you entered something that doesn't look like an integer, Python won't know how to convert it into an integer, and you'll get an error."
      ]
    },
    {
      "cell_type": "markdown",
      "metadata": {
        "id": "IlCqoNRB9dYu"
      },
      "source": [
        "## Guessing Game Example\n",
        "\n",
        "Let's put our knowledge of libraries, functions, loops, and conditionals to the test.\n",
        "\n",
        "For this example, we'll write a guessing game, where a random integer from 1 to 10 is picked, and the user has 3 guesses to try to get it right.\n",
        "\n",
        "Here's some code to get started:"
      ]
    },
    {
      "cell_type": "code",
      "metadata": {
        "id": "uCVbefUk90kA",
        "colab": {
          "base_uri": "https://localhost:8080/",
          "height": 153
        },
        "outputId": "7273167a-3745-4f47-b7db-8634b27865ad"
      },
      "source": [
        "# We need this to be able to pick a random integer\n",
        "import random\n",
        "\n",
        "# Pick a random integer from 1 to 10\n",
        "rand_number = random.randint(1, 10)\n",
        "\n",
        "# Print a nice message for the user\n",
        "print(\"Hello there! This is a random number guessing game. You have 3 tries to guess the right number from 1 to 10.\")\n",
        "\n",
        "# Ask the user to enter an integer\n",
        "\n",
        "\n",
        "# We'll add more code here in a bit - This is out of me own brain and I am proud of my child\n",
        "try_number = 1\n",
        "while try_number <4:\n",
        "  guesses_left = 3-try_number\n",
        "  guess = int(input(\"Enter an integer guess: \"))\n",
        "  if guess == rand_number:\n",
        "    print(\"You guessed the magic number correctly! Good job!\")\n",
        "    #try_number +=100 --- alternate solution that works in this context\n",
        "    break\n",
        "  else:\n",
        "    word = \"guess\"\n",
        "    if guesses_left != 1:\n",
        "      word += \"es\"\n",
        "    print(\"Not quite! You have\", guesses_left, word, \" left.\")\n",
        "    try_number+= 1\n",
        "    if guesses_left==0:\n",
        "      print(\"Sorry! The random number was\", rand_number, \". Maybe you'll get it next time!\")"
      ],
      "execution_count": null,
      "outputs": [
        {
          "output_type": "stream",
          "text": [
            "Hello there! This is a random number guessing game. You have 3 tries to guess the right number from 1 to 10.\n",
            "Enter an integer guess: 9\n",
            "Not quite! You have 2 guesses  left.\n",
            "Enter an integer guess: 6\n",
            "Not quite! You have 1 guess  left.\n",
            "Enter an integer guess: 2\n",
            "Not quite! You have 0 guesses  left.\n",
            "Sorry! The random number was 5 . Maybe you'll get it next time!\n"
          ],
          "name": "stdout"
        }
      ]
    },
    {
      "cell_type": "markdown",
      "metadata": {
        "id": "ml2L1O_Y-OpF"
      },
      "source": [
        "When writing longer programs, a good practice is to write pieces of it at once and test each piece as you go. This way, it's easier to identify bugs and debug as you add to your program.\n",
        "\n",
        "The program so far generates a random number and also asks the user for one guess. To finish the game, we need to give the user 3 guesses, and also tell the user if they've guessed correctly. Let's add to the code from above:"
      ]
    },
    {
      "cell_type": "code",
      "metadata": {
        "id": "VjAjrxUw-97a"
      },
      "source": [
        "import random\n",
        "\n",
        "number = random.randint(1, 11)\n",
        "print(\"Hello there! This is a random number guessing game. You have 3 tries to guess the right number from 1 to 10.\")\n",
        "\n",
        "guess = int(input(\"Enter an integer guess: \"))\n",
        "\n",
        "# How can we check that guess is correct or not? Use a conditional!\n",
        "\n",
        "if guess == number:\n",
        "  print(\"You got it!\")\n",
        "else:\n",
        "  print(\"Wrong guess!\")"
      ],
      "execution_count": null,
      "outputs": []
    },
    {
      "cell_type": "markdown",
      "metadata": {
        "id": "V5iuzK-J_Huy"
      },
      "source": [
        "The new code we've added now tells the user if the guess was correct. But how can we repeat this process for 3 guesses?\n",
        "\n",
        "When you come across a task that requires repeating, the answer might be to add a loop!"
      ]
    },
    {
      "cell_type": "code",
      "metadata": {
        "id": "FjoAlH3u_Xox",
        "colab": {
          "base_uri": "https://localhost:8080/",
          "height": 187
        },
        "outputId": "37260f57-f724-457c-8e58-91b63ac67cfd"
      },
      "source": [
        "import random\n",
        "\n",
        "number = random.randint(1, 11)\n",
        "print(\"Hello there! This is a random number guessing game. You have 3 tries to guess the right number from 1 to 10.\")\n",
        "\n",
        "for no_guess in range(1, 4):\n",
        "  print(\"Guess #\", no_guess)\n",
        "  guess = int(input(\"Enter an integer guess: \"))\n",
        "  if guess == number:\n",
        "    print(\"You got it!\")\n",
        "  else:\n",
        "    print(\"Wrong guess!\")"
      ],
      "execution_count": null,
      "outputs": [
        {
          "output_type": "stream",
          "text": [
            "Hello there! This is a random number guessing game. You have 3 tries to guess the right number from 1 to 10.\n",
            "Guess # 1\n",
            "Enter an integer guess: 5\n",
            "Wrong guess!\n",
            "Guess # 2\n",
            "Enter an integer guess: 6\n",
            "Wrong guess!\n",
            "Guess # 3\n",
            "Enter an integer guess: 8\n",
            "Wrong guess!\n"
          ],
          "name": "stdout"
        }
      ]
    },
    {
      "cell_type": "markdown",
      "metadata": {
        "id": "uJSzZ0js_tyK"
      },
      "source": [
        "By using a loop, our code now allows the user to make 3 guesses. But what if the user is correct on the first or second guess? It might make sense to end the game there, before the remaining guesses. We can do this in Python by adding the keyword `break`, which will tell the computer to stop the loop where it is, even if we haven't finished repeating it 3 times."
      ]
    },
    {
      "cell_type": "code",
      "metadata": {
        "id": "Avo5tdZYAMGO"
      },
      "source": [
        "import random\n",
        "\n",
        "number = random.randint(1, 11)\n",
        "print(\"Hello there! This is a random number guessing game. You have 3 tries to guess the right number from 1 to 10.\")\n",
        "\n",
        "for no_guess in range(1, 4):\n",
        "  print(\"Guess #\", no_guess)\n",
        "  guess = int(input(\"Enter an integer guess: \"))\n",
        "  if guess == number:\n",
        "    print(\"You got it!\")\n",
        "    break\n",
        "  else:\n",
        "    print(\"Wrong guess!\")"
      ],
      "execution_count": null,
      "outputs": []
    },
    {
      "cell_type": "markdown",
      "metadata": {
        "id": "f7KBbfooAfzV"
      },
      "source": [
        "And we're done!"
      ]
    },
    {
      "cell_type": "markdown",
      "metadata": {
        "id": "kXkbKmoAA0T-"
      },
      "source": [
        "## Exercises\n",
        "\n",
        "**1.** As an exercise for this lesson, modify the guessing game from before, so that your program will tell the user if their guess is too small or too large. Think about how you would modify the conditional within the loop to do this."
      ]
    },
    {
      "cell_type": "code",
      "metadata": {
        "id": "jUNs-C21BEoc",
        "colab": {
          "base_uri": "https://localhost:8080/",
          "height": 204
        },
        "outputId": "ba018332-b691-4a36-c13f-91535f26ac96"
      },
      "source": [
        "# Your code here\n",
        "\n",
        "import random\n",
        "number = random.randint(1,10)\n",
        "\n",
        "print(\"Welcome, guess, you know the drill.\")\n",
        "\n",
        "for no_guess in range(1, 4):\n",
        "  print(\"Guess #\", no_guess)\n",
        "  guess = int(input(\"Enter an integer guess: \"))\n",
        "  if guess == number:\n",
        "    print(\"You got it!\")\n",
        "    break\n",
        "  else:\n",
        "    if guess > number:\n",
        "      print(\"Too high\")\n",
        "    else:\n",
        "      print(\"Too low\")\n",
        "    if no_guess == 3:\n",
        "      print(\"The number was\", number,\".\")#This part's my doing :)"
      ],
      "execution_count": null,
      "outputs": [
        {
          "output_type": "stream",
          "text": [
            "Welcome, guess, you know the drill.\n",
            "Guess # 1\n",
            "Enter an integer guess: 9\n",
            "Too high\n",
            "Guess # 2\n",
            "Enter an integer guess: 7\n",
            "Too high\n",
            "Guess # 3\n",
            "Enter an integer guess: 4\n",
            "Too high\n",
            "The number was 1 .\n"
          ],
          "name": "stdout"
        }
      ]
    },
    {
      "cell_type": "markdown",
      "metadata": {
        "id": "DgN7uVbwXnHx"
      },
      "source": [
        "**2.** Write a program that takes an integer input and prints the factorial of that integer. You can assume the input will always be a positive integer.\n",
        "\n",
        "For those who have not seen factorials before, it is the product of an integer and every positive integer below it. We usually represent factorials by writing the number followed by an exclamation mark. \"Five factorial\" would be $ 5! $, which written out is:\n",
        "\n",
        "$$ 5! = 1 * 2 * 3 * 4 * 5 = 120 $$\n",
        "\n",
        "An example run of this program might look like:\n",
        "\n",
        "```\n",
        "Input an integer: 5\n",
        "The factorial is: 120\n",
        "```\n",
        "\n",
        "Be sure to use a loop (either `for` or `while`) to accomplish this task!"
      ]
    },
    {
      "cell_type": "code",
      "metadata": {
        "id": "1CsuI7k7Wq0Z",
        "colab": {
          "base_uri": "https://localhost:8080/",
          "height": 51
        },
        "outputId": "de60474a-def6-4dfc-de0c-e7163c108850"
      },
      "source": [
        "# To get you started, the line to get input is provided below\n",
        "number = int(input(\"Input an integer: \"))\n",
        "\n",
        "factorial = 1\n",
        "for num in range(1, number+1):\n",
        "  factorial *= num\n",
        "  num +=1\n",
        "\n",
        "print(str(number)+\"! is:\", factorial)"
      ],
      "execution_count": null,
      "outputs": [
        {
          "output_type": "stream",
          "text": [
            "Input an integer: 4\n",
            "4! is: 24\n"
          ],
          "name": "stdout"
        }
      ]
    },
    {
      "cell_type": "markdown",
      "metadata": {
        "id": "u_6zXfsxxHp2"
      },
      "source": [
        "**3a.** For an arbitrary string, write a program that prints out the last $n$ characters of the string, where $n$ goes from the length of the string to 0.\n",
        "\n",
        "For example, if the string is \"Hello\", the program would print:\n",
        "\n",
        "```\n",
        "Hello\n",
        "ello\n",
        "llo\n",
        "lo\n",
        "o\n",
        "```\n",
        "\n",
        "Note: if you want to find the length of a string, you can use `strlen = len(some_string)`.\n",
        "\n",
        "Remember that string slicing is similar to list slicing."
      ]
    },
    {
      "cell_type": "code",
      "metadata": {
        "id": "rQLSVzMsx64M",
        "colab": {
          "base_uri": "https://localhost:8080/",
          "height": 119
        },
        "outputId": "ebc39964-95f0-449b-f0b2-8f5dd3d5f872"
      },
      "source": [
        "some_string = input(\"Input some text: \")\n",
        "# Your code here\n",
        "\n",
        "lenght = len(some_string)# hehe I'm quirky w my variables lmao\n",
        "index = 0\n",
        "\n",
        "while index <lenght:\n",
        "  print(some_string[index:lenght])\n",
        "  index += 1"
      ],
      "execution_count": null,
      "outputs": [
        {
          "output_type": "stream",
          "text": [
            "Input some text: hello\n",
            "hello\n",
            "ello\n",
            "llo\n",
            "lo\n",
            "o\n"
          ],
          "name": "stdout"
        }
      ]
    },
    {
      "cell_type": "markdown",
      "metadata": {
        "id": "94mlboHtyIII"
      },
      "source": [
        "**3b.** Rewrite your program from part a so that it removes a character from the front and back on each successive line. For example:\n",
        "```\n",
        "armadillo\n",
        "rmadill\n",
        "madil\n",
        "adi\n",
        "d\n",
        "```"
      ]
    },
    {
      "cell_type": "code",
      "metadata": {
        "id": "mZIXe5ptzAz-",
        "colab": {
          "base_uri": "https://localhost:8080/",
          "height": 187
        },
        "outputId": "ad71ba81-16a3-4a41-df6d-cfea43d8525b"
      },
      "source": [
        "some_string = input(\"Input some text: \")\n",
        "# Your code here    --- aighty esketit\n",
        "\n",
        "strlen = len(some_string)\n",
        "index = 0\n",
        "\n",
        "while strlen > 0:\n",
        "  print(some_string[index:strlen])\n",
        "  index+=1\n",
        "  strlen-=1\n"
      ],
      "execution_count": null,
      "outputs": [
        {
          "output_type": "stream",
          "text": [
            "Input some text: armadillo\n",
            "armadillo\n",
            "rmadill\n",
            "madil\n",
            "adi\n",
            "d\n",
            "\n",
            "\n",
            "\n",
            "\n"
          ],
          "name": "stdout"
        }
      ]
    },
    {
      "cell_type": "markdown",
      "metadata": {
        "id": "zZD7LTaPzC47"
      },
      "source": [
        "**3c.** Rewrite the program again so that it alternates removing a character from the front and the back. For example:\n",
        "\n",
        "```\n",
        "train\n",
        "rain\n",
        "rai\n",
        "ai\n",
        "a\n",
        "```"
      ]
    },
    {
      "cell_type": "code",
      "metadata": {
        "id": "EKfHx6InzgMs",
        "colab": {
          "base_uri": "https://localhost:8080/",
          "height": 204
        },
        "outputId": "8f6abcc3-9b0f-4a22-f4fc-3d9653083e1a"
      },
      "source": [
        "some_string = input(\"Input some text: \")\n",
        "# Your code here\n",
        "\n",
        "leng= len(some_string)\n",
        "index = 0\n",
        "\n",
        "while leng>0:\n",
        "  print(some_string[index:leng])\n",
        "  index+=1\n",
        "  print(some_string[index:leng])\n",
        "  leng-=1"
      ],
      "execution_count": null,
      "outputs": [
        {
          "output_type": "stream",
          "text": [
            "Input some text: train\n",
            "train\n",
            "rain\n",
            "rai\n",
            "ai\n",
            "a\n",
            "\n",
            "\n",
            "\n",
            "\n",
            "\n"
          ],
          "name": "stdout"
        }
      ]
    },
    {
      "cell_type": "markdown",
      "metadata": {
        "id": "mnS4sqUYWb3r"
      },
      "source": [
        "**4.** **Bonus**: Pascal's Triange\n",
        "\n",
        "[Pascal's Triangle](https://en.wikipedia.org/wiki/Pascal's_triangle) is an arrangement of numbers that looks like (you guessed it) a triangle. It's generated by adding the upper left and right entries from the previous row to find the entries of the next row. \n",
        "\n",
        "![](https://upload.wikimedia.org/wikipedia/commons/0/0d/PascalTriangleAnimated2.gif)\n",
        "\n",
        "(Each row of numbers also happens to be the [binomial coefficients](https://en.wikipedia.org/wiki/Binomial_coefficient) for a certain polynomial! Isn't math cool?)\n",
        "\n",
        "Write a program that prints out the first `n` rows of pascal's triangle, where `n` is an input.\n",
        "\n",
        "To make things a little easier, feel free to left-justify the rows when you print, for example:\n",
        "\n",
        "```\n",
        "1\n",
        "1 1\n",
        "1 2 1\n",
        "1 3 3 1\n",
        "```\n",
        "\n",
        "This would be the output when `n`=4.\n",
        "\n",
        "*Hint: it might help to store each row in a list.*"
      ]
    },
    {
      "cell_type": "code",
      "metadata": {
        "id": "a31w3dRsWbal",
        "colab": {
          "base_uri": "https://localhost:8080/",
          "height": 136
        },
        "outputId": "c0c0e91f-a49f-47df-b3c7-513e89458e29"
      },
      "source": [
        "n = int(input(\"Input an integer: \"))\n",
        "# Your code here\n",
        "\n",
        "prev_list=[]\n",
        "trial_number=0\n",
        "while trial_number < n:\n",
        "  new_row = prev_list + [1]\n",
        "  \n",
        "  new_row[0] = 1\n",
        "  new_row[trial_number-1]=1\n",
        "  \n",
        "  for list_index in range(len(new_row)):\n",
        "    if 0< list_index <trial_number:\n",
        "      new_row[list_index] = prev_list[list_index-1]+prev_list[list_index]  \n",
        "\n",
        "  print(new_row)\n",
        "  trial_number +=1\n",
        "  prev_list = new_row\n",
        "  "
      ],
      "execution_count": null,
      "outputs": [
        {
          "output_type": "stream",
          "text": [
            "Input an integer: 6\n",
            "[1]\n",
            "[1, 1]\n",
            "[1, 2, 1]\n",
            "[1, 3, 3, 1]\n",
            "[1, 4, 6, 4, 1]\n",
            "[1, 5, 10, 10, 5, 1]\n"
          ],
          "name": "stdout"
        }
      ]
    }
  ]
}
