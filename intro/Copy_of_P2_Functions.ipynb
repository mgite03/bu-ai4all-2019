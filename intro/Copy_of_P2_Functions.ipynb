{
  "nbformat": 4,
  "nbformat_minor": 0,
  "metadata": {
    "colab": {
      "name": "Copy of P2: Functions ",
      "provenance": [],
      "collapsed_sections": [],
      "include_colab_link": true
    },
    "kernelspec": {
      "name": "python3",
      "display_name": "Python 3"
    }
  },
  "cells": [
    {
      "cell_type": "markdown",
      "metadata": {
        "id": "view-in-github",
        "colab_type": "text"
      },
      "source": [
        "<a href=\"https://colab.research.google.com/github/mgite03/bu-ai4all-2019/blob/main/Copy_of_P2_Functions.ipynb\" target=\"_parent\"><img src=\"https://colab.research.google.com/assets/colab-badge.svg\" alt=\"Open In Colab\"/></a>"
      ]
    },
    {
      "cell_type": "markdown",
      "metadata": {
        "id": "xf6NpHS7ojBp"
      },
      "source": [
        "## Writing Functions\n",
        "\n",
        "So far, we've only been calling functions that have already been written by others. How can we write our own function?\n",
        "\n",
        "Let's take the square root example above. Let's say we don't want to use the `math` library or just want to write and use our own square root function. \n",
        "\n",
        "First, we need to think about a clever mathematical way to get a square root. If you recall from math, putting a number to the $1/2$ exponent is the same as performing a square root! For example:\n",
        "\n",
        "$$ 25^{1/2} = 5 $$\n",
        "\n",
        "Recall how we do exponentiation in Python:"
      ]
    },
    {
      "cell_type": "code",
      "metadata": {
        "id": "SPRT7jcdodRf",
        "colab": {
          "base_uri": "https://localhost:8080/",
          "height": 34
        },
        "outputId": "ed1b8ee1-fd7c-4fc4-a0dc-3fdb0b0ab97d"
      },
      "source": [
        "a = 25 ** (1/2)\n",
        "print(a)"
      ],
      "execution_count": null,
      "outputs": [
        {
          "output_type": "stream",
          "text": [
            "5.0\n"
          ],
          "name": "stdout"
        }
      ]
    },
    {
      "cell_type": "markdown",
      "metadata": {
        "id": "_z7I3irrorkX"
      },
      "source": [
        "Now that we know how to get the square root of a number, we need to figure out how to write this as a function.\n",
        "\n",
        "Let's think about what we want as our input and output of this function.\n",
        "\n",
        "**What should the input to this function be?**\n",
        "\n",
        "**What should the output of this function be?**\n",
        "\n",
        "Take a moment to think about and answer these two questions."
      ]
    },
    {
      "cell_type": "markdown",
      "metadata": {
        "id": "LWxMUdRNowws"
      },
      "source": [
        "---\n",
        "Answer:\n",
        "\n",
        "We want to input a single number to our function, and the output should be its square root.\n",
        "\n",
        "Because we are inputting only one number, our function should have 1 parameter.\n",
        "\n",
        "We can name our functions whatever we like, so in this case, let's call our function `square_root()`. An example of using `square_root()` in some code might look like:\n",
        "\n",
        "```\n",
        "a = square_root(25)\n",
        "print(a)\n",
        "```\n",
        "\n",
        "which should print `5`."
      ]
    },
    {
      "cell_type": "markdown",
      "metadata": {
        "id": "_RuJ1RI5o93d"
      },
      "source": [
        "Now that we've figured out what we want our function to do, and what we want to name it, it's time to actually write it. The following is what a square root function might look like:"
      ]
    },
    {
      "cell_type": "code",
      "metadata": {
        "id": "JCb8wfk5ot66"
      },
      "source": [
        "def square_root(x):\n",
        "  return x ** (1/2)"
      ],
      "execution_count": null,
      "outputs": []
    },
    {
      "cell_type": "markdown",
      "metadata": {
        "id": "lRM69fgapBBV"
      },
      "source": [
        "The keyword `def` tells our computer that we are about to _define_ a function. In this particular case, we're defining a function named `square_root` that happens to take one parameter. Just like when we write `for` loops, we can choose the name of this variable, as it's a placeholder that we refer to only within our function.\n",
        "\n",
        "Our function in this particular case returns `x ** (1/2)`, which is the square root of `x`, the input.\n",
        "\n",
        "Let's see this function in action:"
      ]
    },
    {
      "cell_type": "markdown",
      "metadata": {
        "id": "eqqnPjhFpwCj"
      },
      "source": [
        "def square_root(x):\n",
        "  return x ** (1/2)\n",
        "\n",
        "a = square_root(25)\n",
        "print(a)"
      ]
    },
    {
      "cell_type": "markdown",
      "metadata": {
        "id": "yMH8k9nKp0x4"
      },
      "source": [
        "In the example above, what does `x` equal when we call `square_root(25)`?"
      ]
    },
    {
      "cell_type": "markdown",
      "metadata": {
        "id": "rQzDQ90Gp1PK"
      },
      "source": [
        "\n",
        "\n",
        "---\n",
        "\n",
        "Functions are useful because we often have logical blocks in our code that we want to re-use. Imagine having to type `x ** (1/2)` every time you want to take a square root -- it might be easier to say `square_root(x)`. For reading purposes, it also helps make it more clear what your code is doing.\n",
        "\n",
        "Think about the earlier exercise about writing a program that takes in a number and tells the user if that number is a perfect square. What if we wanted to do this functionality multiple times in the same program? We could copy and paste the code every time we want to check if a number is a perfect square, but this would make our program very long and hard to update.\n",
        "\n",
        "Instead, we could do something like:"
      ]
    },
    {
      "cell_type": "code",
      "metadata": {
        "id": "pzlswdO7p6-M",
        "colab": {
          "base_uri": "https://localhost:8080/",
          "height": 51
        },
        "outputId": "a3bdaf9b-6a86-4e7d-c87f-70b1a0391065"
      },
      "source": [
        "def square_root(x):\n",
        "  return x ** (1/2)\n",
        "\n",
        "def is_perfect_square(x):\n",
        "  return square_root(x).is_integer()\n",
        "\n",
        "print(is_perfect_square(23))\n",
        "print(is_perfect_square(121))"
      ],
      "execution_count": null,
      "outputs": [
        {
          "output_type": "stream",
          "text": [
            "False\n",
            "True\n"
          ],
          "name": "stdout"
        }
      ]
    },
    {
      "cell_type": "markdown",
      "metadata": {
        "id": "AvsFvtGyp7Z-"
      },
      "source": [
        "In this case, we've written a function called `is_perfect_square()` that takes in one parameter and returns whether the square root of that parameter is an integer or not. `is_integer()` happens to be a function, like `print()`, that's already pre-built into Python that we can use.\n",
        "\n",
        "But what ends up being printed? `False` and `True`!\n",
        "\n",
        "These are examples of the Boolean data type (which we briefly mentioned in the first lesson)."
      ]
    },
    {
      "cell_type": "markdown",
      "metadata": {
        "id": "NThnzA1OqNcu"
      },
      "source": [
        "### An Aside: Booleans\n",
        "\n",
        "We've actually been using booleans throughout our code. Let's look at the following conditionals:"
      ]
    },
    {
      "cell_type": "code",
      "metadata": {
        "id": "XSI6-U2uqMut",
        "colab": {
          "base_uri": "https://localhost:8080/",
          "height": 34
        },
        "outputId": "6a54118d-6fc5-4484-a722-6be62ccd85e4"
      },
      "source": [
        "if True:\n",
        "  print(\"This will always print!\")\n",
        "  \n",
        "if False:\n",
        "  print(\"This will never print.\")"
      ],
      "execution_count": null,
      "outputs": [
        {
          "output_type": "stream",
          "text": [
            "This will always print!\n"
          ],
          "name": "stdout"
        }
      ]
    },
    {
      "cell_type": "markdown",
      "metadata": {
        "id": "OyX3A6TxqRfm"
      },
      "source": [
        "When we use if statements, we're actually checking for the booleans `True` and `False`. If the condition in the if statement is `True`, then we will perform the code block underneath. If it is `False`, we will not."
      ]
    },
    {
      "cell_type": "code",
      "metadata": {
        "id": "EuxZ_cdYqSuz",
        "colab": {
          "base_uri": "https://localhost:8080/",
          "height": 68
        },
        "outputId": "bce37edb-50d6-49d0-bda8-cd63c1c88945"
      },
      "source": [
        "if 5 > 3:\n",
        "  print(\"This will always print!\")\n",
        "  \n",
        "print(\"Notice what the following line prints:\")\n",
        "print(5 > 3)"
      ],
      "execution_count": null,
      "outputs": [
        {
          "output_type": "stream",
          "text": [
            "This will always print!\n",
            "Notice what the following line prints:\n",
            "True\n"
          ],
          "name": "stdout"
        }
      ]
    },
    {
      "cell_type": "markdown",
      "metadata": {
        "id": "mr2DFBTsqUg8"
      },
      "source": [
        "Revisiting our perfect square example, let's say we want to tell the user in a complete sentence whether their number is a perfect square or not. We know that `is_perfect_square()` returns a boolean, so let's combine it with a conditional:"
      ]
    },
    {
      "cell_type": "code",
      "metadata": {
        "id": "5UM7F7gYqXW7",
        "colab": {
          "base_uri": "https://localhost:8080/",
          "height": 51
        },
        "outputId": "02dae747-6df0-4d3c-ef43-f70398db601e"
      },
      "source": [
        "num = int(input(\"Enter an integer: \"))\n",
        "\n",
        "if is_perfect_square(num):\n",
        "  print(\"Your number was a perfect square.\")\n",
        "else:\n",
        "  print(\"Your number was not a perfect square.\")"
      ],
      "execution_count": null,
      "outputs": [
        {
          "output_type": "stream",
          "text": [
            "Enter an integer: 4\n",
            "Your number was a perfect square.\n"
          ],
          "name": "stdout"
        }
      ]
    },
    {
      "cell_type": "markdown",
      "metadata": {
        "id": "B-Z--0fkqZEL"
      },
      "source": [
        "Notice that we didn't have to re-write all of the `is_perfect_square()` code again! This is because we had already written and run that code once before, so we can keep re-using it in the future. That's why functions are so useful!"
      ]
    },
    {
      "cell_type": "markdown",
      "metadata": {
        "id": "sP1XKYkwqc5n"
      },
      "source": [
        "### Function Exercises"
      ]
    },
    {
      "cell_type": "markdown",
      "metadata": {
        "id": "ypZ-DuF5qdOT"
      },
      "source": [
        "1. Read the following code. What do you think it does?"
      ]
    },
    {
      "cell_type": "code",
      "metadata": {
        "id": "YRAm3pAnqfxU",
        "colab": {
          "base_uri": "https://localhost:8080/",
          "height": 34
        },
        "outputId": "222baa13-83bc-46bb-e7bd-ec62ef99047a"
      },
      "source": [
        "def weird_func(a, b):\n",
        "  test = a + b\n",
        "  return test * 2\n",
        "\n",
        "x = 5\n",
        "y = 10\n",
        "\n",
        "if weird_func(x, y) > 30:\n",
        "  print(\"Will this print?\")\n",
        "  \n",
        "if weird_func(10, 10) > 30:\n",
        "  print(\"How about this?\")"
      ],
      "execution_count": null,
      "outputs": [
        {
          "output_type": "stream",
          "text": [
            "How about this?\n"
          ],
          "name": "stdout"
        }
      ]
    },
    {
      "cell_type": "markdown",
      "metadata": {
        "id": "MJmRu_cEqlDR"
      },
      "source": [
        "2. Write a function named `wheres_Waldo` that takes a list as a parameter and returns whether the element \"Waldo\" is in the list.\n",
        "\n",
        "Remember that you can use the keyword `in` to check if an element is in a list, like so:"
      ]
    },
    {
      "cell_type": "code",
      "metadata": {
        "id": "gj8zssUWqlkO",
        "colab": {
          "base_uri": "https://localhost:8080/",
          "height": 34
        },
        "outputId": "296186d5-74c8-4c14-f5a6-f946376f9e5a"
      },
      "source": [
        "def wheres_Waldo():\n",
        "  lis = [\"Pikachu\", \"Captain Marvel\", \"Waldo\"]\n",
        "  return(\"Waldo\" in lis)\n",
        "  \n",
        "if wheres_Waldo:\n",
        "  print(\"Found him!\")\n",
        "else:\n",
        "  print(\"Where is he?\")"
      ],
      "execution_count": null,
      "outputs": [
        {
          "output_type": "stream",
          "text": [
            "Found him!\n"
          ],
          "name": "stdout"
        }
      ]
    },
    {
      "cell_type": "code",
      "metadata": {
        "id": "4wu0o9-vqpgZ"
      },
      "source": [
        "# Write your function code here"
      ],
      "execution_count": null,
      "outputs": []
    },
    {
      "cell_type": "markdown",
      "metadata": {
        "id": "Ay-_Wey9xY0i"
      },
      "source": [
        "3. Write a function that takes in 2 integers as arguments, and outputs 1 if the first argument is bigger and outputs 2 if the second argument is bigger."
      ]
    },
    {
      "cell_type": "code",
      "metadata": {
        "id": "pdtTq50YxgWp",
        "colab": {
          "base_uri": "https://localhost:8080/",
          "height": 51
        },
        "outputId": "9590170a-1905-4b91-bce8-8af85f64285e"
      },
      "source": [
        "def which_is_bigger(a, b):\n",
        "  # your code here\n",
        "  if a > b:\n",
        "    return 1\n",
        "  elif a < b:\n",
        "    return 2\n",
        "  else:\n",
        "    print(\"They're the same!\")\n",
        "  \n",
        "print(which_is_bigger(7,23))\n",
        "print(which_is_bigger(5,-2))"
      ],
      "execution_count": null,
      "outputs": [
        {
          "output_type": "stream",
          "text": [
            "2\n",
            "1\n"
          ],
          "name": "stdout"
        }
      ]
    },
    {
      "cell_type": "markdown",
      "metadata": {
        "id": "5JFvCgAvrQJL"
      },
      "source": [
        "### Variable Scope"
      ]
    },
    {
      "cell_type": "markdown",
      "metadata": {
        "id": "idy0WyugrR8U"
      },
      "source": [
        "A variable's scope is the range of the script where it is visible. \n",
        "\n",
        "Variables have either **global** or **local** scope. \n",
        "\n",
        "A **global** variable exists only once in a script, and is visible in every function. Modifications to it in one function are permanent and visible to all functions. Unless declared otherwise, all variables in a script are global. Global variables are useful for values that are relatively constant, or that many functions in the script must access, such as a session id."
      ]
    },
    {
      "cell_type": "markdown",
      "metadata": {
        "id": "2lcWIBd3v_w0"
      },
      "source": [
        "A **local** variable, however, has a limited scope: it exists only within the block that it is declared in. Once that block ends, the variable is destroyed and its values lost. A local variable of the same name declared elsewhere is a different variable. A local variable can even exist multiple times simultaneously, if its block is entered again before it's exited. Each call of the function will have a distinct local variable.\n",
        "\n"
      ]
    },
    {
      "cell_type": "code",
      "metadata": {
        "id": "HoSW7jJVwya-",
        "colab": {
          "base_uri": "https://localhost:8080/",
          "height": 51
        },
        "outputId": "3a50bcc5-2198-40dd-adba-c349794e7261"
      },
      "source": [
        "# The variable assignment within the function f() shows an example of a local variable. \n",
        "def f():  \n",
        "    s = \"Me too.\"\n",
        "    print(s)  \n",
        "  \n",
        "# This is where you can see the global scope \n",
        "s = \"I love AI4ALL\"  \n",
        "print(s) \n",
        "f()"
      ],
      "execution_count": null,
      "outputs": [
        {
          "output_type": "stream",
          "text": [
            "I love AI4ALL\n",
            "Me too.\n"
          ],
          "name": "stdout"
        }
      ]
    },
    {
      "cell_type": "markdown",
      "metadata": {
        "id": "HYCXPtMQxB9A"
      },
      "source": [
        "Examine the following code and complete the assignent below. "
      ]
    },
    {
      "cell_type": "code",
      "metadata": {
        "id": "LfjjiEqNrTRJ",
        "colab": {
          "base_uri": "https://localhost:8080/",
          "height": 102
        },
        "outputId": "dbb765d6-aedd-4df5-ea9f-0029b107048c"
      },
      "source": [
        "def foo(a, b):\n",
        "    b = b - 2\n",
        "    a = a - b\n",
        "    print('foo', a, b)\n",
        "    return a\n",
        "\n",
        "a = 5\n",
        "b = 3\n",
        "print(a, b)\n",
        "a = foo(a, b)\n",
        "print(a, b)\n",
        "foo(b, a)\n",
        "print(a, b)"
      ],
      "execution_count": null,
      "outputs": [
        {
          "output_type": "stream",
          "text": [
            "5 3\n",
            "foo 4 1\n",
            "4 3\n",
            "foo 1 2\n",
            "4 3\n"
          ],
          "name": "stdout"
        }
      ]
    },
    {
      "cell_type": "markdown",
      "metadata": {
        "id": "5dvz31kKtJrE"
      },
      "source": [
        "Copy down this table in your notebooks and fill it out."
      ]
    },
    {
      "cell_type": "markdown",
      "metadata": {
        "id": "_PAnoO_JrUEf"
      },
      "source": [
        "global variables (ones that belong to the global scope)\n",
        "```\n",
        "  a  | b\n",
        "-----------\n",
        "  5  |  3    \n",
        "\n",
        "```\n",
        "\n",
        "local variables (ones that belong to foo)\n",
        "```\n",
        "  a  | b\n",
        "-----------\n",
        "     |      \n",
        "\n",
        "```\n",
        "     \n",
        "output (the lines printed by the program)\n",
        "\n",
        "5 3"
      ]
    }
  ]
}
