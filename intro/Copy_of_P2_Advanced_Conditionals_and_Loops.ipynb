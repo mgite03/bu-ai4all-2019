{
  "nbformat": 4,
  "nbformat_minor": 0,
  "metadata": {
    "colab": {
      "name": "Copy of P2: Advanced Conditionals and Loops",
      "provenance": [],
      "collapsed_sections": [],
      "include_colab_link": true
    },
    "kernelspec": {
      "name": "python3",
      "display_name": "Python 3"
    }
  },
  "cells": [
    {
      "cell_type": "markdown",
      "metadata": {
        "id": "view-in-github",
        "colab_type": "text"
      },
      "source": [
        "<a href=\"https://colab.research.google.com/github/mgite03/bu-ai4all-2019/blob/main/Copy_of_P2_Advanced_Conditionals_and_Loops.ipynb\" target=\"_parent\"><img src=\"https://colab.research.google.com/assets/colab-badge.svg\" alt=\"Open In Colab\"/></a>"
      ]
    },
    {
      "cell_type": "markdown",
      "metadata": {
        "id": "WCJJs5-vVhlc"
      },
      "source": [
        "If you have finished the previous P2 notebook, this notebook will further challenge your conditionals and loops knowledge. "
      ]
    },
    {
      "cell_type": "markdown",
      "metadata": {
        "id": "HpkIlZdrWBS3"
      },
      "source": [
        "###Problem 1\n",
        "\n",
        "Write a Python program to convert temperatures to and from celsius and fahrenheit.\n",
        "\n",
        "The formula is: \n",
        "c/5 = f-32/9, where c = temperature in celsius and f = temperature in fahrenheit \n",
        "\n",
        "\n",
        "Expected Output : \n",
        "60°C is 140 in Fahrenheit,\n",
        "45°F is 7 in Celsius "
      ]
    },
    {
      "cell_type": "code",
      "metadata": {
        "id": "GhQjoz01VdIu",
        "colab": {
          "base_uri": "https://localhost:8080/",
          "height": 68
        },
        "outputId": "ede3216a-7732-4e54-d258-cfc14280bff8"
      },
      "source": [
        "#Write your code here\n",
        "\n",
        "temp_type = input(\"Fahrenheit or Celsius?\")\n",
        "input_temp = int(input(\"temperature?\"))\n",
        "if (\"c\" or \"C\") in temp_type:\n",
        "  fahrenheit = (input_temp*9/5)+(32)\n",
        "  print(int(fahrenheit))\n",
        "elif(\"f\" or \"F\") in temp_type:\n",
        "  celsius = (input_temp-32)*5/9\n",
        "  print(int(celsius))\n",
        "\n",
        "  "
      ],
      "execution_count": null,
      "outputs": [
        {
          "output_type": "stream",
          "text": [
            "Fahrenheit or Celsius?c\n",
            "temperature?60\n",
            "140\n"
          ],
          "name": "stdout"
        }
      ]
    },
    {
      "cell_type": "markdown",
      "metadata": {
        "id": "_3s-nLd-Wp0t"
      },
      "source": [
        "###Problem 2\n",
        "\n",
        "Write a Python program to guess a number between 1 to 9. Where the user is prompted to enter a guess. If the user guesses wrong then the prompt appears again until the guess is correct, on successful guess, user will get a \"Well guessed!\" message, and the program will exit.\n",
        "\n",
        "Note: Use the function random.randint(1, 10) to simulate the computer's guess. \n",
        "\n"
      ]
    },
    {
      "cell_type": "code",
      "metadata": {
        "id": "GQ9ozjYEW0M0",
        "colab": {
          "base_uri": "https://localhost:8080/",
          "height": 187
        },
        "outputId": "3aafa92d-e84b-4660-bdf8-9058c54e07f5"
      },
      "source": [
        "#Write your code here\n",
        "\n",
        "import random\n",
        "\n",
        "print(\"Welcome to the guessing game part 2!\")\n",
        "magic_number = random.randint(1,10)\n",
        "\n",
        "guess_num = 1\n",
        "while guess_num < 4:\n",
        "  print(\"Guess #\", guess_num)\n",
        "  guess = int(input(\"\"))\n",
        "  if guess == magic_number:\n",
        "    print(\"Congrats! You won :)\")\n",
        "    break\n",
        "  else:\n",
        "    if guess_num==3:\n",
        "      print(\"Nope! the number was\",magic_number)\n",
        "      break\n",
        "    else:\n",
        "      print(\"Not quite! Try again.\")\n",
        "      guess_num +=1\n",
        "   "
      ],
      "execution_count": null,
      "outputs": [
        {
          "output_type": "stream",
          "text": [
            "Welcome to the guessing game part 2!\n",
            "Guess # 1\n",
            "6\n",
            "Not quite! Try again.\n",
            "Guess # 2\n",
            "3\n",
            "Not quite! Try again.\n",
            "Guess # 3\n",
            "8\n",
            "Nope! the number was 2\n"
          ],
          "name": "stdout"
        }
      ]
    },
    {
      "cell_type": "markdown",
      "metadata": {
        "id": "SWSApDgKW3ZQ"
      },
      "source": [
        "###Problem 3\n",
        "\n",
        "Write a Python program to construct the following pattern, using a nested for loop."
      ]
    },
    {
      "cell_type": "code",
      "metadata": {
        "id": "Rm6uP7AZW28G"
      },
      "source": [
        "# *\n",
        "# * *\n",
        "# * * *\n",
        "# * * * *\n",
        "# * * * * * \n",
        "# * * * *\n",
        "# * * *\n",
        "# * *\n",
        "# *"
      ],
      "execution_count": null,
      "outputs": []
    },
    {
      "cell_type": "code",
      "metadata": {
        "id": "u4n_XBdYYnFb",
        "colab": {
          "base_uri": "https://localhost:8080/",
          "height": 187
        },
        "outputId": "d75e36a9-a4d4-41d4-921e-710854cecea1"
      },
      "source": [
        "#Write your code here \n",
        "\n",
        "for row_num in range(10):\n",
        "  if row_num < 5:\n",
        "    for star_num in range(row_num):\n",
        "      print(\"*\", end=\" \")\n",
        "  else: \n",
        "    for star_num in range(10-row_num):\n",
        "      print(\"*\", end=\" \")\n",
        "  print()"
      ],
      "execution_count": null,
      "outputs": [
        {
          "output_type": "stream",
          "text": [
            "\n",
            "* \n",
            "* * \n",
            "* * * \n",
            "* * * * \n",
            "* * * * * \n",
            "* * * * \n",
            "* * * \n",
            "* * \n",
            "* \n"
          ],
          "name": "stdout"
        }
      ]
    },
    {
      "cell_type": "markdown",
      "metadata": {
        "id": "oxU-MMHTY0iW"
      },
      "source": [
        "###Problem 4\n",
        "Write a Python program to check the validity of password input by users.\n",
        "\n",
        "\n",
        "*   At least 1 letter between [a-z] and 1 letter between [A-Z].\n",
        "*   At least 1 number between [0-9].\n",
        "*   At least 1 character from [$#@].\n",
        "*   Minimum length 6 characters.\n",
        "*   Maximum length 16 characters."
      ]
    },
    {
      "cell_type": "code",
      "metadata": {
        "id": "SC7rfqvyZNdH",
        "colab": {
          "base_uri": "https://localhost:8080/",
          "height": 90
        },
        "outputId": "b69aed4e-9de5-4e93-f310-ebb06528d62a"
      },
      "source": [
        "#Write your code here\n",
        "\n",
        "alphabet=list(\"abcdefghijklmnopqrstuvwxyz\")\n",
        "ALPHABET = list(\"ABCDEFGHIJKLMNOPQRSTUWXYZ\")\n",
        "num = list(\"0123456789\")\n",
        "sym = [\"@\", \"#\", \"$\"]\n",
        "\n",
        "password = input(\"Password?\")\n",
        "\n",
        "if len(password) > 16:\n",
        "  print(\"Password is too long\")\n",
        "  pass\n",
        "elif len(password) < 6:\n",
        "  print(\"Password is too short\")\n",
        "else:\n",
        "  for i in list(password):\n",
        "    if i not in (alphabet or ALPHABET or num or sym):\n",
        "      print(\"Invalid password.\")\n",
        "      break\n",
        "    else: \n",
        "      print(\"Great!\")\n",
        "      \n",
        "      \n",
        "     "
      ],
      "execution_count": null,
      "outputs": [
        {
          "output_type": "stream",
          "text": [
            "Password?gh12@#GHfgjfjdj\n",
            "Great!\n",
            "Great!\n",
            "Invalid password.\n"
          ],
          "name": "stdout"
        }
      ]
    },
    {
      "cell_type": "markdown",
      "metadata": {
        "id": "8ggwB0PYZM5q"
      },
      "source": [
        "###Problem 5\n",
        "\n",
        " Write a Python program to check a triangle is equilateral, isosceles or scalene."
      ]
    },
    {
      "cell_type": "code",
      "metadata": {
        "id": "xvuVQvDQaHvv"
      },
      "source": [
        "#Write your code here"
      ],
      "execution_count": null,
      "outputs": []
    },
    {
      "cell_type": "markdown",
      "metadata": {
        "id": "kzebJ-rAaJWv"
      },
      "source": [
        "###Problem 6\n",
        "\n",
        "Write a Python program to display astrological sign for given date of birth."
      ]
    },
    {
      "cell_type": "code",
      "metadata": {
        "id": "-OgHnpuYaRxk"
      },
      "source": [
        "#Write your code here"
      ],
      "execution_count": null,
      "outputs": []
    },
    {
      "cell_type": "markdown",
      "metadata": {
        "id": "-K1AcipbaUlC"
      },
      "source": [
        "###Problem 7: Bonus Challenge\n",
        "\n",
        "Create a matrix that represents an environment in which an agent can move around. For example, a 5x5 environment could look like this:\n",
        "\n",
        "```\n",
        "[[' ',' ',' ',' ',' '],\n",
        "  [' ','T',' ',' ',' '],\n",
        "  [' ',' ',' ',' ',' '],\n",
        "  [' ',' ',' ','T',' '],\n",
        "  [' ',' ',' ',' ',' ']]\n",
        "\n",
        "```\n",
        "\n",
        "A `T` denotes that a tree is in the way, and the agent can't move into that cell.\n",
        "\n",
        "The agent is denoted by `A`, and it inhabits a certain cell. For example, we could have \n",
        "\n",
        "```\n",
        "[[' ',' ',' ',' ',' '],\n",
        "  [' ','T',' ',' ',' '],\n",
        "  [' ','A',' ',' ',' '],\n",
        "  [' ',' ',' ','T',' '],\n",
        "  [' ',' ',' ',' ',' ']]\n",
        "\n",
        "```\n",
        "\n",
        "where the agent is inhabiting cell `(2,1)` (where the coordinates are 0-indexed). You can store the location of the agent in a tuple.\n",
        "\n",
        "The agent starts in cell `(0,0)`, and can move around depending on user input: `u` for up, `d` for down, `l` for left, `r` for right.\n",
        "\n",
        "Write a program that asks the user for input, moves the agent, and prints the environment in a loop. The goal of the agent is to reach cell `(4,4)`; when this happens, print \"You have won!\" and end the program.\n",
        "\n",
        "Remember, the agent cannot move into trees or move off the edge of the grid.\n",
        "\n",
        "Add at least 5 trees to the environment when you create your program."
      ]
    },
    {
      "cell_type": "code",
      "metadata": {
        "id": "wyt2OeLJcnxd",
        "colab": {
          "base_uri": "https://localhost:8080/",
          "height": 908
        },
        "outputId": "0036f2f4-e5ff-402e-f58c-7e4bc6b56554"
      },
      "source": [
        "import random\n",
        "\n",
        "# Add trees to the environment\n",
        "env = [[' ',' ',' ',' ',' '],\n",
        "       [' ',' ',' ',' ',' '],\n",
        "       [' ',' ',' ',' ',' '],\n",
        "       [' ',' ',' ',' ',' '],\n",
        "       [' ',' ',' ',' ',' ']]\n",
        "\n",
        "num_trees = 0\n",
        "while num_trees < 6:\n",
        "  t_y = random.randint(0,4)\n",
        "  t_x = random.randint(0,4)\n",
        "  if t_y == 4 and t_x ==4:\n",
        "    pass\n",
        "  else:\n",
        "    env[t_y][t_x] = \"T\"\n",
        "    num_trees += 1\n",
        "\n",
        "# Your code here\n",
        "\n",
        "y = 0\n",
        "x = 0\n",
        "env[y][x] = \"A\"\n",
        "\n",
        "while y < 5 and x < 5:\n",
        "  for i in range(len(env)):\n",
        "    print(env[i])\n",
        "\n",
        "  direct = input(\"Which direction?(u,d,l,r)\")\n",
        "\n",
        "  if direct == \"u\":\n",
        "    env[y][x]= \" \"\n",
        "    if env[y-1][x] != \"T\":\n",
        "      env[y-1][x] = \"A\"\n",
        "      y -=1\n",
        "    else: \n",
        "      print(\"There's a tree there. Start over.\")\n",
        "      break\n",
        "  elif direct == \"d\":\n",
        "    env[y][x]= \" \"\n",
        "    if env[y+1][x] != \"T\":\n",
        "      env[y+1][x] = \"A\"\n",
        "      y +=1\n",
        "    else: \n",
        "      print(\"There's a tree there. Start over.\")\n",
        "      break\n",
        "  elif direct == \"l\":\n",
        "    env[y][x]= \" \"\n",
        "    if env[y][x-1] != \"T\":\n",
        "      env[y][x-1] = \"A\"\n",
        "      x-=1\n",
        "    else: \n",
        "      print(\"There's a tree there. Start over.\")\n",
        "      break\n",
        "  elif direct == \"r\":\n",
        "    env[y][x]= \" \"\n",
        "    if env[y][x+1] != \"T\":\n",
        "      env[y][x+1] = \"A\"\n",
        "      x +=1\n",
        "    else: \n",
        "      print(\"There's a tree there. Start over.\")\n",
        "      break\n",
        "  if x==4 and y==4:\n",
        "    print(\"Congrats! You're there!\")\n",
        "    break\n"
      ],
      "execution_count": null,
      "outputs": [
        {
          "output_type": "stream",
          "text": [
            "['A', ' ', ' ', ' ', ' ']\n",
            "[' ', ' ', 'T', ' ', 'T']\n",
            "['T', ' ', ' ', 'T', ' ']\n",
            "[' ', ' ', ' ', ' ', ' ']\n",
            "[' ', 'T', ' ', ' ', ' ']\n",
            "Which direction?(u,d,l,r)r\n",
            "[' ', 'A', ' ', ' ', ' ']\n",
            "[' ', ' ', 'T', ' ', 'T']\n",
            "['T', ' ', ' ', 'T', ' ']\n",
            "[' ', ' ', ' ', ' ', ' ']\n",
            "[' ', 'T', ' ', ' ', ' ']\n",
            "Which direction?(u,d,l,r)d\n",
            "[' ', ' ', ' ', ' ', ' ']\n",
            "[' ', 'A', 'T', ' ', 'T']\n",
            "['T', ' ', ' ', 'T', ' ']\n",
            "[' ', ' ', ' ', ' ', ' ']\n",
            "[' ', 'T', ' ', ' ', ' ']\n",
            "Which direction?(u,d,l,r)d\n",
            "[' ', ' ', ' ', ' ', ' ']\n",
            "[' ', ' ', 'T', ' ', 'T']\n",
            "['T', 'A', ' ', 'T', ' ']\n",
            "[' ', ' ', ' ', ' ', ' ']\n",
            "[' ', 'T', ' ', ' ', ' ']\n",
            "Which direction?(u,d,l,r)r\n",
            "[' ', ' ', ' ', ' ', ' ']\n",
            "[' ', ' ', 'T', ' ', 'T']\n",
            "['T', ' ', 'A', 'T', ' ']\n",
            "[' ', ' ', ' ', ' ', ' ']\n",
            "[' ', 'T', ' ', ' ', ' ']\n",
            "Which direction?(u,d,l,r)d\n",
            "[' ', ' ', ' ', ' ', ' ']\n",
            "[' ', ' ', 'T', ' ', 'T']\n",
            "['T', ' ', ' ', 'T', ' ']\n",
            "[' ', ' ', 'A', ' ', ' ']\n",
            "[' ', 'T', ' ', ' ', ' ']\n",
            "Which direction?(u,d,l,r)d\n",
            "[' ', ' ', ' ', ' ', ' ']\n",
            "[' ', ' ', 'T', ' ', 'T']\n",
            "['T', ' ', ' ', 'T', ' ']\n",
            "[' ', ' ', ' ', ' ', ' ']\n",
            "[' ', 'T', 'A', ' ', ' ']\n",
            "Which direction?(u,d,l,r)r\n",
            "[' ', ' ', ' ', ' ', ' ']\n",
            "[' ', ' ', 'T', ' ', 'T']\n",
            "['T', ' ', ' ', 'T', ' ']\n",
            "[' ', ' ', ' ', ' ', ' ']\n",
            "[' ', 'T', ' ', 'A', ' ']\n",
            "Which direction?(u,d,l,r)r\n",
            "Congrats! You're there!\n"
          ],
          "name": "stdout"
        }
      ]
    },
    {
      "cell_type": "code",
      "metadata": {
        "id": "OD_6hdm9Qoff"
      },
      "source": [
        ""
      ],
      "execution_count": null,
      "outputs": []
    }
  ]
}
